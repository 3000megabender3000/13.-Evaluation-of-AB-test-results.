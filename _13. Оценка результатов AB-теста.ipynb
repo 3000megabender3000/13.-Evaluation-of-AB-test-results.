{
 "cells": [
  {
   "cell_type": "markdown",
   "metadata": {},
   "source": [
    "# Проведение АВ теста."
   ]
  },
  {
   "cell_type": "markdown",
   "metadata": {},
   "source": [
    "## Постановка задачи\n",
    "<li>Провести оценку результатов A/B-теста. В вашем распоряжении есть датасет с действиями пользователей, техническое задание и несколько вспомогательных датасетов.\n",
    "<li>Оцените корректность проведения теста\n",
    "<li>Проанализируйте результаты теста\n",
    "<li>Чтобы оценить корректность проведения теста, проверьте:\n",
    "<li>пересечение тестовой аудитории с конкурирующим тестом,\n",
    "<li>совпадение теста и маркетинговых событий, другие проблемы временных границ теста."
   ]
  },
  {
   "cell_type": "markdown",
   "metadata": {},
   "source": [
    "## Техническое задание"
   ]
  },
  {
   "cell_type": "markdown",
   "metadata": {},
   "source": [
    "<li>Название теста: recommender_system_test;\n",
    "<li>Группы: А (контрольная), B (новая платёжная воронка);\n",
    "<li>Дата запуска: 2020-12-07;\n",
    "<li>Дата остановки набора новых пользователей: 2020-12-21;\n",
    "<li>Дата остановки: 2021-01-04;\n",
    "<li>Аудитория: 15% новых пользователей из региона EU;\n",
    "<li>Назначение теста: тестирование изменений, связанных с внедрением улучшенной рекомендательной системы;\n",
    "<li>Ожидаемое количество участников теста: 6000.\n",
    "<li>Ожидаемый эффект: за 14 дней с момента регистрации в системе пользователи покажут улучшение каждой метрики не менее, чем на 10%:\n",
    "<li>конверсии в просмотр карточек товаров — событие product_page\n",
    "<li>просмотры корзины — product_cart\n",
    "<li>покупки — purchase."
   ]
  },
  {
   "cell_type": "markdown",
   "metadata": {},
   "source": [
    "## План работы."
   ]
  },
  {
   "cell_type": "markdown",
   "metadata": {},
   "source": [
    "<li>Исследуйте данные:\n",
    "<li>Требуется ли преобразование типов?\n",
    "<li>Есть ли пропущенные значения и дубликаты? Если да, то какова их природа?\n",
    "<li>Проведите исследовательский анализ данных:\n",
    "<li>Исследуйте конверсию в воронке на разных этапах;\n",
    "<li>Обладают ли выборки одинаковыми распределениями количества событий на пользователя?\n",
    "<li>Присутствуют ли в выборках одни и те же пользователи?\n",
    "<li>Как число событий распределено по дням?\n",
    "<li>Есть ли в данных ещё какие-то особенности, которые нужно учесть, прежде чем приступать к A/B-тестированию?\n",
    "<li>Проведите оценку результатов A/B-тестирования:\n",
    "<li>Проверьте статистическую разницу долей z-критерием;\n",
    "<li>Что можно сказать про результаты A/B-тестирования?\n",
    "<li>Опишите выводы по этапу исследовательского анализа данных и по проведённой оценке результатов A/B-тестирования."
   ]
  },
  {
   "cell_type": "code",
   "execution_count": 134,
   "metadata": {},
   "outputs": [
    {
     "data": {
      "text/html": [
       "        <script type=\"text/javascript\">\n",
       "        window.PlotlyConfig = {MathJaxConfig: 'local'};\n",
       "        if (window.MathJax) {MathJax.Hub.Config({SVG: {font: \"STIX-Web\"}});}\n",
       "        if (typeof require !== 'undefined') {\n",
       "        require.undef(\"plotly\");\n",
       "        requirejs.config({\n",
       "            paths: {\n",
       "                'plotly': ['https://cdn.plot.ly/plotly-latest.min']\n",
       "            }\n",
       "        });\n",
       "        require(['plotly'], function(Plotly) {\n",
       "            window._Plotly = Plotly;\n",
       "        });\n",
       "        }\n",
       "        </script>\n",
       "        "
      ]
     },
     "metadata": {},
     "output_type": "display_data"
    }
   ],
   "source": [
    "import sys\n",
    "if not sys.warnoptions:\n",
    "    import warnings\n",
    "    warnings.simplefilter(\"ignore\")\n",
    "import pandas as pd\n",
    "import numpy as np\n",
    "import matplotlib.pyplot as plt\n",
    "from plotly import graph_objects as go \n",
    "import seaborn as sns\n",
    "import math as mth\n",
    "from scipy import stats as st\n",
    "import datetime\n",
    "from plotly.offline import init_notebook_mode, iplot\n",
    "init_notebook_mode(connected=True) "
   ]
  },
  {
   "cell_type": "markdown",
   "metadata": {},
   "source": [
    "### Последовательно загружу каждый датасет и исследую его."
   ]
  },
  {
   "cell_type": "markdown",
   "metadata": {},
   "source": [
    "<b>Календарь маркетинговых событий на 2020 год.</b>"
   ]
  },
  {
   "cell_type": "code",
   "execution_count": 135,
   "metadata": {},
   "outputs": [],
   "source": [
    "ab_project_marketing_events = pd.read_csv('https://code.s3.yandex.net/datasets/ab_project_marketing_events.csv')"
   ]
  },
  {
   "cell_type": "code",
   "execution_count": 136,
   "metadata": {},
   "outputs": [
    {
     "data": {
      "text/html": [
       "<div>\n",
       "<style scoped>\n",
       "    .dataframe tbody tr th:only-of-type {\n",
       "        vertical-align: middle;\n",
       "    }\n",
       "\n",
       "    .dataframe tbody tr th {\n",
       "        vertical-align: top;\n",
       "    }\n",
       "\n",
       "    .dataframe thead th {\n",
       "        text-align: right;\n",
       "    }\n",
       "</style>\n",
       "<table border=\"1\" class=\"dataframe\">\n",
       "  <thead>\n",
       "    <tr style=\"text-align: right;\">\n",
       "      <th></th>\n",
       "      <th>name</th>\n",
       "      <th>regions</th>\n",
       "      <th>start_dt</th>\n",
       "      <th>finish_dt</th>\n",
       "    </tr>\n",
       "  </thead>\n",
       "  <tbody>\n",
       "    <tr>\n",
       "      <td>0</td>\n",
       "      <td>Christmas&amp;New Year Promo</td>\n",
       "      <td>EU, N.America</td>\n",
       "      <td>2020-12-25</td>\n",
       "      <td>2021-01-03</td>\n",
       "    </tr>\n",
       "    <tr>\n",
       "      <td>1</td>\n",
       "      <td>St. Valentine's Day Giveaway</td>\n",
       "      <td>EU, CIS, APAC, N.America</td>\n",
       "      <td>2020-02-14</td>\n",
       "      <td>2020-02-16</td>\n",
       "    </tr>\n",
       "    <tr>\n",
       "      <td>2</td>\n",
       "      <td>St. Patric's Day Promo</td>\n",
       "      <td>EU, N.America</td>\n",
       "      <td>2020-03-17</td>\n",
       "      <td>2020-03-19</td>\n",
       "    </tr>\n",
       "    <tr>\n",
       "      <td>3</td>\n",
       "      <td>Easter Promo</td>\n",
       "      <td>EU, CIS, APAC, N.America</td>\n",
       "      <td>2020-04-12</td>\n",
       "      <td>2020-04-19</td>\n",
       "    </tr>\n",
       "    <tr>\n",
       "      <td>4</td>\n",
       "      <td>4th of July Promo</td>\n",
       "      <td>N.America</td>\n",
       "      <td>2020-07-04</td>\n",
       "      <td>2020-07-11</td>\n",
       "    </tr>\n",
       "  </tbody>\n",
       "</table>\n",
       "</div>"
      ],
      "text/plain": [
       "                           name                   regions    start_dt  \\\n",
       "0      Christmas&New Year Promo             EU, N.America  2020-12-25   \n",
       "1  St. Valentine's Day Giveaway  EU, CIS, APAC, N.America  2020-02-14   \n",
       "2        St. Patric's Day Promo             EU, N.America  2020-03-17   \n",
       "3                  Easter Promo  EU, CIS, APAC, N.America  2020-04-12   \n",
       "4             4th of July Promo                 N.America  2020-07-04   \n",
       "\n",
       "    finish_dt  \n",
       "0  2021-01-03  \n",
       "1  2020-02-16  \n",
       "2  2020-03-19  \n",
       "3  2020-04-19  \n",
       "4  2020-07-11  "
      ]
     },
     "execution_count": 136,
     "metadata": {},
     "output_type": "execute_result"
    }
   ],
   "source": [
    "ab_project_marketing_events.head()"
   ]
  },
  {
   "cell_type": "markdown",
   "metadata": {},
   "source": [
    "Описание данных:\n",
    "<li>name — название маркетингового события;\n",
    "<li>regions — регионы, в которых будет проводиться рекламная кампания;\n",
    "<li>start_dt — дата начала кампании;\n",
    "<li>finish_dt — дата завершения кампании."
   ]
  },
  {
   "cell_type": "code",
   "execution_count": 137,
   "metadata": {},
   "outputs": [
    {
     "data": {
      "text/plain": [
       "0"
      ]
     },
     "execution_count": 137,
     "metadata": {},
     "output_type": "execute_result"
    }
   ],
   "source": [
    "ab_project_marketing_events.duplicated().sum()"
   ]
  },
  {
   "cell_type": "code",
   "execution_count": 138,
   "metadata": {},
   "outputs": [
    {
     "name": "stdout",
     "output_type": "stream",
     "text": [
      "<class 'pandas.core.frame.DataFrame'>\n",
      "RangeIndex: 14 entries, 0 to 13\n",
      "Data columns (total 4 columns):\n",
      "name         14 non-null object\n",
      "regions      14 non-null object\n",
      "start_dt     14 non-null object\n",
      "finish_dt    14 non-null object\n",
      "dtypes: object(4)\n",
      "memory usage: 576.0+ bytes\n"
     ]
    }
   ],
   "source": [
    "ab_project_marketing_events.info()"
   ]
  },
  {
   "cell_type": "markdown",
   "metadata": {},
   "source": [
    "<b>Пропущенных значений и дубликатов нет. </b>Приведу столбцы с датами к типу datetime."
   ]
  },
  {
   "cell_type": "code",
   "execution_count": 139,
   "metadata": {},
   "outputs": [],
   "source": [
    "ab_project_marketing_events['start_dt'] = pd.to_datetime(ab_project_marketing_events['start_dt'])\n",
    "ab_project_marketing_events['finish_dt'] = pd.to_datetime(ab_project_marketing_events['finish_dt'])"
   ]
  },
  {
   "cell_type": "markdown",
   "metadata": {},
   "source": [
    "Посмотрю распределение значений дат."
   ]
  },
  {
   "cell_type": "code",
   "execution_count": 140,
   "metadata": {},
   "outputs": [
    {
     "data": {
      "image/png": "[encoded data removed]",
      "text/plain": [
       "<Figure size 720x360 with 1 Axes>"
      ]
     },
     "metadata": {
      "needs_background": "light"
     },
     "output_type": "display_data"
    }
   ],
   "source": [
    "plt.title('Распределение дат')\n",
    "ab_project_marketing_events['start_dt'].hist(figsize=(10,5))\n",
    "ab_project_marketing_events['finish_dt'].hist(figsize=(10,5))\n",
    "plt.legend(['Дата начала кампании', 'Дата завершения кампании'])\n",
    "plt.xlabel('Дата')\n",
    "plt.show()"
   ]
  },
  {
   "cell_type": "markdown",
   "metadata": {},
   "source": [
    "Посмотрю на события."
   ]
  },
  {
   "cell_type": "code",
   "execution_count": 141,
   "metadata": {},
   "outputs": [
    {
     "data": {
      "text/plain": [
       "Black Friday Ads Campaign           1\n",
       "4th of July Promo                   1\n",
       "Easter Promo                        1\n",
       "St. Patric's Day Promo              1\n",
       "Single's Day Gift Promo             1\n",
       "St. Valentine's Day Giveaway        1\n",
       "International Women's Day Promo     1\n",
       "Chinese Moon Festival               1\n",
       "Dragon Boat Festival Giveaway       1\n",
       "Chinese New Year Promo              1\n",
       "CIS New Year Gift Lottery           1\n",
       "Christmas&New Year Promo            1\n",
       "Victory Day CIS (May 9th) Event     1\n",
       "Labor day (May 1st) Ads Campaign    1\n",
       "Name: name, dtype: int64"
      ]
     },
     "execution_count": 141,
     "metadata": {},
     "output_type": "execute_result"
    }
   ],
   "source": [
    "ab_project_marketing_events.name.value_counts()"
   ]
  },
  {
   "cell_type": "markdown",
   "metadata": {},
   "source": [
    "Посмотрю на регионы."
   ]
  },
  {
   "cell_type": "code",
   "execution_count": 142,
   "metadata": {},
   "outputs": [
    {
     "data": {
      "text/plain": [
       "APAC                        4\n",
       "EU, CIS, APAC, N.America    3\n",
       "EU, CIS, APAC               2\n",
       "CIS                         2\n",
       "EU, N.America               2\n",
       "N.America                   1\n",
       "Name: regions, dtype: int64"
      ]
     },
     "execution_count": 142,
     "metadata": {},
     "output_type": "execute_result"
    }
   ],
   "source": [
    "ab_project_marketing_events.regions.value_counts()"
   ]
  },
  {
   "cell_type": "markdown",
   "metadata": {},
   "source": [
    "Аномалий нет."
   ]
  },
  {
   "cell_type": "markdown",
   "metadata": {},
   "source": [
    "<b>Все пользователи, зарегистрировавшиеся в интернет-магазине в период с 7 по 21 декабря 2020 года.</b>"
   ]
  },
  {
   "cell_type": "code",
   "execution_count": 143,
   "metadata": {},
   "outputs": [],
   "source": [
    "final_ab_new_users = pd.read_csv('https://code.s3.yandex.net/datasets/final_ab_new_users.csv')"
   ]
  },
  {
   "cell_type": "code",
   "execution_count": 144,
   "metadata": {},
   "outputs": [
    {
     "data": {
      "text/html": [
       "<div>\n",
       "<style scoped>\n",
       "    .dataframe tbody tr th:only-of-type {\n",
       "        vertical-align: middle;\n",
       "    }\n",
       "\n",
       "    .dataframe tbody tr th {\n",
       "        vertical-align: top;\n",
       "    }\n",
       "\n",
       "    .dataframe thead th {\n",
       "        text-align: right;\n",
       "    }\n",
       "</style>\n",
       "<table border=\"1\" class=\"dataframe\">\n",
       "  <thead>\n",
       "    <tr style=\"text-align: right;\">\n",
       "      <th></th>\n",
       "      <th>user_id</th>\n",
       "      <th>first_date</th>\n",
       "      <th>region</th>\n",
       "      <th>device</th>\n",
       "    </tr>\n",
       "  </thead>\n",
       "  <tbody>\n",
       "    <tr>\n",
       "      <td>0</td>\n",
       "      <td>D72A72121175D8BE</td>\n",
       "      <td>2020-12-07</td>\n",
       "      <td>EU</td>\n",
       "      <td>PC</td>\n",
       "    </tr>\n",
       "    <tr>\n",
       "      <td>1</td>\n",
       "      <td>F1C668619DFE6E65</td>\n",
       "      <td>2020-12-07</td>\n",
       "      <td>N.America</td>\n",
       "      <td>Android</td>\n",
       "    </tr>\n",
       "    <tr>\n",
       "      <td>2</td>\n",
       "      <td>2E1BF1D4C37EA01F</td>\n",
       "      <td>2020-12-07</td>\n",
       "      <td>EU</td>\n",
       "      <td>PC</td>\n",
       "    </tr>\n",
       "    <tr>\n",
       "      <td>3</td>\n",
       "      <td>50734A22C0C63768</td>\n",
       "      <td>2020-12-07</td>\n",
       "      <td>EU</td>\n",
       "      <td>iPhone</td>\n",
       "    </tr>\n",
       "    <tr>\n",
       "      <td>4</td>\n",
       "      <td>E1BDDCE0DAFA2679</td>\n",
       "      <td>2020-12-07</td>\n",
       "      <td>N.America</td>\n",
       "      <td>iPhone</td>\n",
       "    </tr>\n",
       "  </tbody>\n",
       "</table>\n",
       "</div>"
      ],
      "text/plain": [
       "            user_id  first_date     region   device\n",
       "0  D72A72121175D8BE  2020-12-07         EU       PC\n",
       "1  F1C668619DFE6E65  2020-12-07  N.America  Android\n",
       "2  2E1BF1D4C37EA01F  2020-12-07         EU       PC\n",
       "3  50734A22C0C63768  2020-12-07         EU   iPhone\n",
       "4  E1BDDCE0DAFA2679  2020-12-07  N.America   iPhone"
      ]
     },
     "execution_count": 144,
     "metadata": {},
     "output_type": "execute_result"
    }
   ],
   "source": [
    "final_ab_new_users.head()"
   ]
  },
  {
   "cell_type": "markdown",
   "metadata": {},
   "source": [
    "Описание данных:\n",
    "<li>user_id — идентификатор пользователя;\n",
    "<li>first_date — дата регистрации;\n",
    "<li>region — регион пользователя;\n",
    "<li>device — устройство, с которого происходила регистрация."
   ]
  },
  {
   "cell_type": "code",
   "execution_count": 145,
   "metadata": {},
   "outputs": [
    {
     "data": {
      "text/plain": [
       "0"
      ]
     },
     "execution_count": 145,
     "metadata": {},
     "output_type": "execute_result"
    }
   ],
   "source": [
    "final_ab_new_users.duplicated().sum()"
   ]
  },
  {
   "cell_type": "code",
   "execution_count": 146,
   "metadata": {},
   "outputs": [
    {
     "name": "stdout",
     "output_type": "stream",
     "text": [
      "<class 'pandas.core.frame.DataFrame'>\n",
      "RangeIndex: 61733 entries, 0 to 61732\n",
      "Data columns (total 4 columns):\n",
      "user_id       61733 non-null object\n",
      "first_date    61733 non-null object\n",
      "region        61733 non-null object\n",
      "device        61733 non-null object\n",
      "dtypes: object(4)\n",
      "memory usage: 1.9+ MB\n"
     ]
    }
   ],
   "source": [
    "final_ab_new_users.info()"
   ]
  },
  {
   "cell_type": "markdown",
   "metadata": {},
   "source": [
    "<b>Пропущенных значений и дубликатов нет. </b> Приведу столбец с датой к типу datetime."
   ]
  },
  {
   "cell_type": "code",
   "execution_count": 147,
   "metadata": {},
   "outputs": [],
   "source": [
    "final_ab_new_users['first_date'] = pd.to_datetime(final_ab_new_users['first_date'])"
   ]
  },
  {
   "cell_type": "markdown",
   "metadata": {},
   "source": [
    "Посмотрю распределение значений дат."
   ]
  },
  {
   "cell_type": "code",
   "execution_count": 148,
   "metadata": {},
   "outputs": [
    {
     "data": {
      "text/plain": [
       "2020-12-21    6290\n",
       "2020-12-14    5654\n",
       "2020-12-07    5595\n",
       "2020-12-13    4691\n",
       "2020-12-20    4288\n",
       "2020-12-12    3963\n",
       "2020-12-19    3617\n",
       "2020-12-18    3365\n",
       "2020-12-08    3239\n",
       "2020-12-22    3083\n",
       "2020-12-10    3076\n",
       "2020-12-17    3048\n",
       "2020-12-15    3043\n",
       "2020-12-11    2390\n",
       "2020-12-23    2180\n",
       "2020-12-16    2110\n",
       "2020-12-09    2101\n",
       "Name: first_date, dtype: int64"
      ]
     },
     "execution_count": 148,
     "metadata": {},
     "output_type": "execute_result"
    }
   ],
   "source": [
    "final_ab_new_users['first_date'].value_counts()"
   ]
  },
  {
   "cell_type": "code",
   "execution_count": 149,
   "metadata": {
    "scrolled": true
   },
   "outputs": [
    {
     "data": {
      "image/png": "[encoded data removed]",
      "text/plain": [
       "<Figure size 1008x360 with 1 Axes>"
      ]
     },
     "metadata": {
      "needs_background": "light"
     },
     "output_type": "display_data"
    }
   ],
   "source": [
    "plt.title('Распределение регистраций по датам')\n",
    "final_ab_new_users['first_date'].hist(figsize=(14,5), bins = 50)\n",
    "plt.xlabel('Дата регистрации')\n",
    "plt.ylabel('Количество регистраций')\n",
    "plt.show()"
   ]
  },
  {
   "cell_type": "markdown",
   "metadata": {},
   "source": [
    "Аномалий нет. Наблюдается цикличность. К началу неделю регистраций становится меньше и затем, к концу недели количество увеличивается."
   ]
  },
  {
   "cell_type": "markdown",
   "metadata": {},
   "source": [
    "Посмотрю на регионы."
   ]
  },
  {
   "cell_type": "code",
   "execution_count": 150,
   "metadata": {},
   "outputs": [
    {
     "data": {
      "text/html": [
       "<div>\n",
       "<style scoped>\n",
       "    .dataframe tbody tr th:only-of-type {\n",
       "        vertical-align: middle;\n",
       "    }\n",
       "\n",
       "    .dataframe tbody tr th {\n",
       "        vertical-align: top;\n",
       "    }\n",
       "\n",
       "    .dataframe thead th {\n",
       "        text-align: right;\n",
       "    }\n",
       "</style>\n",
       "<table border=\"1\" class=\"dataframe\">\n",
       "  <thead>\n",
       "    <tr style=\"text-align: right;\">\n",
       "      <th></th>\n",
       "      <th>region</th>\n",
       "      <th>user_id</th>\n",
       "    </tr>\n",
       "  </thead>\n",
       "  <tbody>\n",
       "    <tr>\n",
       "      <td>2</td>\n",
       "      <td>EU</td>\n",
       "      <td>46270</td>\n",
       "    </tr>\n",
       "    <tr>\n",
       "      <td>3</td>\n",
       "      <td>N.America</td>\n",
       "      <td>9155</td>\n",
       "    </tr>\n",
       "    <tr>\n",
       "      <td>1</td>\n",
       "      <td>CIS</td>\n",
       "      <td>3155</td>\n",
       "    </tr>\n",
       "    <tr>\n",
       "      <td>0</td>\n",
       "      <td>APAC</td>\n",
       "      <td>3153</td>\n",
       "    </tr>\n",
       "  </tbody>\n",
       "</table>\n",
       "</div>"
      ],
      "text/plain": [
       "      region  user_id\n",
       "2         EU    46270\n",
       "3  N.America     9155\n",
       "1        CIS     3155\n",
       "0       APAC     3153"
      ]
     },
     "execution_count": 150,
     "metadata": {},
     "output_type": "execute_result"
    }
   ],
   "source": [
    "final_ab_new_users.groupby('region', as_index = False).agg({'user_id':'nunique'}).sort_values(by = 'user_id', ascending = False)"
   ]
  },
  {
   "cell_type": "markdown",
   "metadata": {},
   "source": [
    "<b>Больше всего пользователей из Европы.</b>"
   ]
  },
  {
   "cell_type": "markdown",
   "metadata": {},
   "source": [
    "Посмотрю на устройства."
   ]
  },
  {
   "cell_type": "code",
   "execution_count": 151,
   "metadata": {},
   "outputs": [
    {
     "data": {
      "text/plain": [
       "Android    27520\n",
       "PC         15599\n",
       "iPhone     12530\n",
       "Mac         6084\n",
       "Name: device, dtype: int64"
      ]
     },
     "execution_count": 151,
     "metadata": {},
     "output_type": "execute_result"
    }
   ],
   "source": [
    "final_ab_new_users.device.value_counts()"
   ]
  },
  {
   "cell_type": "markdown",
   "metadata": {},
   "source": [
    "<b>Устройства на Android самые популярные у пользователей.</b>"
   ]
  },
  {
   "cell_type": "markdown",
   "metadata": {},
   "source": [
    "<b>Все события новых пользователей в период с 7 декабря 2020 по 4 января 2021 года.</b>"
   ]
  },
  {
   "cell_type": "code",
   "execution_count": 152,
   "metadata": {},
   "outputs": [],
   "source": [
    "final_ab_events = pd.read_csv('https://code.s3.yandex.net/datasets/final_ab_events.csv')"
   ]
  },
  {
   "cell_type": "code",
   "execution_count": 153,
   "metadata": {},
   "outputs": [
    {
     "data": {
      "text/html": [
       "<div>\n",
       "<style scoped>\n",
       "    .dataframe tbody tr th:only-of-type {\n",
       "        vertical-align: middle;\n",
       "    }\n",
       "\n",
       "    .dataframe tbody tr th {\n",
       "        vertical-align: top;\n",
       "    }\n",
       "\n",
       "    .dataframe thead th {\n",
       "        text-align: right;\n",
       "    }\n",
       "</style>\n",
       "<table border=\"1\" class=\"dataframe\">\n",
       "  <thead>\n",
       "    <tr style=\"text-align: right;\">\n",
       "      <th></th>\n",
       "      <th>user_id</th>\n",
       "      <th>event_dt</th>\n",
       "      <th>event_name</th>\n",
       "      <th>details</th>\n",
       "    </tr>\n",
       "  </thead>\n",
       "  <tbody>\n",
       "    <tr>\n",
       "      <td>0</td>\n",
       "      <td>E1BDDCE0DAFA2679</td>\n",
       "      <td>2020-12-07 20:22:03</td>\n",
       "      <td>purchase</td>\n",
       "      <td>99.99</td>\n",
       "    </tr>\n",
       "    <tr>\n",
       "      <td>1</td>\n",
       "      <td>7B6452F081F49504</td>\n",
       "      <td>2020-12-07 09:22:53</td>\n",
       "      <td>purchase</td>\n",
       "      <td>9.99</td>\n",
       "    </tr>\n",
       "    <tr>\n",
       "      <td>2</td>\n",
       "      <td>9CD9F34546DF254C</td>\n",
       "      <td>2020-12-07 12:59:29</td>\n",
       "      <td>purchase</td>\n",
       "      <td>4.99</td>\n",
       "    </tr>\n",
       "    <tr>\n",
       "      <td>3</td>\n",
       "      <td>96F27A054B191457</td>\n",
       "      <td>2020-12-07 04:02:40</td>\n",
       "      <td>purchase</td>\n",
       "      <td>4.99</td>\n",
       "    </tr>\n",
       "    <tr>\n",
       "      <td>4</td>\n",
       "      <td>1FD7660FDF94CA1F</td>\n",
       "      <td>2020-12-07 10:15:09</td>\n",
       "      <td>purchase</td>\n",
       "      <td>4.99</td>\n",
       "    </tr>\n",
       "  </tbody>\n",
       "</table>\n",
       "</div>"
      ],
      "text/plain": [
       "            user_id             event_dt event_name  details\n",
       "0  E1BDDCE0DAFA2679  2020-12-07 20:22:03   purchase    99.99\n",
       "1  7B6452F081F49504  2020-12-07 09:22:53   purchase     9.99\n",
       "2  9CD9F34546DF254C  2020-12-07 12:59:29   purchase     4.99\n",
       "3  96F27A054B191457  2020-12-07 04:02:40   purchase     4.99\n",
       "4  1FD7660FDF94CA1F  2020-12-07 10:15:09   purchase     4.99"
      ]
     },
     "execution_count": 153,
     "metadata": {},
     "output_type": "execute_result"
    }
   ],
   "source": [
    "final_ab_events.head()"
   ]
  },
  {
   "cell_type": "markdown",
   "metadata": {},
   "source": [
    "Описание данных:\n",
    "<li>user_id — идентификатор пользователя;\n",
    "<li>event_dt — дата и время события;\n",
    "<li>event_name — тип события;\n",
    "<li>details — дополнительные данные о событии. Например, для покупок, purchase, в этом поле хранится стоимость покупки в долларах."
   ]
  },
  {
   "cell_type": "code",
   "execution_count": 154,
   "metadata": {},
   "outputs": [
    {
     "data": {
      "text/plain": [
       "0"
      ]
     },
     "execution_count": 154,
     "metadata": {},
     "output_type": "execute_result"
    }
   ],
   "source": [
    "final_ab_events.duplicated().sum()"
   ]
  },
  {
   "cell_type": "code",
   "execution_count": 155,
   "metadata": {},
   "outputs": [
    {
     "name": "stdout",
     "output_type": "stream",
     "text": [
      "<class 'pandas.core.frame.DataFrame'>\n",
      "RangeIndex: 440317 entries, 0 to 440316\n",
      "Data columns (total 4 columns):\n",
      "user_id       440317 non-null object\n",
      "event_dt      440317 non-null object\n",
      "event_name    440317 non-null object\n",
      "details       62740 non-null float64\n",
      "dtypes: float64(1), object(3)\n",
      "memory usage: 13.4+ MB\n"
     ]
    }
   ],
   "source": [
    "final_ab_events.info()"
   ]
  },
  {
   "cell_type": "markdown",
   "metadata": {},
   "source": [
    "<b>Есть пропущенные значения в столбце details. Это вполне закономерно, так как сведения о сумме покупки поступают на одном определенном шагею Заменю пропуски на 0. Дубликатов нет. </b> Приведу столбец с датой к типу datetime."
   ]
  },
  {
   "cell_type": "code",
   "execution_count": 156,
   "metadata": {},
   "outputs": [],
   "source": [
    "final_ab_events['details'] = final_ab_events['details'].fillna(0)"
   ]
  },
  {
   "cell_type": "code",
   "execution_count": 157,
   "metadata": {},
   "outputs": [
    {
     "data": {
      "text/plain": [
       "user_id       0\n",
       "event_dt      0\n",
       "event_name    0\n",
       "details       0\n",
       "dtype: int64"
      ]
     },
     "execution_count": 157,
     "metadata": {},
     "output_type": "execute_result"
    }
   ],
   "source": [
    "final_ab_events.isna().sum()"
   ]
  },
  {
   "cell_type": "code",
   "execution_count": 158,
   "metadata": {},
   "outputs": [],
   "source": [
    "final_ab_events['event_dt'] = pd.to_datetime(final_ab_events['event_dt'])"
   ]
  },
  {
   "cell_type": "markdown",
   "metadata": {},
   "source": [
    "Посмотрю распределение значений дат."
   ]
  },
  {
   "cell_type": "code",
   "execution_count": 159,
   "metadata": {},
   "outputs": [
    {
     "data": {
      "image/png": "[encoded data removed]",
      "text/plain": [
       "<Figure size 720x360 with 1 Axes>"
      ]
     },
     "metadata": {
      "needs_background": "light"
     },
     "output_type": "display_data"
    }
   ],
   "source": [
    "plt.title('Распределение событий по датам')\n",
    "final_ab_events['event_dt'].hist(figsize=(10,5), bins=20)\n",
    "plt.xlabel('Дата')\n",
    "plt.ylabel('Количество событий')\n",
    "plt.show()"
   ]
  },
  {
   "cell_type": "markdown",
   "metadata": {},
   "source": [
    "Аномалий нет."
   ]
  },
  {
   "cell_type": "markdown",
   "metadata": {},
   "source": [
    "Рассмотрю типы события."
   ]
  },
  {
   "cell_type": "code",
   "execution_count": 160,
   "metadata": {},
   "outputs": [
    {
     "data": {
      "text/plain": [
       "login           189552\n",
       "product_page    125563\n",
       "purchase         62740\n",
       "product_cart     62462\n",
       "Name: event_name, dtype: int64"
      ]
     },
     "execution_count": 160,
     "metadata": {},
     "output_type": "execute_result"
    }
   ],
   "source": [
    "final_ab_events['event_name'].value_counts()"
   ]
  },
  {
   "cell_type": "markdown",
   "metadata": {},
   "source": [
    "<li>конверсии в просмотр карточек товаров — событие product_page\n",
    "<li>просмотры корзины — product_cart\n",
    "<li>покупки — purchase."
   ]
  },
  {
   "cell_type": "markdown",
   "metadata": {},
   "source": [
    "<b>Таблица участников тестов.</b>"
   ]
  },
  {
   "cell_type": "code",
   "execution_count": 161,
   "metadata": {},
   "outputs": [],
   "source": [
    "final_ab_participants = pd.read_csv('https://code.s3.yandex.net/datasets/final_ab_participants.csv')"
   ]
  },
  {
   "cell_type": "code",
   "execution_count": 162,
   "metadata": {},
   "outputs": [
    {
     "data": {
      "text/html": [
       "<div>\n",
       "<style scoped>\n",
       "    .dataframe tbody tr th:only-of-type {\n",
       "        vertical-align: middle;\n",
       "    }\n",
       "\n",
       "    .dataframe tbody tr th {\n",
       "        vertical-align: top;\n",
       "    }\n",
       "\n",
       "    .dataframe thead th {\n",
       "        text-align: right;\n",
       "    }\n",
       "</style>\n",
       "<table border=\"1\" class=\"dataframe\">\n",
       "  <thead>\n",
       "    <tr style=\"text-align: right;\">\n",
       "      <th></th>\n",
       "      <th>user_id</th>\n",
       "      <th>group</th>\n",
       "      <th>ab_test</th>\n",
       "    </tr>\n",
       "  </thead>\n",
       "  <tbody>\n",
       "    <tr>\n",
       "      <td>0</td>\n",
       "      <td>D1ABA3E2887B6A73</td>\n",
       "      <td>A</td>\n",
       "      <td>recommender_system_test</td>\n",
       "    </tr>\n",
       "    <tr>\n",
       "      <td>1</td>\n",
       "      <td>A7A3664BD6242119</td>\n",
       "      <td>A</td>\n",
       "      <td>recommender_system_test</td>\n",
       "    </tr>\n",
       "    <tr>\n",
       "      <td>2</td>\n",
       "      <td>DABC14FDDFADD29E</td>\n",
       "      <td>A</td>\n",
       "      <td>recommender_system_test</td>\n",
       "    </tr>\n",
       "    <tr>\n",
       "      <td>3</td>\n",
       "      <td>04988C5DF189632E</td>\n",
       "      <td>A</td>\n",
       "      <td>recommender_system_test</td>\n",
       "    </tr>\n",
       "    <tr>\n",
       "      <td>4</td>\n",
       "      <td>482F14783456D21B</td>\n",
       "      <td>B</td>\n",
       "      <td>recommender_system_test</td>\n",
       "    </tr>\n",
       "  </tbody>\n",
       "</table>\n",
       "</div>"
      ],
      "text/plain": [
       "            user_id group                  ab_test\n",
       "0  D1ABA3E2887B6A73     A  recommender_system_test\n",
       "1  A7A3664BD6242119     A  recommender_system_test\n",
       "2  DABC14FDDFADD29E     A  recommender_system_test\n",
       "3  04988C5DF189632E     A  recommender_system_test\n",
       "4  482F14783456D21B     B  recommender_system_test"
      ]
     },
     "execution_count": 162,
     "metadata": {},
     "output_type": "execute_result"
    }
   ],
   "source": [
    "final_ab_participants.head()"
   ]
  },
  {
   "cell_type": "markdown",
   "metadata": {},
   "source": [
    "Описание данных:\n",
    "<li>user_id — идентификатор пользователя;\n",
    "<li>ab_test — название теста;\n",
    "<li>group — группа пользователя."
   ]
  },
  {
   "cell_type": "code",
   "execution_count": 163,
   "metadata": {},
   "outputs": [
    {
     "data": {
      "text/plain": [
       "0"
      ]
     },
     "execution_count": 163,
     "metadata": {},
     "output_type": "execute_result"
    }
   ],
   "source": [
    "final_ab_participants.duplicated().sum()"
   ]
  },
  {
   "cell_type": "code",
   "execution_count": 164,
   "metadata": {},
   "outputs": [
    {
     "name": "stdout",
     "output_type": "stream",
     "text": [
      "<class 'pandas.core.frame.DataFrame'>\n",
      "RangeIndex: 18268 entries, 0 to 18267\n",
      "Data columns (total 3 columns):\n",
      "user_id    18268 non-null object\n",
      "group      18268 non-null object\n",
      "ab_test    18268 non-null object\n",
      "dtypes: object(3)\n",
      "memory usage: 428.3+ KB\n"
     ]
    }
   ],
   "source": [
    "final_ab_participants.info()"
   ]
  },
  {
   "cell_type": "code",
   "execution_count": 165,
   "metadata": {},
   "outputs": [
    {
     "data": {
      "text/plain": [
       "user_id    0\n",
       "group      0\n",
       "ab_test    0\n",
       "dtype: int64"
      ]
     },
     "execution_count": 165,
     "metadata": {},
     "output_type": "execute_result"
    }
   ],
   "source": [
    "final_ab_participants.isna().sum()"
   ]
  },
  {
   "cell_type": "markdown",
   "metadata": {},
   "source": [
    "<b>Пропущенных значений и дубликатов нет. </b> Типы приведены верно."
   ]
  },
  {
   "cell_type": "markdown",
   "metadata": {},
   "source": [
    "### <b>Посмотрю пересечение тестовой аудитории с конкурирующим тестом.</b>"
   ]
  },
  {
   "cell_type": "code",
   "execution_count": 166,
   "metadata": {},
   "outputs": [],
   "source": [
    "df_interface_eu_test = final_ab_participants.query('ab_test == \"interface_eu_test\"')\n",
    "df_recommender_system_test = final_ab_participants.query('ab_test == \"recommender_system_test\"')"
   ]
  },
  {
   "cell_type": "code",
   "execution_count": 167,
   "metadata": {},
   "outputs": [
    {
     "data": {
      "text/plain": [
       "((11567, 3), (6701, 3))"
      ]
     },
     "execution_count": 167,
     "metadata": {},
     "output_type": "execute_result"
    }
   ],
   "source": [
    "df_interface_eu_test.shape, df_recommender_system_test.shape"
   ]
  },
  {
   "cell_type": "code",
   "execution_count": 168,
   "metadata": {},
   "outputs": [],
   "source": [
    "df1 = df_interface_eu_test.merge(df_recommender_system_test, on = 'user_id', how='inner')"
   ]
  },
  {
   "cell_type": "code",
   "execution_count": 169,
   "metadata": {},
   "outputs": [
    {
     "data": {
      "text/plain": [
       "(1602, 5)"
      ]
     },
     "execution_count": 169,
     "metadata": {},
     "output_type": "execute_result"
    }
   ],
   "source": [
    "df1.shape"
   ]
  },
  {
   "cell_type": "markdown",
   "metadata": {},
   "source": [
    "<b>1602 пользователя участвуют в конкурирующих тестах одновременно.</b>"
   ]
  },
  {
   "cell_type": "markdown",
   "metadata": {},
   "source": [
    "### <b>Проверю корректность предоставленных данных с техническим заданием.</b>"
   ]
  },
  {
   "cell_type": "markdown",
   "metadata": {},
   "source": [
    "Название теста: recommender_system_test."
   ]
  },
  {
   "cell_type": "code",
   "execution_count": 170,
   "metadata": {},
   "outputs": [
    {
     "data": {
      "text/plain": [
       "interface_eu_test          11567\n",
       "recommender_system_test     6701\n",
       "Name: ab_test, dtype: int64"
      ]
     },
     "execution_count": 170,
     "metadata": {},
     "output_type": "execute_result"
    }
   ],
   "source": [
    "final_ab_participants.ab_test.value_counts()"
   ]
  },
  {
   "cell_type": "markdown",
   "metadata": {},
   "source": [
    "У нас в данных присутствуют 2 теста. Сделаю срез данных для требуемого теста."
   ]
  },
  {
   "cell_type": "code",
   "execution_count": 171,
   "metadata": {},
   "outputs": [],
   "source": [
    "final_ab_participants = final_ab_participants.query('ab_test == \"recommender_system_test\"')"
   ]
  },
  {
   "cell_type": "markdown",
   "metadata": {},
   "source": [
    "Группы: А (контрольная), B (новая платёжная воронка)."
   ]
  },
  {
   "cell_type": "code",
   "execution_count": 172,
   "metadata": {},
   "outputs": [
    {
     "data": {
      "text/plain": [
       "A    3824\n",
       "B    2877\n",
       "Name: group, dtype: int64"
      ]
     },
     "execution_count": 172,
     "metadata": {},
     "output_type": "execute_result"
    }
   ],
   "source": [
    "final_ab_participants.group.value_counts()"
   ]
  },
  {
   "cell_type": "markdown",
   "metadata": {},
   "source": [
    "Тут все верно. Других групп нет."
   ]
  },
  {
   "cell_type": "markdown",
   "metadata": {},
   "source": [
    "Дата запуска: 2020-12-07."
   ]
  },
  {
   "cell_type": "code",
   "execution_count": 173,
   "metadata": {},
   "outputs": [
    {
     "data": {
      "text/plain": [
       "Timestamp('2020-12-07 00:00:33')"
      ]
     },
     "execution_count": 173,
     "metadata": {},
     "output_type": "execute_result"
    }
   ],
   "source": [
    "final_ab_events.event_dt.min()"
   ]
  },
  {
   "cell_type": "markdown",
   "metadata": {},
   "source": [
    "Тут все верно."
   ]
  },
  {
   "cell_type": "markdown",
   "metadata": {},
   "source": [
    "Дата остановки набора новых пользователей: 2020-12-21."
   ]
  },
  {
   "cell_type": "code",
   "execution_count": 174,
   "metadata": {},
   "outputs": [
    {
     "data": {
      "text/plain": [
       "Timestamp('2020-12-23 00:00:00')"
      ]
     },
     "execution_count": 174,
     "metadata": {},
     "output_type": "execute_result"
    }
   ],
   "source": [
    "final_ab_new_users.first_date.max()"
   ]
  },
  {
   "cell_type": "markdown",
   "metadata": {},
   "source": [
    "В данных указана дата остановки набора 23 декабря 2021 года. Сделаю срез данных для нужной даты."
   ]
  },
  {
   "cell_type": "code",
   "execution_count": 175,
   "metadata": {},
   "outputs": [],
   "source": [
    "final_ab_new_users = final_ab_new_users.query('first_date <= \"2020-12-21 00:00:00\"')"
   ]
  },
  {
   "cell_type": "markdown",
   "metadata": {},
   "source": [
    "Дата остановки: 2021-01-04."
   ]
  },
  {
   "cell_type": "code",
   "execution_count": 176,
   "metadata": {},
   "outputs": [
    {
     "data": {
      "text/plain": [
       "Timestamp('2020-12-30 23:36:33')"
      ]
     },
     "execution_count": 176,
     "metadata": {},
     "output_type": "execute_result"
    }
   ],
   "source": [
    "final_ab_events['event_dt'].max()"
   ]
  },
  {
   "cell_type": "markdown",
   "metadata": {},
   "source": [
    "В предоставленных данных указана последняя дата - 30 декабря 2020 года."
   ]
  },
  {
   "cell_type": "markdown",
   "metadata": {},
   "source": [
    "Аудитория: 15% новых пользователей из региона EU."
   ]
  },
  {
   "cell_type": "code",
   "execution_count": 177,
   "metadata": {},
   "outputs": [],
   "source": [
    "df_region = pd.merge(final_ab_participants, final_ab_new_users, on = 'user_id', how = 'inner')"
   ]
  },
  {
   "cell_type": "code",
   "execution_count": 178,
   "metadata": {},
   "outputs": [
    {
     "data": {
      "text/html": [
       "<div>\n",
       "<style scoped>\n",
       "    .dataframe tbody tr th:only-of-type {\n",
       "        vertical-align: middle;\n",
       "    }\n",
       "\n",
       "    .dataframe tbody tr th {\n",
       "        vertical-align: top;\n",
       "    }\n",
       "\n",
       "    .dataframe thead th {\n",
       "        text-align: right;\n",
       "    }\n",
       "</style>\n",
       "<table border=\"1\" class=\"dataframe\">\n",
       "  <thead>\n",
       "    <tr style=\"text-align: right;\">\n",
       "      <th></th>\n",
       "      <th>user_id</th>\n",
       "      <th>group</th>\n",
       "      <th>ab_test</th>\n",
       "      <th>first_date</th>\n",
       "      <th>region</th>\n",
       "      <th>device</th>\n",
       "    </tr>\n",
       "  </thead>\n",
       "  <tbody>\n",
       "    <tr>\n",
       "      <td>0</td>\n",
       "      <td>D1ABA3E2887B6A73</td>\n",
       "      <td>A</td>\n",
       "      <td>recommender_system_test</td>\n",
       "      <td>2020-12-07</td>\n",
       "      <td>EU</td>\n",
       "      <td>PC</td>\n",
       "    </tr>\n",
       "    <tr>\n",
       "      <td>1</td>\n",
       "      <td>A7A3664BD6242119</td>\n",
       "      <td>A</td>\n",
       "      <td>recommender_system_test</td>\n",
       "      <td>2020-12-20</td>\n",
       "      <td>EU</td>\n",
       "      <td>iPhone</td>\n",
       "    </tr>\n",
       "    <tr>\n",
       "      <td>2</td>\n",
       "      <td>DABC14FDDFADD29E</td>\n",
       "      <td>A</td>\n",
       "      <td>recommender_system_test</td>\n",
       "      <td>2020-12-08</td>\n",
       "      <td>EU</td>\n",
       "      <td>Mac</td>\n",
       "    </tr>\n",
       "    <tr>\n",
       "      <td>3</td>\n",
       "      <td>04988C5DF189632E</td>\n",
       "      <td>A</td>\n",
       "      <td>recommender_system_test</td>\n",
       "      <td>2020-12-14</td>\n",
       "      <td>EU</td>\n",
       "      <td>iPhone</td>\n",
       "    </tr>\n",
       "    <tr>\n",
       "      <td>4</td>\n",
       "      <td>482F14783456D21B</td>\n",
       "      <td>B</td>\n",
       "      <td>recommender_system_test</td>\n",
       "      <td>2020-12-14</td>\n",
       "      <td>EU</td>\n",
       "      <td>PC</td>\n",
       "    </tr>\n",
       "  </tbody>\n",
       "</table>\n",
       "</div>"
      ],
      "text/plain": [
       "            user_id group                  ab_test first_date region  device\n",
       "0  D1ABA3E2887B6A73     A  recommender_system_test 2020-12-07     EU      PC\n",
       "1  A7A3664BD6242119     A  recommender_system_test 2020-12-20     EU  iPhone\n",
       "2  DABC14FDDFADD29E     A  recommender_system_test 2020-12-08     EU     Mac\n",
       "3  04988C5DF189632E     A  recommender_system_test 2020-12-14     EU  iPhone\n",
       "4  482F14783456D21B     B  recommender_system_test 2020-12-14     EU      PC"
      ]
     },
     "execution_count": 178,
     "metadata": {},
     "output_type": "execute_result"
    }
   ],
   "source": [
    "df_region.head()"
   ]
  },
  {
   "cell_type": "code",
   "execution_count": 179,
   "metadata": {},
   "outputs": [
    {
     "data": {
      "text/plain": [
       "0       D1ABA3E2887B6A73\n",
       "1       A7A3664BD6242119\n",
       "2       DABC14FDDFADD29E\n",
       "3       04988C5DF189632E\n",
       "4       482F14783456D21B\n",
       "              ...       \n",
       "6346    7C5C12FA1B5AB710\n",
       "6347    91C3969B8A72B908\n",
       "6348    E26F13A65CEAC6EA\n",
       "6349    95401934D6D6D4FC\n",
       "6350    80712ED4EA1B52A5\n",
       "Name: user_id, Length: 6351, dtype: object"
      ]
     },
     "execution_count": 179,
     "metadata": {},
     "output_type": "execute_result"
    }
   ],
   "source": [
    "df_region.query('region == \"EU\"').user_id"
   ]
  },
  {
   "cell_type": "code",
   "execution_count": 180,
   "metadata": {},
   "outputs": [
    {
     "data": {
      "text/plain": [
       "42340"
      ]
     },
     "execution_count": 180,
     "metadata": {},
     "output_type": "execute_result"
    }
   ],
   "source": [
    "final_ab_new_users.query('region == \"EU\" and first_date <= \"2020-12-21\"').user_id.nunique() "
   ]
  },
  {
   "cell_type": "code",
   "execution_count": 181,
   "metadata": {},
   "outputs": [
    {
     "data": {
      "text/plain": [
       "0.15"
      ]
     },
     "execution_count": 181,
     "metadata": {},
     "output_type": "execute_result"
    }
   ],
   "source": [
    "df_region.query('region == \"EU\"').user_id.nunique() / final_ab_new_users.query('region == \"EU\" and first_date <= \"2020-12-21\"').user_id.nunique()   "
   ]
  },
  {
   "cell_type": "markdown",
   "metadata": {},
   "source": [
    "Видно, что из региона EU 15% пользователей, из числа европейских пользователей, попавших в тест."
   ]
  },
  {
   "cell_type": "markdown",
   "metadata": {},
   "source": [
    "Ожидаемое количество участников теста: 6000."
   ]
  },
  {
   "cell_type": "code",
   "execution_count": 182,
   "metadata": {},
   "outputs": [
    {
     "data": {
      "text/plain": [
       "6701"
      ]
     },
     "execution_count": 182,
     "metadata": {},
     "output_type": "execute_result"
    }
   ],
   "source": [
    "final_ab_participants.group.value_counts().sum()"
   ]
  },
  {
   "cell_type": "markdown",
   "metadata": {},
   "source": [
    "В исходных данных количество участнков подходит под техзадание."
   ]
  },
  {
   "cell_type": "markdown",
   "metadata": {},
   "source": [
    "<b>Выводы:</b>\n",
    "\n",
    "- В тесте участвуют 6701 пользователей. 94% пользователей из Европы. 1602 (24%) пользователя участвуют в обох тестах одновременно.\n",
    "    \n",
    "    В предоставленных данных были обнаружены несоответствия:\n",
    "- В таблице с данными теста был указан еще один тест, не указанный в техзадании;\n",
    "- Дата остановки набора новых пользователей дольше на 2 дня;\n",
    "- Дата остановки теста на 5 дней раньше указанной в тех задании.\n",
    "-\n",
    "Все несоответствия были удалены из исходных данных."
   ]
  },
  {
   "cell_type": "markdown",
   "metadata": {},
   "source": [
    "### Проверю совпадение теста и маркетинговых событий. \n",
    "Так как я знаю, что события пользователей происходили c 7 по 30 декабря 2020 года, я легко найду в календаре акцию, подходящую к этой дате. "
   ]
  },
  {
   "cell_type": "code",
   "execution_count": 183,
   "metadata": {},
   "outputs": [],
   "source": [
    "def events(start_date, end_date, region):\n",
    "    '''Функция выводит события, произошедшие в выбранном регионе на выбранные даты.\n",
    "    '''\n",
    "    return ab_project_marketing_events.query('(regions.str.contains(@region).values) & \\\n",
    "    (start_dt >= @start_date & start_dt <= @end_date) or \\\n",
    "    (finish_dt >= @start_date & finish_dt <= @end_date) or \\\n",
    "    (start_dt <= @start_date & finish_dt >= @end_date)') "
   ]
  },
  {
   "cell_type": "code",
   "execution_count": 184,
   "metadata": {},
   "outputs": [
    {
     "data": {
      "text/html": [
       "<div>\n",
       "<style scoped>\n",
       "    .dataframe tbody tr th:only-of-type {\n",
       "        vertical-align: middle;\n",
       "    }\n",
       "\n",
       "    .dataframe tbody tr th {\n",
       "        vertical-align: top;\n",
       "    }\n",
       "\n",
       "    .dataframe thead th {\n",
       "        text-align: right;\n",
       "    }\n",
       "</style>\n",
       "<table border=\"1\" class=\"dataframe\">\n",
       "  <thead>\n",
       "    <tr style=\"text-align: right;\">\n",
       "      <th></th>\n",
       "      <th>name</th>\n",
       "      <th>regions</th>\n",
       "      <th>start_dt</th>\n",
       "      <th>finish_dt</th>\n",
       "    </tr>\n",
       "  </thead>\n",
       "  <tbody>\n",
       "    <tr>\n",
       "      <td>0</td>\n",
       "      <td>Christmas&amp;New Year Promo</td>\n",
       "      <td>EU, N.America</td>\n",
       "      <td>2020-12-25</td>\n",
       "      <td>2021-01-03</td>\n",
       "    </tr>\n",
       "  </tbody>\n",
       "</table>\n",
       "</div>"
      ],
      "text/plain": [
       "                       name        regions   start_dt  finish_dt\n",
       "0  Christmas&New Year Promo  EU, N.America 2020-12-25 2021-01-03"
      ]
     },
     "execution_count": 184,
     "metadata": {},
     "output_type": "execute_result"
    }
   ],
   "source": [
    "events('2020-12-07', '2020-12-30', 'EU, N.America')"
   ]
  },
  {
   "cell_type": "markdown",
   "metadata": {},
   "source": [
    "Подходит 1 акция - Christmas&New Year Promo."
   ]
  },
  {
   "cell_type": "markdown",
   "metadata": {},
   "source": [
    "### Исследую конверсию в воронке для разных тестируемых групп на разных этапах. \n",
    "Для этого объединю датасеты с данными тестированя и данными событий."
   ]
  },
  {
   "cell_type": "code",
   "execution_count": 185,
   "metadata": {},
   "outputs": [],
   "source": [
    "df_for_funnel = pd.merge(final_ab_events, final_ab_participants, on = 'user_id', how = 'inner')"
   ]
  },
  {
   "cell_type": "code",
   "execution_count": 186,
   "metadata": {},
   "outputs": [
    {
     "data": {
      "text/html": [
       "<div>\n",
       "<style scoped>\n",
       "    .dataframe tbody tr th:only-of-type {\n",
       "        vertical-align: middle;\n",
       "    }\n",
       "\n",
       "    .dataframe tbody tr th {\n",
       "        vertical-align: top;\n",
       "    }\n",
       "\n",
       "    .dataframe thead th {\n",
       "        text-align: right;\n",
       "    }\n",
       "</style>\n",
       "<table border=\"1\" class=\"dataframe\">\n",
       "  <thead>\n",
       "    <tr style=\"text-align: right;\">\n",
       "      <th></th>\n",
       "      <th>user_id</th>\n",
       "      <th>event_dt</th>\n",
       "      <th>event_name</th>\n",
       "      <th>details</th>\n",
       "      <th>group</th>\n",
       "      <th>ab_test</th>\n",
       "    </tr>\n",
       "  </thead>\n",
       "  <tbody>\n",
       "    <tr>\n",
       "      <td>0</td>\n",
       "      <td>831887FE7F2D6CBA</td>\n",
       "      <td>2020-12-07 06:50:29</td>\n",
       "      <td>purchase</td>\n",
       "      <td>4.99</td>\n",
       "      <td>A</td>\n",
       "      <td>recommender_system_test</td>\n",
       "    </tr>\n",
       "    <tr>\n",
       "      <td>1</td>\n",
       "      <td>831887FE7F2D6CBA</td>\n",
       "      <td>2020-12-09 02:19:17</td>\n",
       "      <td>purchase</td>\n",
       "      <td>99.99</td>\n",
       "      <td>A</td>\n",
       "      <td>recommender_system_test</td>\n",
       "    </tr>\n",
       "    <tr>\n",
       "      <td>2</td>\n",
       "      <td>831887FE7F2D6CBA</td>\n",
       "      <td>2020-12-07 06:50:30</td>\n",
       "      <td>product_cart</td>\n",
       "      <td>0.00</td>\n",
       "      <td>A</td>\n",
       "      <td>recommender_system_test</td>\n",
       "    </tr>\n",
       "    <tr>\n",
       "      <td>3</td>\n",
       "      <td>831887FE7F2D6CBA</td>\n",
       "      <td>2020-12-08 10:52:27</td>\n",
       "      <td>product_cart</td>\n",
       "      <td>0.00</td>\n",
       "      <td>A</td>\n",
       "      <td>recommender_system_test</td>\n",
       "    </tr>\n",
       "    <tr>\n",
       "      <td>4</td>\n",
       "      <td>831887FE7F2D6CBA</td>\n",
       "      <td>2020-12-09 02:19:17</td>\n",
       "      <td>product_cart</td>\n",
       "      <td>0.00</td>\n",
       "      <td>A</td>\n",
       "      <td>recommender_system_test</td>\n",
       "    </tr>\n",
       "  </tbody>\n",
       "</table>\n",
       "</div>"
      ],
      "text/plain": [
       "            user_id            event_dt    event_name  details group  \\\n",
       "0  831887FE7F2D6CBA 2020-12-07 06:50:29      purchase     4.99     A   \n",
       "1  831887FE7F2D6CBA 2020-12-09 02:19:17      purchase    99.99     A   \n",
       "2  831887FE7F2D6CBA 2020-12-07 06:50:30  product_cart     0.00     A   \n",
       "3  831887FE7F2D6CBA 2020-12-08 10:52:27  product_cart     0.00     A   \n",
       "4  831887FE7F2D6CBA 2020-12-09 02:19:17  product_cart     0.00     A   \n",
       "\n",
       "                   ab_test  \n",
       "0  recommender_system_test  \n",
       "1  recommender_system_test  \n",
       "2  recommender_system_test  \n",
       "3  recommender_system_test  \n",
       "4  recommender_system_test  "
      ]
     },
     "execution_count": 186,
     "metadata": {},
     "output_type": "execute_result"
    }
   ],
   "source": [
    "df_for_funnel.head()"
   ]
  },
  {
   "cell_type": "markdown",
   "metadata": {},
   "source": [
    "#### Узнаю сколько пользователей не совершили ни одного действия."
   ]
  },
  {
   "cell_type": "code",
   "execution_count": 187,
   "metadata": {},
   "outputs": [
    {
     "data": {
      "text/plain": [
       "3675"
      ]
     },
     "execution_count": 187,
     "metadata": {},
     "output_type": "execute_result"
    }
   ],
   "source": [
    "df_for_funnel.user_id.nunique()"
   ]
  },
  {
   "cell_type": "code",
   "execution_count": 188,
   "metadata": {},
   "outputs": [
    {
     "data": {
      "text/plain": [
       "6701"
      ]
     },
     "execution_count": 188,
     "metadata": {},
     "output_type": "execute_result"
    }
   ],
   "source": [
    "final_ab_participants.user_id.nunique()"
   ]
  },
  {
   "cell_type": "code",
   "execution_count": 189,
   "metadata": {},
   "outputs": [
    {
     "name": "stdout",
     "output_type": "stream",
     "text": [
      "Количество пользователей, не совершивших ни одного действия: 3026\n"
     ]
    }
   ],
   "source": [
    "print('Количество пользователей, не совершивших ни одного действия: {}'.format(final_ab_participants.user_id.nunique() - df_for_funnel.user_id.nunique()))"
   ]
  },
  {
   "cell_type": "markdown",
   "metadata": {},
   "source": [
    "Почти половина пользователей (3026 чел.) не совершили ни одного действия. Возможно, люди нашли искомое на других ресурсах. Или система не учла их активность."
   ]
  },
  {
   "cell_type": "code",
   "execution_count": 190,
   "metadata": {},
   "outputs": [],
   "source": [
    "df_A = df_for_funnel.query('group == \"A\"').groupby('event_name', as_index = False).agg({'user_id':'nunique'}).sort_values(by = 'user_id', ascending = False)\n",
    "df_B = df_for_funnel.query('group == \"B\"').groupby('event_name', as_index = False).agg({'user_id':'nunique'}).sort_values(by = 'user_id', ascending = False)\n",
    "df_A.columns = ['event_name', 'user_counts']\n",
    "df_B.columns = ['event_name', 'user_counts']"
   ]
  },
  {
   "cell_type": "code",
   "execution_count": 191,
   "metadata": {
    "scrolled": true
   },
   "outputs": [
    {
     "data": {
      "text/html": [
       "<div>\n",
       "<style scoped>\n",
       "    .dataframe tbody tr th:only-of-type {\n",
       "        vertical-align: middle;\n",
       "    }\n",
       "\n",
       "    .dataframe tbody tr th {\n",
       "        vertical-align: top;\n",
       "    }\n",
       "\n",
       "    .dataframe thead th {\n",
       "        text-align: right;\n",
       "    }\n",
       "</style>\n",
       "<table border=\"1\" class=\"dataframe\">\n",
       "  <thead>\n",
       "    <tr style=\"text-align: right;\">\n",
       "      <th></th>\n",
       "      <th>event_name</th>\n",
       "      <th>user_counts</th>\n",
       "    </tr>\n",
       "  </thead>\n",
       "  <tbody>\n",
       "    <tr>\n",
       "      <td>0</td>\n",
       "      <td>login</td>\n",
       "      <td>2747</td>\n",
       "    </tr>\n",
       "    <tr>\n",
       "      <td>2</td>\n",
       "      <td>product_page</td>\n",
       "      <td>1780</td>\n",
       "    </tr>\n",
       "    <tr>\n",
       "      <td>3</td>\n",
       "      <td>purchase</td>\n",
       "      <td>872</td>\n",
       "    </tr>\n",
       "    <tr>\n",
       "      <td>1</td>\n",
       "      <td>product_cart</td>\n",
       "      <td>824</td>\n",
       "    </tr>\n",
       "  </tbody>\n",
       "</table>\n",
       "</div>"
      ],
      "text/plain": [
       "     event_name  user_counts\n",
       "0         login         2747\n",
       "2  product_page         1780\n",
       "3      purchase          872\n",
       "1  product_cart          824"
      ]
     },
     "execution_count": 191,
     "metadata": {},
     "output_type": "execute_result"
    }
   ],
   "source": [
    "df_A"
   ]
  },
  {
   "cell_type": "code",
   "execution_count": 192,
   "metadata": {
    "scrolled": true
   },
   "outputs": [
    {
     "data": {
      "text/html": [
       "<div>\n",
       "<style scoped>\n",
       "    .dataframe tbody tr th:only-of-type {\n",
       "        vertical-align: middle;\n",
       "    }\n",
       "\n",
       "    .dataframe tbody tr th {\n",
       "        vertical-align: top;\n",
       "    }\n",
       "\n",
       "    .dataframe thead th {\n",
       "        text-align: right;\n",
       "    }\n",
       "</style>\n",
       "<table border=\"1\" class=\"dataframe\">\n",
       "  <thead>\n",
       "    <tr style=\"text-align: right;\">\n",
       "      <th></th>\n",
       "      <th>event_name</th>\n",
       "      <th>user_counts</th>\n",
       "    </tr>\n",
       "  </thead>\n",
       "  <tbody>\n",
       "    <tr>\n",
       "      <td>0</td>\n",
       "      <td>login</td>\n",
       "      <td>928</td>\n",
       "    </tr>\n",
       "    <tr>\n",
       "      <td>2</td>\n",
       "      <td>product_page</td>\n",
       "      <td>523</td>\n",
       "    </tr>\n",
       "    <tr>\n",
       "      <td>3</td>\n",
       "      <td>purchase</td>\n",
       "      <td>256</td>\n",
       "    </tr>\n",
       "    <tr>\n",
       "      <td>1</td>\n",
       "      <td>product_cart</td>\n",
       "      <td>255</td>\n",
       "    </tr>\n",
       "  </tbody>\n",
       "</table>\n",
       "</div>"
      ],
      "text/plain": [
       "     event_name  user_counts\n",
       "0         login          928\n",
       "2  product_page          523\n",
       "3      purchase          256\n",
       "1  product_cart          255"
      ]
     },
     "execution_count": 192,
     "metadata": {},
     "output_type": "execute_result"
    }
   ],
   "source": [
    "df_B"
   ]
  },
  {
   "cell_type": "markdown",
   "metadata": {},
   "source": [
    "Логично предположить путь, который проделывает покупатель: login - product_page - product_cart - purchase. Но мы наблюдаем несоответствие на последнем шаге. Идет сначала покупка, а потом просмотр корзины. Возможно, есть вариант оплаты заказа без посещения корзины. Исправлю в таблицах последовательность шагов согласно этой логике."
   ]
  },
  {
   "cell_type": "code",
   "execution_count": 193,
   "metadata": {
    "scrolled": true
   },
   "outputs": [],
   "source": [
    "df_A['order_good'] = [0,1,3,2]\n",
    "df_A = df_A.sort_values(by='order_good')\n",
    "df_B['order_good'] = [0,1,3,2]\n",
    "df_B = df_B.sort_values(by='order_good')"
   ]
  },
  {
   "cell_type": "code",
   "execution_count": 194,
   "metadata": {},
   "outputs": [
    {
     "data": {
      "text/html": [
       "<div>\n",
       "<style scoped>\n",
       "    .dataframe tbody tr th:only-of-type {\n",
       "        vertical-align: middle;\n",
       "    }\n",
       "\n",
       "    .dataframe tbody tr th {\n",
       "        vertical-align: top;\n",
       "    }\n",
       "\n",
       "    .dataframe thead th {\n",
       "        text-align: right;\n",
       "    }\n",
       "</style>\n",
       "<table border=\"1\" class=\"dataframe\">\n",
       "  <thead>\n",
       "    <tr style=\"text-align: right;\">\n",
       "      <th></th>\n",
       "      <th>event_name</th>\n",
       "      <th>user_counts</th>\n",
       "      <th>order_good</th>\n",
       "    </tr>\n",
       "  </thead>\n",
       "  <tbody>\n",
       "    <tr>\n",
       "      <td>0</td>\n",
       "      <td>login</td>\n",
       "      <td>2747</td>\n",
       "      <td>0</td>\n",
       "    </tr>\n",
       "    <tr>\n",
       "      <td>2</td>\n",
       "      <td>product_page</td>\n",
       "      <td>1780</td>\n",
       "      <td>1</td>\n",
       "    </tr>\n",
       "    <tr>\n",
       "      <td>1</td>\n",
       "      <td>product_cart</td>\n",
       "      <td>824</td>\n",
       "      <td>2</td>\n",
       "    </tr>\n",
       "    <tr>\n",
       "      <td>3</td>\n",
       "      <td>purchase</td>\n",
       "      <td>872</td>\n",
       "      <td>3</td>\n",
       "    </tr>\n",
       "  </tbody>\n",
       "</table>\n",
       "</div>"
      ],
      "text/plain": [
       "     event_name  user_counts  order_good\n",
       "0         login         2747           0\n",
       "2  product_page         1780           1\n",
       "1  product_cart          824           2\n",
       "3      purchase          872           3"
      ]
     },
     "execution_count": 194,
     "metadata": {},
     "output_type": "execute_result"
    }
   ],
   "source": [
    "df_A"
   ]
  },
  {
   "cell_type": "code",
   "execution_count": 195,
   "metadata": {},
   "outputs": [
    {
     "data": {
      "text/html": [
       "<div>\n",
       "<style scoped>\n",
       "    .dataframe tbody tr th:only-of-type {\n",
       "        vertical-align: middle;\n",
       "    }\n",
       "\n",
       "    .dataframe tbody tr th {\n",
       "        vertical-align: top;\n",
       "    }\n",
       "\n",
       "    .dataframe thead th {\n",
       "        text-align: right;\n",
       "    }\n",
       "</style>\n",
       "<table border=\"1\" class=\"dataframe\">\n",
       "  <thead>\n",
       "    <tr style=\"text-align: right;\">\n",
       "      <th></th>\n",
       "      <th>event_name</th>\n",
       "      <th>user_counts</th>\n",
       "      <th>order_good</th>\n",
       "    </tr>\n",
       "  </thead>\n",
       "  <tbody>\n",
       "    <tr>\n",
       "      <td>0</td>\n",
       "      <td>login</td>\n",
       "      <td>928</td>\n",
       "      <td>0</td>\n",
       "    </tr>\n",
       "    <tr>\n",
       "      <td>2</td>\n",
       "      <td>product_page</td>\n",
       "      <td>523</td>\n",
       "      <td>1</td>\n",
       "    </tr>\n",
       "    <tr>\n",
       "      <td>1</td>\n",
       "      <td>product_cart</td>\n",
       "      <td>255</td>\n",
       "      <td>2</td>\n",
       "    </tr>\n",
       "    <tr>\n",
       "      <td>3</td>\n",
       "      <td>purchase</td>\n",
       "      <td>256</td>\n",
       "      <td>3</td>\n",
       "    </tr>\n",
       "  </tbody>\n",
       "</table>\n",
       "</div>"
      ],
      "text/plain": [
       "     event_name  user_counts  order_good\n",
       "0         login          928           0\n",
       "2  product_page          523           1\n",
       "1  product_cart          255           2\n",
       "3      purchase          256           3"
      ]
     },
     "execution_count": 195,
     "metadata": {},
     "output_type": "execute_result"
    }
   ],
   "source": [
    "df_B"
   ]
  },
  {
   "cell_type": "markdown",
   "metadata": {},
   "source": [
    "Добавлю в эти таблицы колонку с конверсиями."
   ]
  },
  {
   "cell_type": "code",
   "execution_count": 196,
   "metadata": {},
   "outputs": [],
   "source": [
    "val = df_A.user_counts.values\n",
    "def conversion(row):\n",
    "    '''Функция рассчитывает конверсию на каждом шаге.\n",
    "    '''\n",
    "    if row == \"login\": return (val[0]/val[0]) * 100\n",
    "    elif row == \"product_page\": return (val[1]/val[0]) * 100\n",
    "    elif row == \"product_cart\": return (val[2]/val[0]) * 100\n",
    "    elif row == \"purchase\": return (val[3]/val[0]) * 100"
   ]
  },
  {
   "cell_type": "code",
   "execution_count": 197,
   "metadata": {},
   "outputs": [
    {
     "data": {
      "text/html": [
       "<div>\n",
       "<style scoped>\n",
       "    .dataframe tbody tr th:only-of-type {\n",
       "        vertical-align: middle;\n",
       "    }\n",
       "\n",
       "    .dataframe tbody tr th {\n",
       "        vertical-align: top;\n",
       "    }\n",
       "\n",
       "    .dataframe thead th {\n",
       "        text-align: right;\n",
       "    }\n",
       "</style>\n",
       "<table border=\"1\" class=\"dataframe\">\n",
       "  <thead>\n",
       "    <tr style=\"text-align: right;\">\n",
       "      <th></th>\n",
       "      <th>event_name</th>\n",
       "      <th>user_counts</th>\n",
       "      <th>order_good</th>\n",
       "      <th>conversion</th>\n",
       "    </tr>\n",
       "  </thead>\n",
       "  <tbody>\n",
       "    <tr>\n",
       "      <td>0</td>\n",
       "      <td>login</td>\n",
       "      <td>2747</td>\n",
       "      <td>0</td>\n",
       "      <td>100.000000</td>\n",
       "    </tr>\n",
       "    <tr>\n",
       "      <td>2</td>\n",
       "      <td>product_page</td>\n",
       "      <td>1780</td>\n",
       "      <td>1</td>\n",
       "      <td>64.797961</td>\n",
       "    </tr>\n",
       "    <tr>\n",
       "      <td>1</td>\n",
       "      <td>product_cart</td>\n",
       "      <td>824</td>\n",
       "      <td>2</td>\n",
       "      <td>29.996360</td>\n",
       "    </tr>\n",
       "    <tr>\n",
       "      <td>3</td>\n",
       "      <td>purchase</td>\n",
       "      <td>872</td>\n",
       "      <td>3</td>\n",
       "      <td>31.743720</td>\n",
       "    </tr>\n",
       "  </tbody>\n",
       "</table>\n",
       "</div>"
      ],
      "text/plain": [
       "     event_name  user_counts  order_good  conversion\n",
       "0         login         2747           0  100.000000\n",
       "2  product_page         1780           1   64.797961\n",
       "1  product_cart          824           2   29.996360\n",
       "3      purchase          872           3   31.743720"
      ]
     },
     "execution_count": 197,
     "metadata": {},
     "output_type": "execute_result"
    }
   ],
   "source": [
    "df_A['conversion'] = df_A['event_name'].apply(conversion)\n",
    "df_A"
   ]
  },
  {
   "cell_type": "code",
   "execution_count": 198,
   "metadata": {},
   "outputs": [],
   "source": [
    "val = df_B.user_counts.values\n",
    "df_B['conversion'] = df_B['event_name'].apply(conversion)"
   ]
  },
  {
   "cell_type": "code",
   "execution_count": 199,
   "metadata": {},
   "outputs": [
    {
     "data": {
      "text/html": [
       "<div>\n",
       "<style scoped>\n",
       "    .dataframe tbody tr th:only-of-type {\n",
       "        vertical-align: middle;\n",
       "    }\n",
       "\n",
       "    .dataframe tbody tr th {\n",
       "        vertical-align: top;\n",
       "    }\n",
       "\n",
       "    .dataframe thead th {\n",
       "        text-align: right;\n",
       "    }\n",
       "</style>\n",
       "<table border=\"1\" class=\"dataframe\">\n",
       "  <thead>\n",
       "    <tr style=\"text-align: right;\">\n",
       "      <th></th>\n",
       "      <th>event_name</th>\n",
       "      <th>user_counts</th>\n",
       "      <th>order_good</th>\n",
       "      <th>conversion</th>\n",
       "    </tr>\n",
       "  </thead>\n",
       "  <tbody>\n",
       "    <tr>\n",
       "      <td>0</td>\n",
       "      <td>login</td>\n",
       "      <td>928</td>\n",
       "      <td>0</td>\n",
       "      <td>100.000000</td>\n",
       "    </tr>\n",
       "    <tr>\n",
       "      <td>2</td>\n",
       "      <td>product_page</td>\n",
       "      <td>523</td>\n",
       "      <td>1</td>\n",
       "      <td>56.357759</td>\n",
       "    </tr>\n",
       "    <tr>\n",
       "      <td>1</td>\n",
       "      <td>product_cart</td>\n",
       "      <td>255</td>\n",
       "      <td>2</td>\n",
       "      <td>27.478448</td>\n",
       "    </tr>\n",
       "    <tr>\n",
       "      <td>3</td>\n",
       "      <td>purchase</td>\n",
       "      <td>256</td>\n",
       "      <td>3</td>\n",
       "      <td>27.586207</td>\n",
       "    </tr>\n",
       "  </tbody>\n",
       "</table>\n",
       "</div>"
      ],
      "text/plain": [
       "     event_name  user_counts  order_good  conversion\n",
       "0         login          928           0  100.000000\n",
       "2  product_page          523           1   56.357759\n",
       "1  product_cart          255           2   27.478448\n",
       "3      purchase          256           3   27.586207"
      ]
     },
     "execution_count": 199,
     "metadata": {},
     "output_type": "execute_result"
    }
   ],
   "source": [
    "df_B"
   ]
  },
  {
   "cell_type": "markdown",
   "metadata": {},
   "source": [
    "Итоговая конверсия выше у группы А. Это означает, что изменения не повлияли на покупателей. Да и в целом, рассматривая конверсию каждого шага, группа А показывает лучшие результаты."
   ]
  },
  {
   "cell_type": "markdown",
   "metadata": {},
   "source": [
    "### Построю сводную воронку для конверсий."
   ]
  },
  {
   "cell_type": "code",
   "execution_count": 200,
   "metadata": {},
   "outputs": [
    {
     "data": {
      "application/vnd.plotly.v1+json": {
       "config": {
        "plotlyServerURL": "https://plot.ly"
       },
       "data": [
        {
         "name": "A",
         "textinfo": "value+percent initial+percent previous",
         "type": "funnel",
         "x": [
          2747,
          1780,
          824,
          872
         ],
         "y": [
          "Login",
          "Product_page",
          "Product_cart",
          "Purchase"
         ]
        },
        {
         "name": "B",
         "textinfo": "value+percent initial+percent previous",
         "type": "funnel",
         "x": [
          928,
          523,
          255,
          256
         ],
         "y": [
          "Login",
          "Product_page",
          "Product_cart",
          "Purchase"
         ]
        }
       ],
       "layout": {
        "template": {
         "data": {
          "bar": [
           {
            "error_x": {
             "color": "#2a3f5f"
            },
            "error_y": {
             "color": "#2a3f5f"
            },
            "marker": {
             "line": {
              "color": "#E5ECF6",
              "width": 0.5
             }
            },
            "type": "bar"
           }
          ],
          "barpolar": [
           {
            "marker": {
             "line": {
              "color": "#E5ECF6",
              "width": 0.5
             }
            },
            "type": "barpolar"
           }
          ],
          "carpet": [
           {
            "aaxis": {
             "endlinecolor": "#2a3f5f",
             "gridcolor": "white",
             "linecolor": "white",
             "minorgridcolor": "white",
             "startlinecolor": "#2a3f5f"
            },
            "baxis": {
             "endlinecolor": "#2a3f5f",
             "gridcolor": "white",
             "linecolor": "white",
             "minorgridcolor": "white",
             "startlinecolor": "#2a3f5f"
            },
            "type": "carpet"
           }
          ],
          "choropleth": [
           {
            "colorbar": {
             "outlinewidth": 0,
             "ticks": ""
            },
            "type": "choropleth"
           }
          ],
          "contour": [
           {
            "colorbar": {
             "outlinewidth": 0,
             "ticks": ""
            },
            "colorscale": [
             [
              0,
              "#0d0887"
             ],
             [
              0.1111111111111111,
              "#46039f"
             ],
             [
              0.2222222222222222,
              "#7201a8"
             ],
             [
              0.3333333333333333,
              "#9c179e"
             ],
             [
              0.4444444444444444,
              "#bd3786"
             ],
             [
              0.5555555555555556,
              "#d8576b"
             ],
             [
              0.6666666666666666,
              "#ed7953"
             ],
             [
              0.7777777777777778,
              "#fb9f3a"
             ],
             [
              0.8888888888888888,
              "#fdca26"
             ],
             [
              1,
              "#f0f921"
             ]
            ],
            "type": "contour"
           }
          ],
          "contourcarpet": [
           {
            "colorbar": {
             "outlinewidth": 0,
             "ticks": ""
            },
            "type": "contourcarpet"
           }
          ],
          "heatmap": [
           {
            "colorbar": {
             "outlinewidth": 0,
             "ticks": ""
            },
            "colorscale": [
             [
              0,
              "#0d0887"
             ],
             [
              0.1111111111111111,
              "#46039f"
             ],
             [
              0.2222222222222222,
              "#7201a8"
             ],
             [
              0.3333333333333333,
              "#9c179e"
             ],
             [
              0.4444444444444444,
              "#bd3786"
             ],
             [
              0.5555555555555556,
              "#d8576b"
             ],
             [
              0.6666666666666666,
              "#ed7953"
             ],
             [
              0.7777777777777778,
              "#fb9f3a"
             ],
             [
              0.8888888888888888,
              "#fdca26"
             ],
             [
              1,
              "#f0f921"
             ]
            ],
            "type": "heatmap"
           }
          ],
          "heatmapgl": [
           {
            "colorbar": {
             "outlinewidth": 0,
             "ticks": ""
            },
            "colorscale": [
             [
              0,
              "#0d0887"
             ],
             [
              0.1111111111111111,
              "#46039f"
             ],
             [
              0.2222222222222222,
              "#7201a8"
             ],
             [
              0.3333333333333333,
              "#9c179e"
             ],
             [
              0.4444444444444444,
              "#bd3786"
             ],
             [
              0.5555555555555556,
              "#d8576b"
             ],
             [
              0.6666666666666666,
              "#ed7953"
             ],
             [
              0.7777777777777778,
              "#fb9f3a"
             ],
             [
              0.8888888888888888,
              "#fdca26"
             ],
             [
              1,
              "#f0f921"
             ]
            ],
            "type": "heatmapgl"
           }
          ],
          "histogram": [
           {
            "marker": {
             "colorbar": {
              "outlinewidth": 0,
              "ticks": ""
             }
            },
            "type": "histogram"
           }
          ],
          "histogram2d": [
           {
            "colorbar": {
             "outlinewidth": 0,
             "ticks": ""
            },
            "colorscale": [
             [
              0,
              "#0d0887"
             ],
             [
              0.1111111111111111,
              "#46039f"
             ],
             [
              0.2222222222222222,
              "#7201a8"
             ],
             [
              0.3333333333333333,
              "#9c179e"
             ],
             [
              0.4444444444444444,
              "#bd3786"
             ],
             [
              0.5555555555555556,
              "#d8576b"
             ],
             [
              0.6666666666666666,
              "#ed7953"
             ],
             [
              0.7777777777777778,
              "#fb9f3a"
             ],
             [
              0.8888888888888888,
              "#fdca26"
             ],
             [
              1,
              "#f0f921"
             ]
            ],
            "type": "histogram2d"
           }
          ],
          "histogram2dcontour": [
           {
            "colorbar": {
             "outlinewidth": 0,
             "ticks": ""
            },
            "colorscale": [
             [
              0,
              "#0d0887"
             ],
             [
              0.1111111111111111,
              "#46039f"
             ],
             [
              0.2222222222222222,
              "#7201a8"
             ],
             [
              0.3333333333333333,
              "#9c179e"
             ],
             [
              0.4444444444444444,
              "#bd3786"
             ],
             [
              0.5555555555555556,
              "#d8576b"
             ],
             [
              0.6666666666666666,
              "#ed7953"
             ],
             [
              0.7777777777777778,
              "#fb9f3a"
             ],
             [
              0.8888888888888888,
              "#fdca26"
             ],
             [
              1,
              "#f0f921"
             ]
            ],
            "type": "histogram2dcontour"
           }
          ],
          "mesh3d": [
           {
            "colorbar": {
             "outlinewidth": 0,
             "ticks": ""
            },
            "type": "mesh3d"
           }
          ],
          "parcoords": [
           {
            "line": {
             "colorbar": {
              "outlinewidth": 0,
              "ticks": ""
             }
            },
            "type": "parcoords"
           }
          ],
          "scatter": [
           {
            "marker": {
             "colorbar": {
              "outlinewidth": 0,
              "ticks": ""
             }
            },
            "type": "scatter"
           }
          ],
          "scatter3d": [
           {
            "line": {
             "colorbar": {
              "outlinewidth": 0,
              "ticks": ""
             }
            },
            "marker": {
             "colorbar": {
              "outlinewidth": 0,
              "ticks": ""
             }
            },
            "type": "scatter3d"
           }
          ],
          "scattercarpet": [
           {
            "marker": {
             "colorbar": {
              "outlinewidth": 0,
              "ticks": ""
             }
            },
            "type": "scattercarpet"
           }
          ],
          "scattergeo": [
           {
            "marker": {
             "colorbar": {
              "outlinewidth": 0,
              "ticks": ""
             }
            },
            "type": "scattergeo"
           }
          ],
          "scattergl": [
           {
            "marker": {
             "colorbar": {
              "outlinewidth": 0,
              "ticks": ""
             }
            },
            "type": "scattergl"
           }
          ],
          "scattermapbox": [
           {
            "marker": {
             "colorbar": {
              "outlinewidth": 0,
              "ticks": ""
             }
            },
            "type": "scattermapbox"
           }
          ],
          "scatterpolar": [
           {
            "marker": {
             "colorbar": {
              "outlinewidth": 0,
              "ticks": ""
             }
            },
            "type": "scatterpolar"
           }
          ],
          "scatterpolargl": [
           {
            "marker": {
             "colorbar": {
              "outlinewidth": 0,
              "ticks": ""
             }
            },
            "type": "scatterpolargl"
           }
          ],
          "scatterternary": [
           {
            "marker": {
             "colorbar": {
              "outlinewidth": 0,
              "ticks": ""
             }
            },
            "type": "scatterternary"
           }
          ],
          "surface": [
           {
            "colorbar": {
             "outlinewidth": 0,
             "ticks": ""
            },
            "colorscale": [
             [
              0,
              "#0d0887"
             ],
             [
              0.1111111111111111,
              "#46039f"
             ],
             [
              0.2222222222222222,
              "#7201a8"
             ],
             [
              0.3333333333333333,
              "#9c179e"
             ],
             [
              0.4444444444444444,
              "#bd3786"
             ],
             [
              0.5555555555555556,
              "#d8576b"
             ],
             [
              0.6666666666666666,
              "#ed7953"
             ],
             [
              0.7777777777777778,
              "#fb9f3a"
             ],
             [
              0.8888888888888888,
              "#fdca26"
             ],
             [
              1,
              "#f0f921"
             ]
            ],
            "type": "surface"
           }
          ],
          "table": [
           {
            "cells": {
             "fill": {
              "color": "#EBF0F8"
             },
             "line": {
              "color": "white"
             }
            },
            "header": {
             "fill": {
              "color": "#C8D4E3"
             },
             "line": {
              "color": "white"
             }
            },
            "type": "table"
           }
          ]
         },
         "layout": {
          "annotationdefaults": {
           "arrowcolor": "#2a3f5f",
           "arrowhead": 0,
           "arrowwidth": 1
          },
          "colorscale": {
           "diverging": [
            [
             0,
             "#8e0152"
            ],
            [
             0.1,
             "#c51b7d"
            ],
            [
             0.2,
             "#de77ae"
            ],
            [
             0.3,
             "#f1b6da"
            ],
            [
             0.4,
             "#fde0ef"
            ],
            [
             0.5,
             "#f7f7f7"
            ],
            [
             0.6,
             "#e6f5d0"
            ],
            [
             0.7,
             "#b8e186"
            ],
            [
             0.8,
             "#7fbc41"
            ],
            [
             0.9,
             "#4d9221"
            ],
            [
             1,
             "#276419"
            ]
           ],
           "sequential": [
            [
             0,
             "#0d0887"
            ],
            [
             0.1111111111111111,
             "#46039f"
            ],
            [
             0.2222222222222222,
             "#7201a8"
            ],
            [
             0.3333333333333333,
             "#9c179e"
            ],
            [
             0.4444444444444444,
             "#bd3786"
            ],
            [
             0.5555555555555556,
             "#d8576b"
            ],
            [
             0.6666666666666666,
             "#ed7953"
            ],
            [
             0.7777777777777778,
             "#fb9f3a"
            ],
            [
             0.8888888888888888,
             "#fdca26"
            ],
            [
             1,
             "#f0f921"
            ]
           ],
           "sequentialminus": [
            [
             0,
             "#0d0887"
            ],
            [
             0.1111111111111111,
             "#46039f"
            ],
            [
             0.2222222222222222,
             "#7201a8"
            ],
            [
             0.3333333333333333,
             "#9c179e"
            ],
            [
             0.4444444444444444,
             "#bd3786"
            ],
            [
             0.5555555555555556,
             "#d8576b"
            ],
            [
             0.6666666666666666,
             "#ed7953"
            ],
            [
             0.7777777777777778,
             "#fb9f3a"
            ],
            [
             0.8888888888888888,
             "#fdca26"
            ],
            [
             1,
             "#f0f921"
            ]
           ]
          },
          "colorway": [
           "#636efa",
           "#EF553B",
           "#00cc96",
           "#ab63fa",
           "#FFA15A",
           "#19d3f3",
           "#FF6692",
           "#B6E880",
           "#FF97FF",
           "#FECB52"
          ],
          "font": {
           "color": "#2a3f5f"
          },
          "geo": {
           "bgcolor": "white",
           "lakecolor": "white",
           "landcolor": "#E5ECF6",
           "showlakes": true,
           "showland": true,
           "subunitcolor": "white"
          },
          "hoverlabel": {
           "align": "left"
          },
          "hovermode": "closest",
          "mapbox": {
           "style": "light"
          },
          "paper_bgcolor": "white",
          "plot_bgcolor": "#E5ECF6",
          "polar": {
           "angularaxis": {
            "gridcolor": "white",
            "linecolor": "white",
            "ticks": ""
           },
           "bgcolor": "#E5ECF6",
           "radialaxis": {
            "gridcolor": "white",
            "linecolor": "white",
            "ticks": ""
           }
          },
          "scene": {
           "xaxis": {
            "backgroundcolor": "#E5ECF6",
            "gridcolor": "white",
            "gridwidth": 2,
            "linecolor": "white",
            "showbackground": true,
            "ticks": "",
            "zerolinecolor": "white"
           },
           "yaxis": {
            "backgroundcolor": "#E5ECF6",
            "gridcolor": "white",
            "gridwidth": 2,
            "linecolor": "white",
            "showbackground": true,
            "ticks": "",
            "zerolinecolor": "white"
           },
           "zaxis": {
            "backgroundcolor": "#E5ECF6",
            "gridcolor": "white",
            "gridwidth": 2,
            "linecolor": "white",
            "showbackground": true,
            "ticks": "",
            "zerolinecolor": "white"
           }
          },
          "shapedefaults": {
           "line": {
            "color": "#2a3f5f"
           }
          },
          "ternary": {
           "aaxis": {
            "gridcolor": "white",
            "linecolor": "white",
            "ticks": ""
           },
           "baxis": {
            "gridcolor": "white",
            "linecolor": "white",
            "ticks": ""
           },
           "bgcolor": "#E5ECF6",
           "caxis": {
            "gridcolor": "white",
            "linecolor": "white",
            "ticks": ""
           }
          },
          "title": {
           "x": 0.05
          },
          "xaxis": {
           "automargin": true,
           "gridcolor": "white",
           "linecolor": "white",
           "ticks": "",
           "zerolinecolor": "white",
           "zerolinewidth": 2
          },
          "yaxis": {
           "automargin": true,
           "gridcolor": "white",
           "linecolor": "white",
           "ticks": "",
           "zerolinecolor": "white",
           "zerolinewidth": 2
          }
         }
        },
        "title": {
         "text": "Количество пользователей на каждом шаге в AB группах"
        }
       }
      },
      "text/html": [
       "<div>\n",
       "        \n",
       "        \n",
       "            <div id=\"0e5809f8-e2e7-4058-87ac-a17bed084271\" class=\"plotly-graph-div\" style=\"height:525px; width:100%;\"></div>\n",
       "            <script type=\"text/javascript\">\n",
       "                require([\"plotly\"], function(Plotly) {\n",
       "                    window.PLOTLYENV=window.PLOTLYENV || {};\n",
       "                    \n",
       "                if (document.getElementById(\"0e5809f8-e2e7-4058-87ac-a17bed084271\")) {\n",
       "                    Plotly.newPlot(\n",
       "                        '0e5809f8-e2e7-4058-87ac-a17bed084271',\n",
       "                        [{\"name\": \"A\", \"textinfo\": \"value+percent initial+percent previous\", \"type\": \"funnel\", \"x\": [2747, 1780, 824, 872], \"y\": [\"Login\", \"Product_page\", \"Product_cart\", \"Purchase\"]}, {\"name\": \"B\", \"textinfo\": \"value+percent initial+percent previous\", \"type\": \"funnel\", \"x\": [928, 523, 255, 256], \"y\": [\"Login\", \"Product_page\", \"Product_cart\", \"Purchase\"]}],\n",
       "                        {\"template\": {\"data\": {\"bar\": [{\"error_x\": {\"color\": \"#2a3f5f\"}, \"error_y\": {\"color\": \"#2a3f5f\"}, \"marker\": {\"line\": {\"color\": \"#E5ECF6\", \"width\": 0.5}}, \"type\": \"bar\"}], \"barpolar\": [{\"marker\": {\"line\": {\"color\": \"#E5ECF6\", \"width\": 0.5}}, \"type\": \"barpolar\"}], \"carpet\": [{\"aaxis\": {\"endlinecolor\": \"#2a3f5f\", \"gridcolor\": \"white\", \"linecolor\": \"white\", \"minorgridcolor\": \"white\", \"startlinecolor\": \"#2a3f5f\"}, \"baxis\": {\"endlinecolor\": \"#2a3f5f\", \"gridcolor\": \"white\", \"linecolor\": \"white\", \"minorgridcolor\": \"white\", \"startlinecolor\": \"#2a3f5f\"}, \"type\": \"carpet\"}], \"choropleth\": [{\"colorbar\": {\"outlinewidth\": 0, \"ticks\": \"\"}, \"type\": \"choropleth\"}], \"contour\": [{\"colorbar\": {\"outlinewidth\": 0, \"ticks\": \"\"}, \"colorscale\": [[0.0, \"#0d0887\"], [0.1111111111111111, \"#46039f\"], [0.2222222222222222, \"#7201a8\"], [0.3333333333333333, \"#9c179e\"], [0.4444444444444444, \"#bd3786\"], [0.5555555555555556, \"#d8576b\"], [0.6666666666666666, \"#ed7953\"], [0.7777777777777778, \"#fb9f3a\"], [0.8888888888888888, \"#fdca26\"], [1.0, \"#f0f921\"]], \"type\": \"contour\"}], \"contourcarpet\": [{\"colorbar\": {\"outlinewidth\": 0, \"ticks\": \"\"}, \"type\": \"contourcarpet\"}], \"heatmap\": [{\"colorbar\": {\"outlinewidth\": 0, \"ticks\": \"\"}, \"colorscale\": [[0.0, \"#0d0887\"], [0.1111111111111111, \"#46039f\"], [0.2222222222222222, \"#7201a8\"], [0.3333333333333333, \"#9c179e\"], [0.4444444444444444, \"#bd3786\"], [0.5555555555555556, \"#d8576b\"], [0.6666666666666666, \"#ed7953\"], [0.7777777777777778, \"#fb9f3a\"], [0.8888888888888888, \"#fdca26\"], [1.0, \"#f0f921\"]], \"type\": \"heatmap\"}], \"heatmapgl\": [{\"colorbar\": {\"outlinewidth\": 0, \"ticks\": \"\"}, \"colorscale\": [[0.0, \"#0d0887\"], [0.1111111111111111, \"#46039f\"], [0.2222222222222222, \"#7201a8\"], [0.3333333333333333, \"#9c179e\"], [0.4444444444444444, \"#bd3786\"], [0.5555555555555556, \"#d8576b\"], [0.6666666666666666, \"#ed7953\"], [0.7777777777777778, \"#fb9f3a\"], [0.8888888888888888, \"#fdca26\"], [1.0, \"#f0f921\"]], \"type\": \"heatmapgl\"}], \"histogram\": [{\"marker\": {\"colorbar\": {\"outlinewidth\": 0, \"ticks\": \"\"}}, \"type\": \"histogram\"}], \"histogram2d\": [{\"colorbar\": {\"outlinewidth\": 0, \"ticks\": \"\"}, \"colorscale\": [[0.0, \"#0d0887\"], [0.1111111111111111, \"#46039f\"], [0.2222222222222222, \"#7201a8\"], [0.3333333333333333, \"#9c179e\"], [0.4444444444444444, \"#bd3786\"], [0.5555555555555556, \"#d8576b\"], [0.6666666666666666, \"#ed7953\"], [0.7777777777777778, \"#fb9f3a\"], [0.8888888888888888, \"#fdca26\"], [1.0, \"#f0f921\"]], \"type\": \"histogram2d\"}], \"histogram2dcontour\": [{\"colorbar\": {\"outlinewidth\": 0, \"ticks\": \"\"}, \"colorscale\": [[0.0, \"#0d0887\"], [0.1111111111111111, \"#46039f\"], [0.2222222222222222, \"#7201a8\"], [0.3333333333333333, \"#9c179e\"], [0.4444444444444444, \"#bd3786\"], [0.5555555555555556, \"#d8576b\"], [0.6666666666666666, \"#ed7953\"], [0.7777777777777778, \"#fb9f3a\"], [0.8888888888888888, \"#fdca26\"], [1.0, \"#f0f921\"]], \"type\": \"histogram2dcontour\"}], \"mesh3d\": [{\"colorbar\": {\"outlinewidth\": 0, \"ticks\": \"\"}, \"type\": \"mesh3d\"}], \"parcoords\": [{\"line\": {\"colorbar\": {\"outlinewidth\": 0, \"ticks\": \"\"}}, \"type\": \"parcoords\"}], \"scatter\": [{\"marker\": {\"colorbar\": {\"outlinewidth\": 0, \"ticks\": \"\"}}, \"type\": \"scatter\"}], \"scatter3d\": [{\"line\": {\"colorbar\": {\"outlinewidth\": 0, \"ticks\": \"\"}}, \"marker\": {\"colorbar\": {\"outlinewidth\": 0, \"ticks\": \"\"}}, \"type\": \"scatter3d\"}], \"scattercarpet\": [{\"marker\": {\"colorbar\": {\"outlinewidth\": 0, \"ticks\": \"\"}}, \"type\": \"scattercarpet\"}], \"scattergeo\": [{\"marker\": {\"colorbar\": {\"outlinewidth\": 0, \"ticks\": \"\"}}, \"type\": \"scattergeo\"}], \"scattergl\": [{\"marker\": {\"colorbar\": {\"outlinewidth\": 0, \"ticks\": \"\"}}, \"type\": \"scattergl\"}], \"scattermapbox\": [{\"marker\": {\"colorbar\": {\"outlinewidth\": 0, \"ticks\": \"\"}}, \"type\": \"scattermapbox\"}], \"scatterpolar\": [{\"marker\": {\"colorbar\": {\"outlinewidth\": 0, \"ticks\": \"\"}}, \"type\": \"scatterpolar\"}], \"scatterpolargl\": [{\"marker\": {\"colorbar\": {\"outlinewidth\": 0, \"ticks\": \"\"}}, \"type\": \"scatterpolargl\"}], \"scatterternary\": [{\"marker\": {\"colorbar\": {\"outlinewidth\": 0, \"ticks\": \"\"}}, \"type\": \"scatterternary\"}], \"surface\": [{\"colorbar\": {\"outlinewidth\": 0, \"ticks\": \"\"}, \"colorscale\": [[0.0, \"#0d0887\"], [0.1111111111111111, \"#46039f\"], [0.2222222222222222, \"#7201a8\"], [0.3333333333333333, \"#9c179e\"], [0.4444444444444444, \"#bd3786\"], [0.5555555555555556, \"#d8576b\"], [0.6666666666666666, \"#ed7953\"], [0.7777777777777778, \"#fb9f3a\"], [0.8888888888888888, \"#fdca26\"], [1.0, \"#f0f921\"]], \"type\": \"surface\"}], \"table\": [{\"cells\": {\"fill\": {\"color\": \"#EBF0F8\"}, \"line\": {\"color\": \"white\"}}, \"header\": {\"fill\": {\"color\": \"#C8D4E3\"}, \"line\": {\"color\": \"white\"}}, \"type\": \"table\"}]}, \"layout\": {\"annotationdefaults\": {\"arrowcolor\": \"#2a3f5f\", \"arrowhead\": 0, \"arrowwidth\": 1}, \"colorscale\": {\"diverging\": [[0, \"#8e0152\"], [0.1, \"#c51b7d\"], [0.2, \"#de77ae\"], [0.3, \"#f1b6da\"], [0.4, \"#fde0ef\"], [0.5, \"#f7f7f7\"], [0.6, \"#e6f5d0\"], [0.7, \"#b8e186\"], [0.8, \"#7fbc41\"], [0.9, \"#4d9221\"], [1, \"#276419\"]], \"sequential\": [[0.0, \"#0d0887\"], [0.1111111111111111, \"#46039f\"], [0.2222222222222222, \"#7201a8\"], [0.3333333333333333, \"#9c179e\"], [0.4444444444444444, \"#bd3786\"], [0.5555555555555556, \"#d8576b\"], [0.6666666666666666, \"#ed7953\"], [0.7777777777777778, \"#fb9f3a\"], [0.8888888888888888, \"#fdca26\"], [1.0, \"#f0f921\"]], \"sequentialminus\": [[0.0, \"#0d0887\"], [0.1111111111111111, \"#46039f\"], [0.2222222222222222, \"#7201a8\"], [0.3333333333333333, \"#9c179e\"], [0.4444444444444444, \"#bd3786\"], [0.5555555555555556, \"#d8576b\"], [0.6666666666666666, \"#ed7953\"], [0.7777777777777778, \"#fb9f3a\"], [0.8888888888888888, \"#fdca26\"], [1.0, \"#f0f921\"]]}, \"colorway\": [\"#636efa\", \"#EF553B\", \"#00cc96\", \"#ab63fa\", \"#FFA15A\", \"#19d3f3\", \"#FF6692\", \"#B6E880\", \"#FF97FF\", \"#FECB52\"], \"font\": {\"color\": \"#2a3f5f\"}, \"geo\": {\"bgcolor\": \"white\", \"lakecolor\": \"white\", \"landcolor\": \"#E5ECF6\", \"showlakes\": true, \"showland\": true, \"subunitcolor\": \"white\"}, \"hoverlabel\": {\"align\": \"left\"}, \"hovermode\": \"closest\", \"mapbox\": {\"style\": \"light\"}, \"paper_bgcolor\": \"white\", \"plot_bgcolor\": \"#E5ECF6\", \"polar\": {\"angularaxis\": {\"gridcolor\": \"white\", \"linecolor\": \"white\", \"ticks\": \"\"}, \"bgcolor\": \"#E5ECF6\", \"radialaxis\": {\"gridcolor\": \"white\", \"linecolor\": \"white\", \"ticks\": \"\"}}, \"scene\": {\"xaxis\": {\"backgroundcolor\": \"#E5ECF6\", \"gridcolor\": \"white\", \"gridwidth\": 2, \"linecolor\": \"white\", \"showbackground\": true, \"ticks\": \"\", \"zerolinecolor\": \"white\"}, \"yaxis\": {\"backgroundcolor\": \"#E5ECF6\", \"gridcolor\": \"white\", \"gridwidth\": 2, \"linecolor\": \"white\", \"showbackground\": true, \"ticks\": \"\", \"zerolinecolor\": \"white\"}, \"zaxis\": {\"backgroundcolor\": \"#E5ECF6\", \"gridcolor\": \"white\", \"gridwidth\": 2, \"linecolor\": \"white\", \"showbackground\": true, \"ticks\": \"\", \"zerolinecolor\": \"white\"}}, \"shapedefaults\": {\"line\": {\"color\": \"#2a3f5f\"}}, \"ternary\": {\"aaxis\": {\"gridcolor\": \"white\", \"linecolor\": \"white\", \"ticks\": \"\"}, \"baxis\": {\"gridcolor\": \"white\", \"linecolor\": \"white\", \"ticks\": \"\"}, \"bgcolor\": \"#E5ECF6\", \"caxis\": {\"gridcolor\": \"white\", \"linecolor\": \"white\", \"ticks\": \"\"}}, \"title\": {\"x\": 0.05}, \"xaxis\": {\"automargin\": true, \"gridcolor\": \"white\", \"linecolor\": \"white\", \"ticks\": \"\", \"zerolinecolor\": \"white\", \"zerolinewidth\": 2}, \"yaxis\": {\"automargin\": true, \"gridcolor\": \"white\", \"linecolor\": \"white\", \"ticks\": \"\", \"zerolinecolor\": \"white\", \"zerolinewidth\": 2}}}, \"title\": {\"text\": \"\\u041a\\u043e\\u043b\\u0438\\u0447\\u0435\\u0441\\u0442\\u0432\\u043e \\u043f\\u043e\\u043b\\u044c\\u0437\\u043e\\u0432\\u0430\\u0442\\u0435\\u043b\\u0435\\u0439 \\u043d\\u0430 \\u043a\\u0430\\u0436\\u0434\\u043e\\u043c \\u0448\\u0430\\u0433\\u0435 \\u0432 AB \\u0433\\u0440\\u0443\\u043f\\u043f\\u0430\\u0445\"}},\n",
       "                        {\"responsive\": true}\n",
       "                    ).then(function(){\n",
       "                            \n",
       "var gd = document.getElementById('0e5809f8-e2e7-4058-87ac-a17bed084271');\n",
       "var x = new MutationObserver(function (mutations, observer) {{\n",
       "        var display = window.getComputedStyle(gd).display;\n",
       "        if (!display || display === 'none') {{\n",
       "            console.log([gd, 'removed!']);\n",
       "            Plotly.purge(gd);\n",
       "            observer.disconnect();\n",
       "        }}\n",
       "}});\n",
       "\n",
       "// Listen for the removal of the full notebook cells\n",
       "var notebookContainer = gd.closest('#notebook-container');\n",
       "if (notebookContainer) {{\n",
       "    x.observe(notebookContainer, {childList: true});\n",
       "}}\n",
       "\n",
       "// Listen for the clearing of the current output cell\n",
       "var outputEl = gd.closest('.output');\n",
       "if (outputEl) {{\n",
       "    x.observe(outputEl, {childList: true});\n",
       "}}\n",
       "\n",
       "                        })\n",
       "                };\n",
       "                });\n",
       "            </script>\n",
       "        </div>"
      ]
     },
     "metadata": {},
     "output_type": "display_data"
    }
   ],
   "source": [
    "text = 'Количество пользователей на каждом шаге в AB группах'\n",
    "stages=['Login', 'Product_page', 'Product_cart', 'Purchase']\n",
    "fig1 = go.Figure(go.Funnel(y = stages, x = df_A['user_counts'], name='A', textinfo = \"value+percent initial+percent previous\"))\n",
    "fig2 = go.Figure(go.Funnel(y = stages, x = df_B['user_counts'], name='B', textinfo = \"value+percent initial+percent previous\"))\n",
    "\n",
    "\n",
    "fig = go.Figure(data = fig1.data + fig2.data, layout_title_text = text)\n",
    "fig.show()"
   ]
  },
  {
   "cell_type": "markdown",
   "metadata": {},
   "source": [
    "<b>Выводы:</b>На графике воронки видно уменьшение конверсии с каждым шагом. При переходе от product_cart до purchase конверсия наоборот увеличилась, но связано это, скорее всего с тем, что пользователи минуют корзину и переходят сразу к оплате. Возможно, при переходе к покупке система ошибочно сама направляет клиента минуя корзину."
   ]
  },
  {
   "cell_type": "markdown",
   "metadata": {},
   "source": [
    "Узнаю, обладают ли выборки одинаковыми распределениями количества событий на пользователя."
   ]
  },
  {
   "cell_type": "code",
   "execution_count": 201,
   "metadata": {},
   "outputs": [],
   "source": [
    "df1 = df_for_funnel.query('group == \"A\"').groupby('user_id', as_index = False).agg({'event_name':'nunique'})\n",
    "df2 = df_for_funnel.query('group == \"B\"').groupby('user_id', as_index = False).agg({'event_name':'nunique'})"
   ]
  },
  {
   "cell_type": "code",
   "execution_count": 202,
   "metadata": {},
   "outputs": [
    {
     "data": {
      "image/png": "[encoded data removed]",
      "text/plain": [
       "<Figure size 432x288 with 1 Axes>"
      ]
     },
     "metadata": {
      "needs_background": "light"
     },
     "output_type": "display_data"
    }
   ],
   "source": [
    "df1['event_name'].hist(figsize = (6, 4), label = 'A', bins = 50)\n",
    "df2['event_name'].hist(figsize = (6, 4), label = 'B', bins = 50)\n",
    "plt.legend(['A', 'B'])\n",
    "plt.title('Распределения количества событий на пользователя')\n",
    "plt.xlabel('Количество событий')\n",
    "plt.xticks([0,1,2,3,4])\n",
    "plt.show()"
   ]
  },
  {
   "cell_type": "code",
   "execution_count": 203,
   "metadata": {},
   "outputs": [
    {
     "data": {
      "text/html": [
       "<div>\n",
       "<style scoped>\n",
       "    .dataframe tbody tr th:only-of-type {\n",
       "        vertical-align: middle;\n",
       "    }\n",
       "\n",
       "    .dataframe tbody tr th {\n",
       "        vertical-align: top;\n",
       "    }\n",
       "\n",
       "    .dataframe thead th {\n",
       "        text-align: right;\n",
       "    }\n",
       "</style>\n",
       "<table border=\"1\" class=\"dataframe\">\n",
       "  <thead>\n",
       "    <tr style=\"text-align: right;\">\n",
       "      <th></th>\n",
       "      <th>event_name</th>\n",
       "    </tr>\n",
       "  </thead>\n",
       "  <tbody>\n",
       "    <tr>\n",
       "      <td>count</td>\n",
       "      <td>2747.000000</td>\n",
       "    </tr>\n",
       "    <tr>\n",
       "      <td>mean</td>\n",
       "      <td>2.265380</td>\n",
       "    </tr>\n",
       "    <tr>\n",
       "      <td>std</td>\n",
       "      <td>0.834336</td>\n",
       "    </tr>\n",
       "    <tr>\n",
       "      <td>min</td>\n",
       "      <td>1.000000</td>\n",
       "    </tr>\n",
       "    <tr>\n",
       "      <td>25%</td>\n",
       "      <td>2.000000</td>\n",
       "    </tr>\n",
       "    <tr>\n",
       "      <td>50%</td>\n",
       "      <td>2.000000</td>\n",
       "    </tr>\n",
       "    <tr>\n",
       "      <td>75%</td>\n",
       "      <td>3.000000</td>\n",
       "    </tr>\n",
       "    <tr>\n",
       "      <td>max</td>\n",
       "      <td>4.000000</td>\n",
       "    </tr>\n",
       "  </tbody>\n",
       "</table>\n",
       "</div>"
      ],
      "text/plain": [
       "        event_name\n",
       "count  2747.000000\n",
       "mean      2.265380\n",
       "std       0.834336\n",
       "min       1.000000\n",
       "25%       2.000000\n",
       "50%       2.000000\n",
       "75%       3.000000\n",
       "max       4.000000"
      ]
     },
     "execution_count": 203,
     "metadata": {},
     "output_type": "execute_result"
    }
   ],
   "source": [
    "df_for_funnel.query('group == \"A\"').groupby('user_id', as_index = False).agg({'event_name':'nunique'}).describe()"
   ]
  },
  {
   "cell_type": "code",
   "execution_count": 204,
   "metadata": {},
   "outputs": [
    {
     "data": {
      "text/html": [
       "<div>\n",
       "<style scoped>\n",
       "    .dataframe tbody tr th:only-of-type {\n",
       "        vertical-align: middle;\n",
       "    }\n",
       "\n",
       "    .dataframe tbody tr th {\n",
       "        vertical-align: top;\n",
       "    }\n",
       "\n",
       "    .dataframe thead th {\n",
       "        text-align: right;\n",
       "    }\n",
       "</style>\n",
       "<table border=\"1\" class=\"dataframe\">\n",
       "  <thead>\n",
       "    <tr style=\"text-align: right;\">\n",
       "      <th></th>\n",
       "      <th>event_name</th>\n",
       "    </tr>\n",
       "  </thead>\n",
       "  <tbody>\n",
       "    <tr>\n",
       "      <td>count</td>\n",
       "      <td>928.000000</td>\n",
       "    </tr>\n",
       "    <tr>\n",
       "      <td>mean</td>\n",
       "      <td>2.114224</td>\n",
       "    </tr>\n",
       "    <tr>\n",
       "      <td>std</td>\n",
       "      <td>0.836010</td>\n",
       "    </tr>\n",
       "    <tr>\n",
       "      <td>min</td>\n",
       "      <td>1.000000</td>\n",
       "    </tr>\n",
       "    <tr>\n",
       "      <td>25%</td>\n",
       "      <td>2.000000</td>\n",
       "    </tr>\n",
       "    <tr>\n",
       "      <td>50%</td>\n",
       "      <td>2.000000</td>\n",
       "    </tr>\n",
       "    <tr>\n",
       "      <td>75%</td>\n",
       "      <td>3.000000</td>\n",
       "    </tr>\n",
       "    <tr>\n",
       "      <td>max</td>\n",
       "      <td>4.000000</td>\n",
       "    </tr>\n",
       "  </tbody>\n",
       "</table>\n",
       "</div>"
      ],
      "text/plain": [
       "       event_name\n",
       "count  928.000000\n",
       "mean     2.114224\n",
       "std      0.836010\n",
       "min      1.000000\n",
       "25%      2.000000\n",
       "50%      2.000000\n",
       "75%      3.000000\n",
       "max      4.000000"
      ]
     },
     "execution_count": 204,
     "metadata": {},
     "output_type": "execute_result"
    }
   ],
   "source": [
    "df_for_funnel.query('group == \"B\"').groupby('user_id', as_index = False).agg({'event_name':'nunique'}).describe()"
   ]
  },
  {
   "cell_type": "markdown",
   "metadata": {},
   "source": [
    "- В группе А и В на 75% пользователей приходится 3 события, в среднем, по 2 события на человека.\n",
    "- Можно однозначно сказать, что у разных групп одинаковое количество событий на одного человека."
   ]
  },
  {
   "cell_type": "markdown",
   "metadata": {},
   "source": [
    "Теперь рассмотрю распределение всех событий (в том числе и повторяющихся) на одного клиента в каждой группе."
   ]
  },
  {
   "cell_type": "code",
   "execution_count": 205,
   "metadata": {},
   "outputs": [],
   "source": [
    "df01 = df_for_funnel.query('group == \"A\"').groupby('user_id', as_index = False).agg({'event_name':'count'})\n",
    "df02 = df_for_funnel.query('group == \"B\"').groupby('user_id', as_index = False).agg({'event_name':'count'})"
   ]
  },
  {
   "cell_type": "code",
   "execution_count": 206,
   "metadata": {},
   "outputs": [
    {
     "data": {
      "image/png": "[encoded data removed]",
      "text/plain": [
       "<Figure size 864x432 with 1 Axes>"
      ]
     },
     "metadata": {
      "needs_background": "light"
     },
     "output_type": "display_data"
    }
   ],
   "source": [
    "df01['event_name'].hist(figsize = (12, 6), label = 'A', bins = 50)\n",
    "df02['event_name'].hist(figsize = (12, 6), label = 'B', bins = 50)\n",
    "plt.legend(['Группа A', 'Группа B'])\n",
    "plt.title('Распределения количества событий на пользователя')\n",
    "plt.xlabel('Количество событий')\n",
    "plt.xticks(range(30))\n",
    "plt.show()"
   ]
  },
  {
   "cell_type": "code",
   "execution_count": 207,
   "metadata": {},
   "outputs": [
    {
     "data": {
      "text/html": [
       "<div>\n",
       "<style scoped>\n",
       "    .dataframe tbody tr th:only-of-type {\n",
       "        vertical-align: middle;\n",
       "    }\n",
       "\n",
       "    .dataframe tbody tr th {\n",
       "        vertical-align: top;\n",
       "    }\n",
       "\n",
       "    .dataframe thead th {\n",
       "        text-align: right;\n",
       "    }\n",
       "</style>\n",
       "<table border=\"1\" class=\"dataframe\">\n",
       "  <thead>\n",
       "    <tr style=\"text-align: right;\">\n",
       "      <th></th>\n",
       "      <th>event_name</th>\n",
       "    </tr>\n",
       "  </thead>\n",
       "  <tbody>\n",
       "    <tr>\n",
       "      <td>count</td>\n",
       "      <td>2747.000000</td>\n",
       "    </tr>\n",
       "    <tr>\n",
       "      <td>mean</td>\n",
       "      <td>7.027303</td>\n",
       "    </tr>\n",
       "    <tr>\n",
       "      <td>std</td>\n",
       "      <td>3.868983</td>\n",
       "    </tr>\n",
       "    <tr>\n",
       "      <td>min</td>\n",
       "      <td>1.000000</td>\n",
       "    </tr>\n",
       "    <tr>\n",
       "      <td>25%</td>\n",
       "      <td>4.000000</td>\n",
       "    </tr>\n",
       "    <tr>\n",
       "      <td>50%</td>\n",
       "      <td>6.000000</td>\n",
       "    </tr>\n",
       "    <tr>\n",
       "      <td>75%</td>\n",
       "      <td>9.000000</td>\n",
       "    </tr>\n",
       "    <tr>\n",
       "      <td>max</td>\n",
       "      <td>24.000000</td>\n",
       "    </tr>\n",
       "  </tbody>\n",
       "</table>\n",
       "</div>"
      ],
      "text/plain": [
       "        event_name\n",
       "count  2747.000000\n",
       "mean      7.027303\n",
       "std       3.868983\n",
       "min       1.000000\n",
       "25%       4.000000\n",
       "50%       6.000000\n",
       "75%       9.000000\n",
       "max      24.000000"
      ]
     },
     "execution_count": 207,
     "metadata": {},
     "output_type": "execute_result"
    }
   ],
   "source": [
    "df_for_funnel.query('group == \"A\"').groupby('user_id', as_index = False).agg({'event_name':'count'}).describe()"
   ]
  },
  {
   "cell_type": "code",
   "execution_count": 208,
   "metadata": {},
   "outputs": [
    {
     "data": {
      "text/html": [
       "<div>\n",
       "<style scoped>\n",
       "    .dataframe tbody tr th:only-of-type {\n",
       "        vertical-align: middle;\n",
       "    }\n",
       "\n",
       "    .dataframe tbody tr th {\n",
       "        vertical-align: top;\n",
       "    }\n",
       "\n",
       "    .dataframe thead th {\n",
       "        text-align: right;\n",
       "    }\n",
       "</style>\n",
       "<table border=\"1\" class=\"dataframe\">\n",
       "  <thead>\n",
       "    <tr style=\"text-align: right;\">\n",
       "      <th></th>\n",
       "      <th>event_name</th>\n",
       "    </tr>\n",
       "  </thead>\n",
       "  <tbody>\n",
       "    <tr>\n",
       "      <td>count</td>\n",
       "      <td>928.000000</td>\n",
       "    </tr>\n",
       "    <tr>\n",
       "      <td>mean</td>\n",
       "      <td>5.812500</td>\n",
       "    </tr>\n",
       "    <tr>\n",
       "      <td>std</td>\n",
       "      <td>3.483878</td>\n",
       "    </tr>\n",
       "    <tr>\n",
       "      <td>min</td>\n",
       "      <td>1.000000</td>\n",
       "    </tr>\n",
       "    <tr>\n",
       "      <td>25%</td>\n",
       "      <td>3.000000</td>\n",
       "    </tr>\n",
       "    <tr>\n",
       "      <td>50%</td>\n",
       "      <td>5.000000</td>\n",
       "    </tr>\n",
       "    <tr>\n",
       "      <td>75%</td>\n",
       "      <td>8.000000</td>\n",
       "    </tr>\n",
       "    <tr>\n",
       "      <td>max</td>\n",
       "      <td>28.000000</td>\n",
       "    </tr>\n",
       "  </tbody>\n",
       "</table>\n",
       "</div>"
      ],
      "text/plain": [
       "       event_name\n",
       "count  928.000000\n",
       "mean     5.812500\n",
       "std      3.483878\n",
       "min      1.000000\n",
       "25%      3.000000\n",
       "50%      5.000000\n",
       "75%      8.000000\n",
       "max     28.000000"
      ]
     },
     "execution_count": 208,
     "metadata": {},
     "output_type": "execute_result"
    }
   ],
   "source": [
    "df_for_funnel.query('group == \"B\"').groupby('user_id', as_index = False).agg({'event_name':'count'}).describe()"
   ]
  },
  {
   "cell_type": "markdown",
   "metadata": {},
   "source": [
    "В целом, характер распределения остался похожим, изменилось только количество событий. Причем в группе с меньшим количеством людей (В) больше разброс в количестве событий. В группе А, в среднем приходится 7 событий на человека, в В - 5-6."
   ]
  },
  {
   "cell_type": "markdown",
   "metadata": {},
   "source": [
    "### Узнаю, присутствуют ли в выборках одни и те же пользователи. \n",
    "Для этого объединю таблицы для каждой группы по пересечению номера клиента и посчитаю их количество."
   ]
  },
  {
   "cell_type": "code",
   "execution_count": 209,
   "metadata": {},
   "outputs": [],
   "source": [
    "dfA = df_for_funnel.query('group == \"A\"')\n",
    "dfB = df_for_funnel.query('group == \"B\"')"
   ]
  },
  {
   "cell_type": "code",
   "execution_count": 210,
   "metadata": {},
   "outputs": [],
   "source": [
    "df12 = pd.merge(dfA, dfB, on = 'user_id', how = 'inner')"
   ]
  },
  {
   "cell_type": "code",
   "execution_count": 211,
   "metadata": {},
   "outputs": [
    {
     "data": {
      "text/html": [
       "<div>\n",
       "<style scoped>\n",
       "    .dataframe tbody tr th:only-of-type {\n",
       "        vertical-align: middle;\n",
       "    }\n",
       "\n",
       "    .dataframe tbody tr th {\n",
       "        vertical-align: top;\n",
       "    }\n",
       "\n",
       "    .dataframe thead th {\n",
       "        text-align: right;\n",
       "    }\n",
       "</style>\n",
       "<table border=\"1\" class=\"dataframe\">\n",
       "  <thead>\n",
       "    <tr style=\"text-align: right;\">\n",
       "      <th></th>\n",
       "      <th>user_id</th>\n",
       "      <th>event_dt_x</th>\n",
       "      <th>event_name_x</th>\n",
       "      <th>details_x</th>\n",
       "      <th>group_x</th>\n",
       "      <th>ab_test_x</th>\n",
       "      <th>event_dt_y</th>\n",
       "      <th>event_name_y</th>\n",
       "      <th>details_y</th>\n",
       "      <th>group_y</th>\n",
       "      <th>ab_test_y</th>\n",
       "    </tr>\n",
       "  </thead>\n",
       "  <tbody>\n",
       "  </tbody>\n",
       "</table>\n",
       "</div>"
      ],
      "text/plain": [
       "Empty DataFrame\n",
       "Columns: [user_id, event_dt_x, event_name_x, details_x, group_x, ab_test_x, event_dt_y, event_name_y, details_y, group_y, ab_test_y]\n",
       "Index: []"
      ]
     },
     "execution_count": 211,
     "metadata": {},
     "output_type": "execute_result"
    }
   ],
   "source": [
    "df12"
   ]
  },
  {
   "cell_type": "markdown",
   "metadata": {},
   "source": [
    "Таблица получилась пустая, что говорит о том, что в таблицах с разными группами не было одинаковых пользователей (user_id)."
   ]
  },
  {
   "cell_type": "markdown",
   "metadata": {},
   "source": [
    "### Узнаю как число событий распределено по дням. \n",
    "Для этого столбец с датой округлю до дней."
   ]
  },
  {
   "cell_type": "code",
   "execution_count": 212,
   "metadata": {},
   "outputs": [
    {
     "data": {
      "text/html": [
       "<div>\n",
       "<style scoped>\n",
       "    .dataframe tbody tr th:only-of-type {\n",
       "        vertical-align: middle;\n",
       "    }\n",
       "\n",
       "    .dataframe tbody tr th {\n",
       "        vertical-align: top;\n",
       "    }\n",
       "\n",
       "    .dataframe thead th {\n",
       "        text-align: right;\n",
       "    }\n",
       "</style>\n",
       "<table border=\"1\" class=\"dataframe\">\n",
       "  <thead>\n",
       "    <tr style=\"text-align: right;\">\n",
       "      <th></th>\n",
       "      <th>event_dt</th>\n",
       "      <th>group</th>\n",
       "      <th>event_name</th>\n",
       "    </tr>\n",
       "  </thead>\n",
       "  <tbody>\n",
       "    <tr>\n",
       "      <td>0</td>\n",
       "      <td>2020-12-07</td>\n",
       "      <td>B</td>\n",
       "      <td>2</td>\n",
       "    </tr>\n",
       "    <tr>\n",
       "      <td>1</td>\n",
       "      <td>2020-12-07</td>\n",
       "      <td>B</td>\n",
       "      <td>2</td>\n",
       "    </tr>\n",
       "    <tr>\n",
       "      <td>2</td>\n",
       "      <td>2020-12-07</td>\n",
       "      <td>B</td>\n",
       "      <td>1</td>\n",
       "    </tr>\n",
       "    <tr>\n",
       "      <td>3</td>\n",
       "      <td>2020-12-07</td>\n",
       "      <td>B</td>\n",
       "      <td>1</td>\n",
       "    </tr>\n",
       "    <tr>\n",
       "      <td>4</td>\n",
       "      <td>2020-12-07</td>\n",
       "      <td>A</td>\n",
       "      <td>2</td>\n",
       "    </tr>\n",
       "  </tbody>\n",
       "</table>\n",
       "</div>"
      ],
      "text/plain": [
       "    event_dt group  event_name\n",
       "0 2020-12-07     B           2\n",
       "1 2020-12-07     B           2\n",
       "2 2020-12-07     B           1\n",
       "3 2020-12-07     B           1\n",
       "4 2020-12-07     A           2"
      ]
     },
     "execution_count": 212,
     "metadata": {},
     "output_type": "execute_result"
    }
   ],
   "source": [
    "df_event = df_for_funnel.groupby(['event_dt', 'group'], as_index = False).agg({'event_name':'count'})\n",
    "df_event['event_dt'] = df_event['event_dt'].astype('datetime64[D]')\n",
    "df_event.head()"
   ]
  },
  {
   "cell_type": "code",
   "execution_count": 213,
   "metadata": {},
   "outputs": [
    {
     "data": {
      "image/png": "[encoded data removed]",
      "text/plain": [
       "<Figure size 1152x648 with 1 Axes>"
      ]
     },
     "metadata": {
      "needs_background": "light"
     },
     "output_type": "display_data"
    }
   ],
   "source": [
    "plt.title('Распределение событий по дням в разных группах.')\n",
    "df_event.query('group == \"A\"')['event_dt'].hist(figsize = (16,9), bins = 100, label = \"A\")\n",
    "df_event.query('group == \"B\"')['event_dt'].hist(figsize = (16,9), bins = 100, label = \"B\")\n",
    "plt.legend()\n",
    "plt.xlabel('Дата')\n",
    "plt.show()"
   ]
  },
  {
   "cell_type": "markdown",
   "metadata": {},
   "source": [
    "В обеих группах наблюдается увеличение количества событий к концу второй декады декабря. И затем, спад. Это говорит о том, что промоакции в эти дни не приносят увеличения покупок. Также виден скачок в группе А 21 декабря, а в группе В его нет. Это может считаться выбросом, не подходящим для корректного проведения теста."
   ]
  },
  {
   "cell_type": "markdown",
   "metadata": {},
   "source": [
    "### Проведите оценку результатов A/B-тестирования. Проверьте статистическую разницу долей z-критерием.\n"
   ]
  },
  {
   "cell_type": "markdown",
   "metadata": {},
   "source": [
    "Для проверки статистической значимости различия в конверсии Login → Product_cart АB групп применю z-тест. Для этого сделаю функцию z_test."
   ]
  },
  {
   "cell_type": "markdown",
   "metadata": {},
   "source": [
    "Для проведения анализа статистической значимости различия в конверсиях АB групп сформулирую нулевую и альтернативную гипотезу:\n",
    "\n",
    "<li>Нулевая гипотеза: Статистически значимых различий в конверсиях АB групп нет.\n",
    "<li>Альтернативная гипотеза: Статистически значимые различия в конверсиях АB групп есть."
   ]
  },
  {
   "cell_type": "code",
   "execution_count": 214,
   "metadata": {},
   "outputs": [],
   "source": [
    "alpha = .05 # критический уровень статистической значимости"
   ]
  },
  {
   "cell_type": "code",
   "execution_count": 215,
   "metadata": {},
   "outputs": [],
   "source": [
    "def z_test (successes, trials):\n",
    "    p1 = successes[0]/trials[0] # пропорция успехов в первой группе\n",
    "    p2 = successes[1]/trials[1] # пропорция успехов во второй группе\n",
    "    p_combined = (successes[0] + successes[1]) / (trials[0] + trials[1]) # пропорция успехов в комбинированном датасете\n",
    "    difference = p1 - p2 # разница пропорций в датасетах\n",
    "    # считаем статистику в ст.отклонениях стандартного нормального распределения\n",
    "    z_value = difference / mth.sqrt(p_combined * (1 - p_combined) * (1/trials[0] + 1/trials[1]))\n",
    "    # задаем стандартное нормальное распределение (среднее 0, ст.отклонение 1)\n",
    "    distr = st.norm(0, 1)  \n",
    "    p_value = (1 - distr.cdf(abs(z_value))) * 2\n",
    "\n",
    "    print('p-значение: ', p_value.round(2))\n",
    "    print('Доля А: {}, Доля B: {}'.format(p1.round(2), p2.round(2)))\n",
    "    if p_value < alpha:\n",
    "        print('Отвергаем нулевую гипотезу: между долями есть значимая разница')\n",
    "    else:\n",
    "        print('Не получилось отвергнуть нулевую гипотезу, нет оснований считать доли разными') "
   ]
  },
  {
   "cell_type": "code",
   "execution_count": 216,
   "metadata": {},
   "outputs": [
    {
     "data": {
      "text/html": [
       "<div>\n",
       "<style scoped>\n",
       "    .dataframe tbody tr th:only-of-type {\n",
       "        vertical-align: middle;\n",
       "    }\n",
       "\n",
       "    .dataframe tbody tr th {\n",
       "        vertical-align: top;\n",
       "    }\n",
       "\n",
       "    .dataframe thead th {\n",
       "        text-align: right;\n",
       "    }\n",
       "</style>\n",
       "<table border=\"1\" class=\"dataframe\">\n",
       "  <thead>\n",
       "    <tr style=\"text-align: right;\">\n",
       "      <th></th>\n",
       "      <th>event_name</th>\n",
       "      <th>user_counts_A</th>\n",
       "      <th>conversion_A</th>\n",
       "      <th>user_counts_B</th>\n",
       "      <th>conversion_B</th>\n",
       "    </tr>\n",
       "  </thead>\n",
       "  <tbody>\n",
       "    <tr>\n",
       "      <td>0</td>\n",
       "      <td>login</td>\n",
       "      <td>2747</td>\n",
       "      <td>100.000000</td>\n",
       "      <td>928</td>\n",
       "      <td>100.000000</td>\n",
       "    </tr>\n",
       "    <tr>\n",
       "      <td>1</td>\n",
       "      <td>product_page</td>\n",
       "      <td>1780</td>\n",
       "      <td>64.797961</td>\n",
       "      <td>523</td>\n",
       "      <td>56.357759</td>\n",
       "    </tr>\n",
       "    <tr>\n",
       "      <td>2</td>\n",
       "      <td>product_cart</td>\n",
       "      <td>824</td>\n",
       "      <td>29.996360</td>\n",
       "      <td>255</td>\n",
       "      <td>27.478448</td>\n",
       "    </tr>\n",
       "    <tr>\n",
       "      <td>3</td>\n",
       "      <td>purchase</td>\n",
       "      <td>872</td>\n",
       "      <td>31.743720</td>\n",
       "      <td>256</td>\n",
       "      <td>27.586207</td>\n",
       "    </tr>\n",
       "  </tbody>\n",
       "</table>\n",
       "</div>"
      ],
      "text/plain": [
       "     event_name  user_counts_A  conversion_A  user_counts_B  conversion_B\n",
       "0         login           2747    100.000000            928    100.000000\n",
       "1  product_page           1780     64.797961            523     56.357759\n",
       "2  product_cart            824     29.996360            255     27.478448\n",
       "3      purchase            872     31.743720            256     27.586207"
      ]
     },
     "execution_count": 216,
     "metadata": {},
     "output_type": "execute_result"
    }
   ],
   "source": [
    "df_AB = pd.merge(df_A, df_B, on = 'event_name', suffixes = ['_A', '_B'])\n",
    "df_AB = df_AB.drop(['order_good_A', 'order_good_B'], axis = 1)\n",
    "df_AB"
   ]
  },
  {
   "cell_type": "code",
   "execution_count": 217,
   "metadata": {},
   "outputs": [
    {
     "name": "stdout",
     "output_type": "stream",
     "text": [
      "p-значение:  0.02\n",
      "Доля А: 0.32, Доля B: 0.28\n",
      "Отвергаем нулевую гипотезу: между долями есть значимая разница\n"
     ]
    }
   ],
   "source": [
    "successes = np.array([df_AB.iloc[3,1], df_AB.iloc[3,3]])\n",
    "trials = np.array([df_AB.iloc[0,1], df_AB.iloc[0,3]])\n",
    "z_test(successes, trials)"
   ]
  },
  {
   "cell_type": "markdown",
   "metadata": {},
   "source": [
    "Для проверки статистической значимости различия в конверсиях каждого шага АB групп применю z-тест. Но сначала, применю поправку Бонферрони к уровням значимости. Так как рассматриваю 4 нулевых гипотезы, то Бонферонни = alpha/4."
   ]
  },
  {
   "cell_type": "code",
   "execution_count": 218,
   "metadata": {},
   "outputs": [
    {
     "data": {
      "text/html": [
       "<div>\n",
       "<style scoped>\n",
       "    .dataframe tbody tr th:only-of-type {\n",
       "        vertical-align: middle;\n",
       "    }\n",
       "\n",
       "    .dataframe tbody tr th {\n",
       "        vertical-align: top;\n",
       "    }\n",
       "\n",
       "    .dataframe thead th {\n",
       "        text-align: right;\n",
       "    }\n",
       "</style>\n",
       "<table border=\"1\" class=\"dataframe\">\n",
       "  <thead>\n",
       "    <tr style=\"text-align: right;\">\n",
       "      <th></th>\n",
       "      <th>event_name</th>\n",
       "      <th>user_counts_A</th>\n",
       "      <th>conversion_A</th>\n",
       "      <th>user_counts_B</th>\n",
       "      <th>conversion_B</th>\n",
       "    </tr>\n",
       "  </thead>\n",
       "  <tbody>\n",
       "    <tr>\n",
       "      <td>0</td>\n",
       "      <td>login</td>\n",
       "      <td>2747</td>\n",
       "      <td>100.000000</td>\n",
       "      <td>928</td>\n",
       "      <td>100.000000</td>\n",
       "    </tr>\n",
       "    <tr>\n",
       "      <td>1</td>\n",
       "      <td>product_page</td>\n",
       "      <td>1780</td>\n",
       "      <td>64.797961</td>\n",
       "      <td>523</td>\n",
       "      <td>56.357759</td>\n",
       "    </tr>\n",
       "    <tr>\n",
       "      <td>2</td>\n",
       "      <td>product_cart</td>\n",
       "      <td>824</td>\n",
       "      <td>29.996360</td>\n",
       "      <td>255</td>\n",
       "      <td>27.478448</td>\n",
       "    </tr>\n",
       "    <tr>\n",
       "      <td>3</td>\n",
       "      <td>purchase</td>\n",
       "      <td>872</td>\n",
       "      <td>31.743720</td>\n",
       "      <td>256</td>\n",
       "      <td>27.586207</td>\n",
       "    </tr>\n",
       "  </tbody>\n",
       "</table>\n",
       "</div>"
      ],
      "text/plain": [
       "     event_name  user_counts_A  conversion_A  user_counts_B  conversion_B\n",
       "0         login           2747    100.000000            928    100.000000\n",
       "1  product_page           1780     64.797961            523     56.357759\n",
       "2  product_cart            824     29.996360            255     27.478448\n",
       "3      purchase            872     31.743720            256     27.586207"
      ]
     },
     "execution_count": 218,
     "metadata": {},
     "output_type": "execute_result"
    }
   ],
   "source": [
    "df_AB"
   ]
  },
  {
   "cell_type": "code",
   "execution_count": 219,
   "metadata": {},
   "outputs": [
    {
     "name": "stdout",
     "output_type": "stream",
     "text": [
      "Шаг Login → Product_page\n",
      "\n",
      "p-значение:  0.0\n",
      "Доля А: 0.65, Доля B: 0.56\n",
      "Отвергаем нулевую гипотезу: между долями есть значимая разница\n",
      "\n",
      "Шаг Product_page → Purchase\n",
      "\n",
      "p-значение:  0.15\n",
      "Доля А: 0.3, Доля B: 0.27\n",
      "Не получилось отвергнуть нулевую гипотезу, нет оснований считать доли разными\n",
      "\n",
      "Шаг Purchase → Product_cart\n",
      "\n",
      "p-значение:  0.02\n",
      "Доля А: 0.32, Доля B: 0.28\n",
      "Не получилось отвергнуть нулевую гипотезу, нет оснований считать доли разными\n"
     ]
    }
   ],
   "source": [
    "alpha = alpha / 4\n",
    "\n",
    "successes = np.array([df_AB.iloc[1,1], df_AB.iloc[1,3]])\n",
    "trials = np.array([df_AB.iloc[0,1], df_AB.iloc[0,3]])\n",
    "print('Шаг Login → Product_page')\n",
    "print()\n",
    "z_test(successes, trials)\n",
    "\n",
    "successes = np.array([df_AB.iloc[2,1], df_AB.iloc[2,3]])\n",
    "trials = np.array([df_AB.iloc[0,1], df_AB.iloc[0,3]])\n",
    "print()\n",
    "print('Шаг Product_page → Purchase')\n",
    "print()\n",
    "z_test(successes, trials)\n",
    "\n",
    "successes = np.array([df_AB.iloc[3,1], df_AB.iloc[3,3]])\n",
    "trials = np.array([df_AB.iloc[0,1], df_AB.iloc[0,3]])\n",
    "print()\n",
    "print('Шаг Purchase → Product_cart')\n",
    "print()\n",
    "z_test(successes, trials)"
   ]
  },
  {
   "cell_type": "markdown",
   "metadata": {},
   "source": [
    "На основании проведенных z-тестов можно говорить о следующем:\n",
    "- В общей конверсии нет статистически значимой разницы в разных группах, т.е. внесенные изменения никак не повлияли на покупателей;\n",
    "- Рассматривая различия в конверсиях каждого шага только на шаге Login → Product_page наблюдается статистически значимая разница, т.е. внесенные изменения сильно повлияли на покупателей."
   ]
  },
  {
   "cell_type": "markdown",
   "metadata": {},
   "source": [
    "### Проверю предположение, что за 14 дней с момента регистрации в системе пользователи покажут улучшение каждой метрики не менее, чем на 10%."
   ]
  },
  {
   "cell_type": "markdown",
   "metadata": {},
   "source": [
    "Для этого, путем объединения, составлю таблицу с активностью пользователей, входящих в тест и датой их регистрации. Сравню дату события с датой двухнедельного срока после регистрации и сделаю срез по таким событиям."
   ]
  },
  {
   "cell_type": "code",
   "execution_count": 220,
   "metadata": {},
   "outputs": [
    {
     "data": {
      "text/html": [
       "<div>\n",
       "<style scoped>\n",
       "    .dataframe tbody tr th:only-of-type {\n",
       "        vertical-align: middle;\n",
       "    }\n",
       "\n",
       "    .dataframe tbody tr th {\n",
       "        vertical-align: top;\n",
       "    }\n",
       "\n",
       "    .dataframe thead th {\n",
       "        text-align: right;\n",
       "    }\n",
       "</style>\n",
       "<table border=\"1\" class=\"dataframe\">\n",
       "  <thead>\n",
       "    <tr style=\"text-align: right;\">\n",
       "      <th></th>\n",
       "      <th>user_id</th>\n",
       "      <th>group</th>\n",
       "      <th>ab_test</th>\n",
       "      <th>first_date</th>\n",
       "      <th>region</th>\n",
       "      <th>device</th>\n",
       "      <th>event_dt</th>\n",
       "      <th>event_name</th>\n",
       "      <th>details</th>\n",
       "    </tr>\n",
       "  </thead>\n",
       "  <tbody>\n",
       "    <tr>\n",
       "      <td>0</td>\n",
       "      <td>D1ABA3E2887B6A73</td>\n",
       "      <td>A</td>\n",
       "      <td>recommender_system_test</td>\n",
       "      <td>2020-12-07</td>\n",
       "      <td>EU</td>\n",
       "      <td>PC</td>\n",
       "      <td>2020-12-07 14:43:27</td>\n",
       "      <td>purchase</td>\n",
       "      <td>99.99</td>\n",
       "    </tr>\n",
       "    <tr>\n",
       "      <td>1</td>\n",
       "      <td>D1ABA3E2887B6A73</td>\n",
       "      <td>A</td>\n",
       "      <td>recommender_system_test</td>\n",
       "      <td>2020-12-07</td>\n",
       "      <td>EU</td>\n",
       "      <td>PC</td>\n",
       "      <td>2020-12-25 00:04:56</td>\n",
       "      <td>purchase</td>\n",
       "      <td>4.99</td>\n",
       "    </tr>\n",
       "    <tr>\n",
       "      <td>2</td>\n",
       "      <td>D1ABA3E2887B6A73</td>\n",
       "      <td>A</td>\n",
       "      <td>recommender_system_test</td>\n",
       "      <td>2020-12-07</td>\n",
       "      <td>EU</td>\n",
       "      <td>PC</td>\n",
       "      <td>2020-12-07 14:43:29</td>\n",
       "      <td>product_cart</td>\n",
       "      <td>0.00</td>\n",
       "    </tr>\n",
       "    <tr>\n",
       "      <td>3</td>\n",
       "      <td>D1ABA3E2887B6A73</td>\n",
       "      <td>A</td>\n",
       "      <td>recommender_system_test</td>\n",
       "      <td>2020-12-07</td>\n",
       "      <td>EU</td>\n",
       "      <td>PC</td>\n",
       "      <td>2020-12-25 00:04:57</td>\n",
       "      <td>product_cart</td>\n",
       "      <td>0.00</td>\n",
       "    </tr>\n",
       "    <tr>\n",
       "      <td>4</td>\n",
       "      <td>D1ABA3E2887B6A73</td>\n",
       "      <td>A</td>\n",
       "      <td>recommender_system_test</td>\n",
       "      <td>2020-12-07</td>\n",
       "      <td>EU</td>\n",
       "      <td>PC</td>\n",
       "      <td>2020-12-07 14:43:27</td>\n",
       "      <td>product_page</td>\n",
       "      <td>0.00</td>\n",
       "    </tr>\n",
       "  </tbody>\n",
       "</table>\n",
       "</div>"
      ],
      "text/plain": [
       "            user_id group                  ab_test first_date region device  \\\n",
       "0  D1ABA3E2887B6A73     A  recommender_system_test 2020-12-07     EU     PC   \n",
       "1  D1ABA3E2887B6A73     A  recommender_system_test 2020-12-07     EU     PC   \n",
       "2  D1ABA3E2887B6A73     A  recommender_system_test 2020-12-07     EU     PC   \n",
       "3  D1ABA3E2887B6A73     A  recommender_system_test 2020-12-07     EU     PC   \n",
       "4  D1ABA3E2887B6A73     A  recommender_system_test 2020-12-07     EU     PC   \n",
       "\n",
       "             event_dt    event_name  details  \n",
       "0 2020-12-07 14:43:27      purchase    99.99  \n",
       "1 2020-12-25 00:04:56      purchase     4.99  \n",
       "2 2020-12-07 14:43:29  product_cart     0.00  \n",
       "3 2020-12-25 00:04:57  product_cart     0.00  \n",
       "4 2020-12-07 14:43:27  product_page     0.00  "
      ]
     },
     "execution_count": 220,
     "metadata": {},
     "output_type": "execute_result"
    }
   ],
   "source": [
    "final = pd.merge(final_ab_participants, final_ab_new_users, on = 'user_id', how = 'inner')\n",
    "final = pd.merge(final, final_ab_events, on = 'user_id', how = 'inner')\n",
    "final.head()"
   ]
  },
  {
   "cell_type": "code",
   "execution_count": 221,
   "metadata": {},
   "outputs": [],
   "source": [
    "final['event_dt'] = final['event_dt'].astype('datetime64[D]')"
   ]
  },
  {
   "cell_type": "code",
   "execution_count": 222,
   "metadata": {},
   "outputs": [],
   "source": [
    "final['last_date'] = final['first_date'].apply(lambda row: row + datetime.timedelta(days=14))"
   ]
  },
  {
   "cell_type": "code",
   "execution_count": 223,
   "metadata": {},
   "outputs": [
    {
     "data": {
      "text/html": [
       "<div>\n",
       "<style scoped>\n",
       "    .dataframe tbody tr th:only-of-type {\n",
       "        vertical-align: middle;\n",
       "    }\n",
       "\n",
       "    .dataframe tbody tr th {\n",
       "        vertical-align: top;\n",
       "    }\n",
       "\n",
       "    .dataframe thead th {\n",
       "        text-align: right;\n",
       "    }\n",
       "</style>\n",
       "<table border=\"1\" class=\"dataframe\">\n",
       "  <thead>\n",
       "    <tr style=\"text-align: right;\">\n",
       "      <th></th>\n",
       "      <th>user_id</th>\n",
       "      <th>group</th>\n",
       "      <th>ab_test</th>\n",
       "      <th>first_date</th>\n",
       "      <th>region</th>\n",
       "      <th>device</th>\n",
       "      <th>event_dt</th>\n",
       "      <th>event_name</th>\n",
       "      <th>details</th>\n",
       "      <th>last_date</th>\n",
       "    </tr>\n",
       "  </thead>\n",
       "  <tbody>\n",
       "    <tr>\n",
       "      <td>0</td>\n",
       "      <td>D1ABA3E2887B6A73</td>\n",
       "      <td>A</td>\n",
       "      <td>recommender_system_test</td>\n",
       "      <td>2020-12-07</td>\n",
       "      <td>EU</td>\n",
       "      <td>PC</td>\n",
       "      <td>2020-12-07</td>\n",
       "      <td>purchase</td>\n",
       "      <td>99.99</td>\n",
       "      <td>2020-12-21</td>\n",
       "    </tr>\n",
       "    <tr>\n",
       "      <td>1</td>\n",
       "      <td>D1ABA3E2887B6A73</td>\n",
       "      <td>A</td>\n",
       "      <td>recommender_system_test</td>\n",
       "      <td>2020-12-07</td>\n",
       "      <td>EU</td>\n",
       "      <td>PC</td>\n",
       "      <td>2020-12-25</td>\n",
       "      <td>purchase</td>\n",
       "      <td>4.99</td>\n",
       "      <td>2020-12-21</td>\n",
       "    </tr>\n",
       "    <tr>\n",
       "      <td>2</td>\n",
       "      <td>D1ABA3E2887B6A73</td>\n",
       "      <td>A</td>\n",
       "      <td>recommender_system_test</td>\n",
       "      <td>2020-12-07</td>\n",
       "      <td>EU</td>\n",
       "      <td>PC</td>\n",
       "      <td>2020-12-07</td>\n",
       "      <td>product_cart</td>\n",
       "      <td>0.00</td>\n",
       "      <td>2020-12-21</td>\n",
       "    </tr>\n",
       "    <tr>\n",
       "      <td>3</td>\n",
       "      <td>D1ABA3E2887B6A73</td>\n",
       "      <td>A</td>\n",
       "      <td>recommender_system_test</td>\n",
       "      <td>2020-12-07</td>\n",
       "      <td>EU</td>\n",
       "      <td>PC</td>\n",
       "      <td>2020-12-25</td>\n",
       "      <td>product_cart</td>\n",
       "      <td>0.00</td>\n",
       "      <td>2020-12-21</td>\n",
       "    </tr>\n",
       "    <tr>\n",
       "      <td>4</td>\n",
       "      <td>D1ABA3E2887B6A73</td>\n",
       "      <td>A</td>\n",
       "      <td>recommender_system_test</td>\n",
       "      <td>2020-12-07</td>\n",
       "      <td>EU</td>\n",
       "      <td>PC</td>\n",
       "      <td>2020-12-07</td>\n",
       "      <td>product_page</td>\n",
       "      <td>0.00</td>\n",
       "      <td>2020-12-21</td>\n",
       "    </tr>\n",
       "  </tbody>\n",
       "</table>\n",
       "</div>"
      ],
      "text/plain": [
       "            user_id group                  ab_test first_date region device  \\\n",
       "0  D1ABA3E2887B6A73     A  recommender_system_test 2020-12-07     EU     PC   \n",
       "1  D1ABA3E2887B6A73     A  recommender_system_test 2020-12-07     EU     PC   \n",
       "2  D1ABA3E2887B6A73     A  recommender_system_test 2020-12-07     EU     PC   \n",
       "3  D1ABA3E2887B6A73     A  recommender_system_test 2020-12-07     EU     PC   \n",
       "4  D1ABA3E2887B6A73     A  recommender_system_test 2020-12-07     EU     PC   \n",
       "\n",
       "    event_dt    event_name  details  last_date  \n",
       "0 2020-12-07      purchase    99.99 2020-12-21  \n",
       "1 2020-12-25      purchase     4.99 2020-12-21  \n",
       "2 2020-12-07  product_cart     0.00 2020-12-21  \n",
       "3 2020-12-25  product_cart     0.00 2020-12-21  \n",
       "4 2020-12-07  product_page     0.00 2020-12-21  "
      ]
     },
     "execution_count": 223,
     "metadata": {},
     "output_type": "execute_result"
    }
   ],
   "source": [
    "final.head()"
   ]
  },
  {
   "cell_type": "code",
   "execution_count": 224,
   "metadata": {},
   "outputs": [],
   "source": [
    "def event_date_2_week(row):\n",
    "    \"\"\"Функция определяет входит ли дата события в двухнедельный срок после регистрации.\n",
    "    \"\"\"\n",
    "    if row[6] <= row[9]: \n",
    "        return \"True\"\n",
    "    else: \n",
    "        return \"False\""
   ]
  },
  {
   "cell_type": "code",
   "execution_count": 225,
   "metadata": {},
   "outputs": [],
   "source": [
    "final['event_dt_2week'] = final.apply(event_date_2_week, axis=1)"
   ]
  },
  {
   "cell_type": "code",
   "execution_count": 226,
   "metadata": {},
   "outputs": [
    {
     "data": {
      "text/plain": [
       "True     24070\n",
       "False      628\n",
       "Name: event_dt_2week, dtype: int64"
      ]
     },
     "execution_count": 226,
     "metadata": {},
     "output_type": "execute_result"
    }
   ],
   "source": [
    "final.event_dt_2week.value_counts()"
   ]
  },
  {
   "cell_type": "markdown",
   "metadata": {},
   "source": [
    "628 наблюдений придется исключить, как не удовлетворяющие условию. "
   ]
  },
  {
   "cell_type": "code",
   "execution_count": 227,
   "metadata": {},
   "outputs": [],
   "source": [
    "final = final.query('event_dt_2week == \"True\"')"
   ]
  },
  {
   "cell_type": "code",
   "execution_count": 228,
   "metadata": {},
   "outputs": [],
   "source": [
    "df_A_final = final.query('group == \"A\"').groupby('event_name', as_index = False).agg({'user_id':'nunique'}).sort_values(by = 'user_id', ascending = False)\n",
    "df_B_final = final.query('group == \"B\"').groupby('event_name', as_index = False).agg({'user_id':'nunique'}).sort_values(by = 'user_id', ascending = False)\n",
    "df_A_final.columns = ['event_name', 'user_counts']\n",
    "df_B_final.columns = ['event_name', 'user_counts']"
   ]
  },
  {
   "cell_type": "code",
   "execution_count": 229,
   "metadata": {},
   "outputs": [],
   "source": [
    "val = df_A_final.user_counts.values\n",
    "def conversion(row):\n",
    "    '''Функция рассчитывает конверсию на каждом шаге.\n",
    "    '''\n",
    "    if row == \"login\": return (val[0]/val[0]) * 100\n",
    "    elif row == \"product_page\": return (val[1]/val[0]) * 100\n",
    "    elif row == \"product_cart\": return (val[2]/val[1]) * 100\n",
    "    elif row == \"purchase\": return (val[3]/val[2]) * 100"
   ]
  },
  {
   "cell_type": "code",
   "execution_count": 230,
   "metadata": {},
   "outputs": [],
   "source": [
    "df_A_final['conversion'] = df_A_final['event_name'].apply(conversion)"
   ]
  },
  {
   "cell_type": "code",
   "execution_count": 231,
   "metadata": {},
   "outputs": [],
   "source": [
    "val = df_B.user_counts.values\n",
    "df_B_final['conversion'] = df_B_final['event_name'].apply(conversion)"
   ]
  },
  {
   "cell_type": "markdown",
   "metadata": {},
   "source": [
    "Рассчитаю конверсию по новым данным."
   ]
  },
  {
   "cell_type": "code",
   "execution_count": 232,
   "metadata": {},
   "outputs": [],
   "source": [
    "df_A_final['order_good'] = [0,1,3,2]\n",
    "df_A_final = df_A_final.sort_values(by='order_good')\n",
    "df_B_final['order_good'] = [0,1,3,2]\n",
    "df_B_final = df_B_final.sort_values(by='order_good')"
   ]
  },
  {
   "cell_type": "code",
   "execution_count": 233,
   "metadata": {},
   "outputs": [
    {
     "data": {
      "text/html": [
       "<div>\n",
       "<style scoped>\n",
       "    .dataframe tbody tr th:only-of-type {\n",
       "        vertical-align: middle;\n",
       "    }\n",
       "\n",
       "    .dataframe tbody tr th {\n",
       "        vertical-align: top;\n",
       "    }\n",
       "\n",
       "    .dataframe thead th {\n",
       "        text-align: right;\n",
       "    }\n",
       "</style>\n",
       "<table border=\"1\" class=\"dataframe\">\n",
       "  <thead>\n",
       "    <tr style=\"text-align: right;\">\n",
       "      <th></th>\n",
       "      <th>event_name</th>\n",
       "      <th>user_counts</th>\n",
       "      <th>conversion</th>\n",
       "      <th>order_good</th>\n",
       "    </tr>\n",
       "  </thead>\n",
       "  <tbody>\n",
       "    <tr>\n",
       "      <td>0</td>\n",
       "      <td>login</td>\n",
       "      <td>2747</td>\n",
       "      <td>100.000000</td>\n",
       "      <td>0</td>\n",
       "    </tr>\n",
       "    <tr>\n",
       "      <td>2</td>\n",
       "      <td>product_page</td>\n",
       "      <td>1780</td>\n",
       "      <td>64.797961</td>\n",
       "      <td>1</td>\n",
       "    </tr>\n",
       "    <tr>\n",
       "      <td>1</td>\n",
       "      <td>product_cart</td>\n",
       "      <td>824</td>\n",
       "      <td>48.988764</td>\n",
       "      <td>2</td>\n",
       "    </tr>\n",
       "    <tr>\n",
       "      <td>3</td>\n",
       "      <td>purchase</td>\n",
       "      <td>872</td>\n",
       "      <td>94.495413</td>\n",
       "      <td>3</td>\n",
       "    </tr>\n",
       "  </tbody>\n",
       "</table>\n",
       "</div>"
      ],
      "text/plain": [
       "     event_name  user_counts  conversion  order_good\n",
       "0         login         2747  100.000000           0\n",
       "2  product_page         1780   64.797961           1\n",
       "1  product_cart          824   48.988764           2\n",
       "3      purchase          872   94.495413           3"
      ]
     },
     "execution_count": 233,
     "metadata": {},
     "output_type": "execute_result"
    }
   ],
   "source": [
    "df_A_final"
   ]
  },
  {
   "cell_type": "code",
   "execution_count": 234,
   "metadata": {},
   "outputs": [
    {
     "data": {
      "text/html": [
       "<div>\n",
       "<style scoped>\n",
       "    .dataframe tbody tr th:only-of-type {\n",
       "        vertical-align: middle;\n",
       "    }\n",
       "\n",
       "    .dataframe tbody tr th {\n",
       "        vertical-align: top;\n",
       "    }\n",
       "\n",
       "    .dataframe thead th {\n",
       "        text-align: right;\n",
       "    }\n",
       "</style>\n",
       "<table border=\"1\" class=\"dataframe\">\n",
       "  <thead>\n",
       "    <tr style=\"text-align: right;\">\n",
       "      <th></th>\n",
       "      <th>event_name</th>\n",
       "      <th>user_counts</th>\n",
       "      <th>conversion</th>\n",
       "      <th>order_good</th>\n",
       "    </tr>\n",
       "  </thead>\n",
       "  <tbody>\n",
       "    <tr>\n",
       "      <td>0</td>\n",
       "      <td>login</td>\n",
       "      <td>927</td>\n",
       "      <td>100.000000</td>\n",
       "      <td>0</td>\n",
       "    </tr>\n",
       "    <tr>\n",
       "      <td>2</td>\n",
       "      <td>product_page</td>\n",
       "      <td>523</td>\n",
       "      <td>56.357759</td>\n",
       "      <td>1</td>\n",
       "    </tr>\n",
       "    <tr>\n",
       "      <td>1</td>\n",
       "      <td>product_cart</td>\n",
       "      <td>255</td>\n",
       "      <td>48.757170</td>\n",
       "      <td>2</td>\n",
       "    </tr>\n",
       "    <tr>\n",
       "      <td>3</td>\n",
       "      <td>purchase</td>\n",
       "      <td>256</td>\n",
       "      <td>100.392157</td>\n",
       "      <td>3</td>\n",
       "    </tr>\n",
       "  </tbody>\n",
       "</table>\n",
       "</div>"
      ],
      "text/plain": [
       "     event_name  user_counts  conversion  order_good\n",
       "0         login          927  100.000000           0\n",
       "2  product_page          523   56.357759           1\n",
       "1  product_cart          255   48.757170           2\n",
       "3      purchase          256  100.392157           3"
      ]
     },
     "execution_count": 234,
     "metadata": {},
     "output_type": "execute_result"
    }
   ],
   "source": [
    "df_B_final"
   ]
  },
  {
   "cell_type": "markdown",
   "metadata": {},
   "source": [
    "При сравнении конверсии в разных группах за двухнедельный период с момента регистрации по каждому шагу нет увеличения на 10%."
   ]
  },
  {
   "cell_type": "code",
   "execution_count": 235,
   "metadata": {
    "scrolled": false
   },
   "outputs": [
    {
     "data": {
      "application/vnd.plotly.v1+json": {
       "config": {
        "plotlyServerURL": "https://plot.ly"
       },
       "data": [
        {
         "name": "A",
         "type": "funnel",
         "x": [
          2747,
          1780,
          824,
          872
         ],
         "y": [
          "Login",
          "Product_page",
          "Product_cart",
          "Purchase"
         ]
        },
        {
         "name": "B",
         "type": "funnel",
         "x": [
          928,
          523,
          255,
          256
         ],
         "y": [
          "Login",
          "Product_page",
          "Product_cart",
          "Purchase"
         ]
        }
       ],
       "layout": {
        "template": {
         "data": {
          "bar": [
           {
            "error_x": {
             "color": "#2a3f5f"
            },
            "error_y": {
             "color": "#2a3f5f"
            },
            "marker": {
             "line": {
              "color": "#E5ECF6",
              "width": 0.5
             }
            },
            "type": "bar"
           }
          ],
          "barpolar": [
           {
            "marker": {
             "line": {
              "color": "#E5ECF6",
              "width": 0.5
             }
            },
            "type": "barpolar"
           }
          ],
          "carpet": [
           {
            "aaxis": {
             "endlinecolor": "#2a3f5f",
             "gridcolor": "white",
             "linecolor": "white",
             "minorgridcolor": "white",
             "startlinecolor": "#2a3f5f"
            },
            "baxis": {
             "endlinecolor": "#2a3f5f",
             "gridcolor": "white",
             "linecolor": "white",
             "minorgridcolor": "white",
             "startlinecolor": "#2a3f5f"
            },
            "type": "carpet"
           }
          ],
          "choropleth": [
           {
            "colorbar": {
             "outlinewidth": 0,
             "ticks": ""
            },
            "type": "choropleth"
           }
          ],
          "contour": [
           {
            "colorbar": {
             "outlinewidth": 0,
             "ticks": ""
            },
            "colorscale": [
             [
              0,
              "#0d0887"
             ],
             [
              0.1111111111111111,
              "#46039f"
             ],
             [
              0.2222222222222222,
              "#7201a8"
             ],
             [
              0.3333333333333333,
              "#9c179e"
             ],
             [
              0.4444444444444444,
              "#bd3786"
             ],
             [
              0.5555555555555556,
              "#d8576b"
             ],
             [
              0.6666666666666666,
              "#ed7953"
             ],
             [
              0.7777777777777778,
              "#fb9f3a"
             ],
             [
              0.8888888888888888,
              "#fdca26"
             ],
             [
              1,
              "#f0f921"
             ]
            ],
            "type": "contour"
           }
          ],
          "contourcarpet": [
           {
            "colorbar": {
             "outlinewidth": 0,
             "ticks": ""
            },
            "type": "contourcarpet"
           }
          ],
          "heatmap": [
           {
            "colorbar": {
             "outlinewidth": 0,
             "ticks": ""
            },
            "colorscale": [
             [
              0,
              "#0d0887"
             ],
             [
              0.1111111111111111,
              "#46039f"
             ],
             [
              0.2222222222222222,
              "#7201a8"
             ],
             [
              0.3333333333333333,
              "#9c179e"
             ],
             [
              0.4444444444444444,
              "#bd3786"
             ],
             [
              0.5555555555555556,
              "#d8576b"
             ],
             [
              0.6666666666666666,
              "#ed7953"
             ],
             [
              0.7777777777777778,
              "#fb9f3a"
             ],
             [
              0.8888888888888888,
              "#fdca26"
             ],
             [
              1,
              "#f0f921"
             ]
            ],
            "type": "heatmap"
           }
          ],
          "heatmapgl": [
           {
            "colorbar": {
             "outlinewidth": 0,
             "ticks": ""
            },
            "colorscale": [
             [
              0,
              "#0d0887"
             ],
             [
              0.1111111111111111,
              "#46039f"
             ],
             [
              0.2222222222222222,
              "#7201a8"
             ],
             [
              0.3333333333333333,
              "#9c179e"
             ],
             [
              0.4444444444444444,
              "#bd3786"
             ],
             [
              0.5555555555555556,
              "#d8576b"
             ],
             [
              0.6666666666666666,
              "#ed7953"
             ],
             [
              0.7777777777777778,
              "#fb9f3a"
             ],
             [
              0.8888888888888888,
              "#fdca26"
             ],
             [
              1,
              "#f0f921"
             ]
            ],
            "type": "heatmapgl"
           }
          ],
          "histogram": [
           {
            "marker": {
             "colorbar": {
              "outlinewidth": 0,
              "ticks": ""
             }
            },
            "type": "histogram"
           }
          ],
          "histogram2d": [
           {
            "colorbar": {
             "outlinewidth": 0,
             "ticks": ""
            },
            "colorscale": [
             [
              0,
              "#0d0887"
             ],
             [
              0.1111111111111111,
              "#46039f"
             ],
             [
              0.2222222222222222,
              "#7201a8"
             ],
             [
              0.3333333333333333,
              "#9c179e"
             ],
             [
              0.4444444444444444,
              "#bd3786"
             ],
             [
              0.5555555555555556,
              "#d8576b"
             ],
             [
              0.6666666666666666,
              "#ed7953"
             ],
             [
              0.7777777777777778,
              "#fb9f3a"
             ],
             [
              0.8888888888888888,
              "#fdca26"
             ],
             [
              1,
              "#f0f921"
             ]
            ],
            "type": "histogram2d"
           }
          ],
          "histogram2dcontour": [
           {
            "colorbar": {
             "outlinewidth": 0,
             "ticks": ""
            },
            "colorscale": [
             [
              0,
              "#0d0887"
             ],
             [
              0.1111111111111111,
              "#46039f"
             ],
             [
              0.2222222222222222,
              "#7201a8"
             ],
             [
              0.3333333333333333,
              "#9c179e"
             ],
             [
              0.4444444444444444,
              "#bd3786"
             ],
             [
              0.5555555555555556,
              "#d8576b"
             ],
             [
              0.6666666666666666,
              "#ed7953"
             ],
             [
              0.7777777777777778,
              "#fb9f3a"
             ],
             [
              0.8888888888888888,
              "#fdca26"
             ],
             [
              1,
              "#f0f921"
             ]
            ],
            "type": "histogram2dcontour"
           }
          ],
          "mesh3d": [
           {
            "colorbar": {
             "outlinewidth": 0,
             "ticks": ""
            },
            "type": "mesh3d"
           }
          ],
          "parcoords": [
           {
            "line": {
             "colorbar": {
              "outlinewidth": 0,
              "ticks": ""
             }
            },
            "type": "parcoords"
           }
          ],
          "scatter": [
           {
            "marker": {
             "colorbar": {
              "outlinewidth": 0,
              "ticks": ""
             }
            },
            "type": "scatter"
           }
          ],
          "scatter3d": [
           {
            "line": {
             "colorbar": {
              "outlinewidth": 0,
              "ticks": ""
             }
            },
            "marker": {
             "colorbar": {
              "outlinewidth": 0,
              "ticks": ""
             }
            },
            "type": "scatter3d"
           }
          ],
          "scattercarpet": [
           {
            "marker": {
             "colorbar": {
              "outlinewidth": 0,
              "ticks": ""
             }
            },
            "type": "scattercarpet"
           }
          ],
          "scattergeo": [
           {
            "marker": {
             "colorbar": {
              "outlinewidth": 0,
              "ticks": ""
             }
            },
            "type": "scattergeo"
           }
          ],
          "scattergl": [
           {
            "marker": {
             "colorbar": {
              "outlinewidth": 0,
              "ticks": ""
             }
            },
            "type": "scattergl"
           }
          ],
          "scattermapbox": [
           {
            "marker": {
             "colorbar": {
              "outlinewidth": 0,
              "ticks": ""
             }
            },
            "type": "scattermapbox"
           }
          ],
          "scatterpolar": [
           {
            "marker": {
             "colorbar": {
              "outlinewidth": 0,
              "ticks": ""
             }
            },
            "type": "scatterpolar"
           }
          ],
          "scatterpolargl": [
           {
            "marker": {
             "colorbar": {
              "outlinewidth": 0,
              "ticks": ""
             }
            },
            "type": "scatterpolargl"
           }
          ],
          "scatterternary": [
           {
            "marker": {
             "colorbar": {
              "outlinewidth": 0,
              "ticks": ""
             }
            },
            "type": "scatterternary"
           }
          ],
          "surface": [
           {
            "colorbar": {
             "outlinewidth": 0,
             "ticks": ""
            },
            "colorscale": [
             [
              0,
              "#0d0887"
             ],
             [
              0.1111111111111111,
              "#46039f"
             ],
             [
              0.2222222222222222,
              "#7201a8"
             ],
             [
              0.3333333333333333,
              "#9c179e"
             ],
             [
              0.4444444444444444,
              "#bd3786"
             ],
             [
              0.5555555555555556,
              "#d8576b"
             ],
             [
              0.6666666666666666,
              "#ed7953"
             ],
             [
              0.7777777777777778,
              "#fb9f3a"
             ],
             [
              0.8888888888888888,
              "#fdca26"
             ],
             [
              1,
              "#f0f921"
             ]
            ],
            "type": "surface"
           }
          ],
          "table": [
           {
            "cells": {
             "fill": {
              "color": "#EBF0F8"
             },
             "line": {
              "color": "white"
             }
            },
            "header": {
             "fill": {
              "color": "#C8D4E3"
             },
             "line": {
              "color": "white"
             }
            },
            "type": "table"
           }
          ]
         },
         "layout": {
          "annotationdefaults": {
           "arrowcolor": "#2a3f5f",
           "arrowhead": 0,
           "arrowwidth": 1
          },
          "colorscale": {
           "diverging": [
            [
             0,
             "#8e0152"
            ],
            [
             0.1,
             "#c51b7d"
            ],
            [
             0.2,
             "#de77ae"
            ],
            [
             0.3,
             "#f1b6da"
            ],
            [
             0.4,
             "#fde0ef"
            ],
            [
             0.5,
             "#f7f7f7"
            ],
            [
             0.6,
             "#e6f5d0"
            ],
            [
             0.7,
             "#b8e186"
            ],
            [
             0.8,
             "#7fbc41"
            ],
            [
             0.9,
             "#4d9221"
            ],
            [
             1,
             "#276419"
            ]
           ],
           "sequential": [
            [
             0,
             "#0d0887"
            ],
            [
             0.1111111111111111,
             "#46039f"
            ],
            [
             0.2222222222222222,
             "#7201a8"
            ],
            [
             0.3333333333333333,
             "#9c179e"
            ],
            [
             0.4444444444444444,
             "#bd3786"
            ],
            [
             0.5555555555555556,
             "#d8576b"
            ],
            [
             0.6666666666666666,
             "#ed7953"
            ],
            [
             0.7777777777777778,
             "#fb9f3a"
            ],
            [
             0.8888888888888888,
             "#fdca26"
            ],
            [
             1,
             "#f0f921"
            ]
           ],
           "sequentialminus": [
            [
             0,
             "#0d0887"
            ],
            [
             0.1111111111111111,
             "#46039f"
            ],
            [
             0.2222222222222222,
             "#7201a8"
            ],
            [
             0.3333333333333333,
             "#9c179e"
            ],
            [
             0.4444444444444444,
             "#bd3786"
            ],
            [
             0.5555555555555556,
             "#d8576b"
            ],
            [
             0.6666666666666666,
             "#ed7953"
            ],
            [
             0.7777777777777778,
             "#fb9f3a"
            ],
            [
             0.8888888888888888,
             "#fdca26"
            ],
            [
             1,
             "#f0f921"
            ]
           ]
          },
          "colorway": [
           "#636efa",
           "#EF553B",
           "#00cc96",
           "#ab63fa",
           "#FFA15A",
           "#19d3f3",
           "#FF6692",
           "#B6E880",
           "#FF97FF",
           "#FECB52"
          ],
          "font": {
           "color": "#2a3f5f"
          },
          "geo": {
           "bgcolor": "white",
           "lakecolor": "white",
           "landcolor": "#E5ECF6",
           "showlakes": true,
           "showland": true,
           "subunitcolor": "white"
          },
          "hoverlabel": {
           "align": "left"
          },
          "hovermode": "closest",
          "mapbox": {
           "style": "light"
          },
          "paper_bgcolor": "white",
          "plot_bgcolor": "#E5ECF6",
          "polar": {
           "angularaxis": {
            "gridcolor": "white",
            "linecolor": "white",
            "ticks": ""
           },
           "bgcolor": "#E5ECF6",
           "radialaxis": {
            "gridcolor": "white",
            "linecolor": "white",
            "ticks": ""
           }
          },
          "scene": {
           "xaxis": {
            "backgroundcolor": "#E5ECF6",
            "gridcolor": "white",
            "gridwidth": 2,
            "linecolor": "white",
            "showbackground": true,
            "ticks": "",
            "zerolinecolor": "white"
           },
           "yaxis": {
            "backgroundcolor": "#E5ECF6",
            "gridcolor": "white",
            "gridwidth": 2,
            "linecolor": "white",
            "showbackground": true,
            "ticks": "",
            "zerolinecolor": "white"
           },
           "zaxis": {
            "backgroundcolor": "#E5ECF6",
            "gridcolor": "white",
            "gridwidth": 2,
            "linecolor": "white",
            "showbackground": true,
            "ticks": "",
            "zerolinecolor": "white"
           }
          },
          "shapedefaults": {
           "line": {
            "color": "#2a3f5f"
           }
          },
          "ternary": {
           "aaxis": {
            "gridcolor": "white",
            "linecolor": "white",
            "ticks": ""
           },
           "baxis": {
            "gridcolor": "white",
            "linecolor": "white",
            "ticks": ""
           },
           "bgcolor": "#E5ECF6",
           "caxis": {
            "gridcolor": "white",
            "linecolor": "white",
            "ticks": ""
           }
          },
          "title": {
           "x": 0.05
          },
          "xaxis": {
           "automargin": true,
           "gridcolor": "white",
           "linecolor": "white",
           "ticks": "",
           "zerolinecolor": "white",
           "zerolinewidth": 2
          },
          "yaxis": {
           "automargin": true,
           "gridcolor": "white",
           "linecolor": "white",
           "ticks": "",
           "zerolinecolor": "white",
           "zerolinewidth": 2
          }
         }
        },
        "title": {
         "text": "Количество пользователей на каждом шаге в AB группах"
        }
       }
      },
      "text/html": [
       "<div>\n",
       "        \n",
       "        \n",
       "            <div id=\"75e92ef8-92a3-4233-aae2-104253e43aae\" class=\"plotly-graph-div\" style=\"height:525px; width:100%;\"></div>\n",
       "            <script type=\"text/javascript\">\n",
       "                require([\"plotly\"], function(Plotly) {\n",
       "                    window.PLOTLYENV=window.PLOTLYENV || {};\n",
       "                    \n",
       "                if (document.getElementById(\"75e92ef8-92a3-4233-aae2-104253e43aae\")) {\n",
       "                    Plotly.newPlot(\n",
       "                        '75e92ef8-92a3-4233-aae2-104253e43aae',\n",
       "                        [{\"name\": \"A\", \"type\": \"funnel\", \"x\": [2747, 1780, 824, 872], \"y\": [\"Login\", \"Product_page\", \"Product_cart\", \"Purchase\"]}, {\"name\": \"B\", \"type\": \"funnel\", \"x\": [928, 523, 255, 256], \"y\": [\"Login\", \"Product_page\", \"Product_cart\", \"Purchase\"]}],\n",
       "                        {\"template\": {\"data\": {\"bar\": [{\"error_x\": {\"color\": \"#2a3f5f\"}, \"error_y\": {\"color\": \"#2a3f5f\"}, \"marker\": {\"line\": {\"color\": \"#E5ECF6\", \"width\": 0.5}}, \"type\": \"bar\"}], \"barpolar\": [{\"marker\": {\"line\": {\"color\": \"#E5ECF6\", \"width\": 0.5}}, \"type\": \"barpolar\"}], \"carpet\": [{\"aaxis\": {\"endlinecolor\": \"#2a3f5f\", \"gridcolor\": \"white\", \"linecolor\": \"white\", \"minorgridcolor\": \"white\", \"startlinecolor\": \"#2a3f5f\"}, \"baxis\": {\"endlinecolor\": \"#2a3f5f\", \"gridcolor\": \"white\", \"linecolor\": \"white\", \"minorgridcolor\": \"white\", \"startlinecolor\": \"#2a3f5f\"}, \"type\": \"carpet\"}], \"choropleth\": [{\"colorbar\": {\"outlinewidth\": 0, \"ticks\": \"\"}, \"type\": \"choropleth\"}], \"contour\": [{\"colorbar\": {\"outlinewidth\": 0, \"ticks\": \"\"}, \"colorscale\": [[0.0, \"#0d0887\"], [0.1111111111111111, \"#46039f\"], [0.2222222222222222, \"#7201a8\"], [0.3333333333333333, \"#9c179e\"], [0.4444444444444444, \"#bd3786\"], [0.5555555555555556, \"#d8576b\"], [0.6666666666666666, \"#ed7953\"], [0.7777777777777778, \"#fb9f3a\"], [0.8888888888888888, \"#fdca26\"], [1.0, \"#f0f921\"]], \"type\": \"contour\"}], \"contourcarpet\": [{\"colorbar\": {\"outlinewidth\": 0, \"ticks\": \"\"}, \"type\": \"contourcarpet\"}], \"heatmap\": [{\"colorbar\": {\"outlinewidth\": 0, \"ticks\": \"\"}, \"colorscale\": [[0.0, \"#0d0887\"], [0.1111111111111111, \"#46039f\"], [0.2222222222222222, \"#7201a8\"], [0.3333333333333333, \"#9c179e\"], [0.4444444444444444, \"#bd3786\"], [0.5555555555555556, \"#d8576b\"], [0.6666666666666666, \"#ed7953\"], [0.7777777777777778, \"#fb9f3a\"], [0.8888888888888888, \"#fdca26\"], [1.0, \"#f0f921\"]], \"type\": \"heatmap\"}], \"heatmapgl\": [{\"colorbar\": {\"outlinewidth\": 0, \"ticks\": \"\"}, \"colorscale\": [[0.0, \"#0d0887\"], [0.1111111111111111, \"#46039f\"], [0.2222222222222222, \"#7201a8\"], [0.3333333333333333, \"#9c179e\"], [0.4444444444444444, \"#bd3786\"], [0.5555555555555556, \"#d8576b\"], [0.6666666666666666, \"#ed7953\"], [0.7777777777777778, \"#fb9f3a\"], [0.8888888888888888, \"#fdca26\"], [1.0, \"#f0f921\"]], \"type\": \"heatmapgl\"}], \"histogram\": [{\"marker\": {\"colorbar\": {\"outlinewidth\": 0, \"ticks\": \"\"}}, \"type\": \"histogram\"}], \"histogram2d\": [{\"colorbar\": {\"outlinewidth\": 0, \"ticks\": \"\"}, \"colorscale\": [[0.0, \"#0d0887\"], [0.1111111111111111, \"#46039f\"], [0.2222222222222222, \"#7201a8\"], [0.3333333333333333, \"#9c179e\"], [0.4444444444444444, \"#bd3786\"], [0.5555555555555556, \"#d8576b\"], [0.6666666666666666, \"#ed7953\"], [0.7777777777777778, \"#fb9f3a\"], [0.8888888888888888, \"#fdca26\"], [1.0, \"#f0f921\"]], \"type\": \"histogram2d\"}], \"histogram2dcontour\": [{\"colorbar\": {\"outlinewidth\": 0, \"ticks\": \"\"}, \"colorscale\": [[0.0, \"#0d0887\"], [0.1111111111111111, \"#46039f\"], [0.2222222222222222, \"#7201a8\"], [0.3333333333333333, \"#9c179e\"], [0.4444444444444444, \"#bd3786\"], [0.5555555555555556, \"#d8576b\"], [0.6666666666666666, \"#ed7953\"], [0.7777777777777778, \"#fb9f3a\"], [0.8888888888888888, \"#fdca26\"], [1.0, \"#f0f921\"]], \"type\": \"histogram2dcontour\"}], \"mesh3d\": [{\"colorbar\": {\"outlinewidth\": 0, \"ticks\": \"\"}, \"type\": \"mesh3d\"}], \"parcoords\": [{\"line\": {\"colorbar\": {\"outlinewidth\": 0, \"ticks\": \"\"}}, \"type\": \"parcoords\"}], \"scatter\": [{\"marker\": {\"colorbar\": {\"outlinewidth\": 0, \"ticks\": \"\"}}, \"type\": \"scatter\"}], \"scatter3d\": [{\"line\": {\"colorbar\": {\"outlinewidth\": 0, \"ticks\": \"\"}}, \"marker\": {\"colorbar\": {\"outlinewidth\": 0, \"ticks\": \"\"}}, \"type\": \"scatter3d\"}], \"scattercarpet\": [{\"marker\": {\"colorbar\": {\"outlinewidth\": 0, \"ticks\": \"\"}}, \"type\": \"scattercarpet\"}], \"scattergeo\": [{\"marker\": {\"colorbar\": {\"outlinewidth\": 0, \"ticks\": \"\"}}, \"type\": \"scattergeo\"}], \"scattergl\": [{\"marker\": {\"colorbar\": {\"outlinewidth\": 0, \"ticks\": \"\"}}, \"type\": \"scattergl\"}], \"scattermapbox\": [{\"marker\": {\"colorbar\": {\"outlinewidth\": 0, \"ticks\": \"\"}}, \"type\": \"scattermapbox\"}], \"scatterpolar\": [{\"marker\": {\"colorbar\": {\"outlinewidth\": 0, \"ticks\": \"\"}}, \"type\": \"scatterpolar\"}], \"scatterpolargl\": [{\"marker\": {\"colorbar\": {\"outlinewidth\": 0, \"ticks\": \"\"}}, \"type\": \"scatterpolargl\"}], \"scatterternary\": [{\"marker\": {\"colorbar\": {\"outlinewidth\": 0, \"ticks\": \"\"}}, \"type\": \"scatterternary\"}], \"surface\": [{\"colorbar\": {\"outlinewidth\": 0, \"ticks\": \"\"}, \"colorscale\": [[0.0, \"#0d0887\"], [0.1111111111111111, \"#46039f\"], [0.2222222222222222, \"#7201a8\"], [0.3333333333333333, \"#9c179e\"], [0.4444444444444444, \"#bd3786\"], [0.5555555555555556, \"#d8576b\"], [0.6666666666666666, \"#ed7953\"], [0.7777777777777778, \"#fb9f3a\"], [0.8888888888888888, \"#fdca26\"], [1.0, \"#f0f921\"]], \"type\": \"surface\"}], \"table\": [{\"cells\": {\"fill\": {\"color\": \"#EBF0F8\"}, \"line\": {\"color\": \"white\"}}, \"header\": {\"fill\": {\"color\": \"#C8D4E3\"}, \"line\": {\"color\": \"white\"}}, \"type\": \"table\"}]}, \"layout\": {\"annotationdefaults\": {\"arrowcolor\": \"#2a3f5f\", \"arrowhead\": 0, \"arrowwidth\": 1}, \"colorscale\": {\"diverging\": [[0, \"#8e0152\"], [0.1, \"#c51b7d\"], [0.2, \"#de77ae\"], [0.3, \"#f1b6da\"], [0.4, \"#fde0ef\"], [0.5, \"#f7f7f7\"], [0.6, \"#e6f5d0\"], [0.7, \"#b8e186\"], [0.8, \"#7fbc41\"], [0.9, \"#4d9221\"], [1, \"#276419\"]], \"sequential\": [[0.0, \"#0d0887\"], [0.1111111111111111, \"#46039f\"], [0.2222222222222222, \"#7201a8\"], [0.3333333333333333, \"#9c179e\"], [0.4444444444444444, \"#bd3786\"], [0.5555555555555556, \"#d8576b\"], [0.6666666666666666, \"#ed7953\"], [0.7777777777777778, \"#fb9f3a\"], [0.8888888888888888, \"#fdca26\"], [1.0, \"#f0f921\"]], \"sequentialminus\": [[0.0, \"#0d0887\"], [0.1111111111111111, \"#46039f\"], [0.2222222222222222, \"#7201a8\"], [0.3333333333333333, \"#9c179e\"], [0.4444444444444444, \"#bd3786\"], [0.5555555555555556, \"#d8576b\"], [0.6666666666666666, \"#ed7953\"], [0.7777777777777778, \"#fb9f3a\"], [0.8888888888888888, \"#fdca26\"], [1.0, \"#f0f921\"]]}, \"colorway\": [\"#636efa\", \"#EF553B\", \"#00cc96\", \"#ab63fa\", \"#FFA15A\", \"#19d3f3\", \"#FF6692\", \"#B6E880\", \"#FF97FF\", \"#FECB52\"], \"font\": {\"color\": \"#2a3f5f\"}, \"geo\": {\"bgcolor\": \"white\", \"lakecolor\": \"white\", \"landcolor\": \"#E5ECF6\", \"showlakes\": true, \"showland\": true, \"subunitcolor\": \"white\"}, \"hoverlabel\": {\"align\": \"left\"}, \"hovermode\": \"closest\", \"mapbox\": {\"style\": \"light\"}, \"paper_bgcolor\": \"white\", \"plot_bgcolor\": \"#E5ECF6\", \"polar\": {\"angularaxis\": {\"gridcolor\": \"white\", \"linecolor\": \"white\", \"ticks\": \"\"}, \"bgcolor\": \"#E5ECF6\", \"radialaxis\": {\"gridcolor\": \"white\", \"linecolor\": \"white\", \"ticks\": \"\"}}, \"scene\": {\"xaxis\": {\"backgroundcolor\": \"#E5ECF6\", \"gridcolor\": \"white\", \"gridwidth\": 2, \"linecolor\": \"white\", \"showbackground\": true, \"ticks\": \"\", \"zerolinecolor\": \"white\"}, \"yaxis\": {\"backgroundcolor\": \"#E5ECF6\", \"gridcolor\": \"white\", \"gridwidth\": 2, \"linecolor\": \"white\", \"showbackground\": true, \"ticks\": \"\", \"zerolinecolor\": \"white\"}, \"zaxis\": {\"backgroundcolor\": \"#E5ECF6\", \"gridcolor\": \"white\", \"gridwidth\": 2, \"linecolor\": \"white\", \"showbackground\": true, \"ticks\": \"\", \"zerolinecolor\": \"white\"}}, \"shapedefaults\": {\"line\": {\"color\": \"#2a3f5f\"}}, \"ternary\": {\"aaxis\": {\"gridcolor\": \"white\", \"linecolor\": \"white\", \"ticks\": \"\"}, \"baxis\": {\"gridcolor\": \"white\", \"linecolor\": \"white\", \"ticks\": \"\"}, \"bgcolor\": \"#E5ECF6\", \"caxis\": {\"gridcolor\": \"white\", \"linecolor\": \"white\", \"ticks\": \"\"}}, \"title\": {\"x\": 0.05}, \"xaxis\": {\"automargin\": true, \"gridcolor\": \"white\", \"linecolor\": \"white\", \"ticks\": \"\", \"zerolinecolor\": \"white\", \"zerolinewidth\": 2}, \"yaxis\": {\"automargin\": true, \"gridcolor\": \"white\", \"linecolor\": \"white\", \"ticks\": \"\", \"zerolinecolor\": \"white\", \"zerolinewidth\": 2}}}, \"title\": {\"text\": \"\\u041a\\u043e\\u043b\\u0438\\u0447\\u0435\\u0441\\u0442\\u0432\\u043e \\u043f\\u043e\\u043b\\u044c\\u0437\\u043e\\u0432\\u0430\\u0442\\u0435\\u043b\\u0435\\u0439 \\u043d\\u0430 \\u043a\\u0430\\u0436\\u0434\\u043e\\u043c \\u0448\\u0430\\u0433\\u0435 \\u0432 AB \\u0433\\u0440\\u0443\\u043f\\u043f\\u0430\\u0445\"}},\n",
       "                        {\"responsive\": true}\n",
       "                    ).then(function(){\n",
       "                            \n",
       "var gd = document.getElementById('75e92ef8-92a3-4233-aae2-104253e43aae');\n",
       "var x = new MutationObserver(function (mutations, observer) {{\n",
       "        var display = window.getComputedStyle(gd).display;\n",
       "        if (!display || display === 'none') {{\n",
       "            console.log([gd, 'removed!']);\n",
       "            Plotly.purge(gd);\n",
       "            observer.disconnect();\n",
       "        }}\n",
       "}});\n",
       "\n",
       "// Listen for the removal of the full notebook cells\n",
       "var notebookContainer = gd.closest('#notebook-container');\n",
       "if (notebookContainer) {{\n",
       "    x.observe(notebookContainer, {childList: true});\n",
       "}}\n",
       "\n",
       "// Listen for the clearing of the current output cell\n",
       "var outputEl = gd.closest('.output');\n",
       "if (outputEl) {{\n",
       "    x.observe(outputEl, {childList: true});\n",
       "}}\n",
       "\n",
       "                        })\n",
       "                };\n",
       "                });\n",
       "            </script>\n",
       "        </div>"
      ]
     },
     "metadata": {},
     "output_type": "display_data"
    }
   ],
   "source": [
    "text = 'Количество пользователей на каждом шаге в AB группах'\n",
    "stages=['Login', 'Product_page', 'Product_cart', 'Purchase']\n",
    "fig1 = go.Figure(go.Funnel(y = stages, x = df_A['user_counts'], name='A'))\n",
    "fig2 = go.Figure(go.Funnel(y = stages, x = df_B['user_counts'], name='B'))\n",
    "fig = go.Figure(data = fig1.data + fig2.data, layout_title_text = text)\n",
    "fig.show()"
   ]
  },
  {
   "cell_type": "markdown",
   "metadata": {},
   "source": [
    "Выводы:На графике воронки видно уменьшение конверсии с каждым шагом. При переходе от product_cart до purchase конверсия наоборот увеличилась, но связано это, скорее всего с тем, что пользователи минуют корзину и переходят сразу к оплате. Возможно, при переходе к покупке система ошибочно сама направляет клиента минуя корзину. Воронка такая же, как и до среза."
   ]
  },
  {
   "cell_type": "markdown",
   "metadata": {},
   "source": [
    "## Общие выводы:"
   ]
  },
  {
   "cell_type": "markdown",
   "metadata": {},
   "source": [
    "<b>Исходные данные.</b>\n",
    "\n",
    "<li>В предоставленных данных были обнаружены несоответствия:\n",
    "<li>В таблице с данными теста был указан еще один тест, не указанный в техзадании;\n",
    "<li>Дата остановки набора новых пользователей дольше на 2 дня;\n",
    "<li>Дата остановки теста на 5 дней раньше указанной в тех задании.\n",
    "\n",
    "<b>Исследование клиентов.</b>\n",
    "    \n",
    "<li>94% пользователей из региона EU.\n",
    "<li>В тесте участвуют 6701 пользователей. \n",
    "<li>1602 (24%) пользователя участвуют в обох тестах одновременно.\n",
    "<li>В даты теста проходит 1 акция - \"Christmas&New Year Promo\".\n",
    "<li>Почти половина пользователей (3026 чел.) не совершили ни одного действия. Возможно, люди нашли искомое на других ресурсах. Или система не учла их активность.\n",
    "<li>Предполагаемая последовательность действий покупателя: login - product_page - product_cart - purchase. Но мы наблюдаем несоответствие на последнем шаге. Идет сначала покупка, а потом просмотр корзины. Возможно, есть вариант оплаты заказа без посещения корзины.\n",
    "<li>Распределения количества всех событий на одного человека: в группе А, в среднем приходится 7 событий на человека, в В - 5-6.\n",
    "<li>В таблицах с разными группами не было одинаковых пользователей (user_id)\n",
    "<li>В обеих группах наблюдается увеличение количества событий к концу второй декады декабря. И затем, спад. Это говорит о том, что промоакции в эти дни не приносят увеличения покупок.\n",
    "    \n",
    "<b>Исследование гипотез.</b>\n",
    "    \n",
    "<li>В обоих группах наибольшее уменьшение конверсии происходит при переходе от login к product_page, причем в группе В больше на 8%, чем в А. До шага product_cart в обоих группах конверсия - 46-48%. То есть, до шага покупки доходит около 13-14% покупателей от начального количества. Похоже, что исследуемые изменения уменьшили конверсию до шага product_page, но в целом не уменьшили итоговую конверсию\n",
    "<li>На графике воронки видно уменьшение конверсии с каждым шагом. При переходе от product_cart до purchase конверсия наоборот увеличилась, но связано это, скорее всего с тем, что пользователи минуют корзину и переходят сразу к оплате. Возможно, при переходе к покупке система ошибочно сама направляет клиента минуя корзину.\n",
    "<li>В общей конверсии нет статистически значимой разницы в разных группах, т.е. внесенные изменения никак не повлияли на покупателей;\n",
    "<li>Рассматривая различия в конверсиях каждого шага только на шаге Login → Product_page наблюдается статистически значимая разница, т.е. внесенные изменения сильно повлияли на покупателей.\n",
    "<li>Проверив предположение, что за 14 дней с момента регистрации в системе пользователи покажут улучшение каждой метрики не менее, чем на 10% я его отвергаю.\n",
    "При сравнении конверсии в разных группах за двухнедельный период с момента регистрации по каждому шагу нет увеличения на 10%."
   ]
  },
  {
   "cell_type": "markdown",
   "metadata": {},
   "source": [
    "## Заключение:"
   ]
  },
  {
   "cell_type": "markdown",
   "metadata": {},
   "source": [
    "Проведенный АВ тест нельзя считать корректным. Не было проведено АА теста. Тест проводился во время новогодних распродаж, что внесло свои искажения в активность клиентов. В даты исследования попала только одна промоакция."
   ]
  }
 ],
 "metadata": {
  "ExecuteTimeLog": [
   {
    "duration": 1387,
    "start_time": "2021-11-17T17:14:18.988Z"
   },
   {
    "duration": 437,
    "start_time": "2021-11-17T17:15:48.015Z"
   },
   {
    "duration": 294,
    "start_time": "2021-11-17T17:15:52.596Z"
   },
   {
    "duration": 82,
    "start_time": "2021-11-17T17:15:58.408Z"
   },
   {
    "duration": 16,
    "start_time": "2021-11-17T17:16:00.055Z"
   },
   {
    "duration": 6,
    "start_time": "2021-11-17T17:18:14.561Z"
   },
   {
    "duration": 299,
    "start_time": "2021-11-17T17:18:34.184Z"
   },
   {
    "duration": 181,
    "start_time": "2021-11-17T17:18:37.699Z"
   },
   {
    "duration": 10,
    "start_time": "2021-11-17T17:18:39.249Z"
   },
   {
    "duration": 9,
    "start_time": "2021-11-17T17:18:52.076Z"
   },
   {
    "duration": 12,
    "start_time": "2021-11-17T17:19:12.124Z"
   },
   {
    "duration": 305,
    "start_time": "2021-11-17T17:21:34.779Z"
   },
   {
    "duration": 16,
    "start_time": "2021-11-17T17:21:47.651Z"
   },
   {
    "duration": 19,
    "start_time": "2021-11-17T17:23:12.833Z"
   },
   {
    "duration": 3150,
    "start_time": "2021-11-17T17:25:19.372Z"
   },
   {
    "duration": 12,
    "start_time": "2021-11-17T17:25:34.291Z"
   },
   {
    "duration": 113,
    "start_time": "2021-11-17T17:25:41.414Z"
   },
   {
    "duration": 166,
    "start_time": "2021-11-17T17:27:12.557Z"
   },
   {
    "duration": 15,
    "start_time": "2021-11-17T17:27:31.812Z"
   },
   {
    "duration": 13,
    "start_time": "2021-11-17T17:28:33.086Z"
   },
   {
    "duration": 310,
    "start_time": "2021-11-17T17:32:51.063Z"
   },
   {
    "duration": 7,
    "start_time": "2021-11-17T17:39:42.291Z"
   },
   {
    "duration": 8,
    "start_time": "2021-11-17T17:39:59.487Z"
   },
   {
    "duration": 400,
    "start_time": "2021-11-17T17:40:05.936Z"
   },
   {
    "duration": 13,
    "start_time": "2021-11-17T17:40:10.049Z"
   },
   {
    "duration": 9,
    "start_time": "2021-11-17T17:41:31.240Z"
   },
   {
    "duration": 8,
    "start_time": "2021-11-17T17:42:11.051Z"
   },
   {
    "duration": 11,
    "start_time": "2021-11-17T17:43:19.238Z"
   },
   {
    "duration": 321,
    "start_time": "2021-11-17T17:43:56.961Z"
   },
   {
    "duration": 579,
    "start_time": "2021-11-17T17:44:04.978Z"
   },
   {
    "duration": 305,
    "start_time": "2021-11-17T17:44:15.833Z"
   },
   {
    "duration": 317,
    "start_time": "2021-11-17T17:44:20.207Z"
   },
   {
    "duration": 312,
    "start_time": "2021-11-17T17:44:25.364Z"
   },
   {
    "duration": 338,
    "start_time": "2021-11-17T17:44:29.764Z"
   },
   {
    "duration": 308,
    "start_time": "2021-11-17T17:44:33.283Z"
   },
   {
    "duration": 23,
    "start_time": "2021-11-17T17:48:26.827Z"
   },
   {
    "duration": 14,
    "start_time": "2021-11-17T17:49:30.185Z"
   },
   {
    "duration": 13,
    "start_time": "2021-11-17T17:51:14.021Z"
   },
   {
    "duration": 87,
    "start_time": "2021-11-17T17:52:50.935Z"
   },
   {
    "duration": 303,
    "start_time": "2021-11-17T17:53:34.862Z"
   },
   {
    "duration": 90,
    "start_time": "2021-11-17T17:53:39.806Z"
   },
   {
    "duration": 87,
    "start_time": "2021-11-17T17:53:52.192Z"
   },
   {
    "duration": 367,
    "start_time": "2021-11-17T17:53:56.136Z"
   },
   {
    "duration": 386,
    "start_time": "2021-11-17T17:54:08.708Z"
   },
   {
    "duration": 94,
    "start_time": "2021-11-17T17:54:13.792Z"
   },
   {
    "duration": 88,
    "start_time": "2021-11-17T17:54:39.412Z"
   },
   {
    "duration": 139,
    "start_time": "2021-11-17T17:58:02.728Z"
   },
   {
    "duration": 204,
    "start_time": "2021-11-17T17:58:25.270Z"
   },
   {
    "duration": 50,
    "start_time": "2021-11-17T17:58:30.997Z"
   },
   {
    "duration": 324,
    "start_time": "2021-11-17T18:02:30.493Z"
   },
   {
    "duration": 673,
    "start_time": "2021-11-17T18:02:51.067Z"
   },
   {
    "duration": 353,
    "start_time": "2021-11-17T18:02:58.641Z"
   },
   {
    "duration": 367,
    "start_time": "2021-11-17T18:03:14.919Z"
   },
   {
    "duration": 392,
    "start_time": "2021-11-17T18:04:17.343Z"
   },
   {
    "duration": 366,
    "start_time": "2021-11-17T18:05:28.847Z"
   },
   {
    "duration": 404,
    "start_time": "2021-11-17T18:05:41.989Z"
   },
   {
    "duration": 413,
    "start_time": "2021-11-17T18:05:53.818Z"
   },
   {
    "duration": 414,
    "start_time": "2021-11-17T18:06:16.478Z"
   },
   {
    "duration": 404,
    "start_time": "2021-11-17T18:06:36.063Z"
   },
   {
    "duration": 348,
    "start_time": "2021-11-17T18:08:03.928Z"
   },
   {
    "duration": 289,
    "start_time": "2021-11-17T18:10:43.037Z"
   },
   {
    "duration": 10,
    "start_time": "2021-11-17T18:10:53.483Z"
   },
   {
    "duration": 5,
    "start_time": "2021-11-17T18:11:32.009Z"
   },
   {
    "duration": 10,
    "start_time": "2021-11-17T18:12:05.588Z"
   },
   {
    "duration": 102,
    "start_time": "2021-11-17T18:16:13.878Z"
   },
   {
    "duration": 32,
    "start_time": "2021-11-17T18:16:23.988Z"
   },
   {
    "duration": 106,
    "start_time": "2021-11-17T18:16:40.256Z"
   },
   {
    "duration": 15,
    "start_time": "2021-11-17T18:16:46.368Z"
   },
   {
    "duration": 33,
    "start_time": "2021-11-17T18:17:21.485Z"
   },
   {
    "duration": 95,
    "start_time": "2021-11-17T18:17:30.993Z"
   },
   {
    "duration": 37,
    "start_time": "2021-11-17T18:17:44.734Z"
   },
   {
    "duration": 10,
    "start_time": "2021-11-17T18:21:31.245Z"
   },
   {
    "duration": 35,
    "start_time": "2021-11-17T18:22:15.795Z"
   },
   {
    "duration": 94,
    "start_time": "2021-11-17T18:22:56.728Z"
   },
   {
    "duration": 13,
    "start_time": "2021-11-17T18:23:04.702Z"
   },
   {
    "duration": 43,
    "start_time": "2021-11-17T18:23:51.957Z"
   },
   {
    "duration": 493,
    "start_time": "2021-11-17T18:24:34.666Z"
   },
   {
    "duration": 30,
    "start_time": "2021-11-17T18:24:44.931Z"
   },
   {
    "duration": 483,
    "start_time": "2021-11-17T18:25:13.038Z"
   },
   {
    "duration": 29,
    "start_time": "2021-11-17T18:25:19.373Z"
   },
   {
    "duration": 34,
    "start_time": "2021-11-17T18:25:31.187Z"
   },
   {
    "duration": 10,
    "start_time": "2021-11-17T18:31:25.651Z"
   },
   {
    "duration": 7,
    "start_time": "2021-11-17T18:37:55.670Z"
   },
   {
    "duration": 297,
    "start_time": "2021-11-17T18:38:02.755Z"
   },
   {
    "duration": 14,
    "start_time": "2021-11-17T18:38:19.580Z"
   },
   {
    "duration": 9,
    "start_time": "2021-11-17T18:39:01.079Z"
   },
   {
    "duration": 116,
    "start_time": "2021-11-17T18:40:38.668Z"
   },
   {
    "duration": 28,
    "start_time": "2021-11-17T18:42:07.831Z"
   },
   {
    "duration": 291,
    "start_time": "2021-11-17T18:42:49.343Z"
   },
   {
    "duration": 18,
    "start_time": "2021-11-17T18:43:02.284Z"
   },
   {
    "duration": 7,
    "start_time": "2021-11-17T18:43:11.315Z"
   },
   {
    "duration": 17,
    "start_time": "2021-11-17T18:45:25.787Z"
   },
   {
    "duration": 6,
    "start_time": "2021-11-17T18:45:40.433Z"
   },
   {
    "duration": 96,
    "start_time": "2021-11-17T18:48:48.521Z"
   },
   {
    "duration": 109,
    "start_time": "2021-11-17T18:48:55.043Z"
   },
   {
    "duration": 10,
    "start_time": "2021-11-17T18:48:58.289Z"
   },
   {
    "duration": 13,
    "start_time": "2021-11-17T18:49:01.781Z"
   },
   {
    "duration": 19,
    "start_time": "2021-11-17T18:49:14.857Z"
   },
   {
    "duration": 6,
    "start_time": "2021-11-17T18:49:23.579Z"
   },
   {
    "duration": 6,
    "start_time": "2021-11-17T18:50:29.081Z"
   },
   {
    "duration": 55,
    "start_time": "2021-11-17T18:53:14.788Z"
   },
   {
    "duration": 70,
    "start_time": "2021-11-17T18:53:25.352Z"
   },
   {
    "duration": 57,
    "start_time": "2021-11-17T18:53:35.952Z"
   },
   {
    "duration": 6,
    "start_time": "2021-11-17T18:53:46.929Z"
   },
   {
    "duration": 110,
    "start_time": "2021-11-17T18:54:54.133Z"
   },
   {
    "duration": 11,
    "start_time": "2021-11-17T18:55:04.094Z"
   },
   {
    "duration": 27,
    "start_time": "2021-11-17T18:58:19.889Z"
   },
   {
    "duration": 18,
    "start_time": "2021-11-17T18:58:36.201Z"
   },
   {
    "duration": 6,
    "start_time": "2021-11-17T19:01:06.292Z"
   },
   {
    "duration": 163,
    "start_time": "2021-11-17T19:01:13.606Z"
   },
   {
    "duration": 6,
    "start_time": "2021-11-17T19:01:14.327Z"
   },
   {
    "duration": 11,
    "start_time": "2021-11-17T19:01:36.187Z"
   },
   {
    "duration": 7,
    "start_time": "2021-11-17T19:02:03.406Z"
   },
   {
    "duration": 5,
    "start_time": "2021-11-17T19:02:18.053Z"
   },
   {
    "duration": 7,
    "start_time": "2021-11-17T19:02:33.795Z"
   },
   {
    "duration": 149,
    "start_time": "2021-11-17T19:03:04.958Z"
   },
   {
    "duration": 10,
    "start_time": "2021-11-17T19:03:07.639Z"
   },
   {
    "duration": 11,
    "start_time": "2021-11-17T19:03:13.861Z"
   },
   {
    "duration": 6,
    "start_time": "2021-11-17T19:03:29.325Z"
   },
   {
    "duration": 5,
    "start_time": "2021-11-17T19:03:37.552Z"
   },
   {
    "duration": 6,
    "start_time": "2021-11-17T19:03:43.303Z"
   },
   {
    "duration": 23,
    "start_time": "2021-11-17T19:03:47.597Z"
   },
   {
    "duration": 18,
    "start_time": "2021-11-17T19:08:16.456Z"
   },
   {
    "duration": 12,
    "start_time": "2021-11-17T19:08:34.774Z"
   },
   {
    "duration": 14,
    "start_time": "2021-11-17T19:08:43.844Z"
   },
   {
    "duration": 6,
    "start_time": "2021-11-17T19:08:50.789Z"
   },
   {
    "duration": 114,
    "start_time": "2021-11-17T19:09:37.529Z"
   },
   {
    "duration": 9,
    "start_time": "2021-11-17T19:10:17.495Z"
   },
   {
    "duration": 296,
    "start_time": "2021-11-17T19:10:25.574Z"
   },
   {
    "duration": 8,
    "start_time": "2021-11-17T19:10:31.309Z"
   },
   {
    "duration": 11,
    "start_time": "2021-11-17T19:10:45.424Z"
   },
   {
    "duration": 175,
    "start_time": "2021-11-17T19:19:23.379Z"
   },
   {
    "duration": 16,
    "start_time": "2021-11-17T19:19:24.163Z"
   },
   {
    "duration": 19,
    "start_time": "2021-11-17T19:19:37.175Z"
   },
   {
    "duration": 40,
    "start_time": "2021-11-17T19:21:36.222Z"
   },
   {
    "duration": 32,
    "start_time": "2021-11-17T19:23:10.965Z"
   },
   {
    "duration": 25,
    "start_time": "2021-11-17T19:23:26.844Z"
   },
   {
    "duration": 315,
    "start_time": "2021-11-17T19:28:02.246Z"
   },
   {
    "duration": 14,
    "start_time": "2021-11-17T19:28:25.205Z"
   },
   {
    "duration": 100,
    "start_time": "2021-11-17T19:28:49.071Z"
   },
   {
    "duration": 429,
    "start_time": "2021-11-17T19:28:55.706Z"
   },
   {
    "duration": 318,
    "start_time": "2021-11-17T19:30:07.846Z"
   },
   {
    "duration": 303,
    "start_time": "2021-11-17T19:30:17.586Z"
   },
   {
    "duration": 291,
    "start_time": "2021-11-17T19:30:28.166Z"
   },
   {
    "duration": 332,
    "start_time": "2021-11-17T19:30:41.888Z"
   },
   {
    "duration": 339,
    "start_time": "2021-11-17T19:30:55.980Z"
   },
   {
    "duration": 311,
    "start_time": "2021-11-17T19:31:05.100Z"
   },
   {
    "duration": 9,
    "start_time": "2021-11-17T19:33:13.630Z"
   },
   {
    "duration": 5,
    "start_time": "2021-11-17T19:34:21.402Z"
   },
   {
    "duration": 10,
    "start_time": "2021-11-17T19:34:26.073Z"
   },
   {
    "duration": 11,
    "start_time": "2021-11-17T19:34:31.760Z"
   },
   {
    "duration": 9,
    "start_time": "2021-11-17T19:34:43.311Z"
   },
   {
    "duration": 6,
    "start_time": "2021-11-17T19:34:44.323Z"
   },
   {
    "duration": 318,
    "start_time": "2021-11-17T19:34:52.307Z"
   },
   {
    "duration": 13,
    "start_time": "2021-11-17T19:35:52.515Z"
   },
   {
    "duration": 6,
    "start_time": "2021-11-17T19:35:53.243Z"
   },
   {
    "duration": 19,
    "start_time": "2021-11-17T19:36:04.676Z"
   },
   {
    "duration": 5,
    "start_time": "2021-11-17T19:36:05.485Z"
   },
   {
    "duration": 19,
    "start_time": "2021-11-17T19:36:19.540Z"
   },
   {
    "duration": 10,
    "start_time": "2021-11-17T19:39:19.786Z"
   },
   {
    "duration": 14,
    "start_time": "2021-11-17T19:39:22.881Z"
   },
   {
    "duration": 23,
    "start_time": "2021-11-17T19:40:42.784Z"
   },
   {
    "duration": 539,
    "start_time": "2021-11-17T19:42:56.463Z"
   },
   {
    "duration": 641,
    "start_time": "2021-11-17T19:43:22.213Z"
   },
   {
    "duration": 539,
    "start_time": "2021-11-17T19:43:39.595Z"
   },
   {
    "duration": 545,
    "start_time": "2021-11-17T19:43:56.198Z"
   },
   {
    "duration": 317,
    "start_time": "2021-11-17T19:44:17.160Z"
   },
   {
    "duration": 835,
    "start_time": "2021-11-17T19:44:33.036Z"
   },
   {
    "duration": 507,
    "start_time": "2021-11-17T19:44:53.952Z"
   },
   {
    "duration": 1194,
    "start_time": "2021-11-17T19:45:02.798Z"
   },
   {
    "duration": 1123,
    "start_time": "2021-11-17T19:45:52.123Z"
   },
   {
    "duration": 344,
    "start_time": "2021-11-17T19:46:13.054Z"
   },
   {
    "duration": 425,
    "start_time": "2021-11-17T19:46:24.624Z"
   },
   {
    "duration": 112,
    "start_time": "2021-11-17T19:46:52.671Z"
   },
   {
    "duration": 553,
    "start_time": "2021-11-17T19:47:18.551Z"
   },
   {
    "duration": 496,
    "start_time": "2021-11-17T19:47:26.143Z"
   },
   {
    "duration": 518,
    "start_time": "2021-11-17T19:47:36.624Z"
   },
   {
    "duration": 19,
    "start_time": "2021-11-17T19:48:23.938Z"
   },
   {
    "duration": 350,
    "start_time": "2021-11-17T19:51:05.204Z"
   },
   {
    "duration": 13,
    "start_time": "2021-11-17T19:51:25.219Z"
   },
   {
    "duration": 15,
    "start_time": "2021-11-17T19:51:32.822Z"
   },
   {
    "duration": 19,
    "start_time": "2021-11-17T19:54:57.280Z"
   },
   {
    "duration": 1217,
    "start_time": "2021-11-17T19:57:43.037Z"
   },
   {
    "duration": 7,
    "start_time": "2021-11-17T20:00:59.334Z"
   },
   {
    "duration": 169,
    "start_time": "2021-11-17T20:01:00.117Z"
   },
   {
    "duration": 5,
    "start_time": "2021-11-17T20:01:08.386Z"
   },
   {
    "duration": 180,
    "start_time": "2021-11-17T20:01:28.987Z"
   },
   {
    "duration": 5,
    "start_time": "2021-11-17T20:01:31.363Z"
   },
   {
    "duration": 16,
    "start_time": "2021-11-17T20:01:43.796Z"
   },
   {
    "duration": 8,
    "start_time": "2021-11-17T20:02:49.213Z"
   },
   {
    "duration": 6,
    "start_time": "2021-11-17T20:02:55.267Z"
   },
   {
    "duration": 136,
    "start_time": "2021-11-17T20:02:57.188Z"
   },
   {
    "duration": 15,
    "start_time": "2021-11-17T20:02:58.455Z"
   },
   {
    "duration": 6,
    "start_time": "2021-11-17T20:03:01.264Z"
   },
   {
    "duration": 7915,
    "start_time": "2021-11-17T20:06:43.832Z"
   },
   {
    "duration": 7854,
    "start_time": "2021-11-17T20:10:50.279Z"
   },
   {
    "duration": 446,
    "start_time": "2021-11-17T20:11:38.112Z"
   },
   {
    "duration": 488,
    "start_time": "2021-11-17T20:11:53.497Z"
   },
   {
    "duration": 5617,
    "start_time": "2021-11-17T20:12:13.557Z"
   },
   {
    "duration": 1881,
    "start_time": "2021-11-17T20:12:41.910Z"
   },
   {
    "duration": 49,
    "start_time": "2021-11-17T20:49:49.553Z"
   },
   {
    "duration": 9,
    "start_time": "2021-11-17T20:49:54.456Z"
   },
   {
    "duration": 360,
    "start_time": "2021-11-17T20:50:17.238Z"
   },
   {
    "duration": 70,
    "start_time": "2021-11-17T20:50:49.552Z"
   },
   {
    "duration": 12,
    "start_time": "2021-11-17T20:50:51.991Z"
   },
   {
    "duration": 13,
    "start_time": "2021-11-17T20:51:22.944Z"
   },
   {
    "duration": 7,
    "start_time": "2021-11-17T20:52:49.385Z"
   },
   {
    "duration": 47,
    "start_time": "2021-11-17T20:53:55.079Z"
   },
   {
    "duration": 8132,
    "start_time": "2021-11-17T20:53:55.679Z"
   },
   {
    "duration": 9,
    "start_time": "2021-11-17T20:54:06.223Z"
   },
   {
    "duration": 12,
    "start_time": "2021-11-17T20:54:12.369Z"
   },
   {
    "duration": 9,
    "start_time": "2021-11-17T20:55:11.387Z"
   },
   {
    "duration": 9,
    "start_time": "2021-11-17T20:55:12.065Z"
   },
   {
    "duration": 9,
    "start_time": "2021-11-17T20:59:53.577Z"
   },
   {
    "duration": 5,
    "start_time": "2021-11-17T21:00:41.782Z"
   },
   {
    "duration": 7,
    "start_time": "2021-11-17T21:06:32.217Z"
   },
   {
    "duration": 14,
    "start_time": "2021-11-17T21:06:44.881Z"
   },
   {
    "duration": 713,
    "start_time": "2021-11-17T21:09:17.333Z"
   },
   {
    "duration": 764,
    "start_time": "2021-11-17T21:09:28.353Z"
   },
   {
    "duration": 7,
    "start_time": "2021-11-17T21:11:50.842Z"
   },
   {
    "duration": 514,
    "start_time": "2021-11-17T21:12:12.169Z"
   },
   {
    "duration": 703,
    "start_time": "2021-11-17T21:12:38.423Z"
   },
   {
    "duration": 162,
    "start_time": "2021-11-17T21:13:19.221Z"
   },
   {
    "duration": 348,
    "start_time": "2021-11-17T21:13:44.748Z"
   },
   {
    "duration": 10,
    "start_time": "2021-11-17T21:14:18.393Z"
   },
   {
    "duration": 11,
    "start_time": "2021-11-17T21:14:30.393Z"
   },
   {
    "duration": 549,
    "start_time": "2021-11-17T21:15:00.119Z"
   },
   {
    "duration": 14,
    "start_time": "2021-11-17T21:23:49.401Z"
   },
   {
    "duration": 28,
    "start_time": "2021-11-17T21:25:07.769Z"
   },
   {
    "duration": 30,
    "start_time": "2021-11-17T21:25:56.216Z"
   },
   {
    "duration": 358,
    "start_time": "2021-11-17T21:26:21.127Z"
   },
   {
    "duration": 426,
    "start_time": "2021-11-17T21:26:45.652Z"
   },
   {
    "duration": 397,
    "start_time": "2021-11-17T21:26:58.392Z"
   },
   {
    "duration": 970,
    "start_time": "2021-11-17T21:27:04.423Z"
   },
   {
    "duration": 92,
    "start_time": "2021-11-17T21:27:12.421Z"
   },
   {
    "duration": 406,
    "start_time": "2021-11-17T21:27:16.779Z"
   },
   {
    "duration": 441,
    "start_time": "2021-11-17T21:28:12.141Z"
   },
   {
    "duration": 664,
    "start_time": "2021-11-17T21:28:28.417Z"
   },
   {
    "duration": 63418,
    "start_time": "2021-11-17T21:28:36.454Z"
   },
   {
    "duration": 486,
    "start_time": "2021-11-17T21:30:56.946Z"
   },
   {
    "duration": 675,
    "start_time": "2021-11-17T21:31:07.409Z"
   },
   {
    "duration": 32,
    "start_time": "2021-11-17T21:32:06.334Z"
   },
   {
    "duration": 314,
    "start_time": "2021-11-17T21:32:18.006Z"
   },
   {
    "duration": 48,
    "start_time": "2021-11-17T21:32:24.670Z"
   },
   {
    "duration": 69,
    "start_time": "2021-11-17T21:32:36.893Z"
   },
   {
    "duration": 36,
    "start_time": "2021-11-17T21:32:46.401Z"
   },
   {
    "duration": 1005,
    "start_time": "2021-11-17T21:33:00.463Z"
   },
   {
    "duration": 1100,
    "start_time": "2021-11-17T21:33:19.286Z"
   },
   {
    "duration": 371,
    "start_time": "2021-11-17T21:33:44.639Z"
   },
   {
    "duration": 98,
    "start_time": "2021-11-17T21:34:05.154Z"
   },
   {
    "duration": 54,
    "start_time": "2021-11-17T21:34:09.863Z"
   },
   {
    "duration": 967,
    "start_time": "2021-11-17T21:34:29.290Z"
   },
   {
    "duration": 763,
    "start_time": "2021-11-17T21:34:36.885Z"
   },
   {
    "duration": 329,
    "start_time": "2021-11-17T21:35:41.380Z"
   },
   {
    "duration": 80,
    "start_time": "2021-11-17T21:36:02.506Z"
   },
   {
    "duration": 333,
    "start_time": "2021-11-17T21:36:10.068Z"
   },
   {
    "duration": 492,
    "start_time": "2021-11-17T21:36:20.971Z"
   },
   {
    "duration": 332,
    "start_time": "2021-11-17T21:36:28.992Z"
   },
   {
    "duration": 587,
    "start_time": "2021-11-17T21:36:39.562Z"
   },
   {
    "duration": 54,
    "start_time": "2021-11-17T21:37:04.632Z"
   },
   {
    "duration": 30,
    "start_time": "2021-11-17T21:37:05.772Z"
   },
   {
    "duration": 316,
    "start_time": "2021-11-17T21:37:46.339Z"
   },
   {
    "duration": 1250,
    "start_time": "2021-11-17T21:38:03.139Z"
   },
   {
    "duration": 959,
    "start_time": "2021-11-17T21:38:44.074Z"
   },
   {
    "duration": 110,
    "start_time": "2021-11-17T21:42:59.127Z"
   },
   {
    "duration": 1344,
    "start_time": "2021-11-17T21:43:07.444Z"
   },
   {
    "duration": 45,
    "start_time": "2021-11-17T21:43:31.218Z"
   },
   {
    "duration": 312,
    "start_time": "2021-11-17T21:43:46.429Z"
   },
   {
    "duration": 32,
    "start_time": "2021-11-17T21:43:55.799Z"
   },
   {
    "duration": 36,
    "start_time": "2021-11-17T21:44:10.630Z"
   },
   {
    "duration": 40,
    "start_time": "2021-11-17T21:44:20.215Z"
   },
   {
    "duration": 414,
    "start_time": "2021-11-17T21:44:43.673Z"
   },
   {
    "duration": 426,
    "start_time": "2021-11-17T21:44:58.502Z"
   },
   {
    "duration": 29,
    "start_time": "2021-11-17T21:45:24.215Z"
   },
   {
    "duration": 33,
    "start_time": "2021-11-17T21:45:53.750Z"
   },
   {
    "duration": 23,
    "start_time": "2021-11-17T21:46:12.608Z"
   },
   {
    "duration": 34,
    "start_time": "2021-11-17T21:47:09.248Z"
   },
   {
    "duration": 921,
    "start_time": "2021-11-17T21:47:10.456Z"
   },
   {
    "duration": 15,
    "start_time": "2021-11-17T21:47:28.160Z"
   },
   {
    "duration": 565,
    "start_time": "2021-11-17T21:47:52.904Z"
   },
   {
    "duration": 711,
    "start_time": "2021-11-17T21:48:23.214Z"
   },
   {
    "duration": 901,
    "start_time": "2021-11-17T21:48:36.206Z"
   },
   {
    "duration": 715,
    "start_time": "2021-11-17T21:49:11.206Z"
   },
   {
    "duration": 764,
    "start_time": "2021-11-17T21:50:11.440Z"
   },
   {
    "duration": 440,
    "start_time": "2021-11-17T21:51:13.024Z"
   },
   {
    "duration": 725,
    "start_time": "2021-11-17T21:51:39.916Z"
   },
   {
    "duration": 498,
    "start_time": "2021-11-17T21:51:50.595Z"
   },
   {
    "duration": 500,
    "start_time": "2021-11-17T21:52:08.752Z"
   },
   {
    "duration": 359,
    "start_time": "2021-11-17T21:52:56.254Z"
   },
   {
    "duration": 749,
    "start_time": "2021-11-17T21:53:39.687Z"
   },
   {
    "duration": 562,
    "start_time": "2021-11-17T21:54:07.537Z"
   },
   {
    "duration": 873,
    "start_time": "2021-11-17T21:54:21.872Z"
   },
   {
    "duration": 845,
    "start_time": "2021-11-17T21:54:36.401Z"
   },
   {
    "duration": 585,
    "start_time": "2021-11-17T21:55:24.579Z"
   },
   {
    "duration": 1275,
    "start_time": "2021-11-17T21:57:10.360Z"
   },
   {
    "duration": 1288,
    "start_time": "2021-11-17T21:57:34.866Z"
   },
   {
    "duration": 1432,
    "start_time": "2021-11-17T21:57:46.657Z"
   },
   {
    "duration": 952,
    "start_time": "2021-11-17T21:58:11.001Z"
   },
   {
    "duration": 848,
    "start_time": "2021-11-17T21:58:36.642Z"
   },
   {
    "duration": 684,
    "start_time": "2021-11-17T21:59:27.964Z"
   },
   {
    "duration": 655,
    "start_time": "2021-11-17T22:00:02.550Z"
   },
   {
    "duration": 310,
    "start_time": "2021-11-17T22:06:27.774Z"
   },
   {
    "duration": 21,
    "start_time": "2021-11-17T22:06:31.700Z"
   },
   {
    "duration": 7,
    "start_time": "2021-11-17T22:07:33.682Z"
   },
   {
    "duration": 12,
    "start_time": "2021-11-17T22:07:36.288Z"
   },
   {
    "duration": 5,
    "start_time": "2021-11-17T22:07:43.700Z"
   },
   {
    "duration": 8,
    "start_time": "2021-11-17T22:07:51.859Z"
   },
   {
    "duration": 21,
    "start_time": "2021-11-17T22:09:44.200Z"
   },
   {
    "duration": 10,
    "start_time": "2021-11-17T22:10:21.217Z"
   },
   {
    "duration": 28,
    "start_time": "2021-11-17T22:10:32.129Z"
   },
   {
    "duration": 33,
    "start_time": "2021-11-17T22:11:52.295Z"
   },
   {
    "duration": 124,
    "start_time": "2021-11-17T22:14:02.069Z"
   },
   {
    "duration": 738,
    "start_time": "2021-11-17T22:14:08.636Z"
   },
   {
    "duration": 6,
    "start_time": "2021-11-17T22:14:14.011Z"
   },
   {
    "duration": 23,
    "start_time": "2021-11-17T22:14:19.950Z"
   },
   {
    "duration": 19,
    "start_time": "2021-11-17T22:14:42.296Z"
   },
   {
    "duration": 279,
    "start_time": "2021-11-17T22:14:58.655Z"
   },
   {
    "duration": 2338,
    "start_time": "2021-11-18T06:25:27.468Z"
   },
   {
    "duration": 115,
    "start_time": "2021-11-18T06:25:29.809Z"
   },
   {
    "duration": 22,
    "start_time": "2021-11-18T06:25:29.927Z"
   },
   {
    "duration": 9,
    "start_time": "2021-11-18T06:25:29.952Z"
   },
   {
    "duration": 8,
    "start_time": "2021-11-18T06:25:29.964Z"
   },
   {
    "duration": 461,
    "start_time": "2021-11-18T06:25:29.975Z"
   },
   {
    "duration": 10,
    "start_time": "2021-11-18T06:25:30.439Z"
   },
   {
    "duration": 32,
    "start_time": "2021-11-18T06:25:30.454Z"
   },
   {
    "duration": 312,
    "start_time": "2021-11-18T06:25:30.490Z"
   },
   {
    "duration": 13,
    "start_time": "2021-11-18T06:25:30.805Z"
   },
   {
    "duration": 33,
    "start_time": "2021-11-18T06:25:30.820Z"
   },
   {
    "duration": 38,
    "start_time": "2021-11-18T06:25:30.855Z"
   },
   {
    "duration": 379,
    "start_time": "2021-11-18T06:25:30.896Z"
   },
   {
    "duration": 118,
    "start_time": "2021-11-18T06:25:31.282Z"
   },
   {
    "duration": 14,
    "start_time": "2021-11-18T06:25:31.403Z"
   },
   {
    "duration": 1311,
    "start_time": "2021-11-18T06:25:31.420Z"
   },
   {
    "duration": 11,
    "start_time": "2021-11-18T06:25:32.734Z"
   },
   {
    "duration": 118,
    "start_time": "2021-11-18T06:25:32.748Z"
   },
   {
    "duration": 135,
    "start_time": "2021-11-18T06:25:32.869Z"
   },
   {
    "duration": 479,
    "start_time": "2021-11-18T06:25:33.007Z"
   },
   {
    "duration": 50,
    "start_time": "2021-11-18T06:25:33.488Z"
   },
   {
    "duration": 143,
    "start_time": "2021-11-18T06:25:33.540Z"
   },
   {
    "duration": 10,
    "start_time": "2021-11-18T06:25:33.689Z"
   },
   {
    "duration": 11,
    "start_time": "2021-11-18T06:25:33.702Z"
   },
   {
    "duration": 19,
    "start_time": "2021-11-18T06:25:33.716Z"
   },
   {
    "duration": 5,
    "start_time": "2021-11-18T06:25:33.737Z"
   },
   {
    "duration": 53,
    "start_time": "2021-11-18T06:25:33.745Z"
   },
   {
    "duration": 5,
    "start_time": "2021-11-18T06:25:33.800Z"
   },
   {
    "duration": 12,
    "start_time": "2021-11-18T06:25:33.808Z"
   },
   {
    "duration": 15,
    "start_time": "2021-11-18T06:25:33.822Z"
   },
   {
    "duration": 44,
    "start_time": "2021-11-18T06:25:33.840Z"
   },
   {
    "duration": 11,
    "start_time": "2021-11-18T06:25:33.887Z"
   },
   {
    "duration": 10,
    "start_time": "2021-11-18T06:25:33.901Z"
   },
   {
    "duration": 15,
    "start_time": "2021-11-18T06:25:33.914Z"
   },
   {
    "duration": 53,
    "start_time": "2021-11-18T06:25:33.932Z"
   },
   {
    "duration": 19,
    "start_time": "2021-11-18T06:25:33.988Z"
   },
   {
    "duration": 10,
    "start_time": "2021-11-18T06:25:34.010Z"
   },
   {
    "duration": 18,
    "start_time": "2021-11-18T06:25:34.022Z"
   },
   {
    "duration": 201,
    "start_time": "2021-11-18T06:25:34.043Z"
   },
   {
    "duration": 14,
    "start_time": "2021-11-18T06:25:34.247Z"
   },
   {
    "duration": 650,
    "start_time": "2021-11-18T06:25:34.282Z"
   },
   {
    "duration": -678,
    "start_time": "2021-11-18T06:25:35.614Z"
   },
   {
    "duration": -691,
    "start_time": "2021-11-18T06:25:35.629Z"
   },
   {
    "duration": -704,
    "start_time": "2021-11-18T06:25:35.644Z"
   },
   {
    "duration": -715,
    "start_time": "2021-11-18T06:25:35.657Z"
   },
   {
    "duration": -726,
    "start_time": "2021-11-18T06:25:35.670Z"
   },
   {
    "duration": -739,
    "start_time": "2021-11-18T06:25:35.685Z"
   },
   {
    "duration": -770,
    "start_time": "2021-11-18T06:25:35.719Z"
   },
   {
    "duration": -783,
    "start_time": "2021-11-18T06:25:35.734Z"
   },
   {
    "duration": -794,
    "start_time": "2021-11-18T06:25:35.747Z"
   },
   {
    "duration": -806,
    "start_time": "2021-11-18T06:25:35.760Z"
   },
   {
    "duration": -816,
    "start_time": "2021-11-18T06:25:35.773Z"
   },
   {
    "duration": -828,
    "start_time": "2021-11-18T06:25:35.787Z"
   },
   {
    "duration": -838,
    "start_time": "2021-11-18T06:25:35.799Z"
   },
   {
    "duration": -853,
    "start_time": "2021-11-18T06:25:35.815Z"
   },
   {
    "duration": -883,
    "start_time": "2021-11-18T06:25:35.847Z"
   },
   {
    "duration": -895,
    "start_time": "2021-11-18T06:25:35.861Z"
   },
   {
    "duration": 47,
    "start_time": "2021-11-18T06:36:31.932Z"
   },
   {
    "duration": 13,
    "start_time": "2021-11-18T06:36:33.486Z"
   },
   {
    "duration": 9,
    "start_time": "2021-11-18T06:36:34.580Z"
   },
   {
    "duration": 6,
    "start_time": "2021-11-18T06:36:40.122Z"
   },
   {
    "duration": 10,
    "start_time": "2021-11-18T06:36:41.363Z"
   },
   {
    "duration": 9,
    "start_time": "2021-11-18T06:36:42.252Z"
   },
   {
    "duration": 1311,
    "start_time": "2021-11-18T06:36:47.218Z"
   },
   {
    "duration": 509,
    "start_time": "2021-11-18T06:37:00.679Z"
   },
   {
    "duration": 47,
    "start_time": "2021-11-18T06:37:14.922Z"
   },
   {
    "duration": 593,
    "start_time": "2021-11-18T06:37:29.050Z"
   },
   {
    "duration": 354,
    "start_time": "2021-11-18T06:37:38.466Z"
   },
   {
    "duration": 49,
    "start_time": "2021-11-18T06:38:08.226Z"
   },
   {
    "duration": 30,
    "start_time": "2021-11-18T06:38:14.591Z"
   },
   {
    "duration": 6,
    "start_time": "2021-11-18T06:39:36.915Z"
   },
   {
    "duration": 12,
    "start_time": "2021-11-18T06:39:39.869Z"
   },
   {
    "duration": 15,
    "start_time": "2021-11-18T06:39:41.731Z"
   },
   {
    "duration": 13,
    "start_time": "2021-11-18T06:41:39.606Z"
   },
   {
    "duration": 5,
    "start_time": "2021-11-18T06:41:48.246Z"
   },
   {
    "duration": 24,
    "start_time": "2021-11-18T06:42:06.493Z"
   },
   {
    "duration": 15,
    "start_time": "2021-11-18T06:42:07.318Z"
   },
   {
    "duration": 23,
    "start_time": "2021-11-18T06:43:22.127Z"
   },
   {
    "duration": 24,
    "start_time": "2021-11-18T06:44:19.938Z"
   },
   {
    "duration": 293,
    "start_time": "2021-11-18T06:44:34.884Z"
   },
   {
    "duration": 726,
    "start_time": "2021-11-18T06:44:56.509Z"
   },
   {
    "duration": 898,
    "start_time": "2021-11-18T06:46:09.188Z"
   },
   {
    "duration": 1069,
    "start_time": "2021-11-18T06:46:21.193Z"
   },
   {
    "duration": 762,
    "start_time": "2021-11-18T06:46:29.878Z"
   },
   {
    "duration": 4,
    "start_time": "2021-11-18T07:00:40.361Z"
   },
   {
    "duration": 7,
    "start_time": "2021-11-18T07:00:42.675Z"
   },
   {
    "duration": 21,
    "start_time": "2021-11-18T07:01:03.897Z"
   },
   {
    "duration": 10,
    "start_time": "2021-11-18T07:01:14.549Z"
   },
   {
    "duration": 10,
    "start_time": "2021-11-18T07:01:22.256Z"
   },
   {
    "duration": 646,
    "start_time": "2021-11-18T07:04:16.767Z"
   },
   {
    "duration": 7,
    "start_time": "2021-11-18T07:04:54.530Z"
   },
   {
    "duration": 626,
    "start_time": "2021-11-18T07:05:00.473Z"
   },
   {
    "duration": 5,
    "start_time": "2021-11-18T07:05:17.383Z"
   },
   {
    "duration": 7,
    "start_time": "2021-11-18T07:05:22.984Z"
   },
   {
    "duration": 16,
    "start_time": "2021-11-18T07:09:50.831Z"
   },
   {
    "duration": 14,
    "start_time": "2021-11-18T07:12:37.793Z"
   },
   {
    "duration": 13,
    "start_time": "2021-11-18T07:16:08.347Z"
   },
   {
    "duration": 9,
    "start_time": "2021-11-18T07:38:41.308Z"
   },
   {
    "duration": 8,
    "start_time": "2021-11-18T07:38:47.976Z"
   },
   {
    "duration": 37,
    "start_time": "2021-11-18T07:39:29.296Z"
   },
   {
    "duration": 295,
    "start_time": "2021-11-18T07:40:26.689Z"
   },
   {
    "duration": 10,
    "start_time": "2021-11-18T07:41:06.771Z"
   },
   {
    "duration": 5,
    "start_time": "2021-11-18T07:49:09.741Z"
   },
   {
    "duration": 227,
    "start_time": "2021-11-18T07:49:09.757Z"
   },
   {
    "duration": 15,
    "start_time": "2021-11-18T07:49:09.987Z"
   },
   {
    "duration": 14,
    "start_time": "2021-11-18T07:49:10.006Z"
   },
   {
    "duration": 8,
    "start_time": "2021-11-18T07:49:10.023Z"
   },
   {
    "duration": 11,
    "start_time": "2021-11-18T07:49:10.035Z"
   },
   {
    "duration": 478,
    "start_time": "2021-11-18T07:49:10.048Z"
   },
   {
    "duration": 8,
    "start_time": "2021-11-18T07:49:10.529Z"
   },
   {
    "duration": 9,
    "start_time": "2021-11-18T07:49:10.540Z"
   },
   {
    "duration": 386,
    "start_time": "2021-11-18T07:49:10.581Z"
   },
   {
    "duration": 20,
    "start_time": "2021-11-18T07:49:10.970Z"
   },
   {
    "duration": 42,
    "start_time": "2021-11-18T07:49:10.993Z"
   },
   {
    "duration": 21,
    "start_time": "2021-11-18T07:49:11.037Z"
   },
   {
    "duration": 16,
    "start_time": "2021-11-18T07:49:11.081Z"
   },
   {
    "duration": 406,
    "start_time": "2021-11-18T07:49:11.099Z"
   },
   {
    "duration": 107,
    "start_time": "2021-11-18T07:49:11.508Z"
   },
   {
    "duration": 14,
    "start_time": "2021-11-18T07:49:11.618Z"
   },
   {
    "duration": 4437,
    "start_time": "2021-11-18T07:49:11.635Z"
   },
   {
    "duration": 14,
    "start_time": "2021-11-18T07:49:16.075Z"
   },
   {
    "duration": 321,
    "start_time": "2021-11-18T07:49:16.091Z"
   },
   {
    "duration": 84,
    "start_time": "2021-11-18T07:49:16.415Z"
   },
   {
    "duration": 127,
    "start_time": "2021-11-18T07:49:16.502Z"
   },
   {
    "duration": 371,
    "start_time": "2021-11-18T07:49:16.632Z"
   },
   {
    "duration": 51,
    "start_time": "2021-11-18T07:49:17.009Z"
   },
   {
    "duration": 216,
    "start_time": "2021-11-18T07:49:17.063Z"
   },
   {
    "duration": 10,
    "start_time": "2021-11-18T07:49:17.282Z"
   },
   {
    "duration": 17,
    "start_time": "2021-11-18T07:49:17.295Z"
   },
   {
    "duration": 10,
    "start_time": "2021-11-18T07:49:17.315Z"
   },
   {
    "duration": 18,
    "start_time": "2021-11-18T07:49:17.327Z"
   },
   {
    "duration": 6,
    "start_time": "2021-11-18T07:49:17.347Z"
   },
   {
    "duration": 16,
    "start_time": "2021-11-18T07:49:17.383Z"
   },
   {
    "duration": 6,
    "start_time": "2021-11-18T07:49:17.401Z"
   },
   {
    "duration": 35,
    "start_time": "2021-11-18T07:49:17.409Z"
   },
   {
    "duration": 11,
    "start_time": "2021-11-18T07:49:17.447Z"
   },
   {
    "duration": 33,
    "start_time": "2021-11-18T07:49:17.460Z"
   },
   {
    "duration": 20,
    "start_time": "2021-11-18T07:49:17.496Z"
   },
   {
    "duration": 8,
    "start_time": "2021-11-18T07:49:17.519Z"
   },
   {
    "duration": 16,
    "start_time": "2021-11-18T07:49:17.530Z"
   },
   {
    "duration": 35,
    "start_time": "2021-11-18T07:49:17.549Z"
   },
   {
    "duration": 15,
    "start_time": "2021-11-18T07:49:17.588Z"
   },
   {
    "duration": 9,
    "start_time": "2021-11-18T07:49:17.606Z"
   },
   {
    "duration": 18,
    "start_time": "2021-11-18T07:49:17.618Z"
   },
   {
    "duration": 144,
    "start_time": "2021-11-18T07:49:17.683Z"
   },
   {
    "duration": 17,
    "start_time": "2021-11-18T07:49:17.830Z"
   },
   {
    "duration": 76,
    "start_time": "2021-11-18T07:49:17.850Z"
   },
   {
    "duration": 11,
    "start_time": "2021-11-18T07:49:17.928Z"
   },
   {
    "duration": 12,
    "start_time": "2021-11-18T07:49:17.941Z"
   },
   {
    "duration": 32,
    "start_time": "2021-11-18T07:49:17.956Z"
   },
   {
    "duration": 18,
    "start_time": "2021-11-18T07:49:17.991Z"
   },
   {
    "duration": 14,
    "start_time": "2021-11-18T07:49:18.011Z"
   },
   {
    "duration": 695,
    "start_time": "2021-11-18T07:49:18.027Z"
   },
   {
    "duration": 40,
    "start_time": "2021-11-18T07:49:18.724Z"
   },
   {
    "duration": 623,
    "start_time": "2021-11-18T07:49:18.783Z"
   },
   {
    "duration": 43,
    "start_time": "2021-11-18T07:49:19.408Z"
   },
   {
    "duration": 50,
    "start_time": "2021-11-18T07:49:19.454Z"
   },
   {
    "duration": 16,
    "start_time": "2021-11-18T07:49:19.507Z"
   },
   {
    "duration": 18,
    "start_time": "2021-11-18T07:49:19.525Z"
   },
   {
    "duration": 44,
    "start_time": "2021-11-18T07:49:19.546Z"
   },
   {
    "duration": 27,
    "start_time": "2021-11-18T07:49:19.592Z"
   },
   {
    "duration": 766,
    "start_time": "2021-11-18T07:49:19.621Z"
   },
   {
    "duration": 4,
    "start_time": "2021-11-18T07:49:20.389Z"
   },
   {
    "duration": 10,
    "start_time": "2021-11-18T07:49:20.395Z"
   },
   {
    "duration": 24,
    "start_time": "2021-11-18T07:49:20.408Z"
   },
   {
    "duration": 15,
    "start_time": "2021-11-18T07:49:20.434Z"
   },
   {
    "duration": 11,
    "start_time": "2021-11-18T07:49:20.452Z"
   },
   {
    "duration": 12,
    "start_time": "2021-11-18T07:49:20.483Z"
   },
   {
    "duration": 1590,
    "start_time": "2021-11-18T19:47:12.222Z"
   },
   {
    "duration": 71,
    "start_time": "2021-11-18T19:47:13.814Z"
   },
   {
    "duration": 13,
    "start_time": "2021-11-18T19:47:13.888Z"
   },
   {
    "duration": 6,
    "start_time": "2021-11-18T19:47:13.903Z"
   },
   {
    "duration": 7,
    "start_time": "2021-11-18T19:47:13.911Z"
   },
   {
    "duration": 6,
    "start_time": "2021-11-18T19:47:13.919Z"
   },
   {
    "duration": 247,
    "start_time": "2021-11-18T19:47:13.927Z"
   },
   {
    "duration": 7,
    "start_time": "2021-11-18T19:47:14.178Z"
   },
   {
    "duration": 9,
    "start_time": "2021-11-18T19:47:14.187Z"
   },
   {
    "duration": 322,
    "start_time": "2021-11-18T19:47:14.198Z"
   },
   {
    "duration": 10,
    "start_time": "2021-11-18T19:47:14.522Z"
   },
   {
    "duration": 29,
    "start_time": "2021-11-18T19:47:14.544Z"
   },
   {
    "duration": 15,
    "start_time": "2021-11-18T19:47:14.574Z"
   },
   {
    "duration": 14,
    "start_time": "2021-11-18T19:47:14.590Z"
   },
   {
    "duration": 242,
    "start_time": "2021-11-18T19:47:14.606Z"
   },
   {
    "duration": 67,
    "start_time": "2021-11-18T19:47:14.850Z"
   },
   {
    "duration": 10,
    "start_time": "2021-11-18T19:47:14.918Z"
   },
   {
    "duration": 954,
    "start_time": "2021-11-18T19:47:14.945Z"
   },
   {
    "duration": 9,
    "start_time": "2021-11-18T19:47:15.901Z"
   },
   {
    "duration": 243,
    "start_time": "2021-11-18T19:47:15.912Z"
   },
   {
    "duration": 53,
    "start_time": "2021-11-18T19:47:16.157Z"
   },
   {
    "duration": 98,
    "start_time": "2021-11-18T19:47:16.212Z"
   },
   {
    "duration": 233,
    "start_time": "2021-11-18T19:47:16.314Z"
   },
   {
    "duration": 37,
    "start_time": "2021-11-18T19:47:16.549Z"
   },
   {
    "duration": 144,
    "start_time": "2021-11-18T19:47:16.588Z"
   },
   {
    "duration": 7,
    "start_time": "2021-11-18T19:47:16.734Z"
   },
   {
    "duration": 18,
    "start_time": "2021-11-18T19:47:16.742Z"
   },
   {
    "duration": 10,
    "start_time": "2021-11-18T19:47:16.762Z"
   },
   {
    "duration": 31,
    "start_time": "2021-11-18T19:47:16.774Z"
   },
   {
    "duration": 5,
    "start_time": "2021-11-18T19:47:16.806Z"
   },
   {
    "duration": 20,
    "start_time": "2021-11-18T19:47:16.813Z"
   },
   {
    "duration": 13,
    "start_time": "2021-11-18T19:47:16.835Z"
   },
   {
    "duration": 11,
    "start_time": "2021-11-18T19:47:16.850Z"
   },
   {
    "duration": 17,
    "start_time": "2021-11-18T19:47:16.862Z"
   },
   {
    "duration": 14,
    "start_time": "2021-11-18T19:47:16.881Z"
   },
   {
    "duration": 8,
    "start_time": "2021-11-18T19:47:16.897Z"
   },
   {
    "duration": 15,
    "start_time": "2021-11-18T19:47:16.907Z"
   },
   {
    "duration": 13,
    "start_time": "2021-11-18T19:47:16.924Z"
   },
   {
    "duration": 12,
    "start_time": "2021-11-18T19:47:16.939Z"
   },
   {
    "duration": 25,
    "start_time": "2021-11-18T19:47:16.952Z"
   },
   {
    "duration": 6,
    "start_time": "2021-11-18T19:47:16.978Z"
   },
   {
    "duration": 12,
    "start_time": "2021-11-18T19:47:16.986Z"
   },
   {
    "duration": 94,
    "start_time": "2021-11-18T19:47:17.000Z"
   },
   {
    "duration": 10,
    "start_time": "2021-11-18T19:47:17.095Z"
   },
   {
    "duration": 41,
    "start_time": "2021-11-18T19:47:17.107Z"
   },
   {
    "duration": 7,
    "start_time": "2021-11-18T19:47:17.150Z"
   },
   {
    "duration": 8,
    "start_time": "2021-11-18T19:47:17.159Z"
   },
   {
    "duration": 5,
    "start_time": "2021-11-18T19:47:17.169Z"
   },
   {
    "duration": 12,
    "start_time": "2021-11-18T19:47:17.175Z"
   },
   {
    "duration": 13,
    "start_time": "2021-11-18T19:47:17.189Z"
   },
   {
    "duration": 821,
    "start_time": "2021-11-18T19:47:17.204Z"
   },
   {
    "duration": 37,
    "start_time": "2021-11-18T19:47:18.027Z"
   },
   {
    "duration": 455,
    "start_time": "2021-11-18T19:47:18.066Z"
   },
   {
    "duration": 38,
    "start_time": "2021-11-18T19:47:18.523Z"
   },
   {
    "duration": 19,
    "start_time": "2021-11-18T19:47:18.563Z"
   },
   {
    "duration": 10,
    "start_time": "2021-11-18T19:47:18.584Z"
   },
   {
    "duration": 12,
    "start_time": "2021-11-18T19:47:18.596Z"
   },
   {
    "duration": 36,
    "start_time": "2021-11-18T19:47:18.610Z"
   },
   {
    "duration": 18,
    "start_time": "2021-11-18T19:47:18.648Z"
   },
   {
    "duration": 454,
    "start_time": "2021-11-18T19:47:18.668Z"
   },
   {
    "duration": 2,
    "start_time": "2021-11-18T19:47:19.124Z"
   },
   {
    "duration": 18,
    "start_time": "2021-11-18T19:47:19.128Z"
   },
   {
    "duration": 11,
    "start_time": "2021-11-18T19:47:19.148Z"
   },
   {
    "duration": 17,
    "start_time": "2021-11-18T19:47:19.161Z"
   },
   {
    "duration": 5,
    "start_time": "2021-11-18T19:47:19.180Z"
   },
   {
    "duration": 10,
    "start_time": "2021-11-18T19:47:19.186Z"
   },
   {
    "duration": 231,
    "start_time": "2021-11-18T20:22:26.678Z"
   },
   {
    "duration": 330,
    "start_time": "2021-11-18T20:22:31.231Z"
   },
   {
    "duration": 214,
    "start_time": "2021-11-18T20:22:34.642Z"
   },
   {
    "duration": 4,
    "start_time": "2021-11-18T20:32:56.750Z"
   },
   {
    "duration": 4,
    "start_time": "2021-11-18T20:33:02.860Z"
   },
   {
    "duration": 2080,
    "start_time": "2021-11-18T21:04:56.233Z"
   },
   {
    "duration": 112,
    "start_time": "2021-11-18T21:04:58.315Z"
   },
   {
    "duration": 11,
    "start_time": "2021-11-18T21:04:58.429Z"
   },
   {
    "duration": 5,
    "start_time": "2021-11-18T21:04:58.443Z"
   },
   {
    "duration": 10,
    "start_time": "2021-11-18T21:04:58.449Z"
   },
   {
    "duration": 6,
    "start_time": "2021-11-18T21:04:58.461Z"
   },
   {
    "duration": 262,
    "start_time": "2021-11-18T21:04:58.468Z"
   },
   {
    "duration": 5,
    "start_time": "2021-11-18T21:04:58.733Z"
   },
   {
    "duration": 6,
    "start_time": "2021-11-18T21:04:58.744Z"
   },
   {
    "duration": 277,
    "start_time": "2021-11-18T21:04:58.752Z"
   },
   {
    "duration": 7,
    "start_time": "2021-11-18T21:04:59.031Z"
   },
   {
    "duration": 28,
    "start_time": "2021-11-18T21:04:59.040Z"
   },
   {
    "duration": 13,
    "start_time": "2021-11-18T21:04:59.070Z"
   },
   {
    "duration": 11,
    "start_time": "2021-11-18T21:04:59.085Z"
   },
   {
    "duration": 359,
    "start_time": "2021-11-18T21:04:59.098Z"
   },
   {
    "duration": 127,
    "start_time": "2021-11-18T21:04:59.458Z"
   },
   {
    "duration": 10,
    "start_time": "2021-11-18T21:04:59.586Z"
   },
   {
    "duration": 905,
    "start_time": "2021-11-18T21:04:59.597Z"
   },
   {
    "duration": 8,
    "start_time": "2021-11-18T21:05:00.504Z"
   },
   {
    "duration": 259,
    "start_time": "2021-11-18T21:05:00.513Z"
   },
   {
    "duration": 52,
    "start_time": "2021-11-18T21:05:00.774Z"
   },
   {
    "duration": 96,
    "start_time": "2021-11-18T21:05:00.828Z"
   },
   {
    "duration": 237,
    "start_time": "2021-11-18T21:05:00.928Z"
   },
   {
    "duration": 39,
    "start_time": "2021-11-18T21:05:01.167Z"
   },
   {
    "duration": 123,
    "start_time": "2021-11-18T21:05:01.208Z"
   },
   {
    "duration": 7,
    "start_time": "2021-11-18T21:05:01.333Z"
   },
   {
    "duration": 12,
    "start_time": "2021-11-18T21:05:01.342Z"
   },
   {
    "duration": 10,
    "start_time": "2021-11-18T21:05:01.355Z"
   },
   {
    "duration": 16,
    "start_time": "2021-11-18T21:05:01.366Z"
   },
   {
    "duration": 4,
    "start_time": "2021-11-18T21:05:01.384Z"
   },
   {
    "duration": 39,
    "start_time": "2021-11-18T21:05:01.390Z"
   },
   {
    "duration": 8,
    "start_time": "2021-11-18T21:05:01.431Z"
   },
   {
    "duration": 11,
    "start_time": "2021-11-18T21:05:01.440Z"
   },
   {
    "duration": 8,
    "start_time": "2021-11-18T21:05:01.453Z"
   },
   {
    "duration": 9,
    "start_time": "2021-11-18T21:05:01.463Z"
   },
   {
    "duration": 6,
    "start_time": "2021-11-18T21:05:01.474Z"
   },
   {
    "duration": 6,
    "start_time": "2021-11-18T21:05:01.482Z"
   },
   {
    "duration": 16,
    "start_time": "2021-11-18T21:05:01.490Z"
   },
   {
    "duration": 6,
    "start_time": "2021-11-18T21:05:01.508Z"
   },
   {
    "duration": 34,
    "start_time": "2021-11-18T21:05:01.516Z"
   },
   {
    "duration": 14,
    "start_time": "2021-11-18T21:05:01.552Z"
   },
   {
    "duration": 16,
    "start_time": "2021-11-18T21:05:01.568Z"
   },
   {
    "duration": 106,
    "start_time": "2021-11-18T21:05:01.586Z"
   },
   {
    "duration": 10,
    "start_time": "2021-11-18T21:05:01.694Z"
   },
   {
    "duration": 50,
    "start_time": "2021-11-18T21:05:01.706Z"
   },
   {
    "duration": 6,
    "start_time": "2021-11-18T21:05:01.758Z"
   },
   {
    "duration": 8,
    "start_time": "2021-11-18T21:05:01.766Z"
   },
   {
    "duration": 8,
    "start_time": "2021-11-18T21:05:01.775Z"
   },
   {
    "duration": 10,
    "start_time": "2021-11-18T21:05:01.785Z"
   },
   {
    "duration": 8,
    "start_time": "2021-11-18T21:05:01.797Z"
   },
   {
    "duration": 892,
    "start_time": "2021-11-18T21:05:01.807Z"
   },
   {
    "duration": 58,
    "start_time": "2021-11-18T21:05:02.701Z"
   },
   {
    "duration": 423,
    "start_time": "2021-11-18T21:05:02.761Z"
   },
   {
    "duration": 28,
    "start_time": "2021-11-18T21:05:03.185Z"
   },
   {
    "duration": 36,
    "start_time": "2021-11-18T21:05:03.215Z"
   },
   {
    "duration": 8,
    "start_time": "2021-11-18T21:05:03.253Z"
   },
   {
    "duration": 11,
    "start_time": "2021-11-18T21:05:03.263Z"
   },
   {
    "duration": 6,
    "start_time": "2021-11-18T21:05:03.276Z"
   },
   {
    "duration": 18,
    "start_time": "2021-11-18T21:05:03.284Z"
   },
   {
    "duration": 467,
    "start_time": "2021-11-18T21:05:03.303Z"
   },
   {
    "duration": 2,
    "start_time": "2021-11-18T21:05:03.773Z"
   },
   {
    "duration": 5,
    "start_time": "2021-11-18T21:05:03.777Z"
   },
   {
    "duration": 12,
    "start_time": "2021-11-18T21:05:03.784Z"
   },
   {
    "duration": 11,
    "start_time": "2021-11-18T21:05:03.798Z"
   },
   {
    "duration": 6,
    "start_time": "2021-11-18T21:05:03.811Z"
   },
   {
    "duration": 29,
    "start_time": "2021-11-18T21:05:03.819Z"
   },
   {
    "duration": 1636,
    "start_time": "2021-11-18T21:05:54.550Z"
   },
   {
    "duration": 47,
    "start_time": "2021-11-18T21:05:56.187Z"
   },
   {
    "duration": 10,
    "start_time": "2021-11-18T21:05:56.236Z"
   },
   {
    "duration": 6,
    "start_time": "2021-11-18T21:05:56.248Z"
   },
   {
    "duration": 6,
    "start_time": "2021-11-18T21:05:56.255Z"
   },
   {
    "duration": 6,
    "start_time": "2021-11-18T21:05:56.263Z"
   },
   {
    "duration": 280,
    "start_time": "2021-11-18T21:05:56.271Z"
   },
   {
    "duration": 6,
    "start_time": "2021-11-18T21:05:56.554Z"
   },
   {
    "duration": 7,
    "start_time": "2021-11-18T21:05:56.562Z"
   },
   {
    "duration": 302,
    "start_time": "2021-11-18T21:05:56.571Z"
   },
   {
    "duration": 8,
    "start_time": "2021-11-18T21:05:56.876Z"
   },
   {
    "duration": 31,
    "start_time": "2021-11-18T21:05:56.885Z"
   },
   {
    "duration": 29,
    "start_time": "2021-11-18T21:05:56.918Z"
   },
   {
    "duration": 13,
    "start_time": "2021-11-18T21:05:56.948Z"
   },
   {
    "duration": 254,
    "start_time": "2021-11-18T21:05:56.963Z"
   },
   {
    "duration": 90,
    "start_time": "2021-11-18T21:05:57.219Z"
   },
   {
    "duration": 9,
    "start_time": "2021-11-18T21:05:57.311Z"
   },
   {
    "duration": 792,
    "start_time": "2021-11-18T21:05:57.322Z"
   },
   {
    "duration": 7,
    "start_time": "2021-11-18T21:05:58.116Z"
   },
   {
    "duration": 255,
    "start_time": "2021-11-18T21:05:58.125Z"
   },
   {
    "duration": 64,
    "start_time": "2021-11-18T21:05:58.381Z"
   },
   {
    "duration": 83,
    "start_time": "2021-11-18T21:05:58.447Z"
   },
   {
    "duration": 248,
    "start_time": "2021-11-18T21:05:58.534Z"
   },
   {
    "duration": 38,
    "start_time": "2021-11-18T21:05:58.785Z"
   },
   {
    "duration": 88,
    "start_time": "2021-11-18T21:05:58.825Z"
   },
   {
    "duration": 6,
    "start_time": "2021-11-18T21:05:58.915Z"
   },
   {
    "duration": 10,
    "start_time": "2021-11-18T21:05:58.923Z"
   },
   {
    "duration": 7,
    "start_time": "2021-11-18T21:05:58.935Z"
   },
   {
    "duration": 13,
    "start_time": "2021-11-18T21:05:58.943Z"
   },
   {
    "duration": 4,
    "start_time": "2021-11-18T21:05:58.958Z"
   },
   {
    "duration": 13,
    "start_time": "2021-11-18T21:05:58.963Z"
   },
   {
    "duration": 3,
    "start_time": "2021-11-18T21:05:58.978Z"
   },
   {
    "duration": 8,
    "start_time": "2021-11-18T21:05:58.983Z"
   },
   {
    "duration": 6,
    "start_time": "2021-11-18T21:05:58.993Z"
   },
   {
    "duration": 6,
    "start_time": "2021-11-18T21:05:59.001Z"
   },
   {
    "duration": 39,
    "start_time": "2021-11-18T21:05:59.008Z"
   },
   {
    "duration": 4,
    "start_time": "2021-11-18T21:05:59.049Z"
   },
   {
    "duration": 11,
    "start_time": "2021-11-18T21:05:59.054Z"
   },
   {
    "duration": 4,
    "start_time": "2021-11-18T21:05:59.067Z"
   },
   {
    "duration": 9,
    "start_time": "2021-11-18T21:05:59.073Z"
   },
   {
    "duration": 5,
    "start_time": "2021-11-18T21:05:59.084Z"
   },
   {
    "duration": 12,
    "start_time": "2021-11-18T21:05:59.091Z"
   },
   {
    "duration": 140,
    "start_time": "2021-11-18T21:05:59.104Z"
   },
   {
    "duration": 9,
    "start_time": "2021-11-18T21:05:59.246Z"
   },
   {
    "duration": 32,
    "start_time": "2021-11-18T21:05:59.256Z"
   },
   {
    "duration": 6,
    "start_time": "2021-11-18T21:05:59.289Z"
   },
   {
    "duration": 8,
    "start_time": "2021-11-18T21:05:59.296Z"
   },
   {
    "duration": 5,
    "start_time": "2021-11-18T21:05:59.305Z"
   },
   {
    "duration": 34,
    "start_time": "2021-11-18T21:05:59.311Z"
   },
   {
    "duration": 6,
    "start_time": "2021-11-18T21:05:59.347Z"
   },
   {
    "duration": 801,
    "start_time": "2021-11-18T21:05:59.355Z"
   },
   {
    "duration": 29,
    "start_time": "2021-11-18T21:06:00.158Z"
   },
   {
    "duration": 466,
    "start_time": "2021-11-18T21:06:00.189Z"
   },
   {
    "duration": 29,
    "start_time": "2021-11-18T21:06:00.657Z"
   },
   {
    "duration": 20,
    "start_time": "2021-11-18T21:06:00.688Z"
   },
   {
    "duration": 9,
    "start_time": "2021-11-18T21:06:00.709Z"
   },
   {
    "duration": 35,
    "start_time": "2021-11-18T21:06:00.720Z"
   },
   {
    "duration": 7,
    "start_time": "2021-11-18T21:06:00.756Z"
   },
   {
    "duration": 22,
    "start_time": "2021-11-18T21:06:00.765Z"
   },
   {
    "duration": 455,
    "start_time": "2021-11-18T21:06:00.789Z"
   },
   {
    "duration": 2,
    "start_time": "2021-11-18T21:06:01.246Z"
   },
   {
    "duration": 9,
    "start_time": "2021-11-18T21:06:01.250Z"
   },
   {
    "duration": 21,
    "start_time": "2021-11-18T21:06:01.261Z"
   },
   {
    "duration": 15,
    "start_time": "2021-11-18T21:06:01.284Z"
   },
   {
    "duration": 10,
    "start_time": "2021-11-18T21:06:01.301Z"
   },
   {
    "duration": 24,
    "start_time": "2021-11-18T21:06:01.313Z"
   },
   {
    "duration": 2151,
    "start_time": "2021-11-19T05:18:09.339Z"
   },
   {
    "duration": 165,
    "start_time": "2021-11-19T05:18:11.492Z"
   },
   {
    "duration": 16,
    "start_time": "2021-11-19T05:18:11.660Z"
   },
   {
    "duration": 8,
    "start_time": "2021-11-19T05:18:11.679Z"
   },
   {
    "duration": 16,
    "start_time": "2021-11-19T05:18:11.689Z"
   },
   {
    "duration": 11,
    "start_time": "2021-11-19T05:18:11.707Z"
   },
   {
    "duration": 442,
    "start_time": "2021-11-19T05:18:11.720Z"
   },
   {
    "duration": 9,
    "start_time": "2021-11-19T05:18:12.165Z"
   },
   {
    "duration": 9,
    "start_time": "2021-11-19T05:18:12.177Z"
   },
   {
    "duration": 318,
    "start_time": "2021-11-19T05:18:12.188Z"
   },
   {
    "duration": 13,
    "start_time": "2021-11-19T05:18:12.509Z"
   },
   {
    "duration": 65,
    "start_time": "2021-11-19T05:18:12.525Z"
   },
   {
    "duration": 23,
    "start_time": "2021-11-19T05:18:12.593Z"
   },
   {
    "duration": 43,
    "start_time": "2021-11-19T05:18:12.619Z"
   },
   {
    "duration": 357,
    "start_time": "2021-11-19T05:18:12.664Z"
   },
   {
    "duration": 100,
    "start_time": "2021-11-19T05:18:13.024Z"
   },
   {
    "duration": 13,
    "start_time": "2021-11-19T05:18:13.127Z"
   },
   {
    "duration": 1241,
    "start_time": "2021-11-19T05:18:13.142Z"
   },
   {
    "duration": 11,
    "start_time": "2021-11-19T05:18:14.385Z"
   },
   {
    "duration": 328,
    "start_time": "2021-11-19T05:18:14.399Z"
   },
   {
    "duration": 81,
    "start_time": "2021-11-19T05:18:14.729Z"
   },
   {
    "duration": 132,
    "start_time": "2021-11-19T05:18:14.812Z"
   },
   {
    "duration": 362,
    "start_time": "2021-11-19T05:18:14.950Z"
   },
   {
    "duration": 57,
    "start_time": "2021-11-19T05:18:15.315Z"
   },
   {
    "duration": 168,
    "start_time": "2021-11-19T05:18:15.374Z"
   },
   {
    "duration": 9,
    "start_time": "2021-11-19T05:18:15.545Z"
   },
   {
    "duration": 19,
    "start_time": "2021-11-19T05:18:15.557Z"
   },
   {
    "duration": 9,
    "start_time": "2021-11-19T05:18:15.578Z"
   },
   {
    "duration": 19,
    "start_time": "2021-11-19T05:18:15.590Z"
   },
   {
    "duration": 6,
    "start_time": "2021-11-19T05:18:15.611Z"
   },
   {
    "duration": 40,
    "start_time": "2021-11-19T05:18:15.619Z"
   },
   {
    "duration": 5,
    "start_time": "2021-11-19T05:18:15.662Z"
   },
   {
    "duration": 14,
    "start_time": "2021-11-19T05:18:15.670Z"
   },
   {
    "duration": 7,
    "start_time": "2021-11-19T05:18:15.687Z"
   },
   {
    "duration": 8,
    "start_time": "2021-11-19T05:18:15.697Z"
   },
   {
    "duration": 8,
    "start_time": "2021-11-19T05:18:15.708Z"
   },
   {
    "duration": 6,
    "start_time": "2021-11-19T05:18:15.760Z"
   },
   {
    "duration": 12,
    "start_time": "2021-11-19T05:18:15.768Z"
   },
   {
    "duration": 6,
    "start_time": "2021-11-19T05:18:15.782Z"
   },
   {
    "duration": 11,
    "start_time": "2021-11-19T05:18:15.791Z"
   },
   {
    "duration": 9,
    "start_time": "2021-11-19T05:18:15.805Z"
   },
   {
    "duration": 57,
    "start_time": "2021-11-19T05:18:15.816Z"
   },
   {
    "duration": 149,
    "start_time": "2021-11-19T05:18:15.875Z"
   },
   {
    "duration": 14,
    "start_time": "2021-11-19T05:18:16.027Z"
   },
   {
    "duration": 62,
    "start_time": "2021-11-19T05:18:16.043Z"
   },
   {
    "duration": 9,
    "start_time": "2021-11-19T05:18:16.107Z"
   },
   {
    "duration": 12,
    "start_time": "2021-11-19T05:18:16.118Z"
   },
   {
    "duration": 32,
    "start_time": "2021-11-19T05:18:16.132Z"
   },
   {
    "duration": 15,
    "start_time": "2021-11-19T05:18:16.167Z"
   },
   {
    "duration": 19,
    "start_time": "2021-11-19T05:18:16.184Z"
   },
   {
    "duration": 1178,
    "start_time": "2021-11-19T05:18:16.206Z"
   },
   {
    "duration": 82,
    "start_time": "2021-11-19T05:18:17.386Z"
   },
   {
    "duration": 695,
    "start_time": "2021-11-19T05:18:17.471Z"
   },
   {
    "duration": 39,
    "start_time": "2021-11-19T05:18:18.169Z"
   },
   {
    "duration": 53,
    "start_time": "2021-11-19T05:18:18.211Z"
   },
   {
    "duration": 13,
    "start_time": "2021-11-19T05:18:18.267Z"
   },
   {
    "duration": 17,
    "start_time": "2021-11-19T05:18:18.282Z"
   },
   {
    "duration": 11,
    "start_time": "2021-11-19T05:18:18.302Z"
   },
   {
    "duration": 62,
    "start_time": "2021-11-19T05:18:18.316Z"
   },
   {
    "duration": 745,
    "start_time": "2021-11-19T05:18:18.381Z"
   },
   {
    "duration": 4,
    "start_time": "2021-11-19T05:18:19.128Z"
   },
   {
    "duration": 28,
    "start_time": "2021-11-19T05:18:19.134Z"
   },
   {
    "duration": 17,
    "start_time": "2021-11-19T05:18:19.164Z"
   },
   {
    "duration": 14,
    "start_time": "2021-11-19T05:18:19.183Z"
   },
   {
    "duration": 8,
    "start_time": "2021-11-19T05:18:19.199Z"
   },
   {
    "duration": 15,
    "start_time": "2021-11-19T05:18:19.209Z"
   },
   {
    "duration": 8,
    "start_time": "2021-11-19T05:20:41.809Z"
   },
   {
    "duration": 8,
    "start_time": "2021-11-19T05:21:05.930Z"
   },
   {
    "duration": 8,
    "start_time": "2021-11-19T05:21:17.423Z"
   },
   {
    "duration": 9,
    "start_time": "2021-11-19T05:21:21.735Z"
   },
   {
    "duration": 349,
    "start_time": "2021-11-19T05:21:37.631Z"
   },
   {
    "duration": 529,
    "start_time": "2021-11-19T05:23:11.696Z"
   },
   {
    "duration": 8,
    "start_time": "2021-11-19T05:26:16.890Z"
   },
   {
    "duration": 7,
    "start_time": "2021-11-19T05:28:15.962Z"
   },
   {
    "duration": 606,
    "start_time": "2021-11-19T05:31:26.332Z"
   },
   {
    "duration": 13,
    "start_time": "2021-11-19T05:31:43.249Z"
   },
   {
    "duration": 68,
    "start_time": "2021-11-19T05:32:01.553Z"
   },
   {
    "duration": 18,
    "start_time": "2021-11-19T05:32:16.743Z"
   },
   {
    "duration": 146,
    "start_time": "2021-11-19T05:33:54.209Z"
   },
   {
    "duration": 23,
    "start_time": "2021-11-19T05:34:02.140Z"
   },
   {
    "duration": 398,
    "start_time": "2021-11-19T05:34:42.687Z"
   },
   {
    "duration": 16,
    "start_time": "2021-11-19T05:34:55.874Z"
   },
   {
    "duration": 38,
    "start_time": "2021-11-19T05:35:21.350Z"
   },
   {
    "duration": 14,
    "start_time": "2021-11-19T05:35:22.194Z"
   },
   {
    "duration": 16,
    "start_time": "2021-11-19T05:35:32.703Z"
   },
   {
    "duration": 21,
    "start_time": "2021-11-19T05:36:13.214Z"
   },
   {
    "duration": 416,
    "start_time": "2021-11-19T05:37:45.683Z"
   },
   {
    "duration": 18,
    "start_time": "2021-11-19T05:37:54.592Z"
   },
   {
    "duration": 16,
    "start_time": "2021-11-19T05:38:03.669Z"
   },
   {
    "duration": 6,
    "start_time": "2021-11-19T05:38:18.276Z"
   },
   {
    "duration": 7,
    "start_time": "2021-11-19T05:38:29.206Z"
   },
   {
    "duration": 19,
    "start_time": "2021-11-19T05:38:41.737Z"
   },
   {
    "duration": 16,
    "start_time": "2021-11-19T05:39:11.512Z"
   },
   {
    "duration": 15,
    "start_time": "2021-11-19T05:39:26.526Z"
   },
   {
    "duration": 9,
    "start_time": "2021-11-19T05:39:34.410Z"
   },
   {
    "duration": 38,
    "start_time": "2021-11-19T05:39:37.480Z"
   },
   {
    "duration": 24,
    "start_time": "2021-11-19T05:39:38.218Z"
   },
   {
    "duration": 8,
    "start_time": "2021-11-19T05:39:40.831Z"
   },
   {
    "duration": 21,
    "start_time": "2021-11-19T05:39:53.149Z"
   },
   {
    "duration": 134,
    "start_time": "2021-11-19T05:40:37.165Z"
   },
   {
    "duration": 7,
    "start_time": "2021-11-19T05:41:06.737Z"
   },
   {
    "duration": 119,
    "start_time": "2021-11-19T05:41:25.611Z"
   },
   {
    "duration": 947,
    "start_time": "2021-11-19T05:41:32.754Z"
   },
   {
    "duration": 19,
    "start_time": "2021-11-19T05:41:47.664Z"
   },
   {
    "duration": 37,
    "start_time": "2021-11-19T05:42:02.525Z"
   },
   {
    "duration": 14,
    "start_time": "2021-11-19T05:42:02.978Z"
   },
   {
    "duration": 34,
    "start_time": "2021-11-19T05:42:05.324Z"
   },
   {
    "duration": 8,
    "start_time": "2021-11-19T05:42:18.625Z"
   },
   {
    "duration": 25,
    "start_time": "2021-11-19T05:42:27.602Z"
   },
   {
    "duration": 4,
    "start_time": "2021-11-19T05:42:49.852Z"
   },
   {
    "duration": 41,
    "start_time": "2021-11-19T05:43:01.530Z"
   },
   {
    "duration": 16,
    "start_time": "2021-11-19T05:43:02.067Z"
   },
   {
    "duration": 6,
    "start_time": "2021-11-19T05:43:04.201Z"
   },
   {
    "duration": 26,
    "start_time": "2021-11-19T05:43:04.964Z"
   },
   {
    "duration": 5,
    "start_time": "2021-11-19T05:46:22.028Z"
   },
   {
    "duration": 2105,
    "start_time": "2021-11-19T10:20:33.961Z"
   },
   {
    "duration": 91,
    "start_time": "2021-11-19T10:20:36.068Z"
   },
   {
    "duration": 16,
    "start_time": "2021-11-19T10:20:36.162Z"
   },
   {
    "duration": 21,
    "start_time": "2021-11-19T10:20:36.181Z"
   },
   {
    "duration": 16,
    "start_time": "2021-11-19T10:20:36.205Z"
   },
   {
    "duration": 9,
    "start_time": "2021-11-19T10:20:36.224Z"
   },
   {
    "duration": 465,
    "start_time": "2021-11-19T10:20:36.236Z"
   },
   {
    "duration": 12,
    "start_time": "2021-11-19T10:20:36.707Z"
   },
   {
    "duration": 9,
    "start_time": "2021-11-19T10:20:36.724Z"
   },
   {
    "duration": 330,
    "start_time": "2021-11-19T10:20:36.737Z"
   },
   {
    "duration": 19,
    "start_time": "2021-11-19T10:20:37.070Z"
   },
   {
    "duration": 55,
    "start_time": "2021-11-19T10:20:37.092Z"
   },
   {
    "duration": 66,
    "start_time": "2021-11-19T10:20:37.150Z"
   },
   {
    "duration": 21,
    "start_time": "2021-11-19T10:20:37.219Z"
   },
   {
    "duration": 9,
    "start_time": "2021-11-19T10:20:37.243Z"
   },
   {
    "duration": 435,
    "start_time": "2021-11-19T10:20:37.254Z"
   },
   {
    "duration": 120,
    "start_time": "2021-11-19T10:20:37.691Z"
   },
   {
    "duration": 15,
    "start_time": "2021-11-19T10:20:37.814Z"
   },
   {
    "duration": 1411,
    "start_time": "2021-11-19T10:20:37.832Z"
   },
   {
    "duration": 12,
    "start_time": "2021-11-19T10:20:39.245Z"
   },
   {
    "duration": 373,
    "start_time": "2021-11-19T10:20:39.260Z"
   },
   {
    "duration": 87,
    "start_time": "2021-11-19T10:20:39.635Z"
   },
   {
    "duration": 156,
    "start_time": "2021-11-19T10:20:39.728Z"
   },
   {
    "duration": 494,
    "start_time": "2021-11-19T10:20:39.888Z"
   },
   {
    "duration": 73,
    "start_time": "2021-11-19T10:20:40.384Z"
   },
   {
    "duration": 1975,
    "start_time": "2021-11-19T10:20:40.459Z"
   },
   {
    "duration": 11,
    "start_time": "2021-11-19T10:20:42.437Z"
   },
   {
    "duration": 42,
    "start_time": "2021-11-19T10:20:42.451Z"
   },
   {
    "duration": 22,
    "start_time": "2021-11-19T10:20:42.496Z"
   },
   {
    "duration": 34,
    "start_time": "2021-11-19T10:20:42.521Z"
   },
   {
    "duration": 35,
    "start_time": "2021-11-19T10:20:42.558Z"
   },
   {
    "duration": 16,
    "start_time": "2021-11-19T10:20:42.596Z"
   },
   {
    "duration": 51,
    "start_time": "2021-11-19T10:20:42.615Z"
   },
   {
    "duration": 10,
    "start_time": "2021-11-19T10:20:42.670Z"
   },
   {
    "duration": 39,
    "start_time": "2021-11-19T10:20:42.683Z"
   },
   {
    "duration": 28,
    "start_time": "2021-11-19T10:20:42.724Z"
   },
   {
    "duration": 18,
    "start_time": "2021-11-19T10:20:42.755Z"
   },
   {
    "duration": 34,
    "start_time": "2021-11-19T10:20:42.775Z"
   },
   {
    "duration": 30,
    "start_time": "2021-11-19T10:20:42.812Z"
   },
   {
    "duration": 36,
    "start_time": "2021-11-19T10:20:42.844Z"
   },
   {
    "duration": 33,
    "start_time": "2021-11-19T10:20:42.883Z"
   },
   {
    "duration": 62,
    "start_time": "2021-11-19T10:20:42.918Z"
   },
   {
    "duration": 22,
    "start_time": "2021-11-19T10:20:42.982Z"
   },
   {
    "duration": 17,
    "start_time": "2021-11-19T10:20:43.008Z"
   },
   {
    "duration": 50,
    "start_time": "2021-11-19T10:20:43.029Z"
   },
   {
    "duration": 14,
    "start_time": "2021-11-19T10:20:43.082Z"
   },
   {
    "duration": 31,
    "start_time": "2021-11-19T10:20:43.098Z"
   },
   {
    "duration": 36,
    "start_time": "2021-11-19T10:20:43.131Z"
   },
   {
    "duration": 240,
    "start_time": "2021-11-19T10:20:43.170Z"
   },
   {
    "duration": 16,
    "start_time": "2021-11-19T10:20:43.415Z"
   },
   {
    "duration": 96,
    "start_time": "2021-11-19T10:20:43.434Z"
   },
   {
    "duration": 12,
    "start_time": "2021-11-19T10:20:43.533Z"
   },
   {
    "duration": 24,
    "start_time": "2021-11-19T10:20:43.548Z"
   },
   {
    "duration": 33,
    "start_time": "2021-11-19T10:20:43.575Z"
   },
   {
    "duration": 26,
    "start_time": "2021-11-19T10:20:43.612Z"
   },
   {
    "duration": 37,
    "start_time": "2021-11-19T10:20:43.641Z"
   },
   {
    "duration": 1267,
    "start_time": "2021-11-19T10:20:43.681Z"
   },
   {
    "duration": 94,
    "start_time": "2021-11-19T10:20:44.951Z"
   },
   {
    "duration": 796,
    "start_time": "2021-11-19T10:20:45.048Z"
   },
   {
    "duration": 54,
    "start_time": "2021-11-19T10:20:45.846Z"
   },
   {
    "duration": 35,
    "start_time": "2021-11-19T10:20:45.902Z"
   },
   {
    "duration": 14,
    "start_time": "2021-11-19T10:20:45.939Z"
   },
   {
    "duration": 18,
    "start_time": "2021-11-19T10:20:45.956Z"
   },
   {
    "duration": 17,
    "start_time": "2021-11-19T10:20:46.001Z"
   },
   {
    "duration": 28,
    "start_time": "2021-11-19T10:20:46.021Z"
   },
   {
    "duration": 824,
    "start_time": "2021-11-19T10:20:46.051Z"
   },
   {
    "duration": 6,
    "start_time": "2021-11-19T10:20:46.878Z"
   },
   {
    "duration": 13,
    "start_time": "2021-11-19T10:20:46.904Z"
   },
   {
    "duration": 19,
    "start_time": "2021-11-19T10:20:46.920Z"
   },
   {
    "duration": 24,
    "start_time": "2021-11-19T10:20:46.942Z"
   },
   {
    "duration": 19,
    "start_time": "2021-11-19T10:20:46.969Z"
   },
   {
    "duration": 35,
    "start_time": "2021-11-19T10:20:46.991Z"
   },
   {
    "duration": 710,
    "start_time": "2021-11-19T11:48:58.745Z"
   },
   {
    "duration": 11,
    "start_time": "2021-11-19T11:49:05.066Z"
   },
   {
    "duration": 17,
    "start_time": "2021-11-19T11:49:20.091Z"
   },
   {
    "duration": 348,
    "start_time": "2021-11-19T11:53:06.930Z"
   },
   {
    "duration": 25,
    "start_time": "2021-11-19T11:53:28.133Z"
   },
   {
    "duration": 4,
    "start_time": "2021-11-19T12:15:18.889Z"
   },
   {
    "duration": 118,
    "start_time": "2021-11-19T12:16:16.824Z"
   },
   {
    "duration": 737,
    "start_time": "2021-11-19T12:16:30.144Z"
   },
   {
    "duration": 4,
    "start_time": "2021-11-19T12:17:00.551Z"
   },
   {
    "duration": 1270,
    "start_time": "2021-11-19T12:17:02.793Z"
   },
   {
    "duration": 13,
    "start_time": "2021-11-19T12:34:20.006Z"
   },
   {
    "duration": 5,
    "start_time": "2021-11-19T12:34:49.826Z"
   },
   {
    "duration": 722,
    "start_time": "2021-11-19T12:34:51.363Z"
   },
   {
    "duration": 3,
    "start_time": "2021-11-19T12:35:12.058Z"
   },
   {
    "duration": 804,
    "start_time": "2021-11-19T12:35:13.274Z"
   },
   {
    "duration": 4,
    "start_time": "2021-11-19T12:35:47.329Z"
   },
   {
    "duration": 799,
    "start_time": "2021-11-19T12:35:48.218Z"
   },
   {
    "duration": 4,
    "start_time": "2021-11-19T12:36:05.195Z"
   },
   {
    "duration": 21,
    "start_time": "2021-11-19T12:36:07.435Z"
   },
   {
    "duration": 21,
    "start_time": "2021-11-19T12:36:29.502Z"
   },
   {
    "duration": 5,
    "start_time": "2021-11-19T12:36:57.333Z"
   },
   {
    "duration": 23,
    "start_time": "2021-11-19T12:36:58.143Z"
   },
   {
    "duration": 6,
    "start_time": "2021-11-19T12:38:02.870Z"
   },
   {
    "duration": 11,
    "start_time": "2021-11-19T12:39:27.270Z"
   },
   {
    "duration": 40,
    "start_time": "2021-11-19T12:56:16.411Z"
   },
   {
    "duration": 37,
    "start_time": "2021-11-19T13:02:03.743Z"
   },
   {
    "duration": 36,
    "start_time": "2021-11-19T13:05:23.719Z"
   },
   {
    "duration": 35,
    "start_time": "2021-11-19T13:05:52.538Z"
   },
   {
    "duration": 42,
    "start_time": "2021-11-19T13:06:17.708Z"
   },
   {
    "duration": 37,
    "start_time": "2021-11-19T13:06:38.500Z"
   },
   {
    "duration": 14,
    "start_time": "2021-11-19T13:07:08.689Z"
   },
   {
    "duration": 11,
    "start_time": "2021-11-19T13:07:20.598Z"
   },
   {
    "duration": 13,
    "start_time": "2021-11-19T13:07:53.309Z"
   },
   {
    "duration": 9,
    "start_time": "2021-11-19T13:08:46.525Z"
   },
   {
    "duration": 14,
    "start_time": "2021-11-19T13:17:23.761Z"
   },
   {
    "duration": 8,
    "start_time": "2021-11-19T13:17:39.054Z"
   },
   {
    "duration": 14,
    "start_time": "2021-11-19T13:18:10.069Z"
   },
   {
    "duration": 880,
    "start_time": "2021-11-19T13:40:29.585Z"
   },
   {
    "duration": 328,
    "start_time": "2021-11-19T13:40:37.911Z"
   },
   {
    "duration": 349,
    "start_time": "2021-11-19T13:40:46.546Z"
   },
   {
    "duration": 118,
    "start_time": "2021-11-19T13:41:18.333Z"
   },
   {
    "duration": 10,
    "start_time": "2021-11-19T13:41:27.881Z"
   },
   {
    "duration": 12,
    "start_time": "2021-11-19T13:42:36.902Z"
   },
   {
    "duration": 6,
    "start_time": "2021-11-19T13:47:17.762Z"
   },
   {
    "duration": 1976,
    "start_time": "2021-11-19T13:48:31.004Z"
   },
   {
    "duration": 7,
    "start_time": "2021-11-19T13:48:37.296Z"
   },
   {
    "duration": 1642,
    "start_time": "2021-11-19T13:48:37.347Z"
   },
   {
    "duration": 336,
    "start_time": "2021-11-19T13:49:45.698Z"
   },
   {
    "duration": 7,
    "start_time": "2021-11-19T13:50:01.743Z"
   },
   {
    "duration": 238,
    "start_time": "2021-11-19T13:50:02.507Z"
   },
   {
    "duration": 234,
    "start_time": "2021-11-19T13:50:08.199Z"
   },
   {
    "duration": 6,
    "start_time": "2021-11-19T13:50:33.674Z"
   },
   {
    "duration": 270,
    "start_time": "2021-11-19T13:50:38.072Z"
   },
   {
    "duration": 6,
    "start_time": "2021-11-19T13:51:11.432Z"
   },
   {
    "duration": 381,
    "start_time": "2021-11-19T13:51:12.376Z"
   },
   {
    "duration": 11,
    "start_time": "2021-11-19T13:52:36.993Z"
   },
   {
    "duration": 343,
    "start_time": "2021-11-19T13:52:37.008Z"
   },
   {
    "duration": 729,
    "start_time": "2021-11-19T13:53:01.529Z"
   },
   {
    "duration": 7,
    "start_time": "2021-11-19T13:53:20.424Z"
   },
   {
    "duration": 698,
    "start_time": "2021-11-19T13:53:21.553Z"
   },
   {
    "duration": 109,
    "start_time": "2021-11-19T13:54:18.169Z"
   },
   {
    "duration": 343,
    "start_time": "2021-11-19T13:54:27.889Z"
   },
   {
    "duration": 698,
    "start_time": "2021-11-19T13:55:28.076Z"
   },
   {
    "duration": 7,
    "start_time": "2021-11-19T13:56:06.905Z"
   },
   {
    "duration": 6,
    "start_time": "2021-11-19T13:56:16.177Z"
   },
   {
    "duration": 698,
    "start_time": "2021-11-19T13:56:17.019Z"
   },
   {
    "duration": 6,
    "start_time": "2021-11-19T13:57:15.781Z"
   },
   {
    "duration": 745,
    "start_time": "2021-11-19T13:57:19.326Z"
   },
   {
    "duration": 504,
    "start_time": "2021-11-19T13:57:47.359Z"
   },
   {
    "duration": 6,
    "start_time": "2021-11-19T13:58:37.654Z"
   },
   {
    "duration": 10,
    "start_time": "2021-11-19T14:03:46.291Z"
   },
   {
    "duration": 13,
    "start_time": "2021-11-19T14:03:52.265Z"
   },
   {
    "duration": 7,
    "start_time": "2021-11-19T14:05:20.746Z"
   },
   {
    "duration": 7,
    "start_time": "2021-11-19T14:05:21.770Z"
   },
   {
    "duration": 1809,
    "start_time": "2021-11-19T14:05:32.372Z"
   },
   {
    "duration": 697,
    "start_time": "2021-11-19T14:05:50.825Z"
   },
   {
    "duration": 11,
    "start_time": "2021-11-19T14:06:45.806Z"
   },
   {
    "duration": 685,
    "start_time": "2021-11-19T14:06:46.914Z"
   },
   {
    "duration": 350,
    "start_time": "2021-11-19T14:34:43.267Z"
   },
   {
    "duration": 6,
    "start_time": "2021-11-19T14:34:51.860Z"
   },
   {
    "duration": 33,
    "start_time": "2021-11-19T14:34:52.788Z"
   },
   {
    "duration": 46,
    "start_time": "2021-11-19T14:35:29.677Z"
   },
   {
    "duration": 7,
    "start_time": "2021-11-19T14:38:52.401Z"
   },
   {
    "duration": 32,
    "start_time": "2021-11-19T14:38:59.058Z"
   },
   {
    "duration": 7,
    "start_time": "2021-11-19T14:39:21.754Z"
   },
   {
    "duration": 31,
    "start_time": "2021-11-19T14:39:22.940Z"
   },
   {
    "duration": 7,
    "start_time": "2021-11-19T14:39:56.696Z"
   },
   {
    "duration": 33,
    "start_time": "2021-11-19T14:39:58.238Z"
   },
   {
    "duration": 7,
    "start_time": "2021-11-19T14:40:38.843Z"
   },
   {
    "duration": 36,
    "start_time": "2021-11-19T14:40:41.023Z"
   },
   {
    "duration": 7,
    "start_time": "2021-11-19T14:41:31.458Z"
   },
   {
    "duration": 31,
    "start_time": "2021-11-19T14:41:33.860Z"
   },
   {
    "duration": 7,
    "start_time": "2021-11-19T14:43:03.181Z"
   },
   {
    "duration": 32,
    "start_time": "2021-11-19T14:43:04.119Z"
   },
   {
    "duration": 8,
    "start_time": "2021-11-19T14:43:15.724Z"
   },
   {
    "duration": 29,
    "start_time": "2021-11-19T14:43:16.700Z"
   },
   {
    "duration": 341,
    "start_time": "2021-11-19T14:43:51.340Z"
   },
   {
    "duration": 14,
    "start_time": "2021-11-19T14:44:09.640Z"
   },
   {
    "duration": 9,
    "start_time": "2021-11-19T14:44:27.245Z"
   },
   {
    "duration": 10,
    "start_time": "2021-11-19T14:44:43.774Z"
   },
   {
    "duration": 19,
    "start_time": "2021-11-19T14:45:04.989Z"
   },
   {
    "duration": 340,
    "start_time": "2021-11-19T14:46:07.165Z"
   },
   {
    "duration": 12,
    "start_time": "2021-11-19T14:46:13.182Z"
   },
   {
    "duration": 13,
    "start_time": "2021-11-19T14:46:25.421Z"
   },
   {
    "duration": 6832,
    "start_time": "2021-11-19T14:46:39.031Z"
   },
   {
    "duration": 9,
    "start_time": "2021-11-19T14:47:01.584Z"
   },
   {
    "duration": 7,
    "start_time": "2021-11-19T14:47:46.248Z"
   },
   {
    "duration": 6658,
    "start_time": "2021-11-19T14:48:00.617Z"
   },
   {
    "duration": 354,
    "start_time": "2021-11-19T14:48:21.294Z"
   },
   {
    "duration": 6,
    "start_time": "2021-11-19T14:48:31.560Z"
   },
   {
    "duration": 356,
    "start_time": "2021-11-19T14:49:01.411Z"
   },
   {
    "duration": 345,
    "start_time": "2021-11-19T14:49:19.612Z"
   },
   {
    "duration": 106,
    "start_time": "2021-11-19T14:49:36.499Z"
   },
   {
    "duration": 6724,
    "start_time": "2021-11-19T14:49:48.490Z"
   },
   {
    "duration": 6,
    "start_time": "2021-11-19T14:50:07.857Z"
   },
   {
    "duration": 6,
    "start_time": "2021-11-19T14:50:51.141Z"
   },
   {
    "duration": 12,
    "start_time": "2021-11-19T14:52:19.937Z"
   },
   {
    "duration": 11,
    "start_time": "2021-11-19T14:52:32.809Z"
   },
   {
    "duration": 345,
    "start_time": "2021-11-19T14:59:22.016Z"
   },
   {
    "duration": 341,
    "start_time": "2021-11-19T14:59:29.871Z"
   },
   {
    "duration": 5,
    "start_time": "2021-11-19T14:59:33.369Z"
   },
   {
    "duration": 6,
    "start_time": "2021-11-19T14:59:46.398Z"
   },
   {
    "duration": 5,
    "start_time": "2021-11-19T14:59:53.036Z"
   },
   {
    "duration": 103,
    "start_time": "2021-11-19T15:06:11.560Z"
   },
   {
    "duration": 1077,
    "start_time": "2021-11-19T15:06:20.213Z"
   },
   {
    "duration": 5,
    "start_time": "2021-11-19T15:06:40.088Z"
   },
   {
    "duration": 15,
    "start_time": "2021-11-19T15:06:59.431Z"
   },
   {
    "duration": 5,
    "start_time": "2021-11-19T15:07:39.339Z"
   },
   {
    "duration": 19,
    "start_time": "2021-11-19T15:07:50.504Z"
   },
   {
    "duration": 20,
    "start_time": "2021-11-19T15:08:37.996Z"
   },
   {
    "duration": 6,
    "start_time": "2021-11-19T15:09:12.222Z"
   },
   {
    "duration": 12,
    "start_time": "2021-11-19T15:09:16.587Z"
   },
   {
    "duration": 6,
    "start_time": "2021-11-19T15:10:35.456Z"
   },
   {
    "duration": 11,
    "start_time": "2021-11-19T15:10:35.952Z"
   },
   {
    "duration": 684,
    "start_time": "2021-11-19T15:11:55.002Z"
   },
   {
    "duration": 709,
    "start_time": "2021-11-19T15:12:58.739Z"
   },
   {
    "duration": 8,
    "start_time": "2021-11-19T15:15:47.387Z"
   },
   {
    "duration": 355,
    "start_time": "2021-11-19T15:16:14.006Z"
   },
   {
    "duration": 8,
    "start_time": "2021-11-19T15:16:34.087Z"
   },
   {
    "duration": 10,
    "start_time": "2021-11-19T15:16:43.302Z"
   },
   {
    "duration": 15,
    "start_time": "2021-11-19T15:16:51.997Z"
   },
   {
    "duration": 19,
    "start_time": "2021-11-19T15:17:22.009Z"
   },
   {
    "duration": 11,
    "start_time": "2021-11-19T15:17:34.859Z"
   },
   {
    "duration": 10,
    "start_time": "2021-11-19T15:18:23.862Z"
   },
   {
    "duration": 51,
    "start_time": "2021-11-19T15:18:31.527Z"
   },
   {
    "duration": 12,
    "start_time": "2021-11-19T15:18:33.798Z"
   },
   {
    "duration": 5,
    "start_time": "2021-11-19T15:19:23.236Z"
   },
   {
    "duration": 11,
    "start_time": "2021-11-19T15:19:34.376Z"
   },
   {
    "duration": 9,
    "start_time": "2021-11-19T15:21:39.427Z"
   },
   {
    "duration": 10,
    "start_time": "2021-11-19T15:21:48.960Z"
   },
   {
    "duration": 11,
    "start_time": "2021-11-19T15:22:49.236Z"
   },
   {
    "duration": 8,
    "start_time": "2021-11-19T15:22:53.946Z"
   },
   {
    "duration": 10,
    "start_time": "2021-11-19T15:22:56.323Z"
   },
   {
    "duration": 10,
    "start_time": "2021-11-19T15:23:03.324Z"
   },
   {
    "duration": 6,
    "start_time": "2021-11-19T15:23:47.294Z"
   },
   {
    "duration": 17,
    "start_time": "2021-11-19T15:23:48.423Z"
   },
   {
    "duration": 6,
    "start_time": "2021-11-19T15:24:16.937Z"
   },
   {
    "duration": 14,
    "start_time": "2021-11-19T15:24:18.507Z"
   },
   {
    "duration": 7,
    "start_time": "2021-11-19T15:24:25.899Z"
   },
   {
    "duration": 12,
    "start_time": "2021-11-19T15:24:27.124Z"
   },
   {
    "duration": 124,
    "start_time": "2021-11-19T15:24:48.364Z"
   },
   {
    "duration": 538,
    "start_time": "2021-11-19T15:24:54.784Z"
   },
   {
    "duration": 29,
    "start_time": "2021-11-19T15:35:02.909Z"
   },
   {
    "duration": 41,
    "start_time": "2021-11-19T15:35:18.460Z"
   },
   {
    "duration": 31,
    "start_time": "2021-11-19T15:36:34.097Z"
   },
   {
    "duration": 49,
    "start_time": "2021-11-19T15:37:32.183Z"
   },
   {
    "duration": 836,
    "start_time": "2021-11-19T15:37:33.115Z"
   },
   {
    "duration": 30,
    "start_time": "2021-11-19T15:38:02.021Z"
   },
   {
    "duration": 688,
    "start_time": "2021-11-19T15:38:04.502Z"
   },
   {
    "duration": 767,
    "start_time": "2021-11-19T15:38:31.938Z"
   },
   {
    "duration": 775,
    "start_time": "2021-11-19T15:39:13.925Z"
   },
   {
    "duration": 964,
    "start_time": "2021-11-19T15:39:22.929Z"
   },
   {
    "duration": 35,
    "start_time": "2021-11-19T15:41:27.008Z"
   },
   {
    "duration": 37,
    "start_time": "2021-11-19T15:46:37.762Z"
   },
   {
    "duration": 888,
    "start_time": "2021-11-19T15:48:14.794Z"
   },
   {
    "duration": 1363,
    "start_time": "2021-11-19T15:48:36.763Z"
   },
   {
    "duration": 1087,
    "start_time": "2021-11-19T15:49:03.782Z"
   },
   {
    "duration": 1232,
    "start_time": "2021-11-19T15:49:16.497Z"
   },
   {
    "duration": 14,
    "start_time": "2021-11-19T15:53:31.071Z"
   },
   {
    "duration": 7,
    "start_time": "2021-11-19T15:58:14.521Z"
   },
   {
    "duration": 8,
    "start_time": "2021-11-19T15:58:25.331Z"
   },
   {
    "duration": 11,
    "start_time": "2021-11-19T15:59:23.005Z"
   },
   {
    "duration": 9,
    "start_time": "2021-11-19T15:59:23.930Z"
   },
   {
    "duration": 15,
    "start_time": "2021-11-19T15:59:29.455Z"
   },
   {
    "duration": 14,
    "start_time": "2021-11-19T16:00:19.277Z"
   },
   {
    "duration": 15,
    "start_time": "2021-11-19T16:00:35.424Z"
   },
   {
    "duration": 15,
    "start_time": "2021-11-19T16:03:01.460Z"
   },
   {
    "duration": 15,
    "start_time": "2021-11-19T16:03:05.861Z"
   },
   {
    "duration": 11,
    "start_time": "2021-11-19T16:04:34.687Z"
   },
   {
    "duration": 14,
    "start_time": "2021-11-19T16:05:06.842Z"
   },
   {
    "duration": 19,
    "start_time": "2021-11-19T16:05:27.947Z"
   },
   {
    "duration": 347,
    "start_time": "2021-11-19T16:07:05.924Z"
   },
   {
    "duration": 18,
    "start_time": "2021-11-19T16:07:19.472Z"
   },
   {
    "duration": 21,
    "start_time": "2021-11-19T16:07:33.918Z"
   },
   {
    "duration": 7,
    "start_time": "2021-11-19T16:11:03.487Z"
   },
   {
    "duration": 12,
    "start_time": "2021-11-19T16:11:25.633Z"
   },
   {
    "duration": 361,
    "start_time": "2021-11-19T16:14:03.911Z"
   },
   {
    "duration": 362,
    "start_time": "2021-11-19T16:14:20.088Z"
   },
   {
    "duration": 6,
    "start_time": "2021-11-19T16:15:05.570Z"
   },
   {
    "duration": 17,
    "start_time": "2021-11-19T16:15:52.789Z"
   },
   {
    "duration": 789,
    "start_time": "2021-11-19T16:18:26.484Z"
   },
   {
    "duration": 732,
    "start_time": "2021-11-19T16:20:07.926Z"
   },
   {
    "duration": 5,
    "start_time": "2021-11-19T16:20:25.872Z"
   },
   {
    "duration": 69,
    "start_time": "2021-11-19T16:20:25.903Z"
   },
   {
    "duration": 12,
    "start_time": "2021-11-19T16:20:25.974Z"
   },
   {
    "duration": 14,
    "start_time": "2021-11-19T16:20:25.988Z"
   },
   {
    "duration": 11,
    "start_time": "2021-11-19T16:20:26.004Z"
   },
   {
    "duration": 6,
    "start_time": "2021-11-19T16:20:26.022Z"
   },
   {
    "duration": 442,
    "start_time": "2021-11-19T16:20:26.053Z"
   },
   {
    "duration": 9,
    "start_time": "2021-11-19T16:20:26.501Z"
   },
   {
    "duration": 13,
    "start_time": "2021-11-19T16:20:26.513Z"
   },
   {
    "duration": 419,
    "start_time": "2021-11-19T16:20:26.528Z"
   },
   {
    "duration": 16,
    "start_time": "2021-11-19T16:20:26.950Z"
   },
   {
    "duration": 63,
    "start_time": "2021-11-19T16:20:26.968Z"
   },
   {
    "duration": 19,
    "start_time": "2021-11-19T16:20:27.034Z"
   },
   {
    "duration": 21,
    "start_time": "2021-11-19T16:20:27.057Z"
   },
   {
    "duration": 10,
    "start_time": "2021-11-19T16:20:27.102Z"
   },
   {
    "duration": 438,
    "start_time": "2021-11-19T16:20:27.114Z"
   },
   {
    "duration": 113,
    "start_time": "2021-11-19T16:20:27.555Z"
   },
   {
    "duration": 30,
    "start_time": "2021-11-19T16:20:27.670Z"
   },
   {
    "duration": 1224,
    "start_time": "2021-11-19T16:20:27.703Z"
   },
   {
    "duration": 12,
    "start_time": "2021-11-19T16:20:28.929Z"
   },
   {
    "duration": 324,
    "start_time": "2021-11-19T16:20:28.944Z"
   },
   {
    "duration": 86,
    "start_time": "2021-11-19T16:20:29.270Z"
   },
   {
    "duration": 138,
    "start_time": "2021-11-19T16:20:29.358Z"
   },
   {
    "duration": 379,
    "start_time": "2021-11-19T16:20:29.499Z"
   },
   {
    "duration": 56,
    "start_time": "2021-11-19T16:20:29.880Z"
   },
   {
    "duration": 1171,
    "start_time": "2021-11-19T16:20:29.938Z"
   },
   {
    "duration": 12,
    "start_time": "2021-11-19T16:20:31.111Z"
   },
   {
    "duration": 31,
    "start_time": "2021-11-19T16:20:31.126Z"
   },
   {
    "duration": 12,
    "start_time": "2021-11-19T16:20:31.163Z"
   },
   {
    "duration": 32,
    "start_time": "2021-11-19T16:20:31.179Z"
   },
   {
    "duration": 23,
    "start_time": "2021-11-19T16:20:31.214Z"
   },
   {
    "duration": 15,
    "start_time": "2021-11-19T16:20:31.239Z"
   },
   {
    "duration": 37,
    "start_time": "2021-11-19T16:20:31.256Z"
   },
   {
    "duration": 53,
    "start_time": "2021-11-19T16:20:31.296Z"
   },
   {
    "duration": 31,
    "start_time": "2021-11-19T16:20:31.351Z"
   },
   {
    "duration": 24,
    "start_time": "2021-11-19T16:20:31.384Z"
   },
   {
    "duration": 21,
    "start_time": "2021-11-19T16:20:31.411Z"
   },
   {
    "duration": 19,
    "start_time": "2021-11-19T16:20:31.434Z"
   },
   {
    "duration": 16,
    "start_time": "2021-11-19T16:20:31.455Z"
   },
   {
    "duration": 29,
    "start_time": "2021-11-19T16:20:31.473Z"
   },
   {
    "duration": 12,
    "start_time": "2021-11-19T16:20:31.504Z"
   },
   {
    "duration": 57,
    "start_time": "2021-11-19T16:20:31.518Z"
   },
   {
    "duration": 31,
    "start_time": "2021-11-19T16:20:31.577Z"
   },
   {
    "duration": 17,
    "start_time": "2021-11-19T16:20:31.610Z"
   },
   {
    "duration": 32,
    "start_time": "2021-11-19T16:20:31.630Z"
   },
   {
    "duration": 11,
    "start_time": "2021-11-19T16:20:31.665Z"
   },
   {
    "duration": 52,
    "start_time": "2021-11-19T16:20:31.679Z"
   },
   {
    "duration": 36,
    "start_time": "2021-11-19T16:20:31.734Z"
   },
   {
    "duration": 165,
    "start_time": "2021-11-19T16:20:31.772Z"
   },
   {
    "duration": 15,
    "start_time": "2021-11-19T16:20:31.939Z"
   },
   {
    "duration": 47,
    "start_time": "2021-11-19T16:20:31.956Z"
   },
   {
    "duration": 17,
    "start_time": "2021-11-19T16:20:32.006Z"
   },
   {
    "duration": 12,
    "start_time": "2021-11-19T16:20:32.025Z"
   },
   {
    "duration": 69,
    "start_time": "2021-11-19T16:20:32.040Z"
   },
   {
    "duration": 11,
    "start_time": "2021-11-19T16:20:32.112Z"
   },
   {
    "duration": 15,
    "start_time": "2021-11-19T16:20:32.125Z"
   },
   {
    "duration": 66,
    "start_time": "2021-11-19T16:20:32.143Z"
   },
   {
    "duration": 35,
    "start_time": "2021-11-19T16:20:32.211Z"
   },
   {
    "duration": 22,
    "start_time": "2021-11-19T16:20:32.248Z"
   },
   {
    "duration": 10,
    "start_time": "2021-11-19T16:20:32.272Z"
   },
   {
    "duration": 64,
    "start_time": "2021-11-19T16:20:32.285Z"
   },
   {
    "duration": 36,
    "start_time": "2021-11-19T16:20:32.351Z"
   },
   {
    "duration": 49,
    "start_time": "2021-11-19T16:20:32.389Z"
   },
   {
    "duration": 728,
    "start_time": "2021-11-19T16:20:32.441Z"
   },
   {
    "duration": 67,
    "start_time": "2021-11-19T16:20:33.172Z"
   },
   {
    "duration": 677,
    "start_time": "2021-11-19T16:20:33.241Z"
   },
   {
    "duration": 44,
    "start_time": "2021-11-19T16:20:33.921Z"
   },
   {
    "duration": 54,
    "start_time": "2021-11-19T16:20:33.967Z"
   },
   {
    "duration": 31,
    "start_time": "2021-11-19T16:20:34.023Z"
   },
   {
    "duration": 931,
    "start_time": "2021-11-19T16:20:34.057Z"
   },
   {
    "duration": 40,
    "start_time": "2021-11-19T16:20:34.990Z"
   },
   {
    "duration": 26,
    "start_time": "2021-11-19T16:20:35.033Z"
   },
   {
    "duration": 47,
    "start_time": "2021-11-19T16:20:35.062Z"
   },
   {
    "duration": 17,
    "start_time": "2021-11-19T16:20:35.116Z"
   },
   {
    "duration": 22,
    "start_time": "2021-11-19T16:20:35.135Z"
   },
   {
    "duration": 63,
    "start_time": "2021-11-19T16:20:35.160Z"
   },
   {
    "duration": 1396,
    "start_time": "2021-11-19T16:20:35.225Z"
   },
   {
    "duration": 3,
    "start_time": "2021-11-19T16:20:36.624Z"
   },
   {
    "duration": 14,
    "start_time": "2021-11-19T16:20:36.630Z"
   },
   {
    "duration": 31,
    "start_time": "2021-11-19T16:20:36.646Z"
   },
   {
    "duration": 24,
    "start_time": "2021-11-19T16:20:36.679Z"
   },
   {
    "duration": 13,
    "start_time": "2021-11-19T16:20:36.705Z"
   },
   {
    "duration": 13,
    "start_time": "2021-11-19T16:20:36.721Z"
   },
   {
    "duration": 758,
    "start_time": "2021-11-19T16:20:36.737Z"
   },
   {
    "duration": 12,
    "start_time": "2021-11-19T16:21:40.492Z"
   },
   {
    "duration": 7,
    "start_time": "2021-11-19T16:22:46.479Z"
   },
   {
    "duration": 681,
    "start_time": "2021-11-19T16:22:54.158Z"
   },
   {
    "duration": 8,
    "start_time": "2021-11-19T16:23:06.652Z"
   },
   {
    "duration": 21,
    "start_time": "2021-11-19T16:23:08.632Z"
   },
   {
    "duration": 6,
    "start_time": "2021-11-19T16:23:09.939Z"
   },
   {
    "duration": 9,
    "start_time": "2021-11-19T16:23:49.750Z"
   },
   {
    "duration": 7,
    "start_time": "2021-11-19T16:25:35.594Z"
   },
   {
    "duration": 20,
    "start_time": "2021-11-19T16:25:37.332Z"
   },
   {
    "duration": 760,
    "start_time": "2021-11-19T16:25:40.010Z"
   },
   {
    "duration": 8,
    "start_time": "2021-11-19T16:26:08.171Z"
   },
   {
    "duration": 630,
    "start_time": "2021-11-19T16:26:11.329Z"
   },
   {
    "duration": 7,
    "start_time": "2021-11-19T16:26:35.422Z"
   },
   {
    "duration": 662,
    "start_time": "2021-11-19T16:26:40.467Z"
   },
   {
    "duration": 8,
    "start_time": "2021-11-19T16:26:57.563Z"
   },
   {
    "duration": 760,
    "start_time": "2021-11-19T16:27:01.682Z"
   },
   {
    "duration": 8,
    "start_time": "2021-11-19T16:27:23.419Z"
   },
   {
    "duration": 7,
    "start_time": "2021-11-19T16:27:36.296Z"
   },
   {
    "duration": 691,
    "start_time": "2021-11-19T16:27:39.258Z"
   },
   {
    "duration": 7,
    "start_time": "2021-11-19T16:27:51.286Z"
   },
   {
    "duration": 7,
    "start_time": "2021-11-19T16:27:54.032Z"
   },
   {
    "duration": 17,
    "start_time": "2021-11-19T16:27:59.681Z"
   },
   {
    "duration": 7,
    "start_time": "2021-11-19T16:28:53.906Z"
   },
   {
    "duration": 5,
    "start_time": "2021-11-19T16:29:03.715Z"
   },
   {
    "duration": 696,
    "start_time": "2021-11-19T16:29:09.806Z"
   },
   {
    "duration": 13,
    "start_time": "2021-11-19T16:32:28.271Z"
   },
   {
    "duration": 13,
    "start_time": "2021-11-19T16:33:07.051Z"
   },
   {
    "duration": 25,
    "start_time": "2021-11-19T16:33:42.541Z"
   },
   {
    "duration": 19,
    "start_time": "2021-11-19T16:34:53.351Z"
   },
   {
    "duration": 5,
    "start_time": "2021-11-19T16:36:29.113Z"
   },
   {
    "duration": 38,
    "start_time": "2021-11-19T16:36:39.882Z"
   },
   {
    "duration": 372,
    "start_time": "2021-11-19T16:37:22.907Z"
   },
   {
    "duration": 180,
    "start_time": "2021-11-19T16:37:38.413Z"
   },
   {
    "duration": 194,
    "start_time": "2021-11-19T16:37:55.297Z"
   },
   {
    "duration": 22,
    "start_time": "2021-11-19T16:39:06.966Z"
   },
   {
    "duration": 184,
    "start_time": "2021-11-19T16:39:28.306Z"
   },
   {
    "duration": 199,
    "start_time": "2021-11-19T16:39:33.951Z"
   },
   {
    "duration": 9694,
    "start_time": "2021-11-19T16:40:35.955Z"
   },
   {
    "duration": 7,
    "start_time": "2021-11-19T16:40:59.884Z"
   },
   {
    "duration": 19,
    "start_time": "2021-11-19T16:41:43.590Z"
   },
   {
    "duration": 778,
    "start_time": "2021-11-19T16:46:04.584Z"
   },
   {
    "duration": 113,
    "start_time": "2021-11-19T16:46:39.538Z"
   },
   {
    "duration": 105,
    "start_time": "2021-11-19T16:46:44.663Z"
   },
   {
    "duration": 995,
    "start_time": "2021-11-19T16:46:49.782Z"
   },
   {
    "duration": 831,
    "start_time": "2021-11-19T16:47:08.964Z"
   },
   {
    "duration": 132,
    "start_time": "2021-11-19T16:47:41.480Z"
   },
   {
    "duration": 839,
    "start_time": "2021-11-19T16:47:49.744Z"
   },
   {
    "duration": 930,
    "start_time": "2021-11-19T16:49:09.389Z"
   },
   {
    "duration": 353,
    "start_time": "2021-11-19T16:50:22.299Z"
   },
   {
    "duration": 112,
    "start_time": "2021-11-19T16:51:41.196Z"
   },
   {
    "duration": 341,
    "start_time": "2021-11-19T16:52:42.458Z"
   },
   {
    "duration": 314,
    "start_time": "2021-11-19T16:52:50.247Z"
   },
   {
    "duration": 331,
    "start_time": "2021-11-19T16:54:58.615Z"
   },
   {
    "duration": 5,
    "start_time": "2021-11-19T16:57:35.460Z"
   },
   {
    "duration": 328,
    "start_time": "2021-11-19T16:57:44.239Z"
   },
   {
    "duration": 7,
    "start_time": "2021-11-19T16:58:12.849Z"
   },
   {
    "duration": 31,
    "start_time": "2021-11-19T16:58:25.524Z"
   },
   {
    "duration": 2128,
    "start_time": "2021-11-19T16:58:47.918Z"
   },
   {
    "duration": 275,
    "start_time": "2021-11-19T16:59:34.861Z"
   },
   {
    "duration": 33,
    "start_time": "2021-11-19T16:59:37.893Z"
   },
   {
    "duration": 1607,
    "start_time": "2021-11-19T16:59:54.611Z"
   },
   {
    "duration": 2241,
    "start_time": "2021-11-19T17:00:19.060Z"
   },
   {
    "duration": 265,
    "start_time": "2021-11-19T17:00:43.583Z"
   },
   {
    "duration": 22,
    "start_time": "2021-11-19T17:00:52.317Z"
   },
   {
    "duration": 5,
    "start_time": "2021-11-19T17:53:46.755Z"
   },
   {
    "duration": 102,
    "start_time": "2021-11-19T17:53:46.769Z"
   },
   {
    "duration": 12,
    "start_time": "2021-11-19T17:53:46.875Z"
   },
   {
    "duration": 11,
    "start_time": "2021-11-19T17:53:46.892Z"
   },
   {
    "duration": 18,
    "start_time": "2021-11-19T17:53:46.906Z"
   },
   {
    "duration": 10,
    "start_time": "2021-11-19T17:53:46.926Z"
   },
   {
    "duration": 536,
    "start_time": "2021-11-19T17:53:46.939Z"
   },
   {
    "duration": 8,
    "start_time": "2021-11-19T17:53:47.478Z"
   },
   {
    "duration": 10,
    "start_time": "2021-11-19T17:53:47.502Z"
   },
   {
    "duration": 434,
    "start_time": "2021-11-19T17:53:47.516Z"
   },
   {
    "duration": 14,
    "start_time": "2021-11-19T17:53:47.953Z"
   },
   {
    "duration": 65,
    "start_time": "2021-11-19T17:53:47.970Z"
   },
   {
    "duration": 20,
    "start_time": "2021-11-19T17:53:48.039Z"
   },
   {
    "duration": 45,
    "start_time": "2021-11-19T17:53:48.062Z"
   },
   {
    "duration": 9,
    "start_time": "2021-11-19T17:53:48.110Z"
   },
   {
    "duration": 453,
    "start_time": "2021-11-19T17:53:48.122Z"
   },
   {
    "duration": 113,
    "start_time": "2021-11-19T17:53:48.577Z"
   },
   {
    "duration": 27,
    "start_time": "2021-11-19T17:53:48.692Z"
   },
   {
    "duration": 1300,
    "start_time": "2021-11-19T17:53:48.722Z"
   },
   {
    "duration": 12,
    "start_time": "2021-11-19T17:53:50.025Z"
   },
   {
    "duration": 353,
    "start_time": "2021-11-19T17:53:50.039Z"
   },
   {
    "duration": 83,
    "start_time": "2021-11-19T17:53:50.394Z"
   },
   {
    "duration": 158,
    "start_time": "2021-11-19T17:53:50.479Z"
   },
   {
    "duration": 406,
    "start_time": "2021-11-19T17:53:50.643Z"
   },
   {
    "duration": 65,
    "start_time": "2021-11-19T17:53:51.053Z"
   },
   {
    "duration": 256,
    "start_time": "2021-11-19T17:53:51.121Z"
   },
   {
    "duration": 13,
    "start_time": "2021-11-19T17:53:51.379Z"
   },
   {
    "duration": 28,
    "start_time": "2021-11-19T17:53:51.395Z"
   },
   {
    "duration": 11,
    "start_time": "2021-11-19T17:53:51.426Z"
   },
   {
    "duration": 19,
    "start_time": "2021-11-19T17:53:51.439Z"
   },
   {
    "duration": 40,
    "start_time": "2021-11-19T17:53:51.461Z"
   },
   {
    "duration": 7,
    "start_time": "2021-11-19T17:53:51.504Z"
   },
   {
    "duration": 17,
    "start_time": "2021-11-19T17:53:51.513Z"
   },
   {
    "duration": 6,
    "start_time": "2021-11-19T17:53:51.533Z"
   },
   {
    "duration": 11,
    "start_time": "2021-11-19T17:53:51.541Z"
   },
   {
    "duration": 10,
    "start_time": "2021-11-19T17:53:51.554Z"
   },
   {
    "duration": 11,
    "start_time": "2021-11-19T17:53:51.601Z"
   },
   {
    "duration": 9,
    "start_time": "2021-11-19T17:53:51.614Z"
   },
   {
    "duration": 6,
    "start_time": "2021-11-19T17:53:51.626Z"
   },
   {
    "duration": 14,
    "start_time": "2021-11-19T17:53:51.635Z"
   },
   {
    "duration": 49,
    "start_time": "2021-11-19T17:53:51.651Z"
   },
   {
    "duration": 51,
    "start_time": "2021-11-19T17:53:51.704Z"
   },
   {
    "duration": 16,
    "start_time": "2021-11-19T17:53:51.758Z"
   },
   {
    "duration": 8,
    "start_time": "2021-11-19T17:53:51.802Z"
   },
   {
    "duration": 28,
    "start_time": "2021-11-19T17:53:51.813Z"
   },
   {
    "duration": 7,
    "start_time": "2021-11-19T17:53:51.844Z"
   },
   {
    "duration": 6,
    "start_time": "2021-11-19T17:53:51.853Z"
   },
   {
    "duration": 28,
    "start_time": "2021-11-19T17:53:51.900Z"
   },
   {
    "duration": 175,
    "start_time": "2021-11-19T17:53:51.930Z"
   },
   {
    "duration": 18,
    "start_time": "2021-11-19T17:53:52.109Z"
   },
   {
    "duration": 13,
    "start_time": "2021-11-19T17:53:52.130Z"
   },
   {
    "duration": 17,
    "start_time": "2021-11-19T17:53:52.145Z"
   },
   {
    "duration": 44,
    "start_time": "2021-11-19T17:53:52.165Z"
   },
   {
    "duration": 61,
    "start_time": "2021-11-19T17:53:52.213Z"
   },
   {
    "duration": 29,
    "start_time": "2021-11-19T17:53:52.276Z"
   },
   {
    "duration": 20,
    "start_time": "2021-11-19T17:53:52.308Z"
   },
   {
    "duration": 13,
    "start_time": "2021-11-19T17:53:52.331Z"
   },
   {
    "duration": 14,
    "start_time": "2021-11-19T17:53:52.346Z"
   },
   {
    "duration": 11,
    "start_time": "2021-11-19T17:53:52.362Z"
   },
   {
    "duration": 27,
    "start_time": "2021-11-19T17:53:52.376Z"
   },
   {
    "duration": 25,
    "start_time": "2021-11-19T17:53:52.407Z"
   },
   {
    "duration": 10,
    "start_time": "2021-11-19T17:53:52.435Z"
   },
   {
    "duration": 21,
    "start_time": "2021-11-19T17:53:52.447Z"
   },
   {
    "duration": 716,
    "start_time": "2021-11-19T17:53:52.471Z"
   },
   {
    "duration": 55,
    "start_time": "2021-11-19T17:53:53.189Z"
   },
   {
    "duration": 654,
    "start_time": "2021-11-19T17:53:53.246Z"
   },
   {
    "duration": 43,
    "start_time": "2021-11-19T17:53:53.903Z"
   },
   {
    "duration": 54,
    "start_time": "2021-11-19T17:53:53.948Z"
   },
   {
    "duration": 31,
    "start_time": "2021-11-19T17:53:54.013Z"
   },
   {
    "duration": 916,
    "start_time": "2021-11-19T17:53:54.046Z"
   },
   {
    "duration": 56,
    "start_time": "2021-11-19T17:53:54.965Z"
   },
   {
    "duration": 28,
    "start_time": "2021-11-19T17:53:55.025Z"
   },
   {
    "duration": 14,
    "start_time": "2021-11-19T17:53:55.056Z"
   },
   {
    "duration": 20,
    "start_time": "2021-11-19T17:53:55.101Z"
   },
   {
    "duration": 11,
    "start_time": "2021-11-19T17:53:55.124Z"
   },
   {
    "duration": 62,
    "start_time": "2021-11-19T17:53:55.138Z"
   },
   {
    "duration": 1251,
    "start_time": "2021-11-19T17:53:55.203Z"
   },
   {
    "duration": 3,
    "start_time": "2021-11-19T17:53:56.457Z"
   },
   {
    "duration": 9,
    "start_time": "2021-11-19T17:53:56.462Z"
   },
   {
    "duration": 47,
    "start_time": "2021-11-19T17:53:56.473Z"
   },
   {
    "duration": 8,
    "start_time": "2021-11-19T17:53:56.522Z"
   },
   {
    "duration": 240,
    "start_time": "2021-11-19T17:53:56.532Z"
   },
   {
    "duration": 676,
    "start_time": "2021-11-19T17:53:56.774Z"
   },
   {
    "duration": -4685,
    "start_time": "2021-11-19T17:54:02.138Z"
   },
   {
    "duration": -4694,
    "start_time": "2021-11-19T17:54:02.148Z"
   },
   {
    "duration": -4704,
    "start_time": "2021-11-19T17:54:02.160Z"
   },
   {
    "duration": -4713,
    "start_time": "2021-11-19T17:54:02.170Z"
   },
   {
    "duration": 233,
    "start_time": "2021-11-19T17:58:55.381Z"
   },
   {
    "duration": 7,
    "start_time": "2021-11-19T17:58:55.991Z"
   },
   {
    "duration": 286,
    "start_time": "2021-11-19T17:58:56.908Z"
   },
   {
    "duration": 34,
    "start_time": "2021-11-19T17:59:07.005Z"
   },
   {
    "duration": 21,
    "start_time": "2021-11-19T17:59:37.117Z"
   },
   {
    "duration": 22,
    "start_time": "2021-11-19T18:11:33.256Z"
   },
   {
    "duration": 370,
    "start_time": "2021-11-19T18:11:40.602Z"
   },
   {
    "duration": 359,
    "start_time": "2021-11-19T18:11:52.417Z"
   },
   {
    "duration": 20,
    "start_time": "2021-11-19T18:12:20.353Z"
   },
   {
    "duration": 5,
    "start_time": "2021-11-19T18:12:23.501Z"
   },
   {
    "duration": 2971,
    "start_time": "2021-11-19T18:13:29.443Z"
   },
   {
    "duration": 1771,
    "start_time": "2021-11-19T18:13:55.667Z"
   },
   {
    "duration": 1167,
    "start_time": "2021-11-19T18:14:10.113Z"
   },
   {
    "duration": 111,
    "start_time": "2021-11-19T18:14:32.423Z"
   },
   {
    "duration": 1187,
    "start_time": "2021-11-19T18:14:33.194Z"
   },
   {
    "duration": 113,
    "start_time": "2021-11-19T18:14:39.423Z"
   },
   {
    "duration": 5,
    "start_time": "2021-11-19T18:14:44.058Z"
   },
   {
    "duration": 1104,
    "start_time": "2021-11-19T18:14:46.542Z"
   },
   {
    "duration": 5,
    "start_time": "2021-11-19T18:15:07.605Z"
   },
   {
    "duration": 650,
    "start_time": "2021-11-19T18:15:08.352Z"
   },
   {
    "duration": 4,
    "start_time": "2021-11-19T18:15:17.217Z"
   },
   {
    "duration": 5,
    "start_time": "2021-11-19T18:15:18.942Z"
   },
   {
    "duration": 353,
    "start_time": "2021-11-19T18:15:21.530Z"
   },
   {
    "duration": 5,
    "start_time": "2021-11-19T18:15:34.898Z"
   },
   {
    "duration": 1160,
    "start_time": "2021-11-19T18:15:36.047Z"
   },
   {
    "duration": 4,
    "start_time": "2021-11-19T18:15:52.362Z"
   },
   {
    "duration": 1179,
    "start_time": "2021-11-19T18:15:53.811Z"
   },
   {
    "duration": 4,
    "start_time": "2021-11-19T18:16:49.186Z"
   },
   {
    "duration": 1044,
    "start_time": "2021-11-19T18:16:51.276Z"
   },
   {
    "duration": 4,
    "start_time": "2021-11-19T18:17:06.237Z"
   },
   {
    "duration": 538,
    "start_time": "2021-11-19T18:17:08.812Z"
   },
   {
    "duration": 4,
    "start_time": "2021-11-19T18:17:24.220Z"
   },
   {
    "duration": 996,
    "start_time": "2021-11-19T18:17:25.434Z"
   },
   {
    "duration": 4,
    "start_time": "2021-11-19T18:17:57.530Z"
   },
   {
    "duration": 1200,
    "start_time": "2021-11-19T18:17:58.147Z"
   },
   {
    "duration": 4,
    "start_time": "2021-11-19T18:19:44.890Z"
   },
   {
    "duration": 1017,
    "start_time": "2021-11-19T18:19:46.732Z"
   },
   {
    "duration": 4,
    "start_time": "2021-11-19T18:20:13.237Z"
   },
   {
    "duration": 543,
    "start_time": "2021-11-19T18:20:14.240Z"
   },
   {
    "duration": 32,
    "start_time": "2021-11-19T18:20:32.611Z"
   },
   {
    "duration": 4,
    "start_time": "2021-11-19T18:21:26.686Z"
   },
   {
    "duration": 1045,
    "start_time": "2021-11-19T18:21:27.363Z"
   },
   {
    "duration": 130,
    "start_time": "2021-11-19T18:21:59.935Z"
   },
   {
    "duration": 4,
    "start_time": "2021-11-19T18:22:04.165Z"
   },
   {
    "duration": 525,
    "start_time": "2021-11-19T18:22:05.442Z"
   },
   {
    "duration": 34,
    "start_time": "2021-11-19T18:22:14.736Z"
   },
   {
    "duration": 3,
    "start_time": "2021-11-19T18:23:17.366Z"
   },
   {
    "duration": 341,
    "start_time": "2021-11-19T18:23:18.422Z"
   },
   {
    "duration": 35,
    "start_time": "2021-11-19T18:23:22.933Z"
   },
   {
    "duration": 4,
    "start_time": "2021-11-19T18:23:40.725Z"
   },
   {
    "duration": 1236,
    "start_time": "2021-11-19T18:23:44.741Z"
   },
   {
    "duration": 4,
    "start_time": "2021-11-19T18:25:52.645Z"
   },
   {
    "duration": 523,
    "start_time": "2021-11-19T18:26:18.563Z"
   },
   {
    "duration": 5,
    "start_time": "2021-11-19T18:26:21.807Z"
   },
   {
    "duration": 359,
    "start_time": "2021-11-19T18:26:22.599Z"
   },
   {
    "duration": 503,
    "start_time": "2021-11-19T18:26:43.178Z"
   },
   {
    "duration": 4,
    "start_time": "2021-11-19T18:27:07.335Z"
   },
   {
    "duration": 1175,
    "start_time": "2021-11-19T18:27:08.503Z"
   },
   {
    "duration": 4,
    "start_time": "2021-11-19T18:27:50.466Z"
   },
   {
    "duration": 1187,
    "start_time": "2021-11-19T18:27:53.256Z"
   },
   {
    "duration": 5,
    "start_time": "2021-11-19T18:30:09.570Z"
   },
   {
    "duration": 1036,
    "start_time": "2021-11-19T18:30:10.656Z"
   },
   {
    "duration": 10,
    "start_time": "2021-11-19T18:30:40.602Z"
   },
   {
    "duration": 1267,
    "start_time": "2021-11-19T18:30:42.572Z"
   },
   {
    "duration": 6,
    "start_time": "2021-11-19T18:31:06.425Z"
   },
   {
    "duration": 9,
    "start_time": "2021-11-19T18:31:14.720Z"
   },
   {
    "duration": 5,
    "start_time": "2021-11-19T18:31:20.437Z"
   },
   {
    "duration": 4,
    "start_time": "2021-11-19T18:31:40.540Z"
   },
   {
    "duration": 475,
    "start_time": "2021-11-19T18:31:42.725Z"
   },
   {
    "duration": 32,
    "start_time": "2021-11-19T18:31:47.034Z"
   },
   {
    "duration": 4,
    "start_time": "2021-11-19T18:32:26.131Z"
   },
   {
    "duration": 525,
    "start_time": "2021-11-19T18:32:30.681Z"
   },
   {
    "duration": 46,
    "start_time": "2021-11-19T18:32:32.314Z"
   },
   {
    "duration": 1745,
    "start_time": "2021-11-19T18:32:52.226Z"
   },
   {
    "duration": 495,
    "start_time": "2021-11-19T18:33:11.256Z"
   },
   {
    "duration": 7,
    "start_time": "2021-11-19T18:33:12.669Z"
   },
   {
    "duration": 214,
    "start_time": "2021-11-19T18:33:20.333Z"
   },
   {
    "duration": 6,
    "start_time": "2021-11-19T18:33:21.465Z"
   },
   {
    "duration": 267,
    "start_time": "2021-11-19T18:33:22.659Z"
   },
   {
    "duration": 21,
    "start_time": "2021-11-19T18:33:23.622Z"
   },
   {
    "duration": 4,
    "start_time": "2021-11-19T18:33:27.643Z"
   },
   {
    "duration": 505,
    "start_time": "2021-11-19T18:33:35.915Z"
   },
   {
    "duration": 35,
    "start_time": "2021-11-19T18:33:37.421Z"
   },
   {
    "duration": 16140,
    "start_time": "2021-11-19T18:34:28.005Z"
   },
   {
    "duration": -4616,
    "start_time": "2021-11-19T18:34:48.767Z"
   },
   {
    "duration": 6,
    "start_time": "2021-11-19T18:34:47.215Z"
   },
   {
    "duration": 4,
    "start_time": "2021-11-19T18:35:11.112Z"
   },
   {
    "duration": 369,
    "start_time": "2021-11-19T18:35:13.405Z"
   },
   {
    "duration": 40,
    "start_time": "2021-11-19T18:35:14.485Z"
   },
   {
    "duration": 1157,
    "start_time": "2021-11-19T18:35:20.796Z"
   },
   {
    "duration": 35,
    "start_time": "2021-11-19T18:35:22.655Z"
   },
   {
    "duration": 4,
    "start_time": "2021-11-19T18:35:59.443Z"
   },
   {
    "duration": 2835,
    "start_time": "2021-11-19T18:36:02.167Z"
   },
   {
    "duration": 21,
    "start_time": "2021-11-19T18:36:15.417Z"
   },
   {
    "duration": 8,
    "start_time": "2021-11-19T18:36:35.917Z"
   },
   {
    "duration": 4,
    "start_time": "2021-11-19T18:36:52.302Z"
   },
   {
    "duration": 1445,
    "start_time": "2021-11-19T18:36:53.516Z"
   },
   {
    "duration": 10,
    "start_time": "2021-11-19T18:36:55.524Z"
   },
   {
    "duration": 4,
    "start_time": "2021-11-19T18:37:26.727Z"
   },
   {
    "duration": 1435,
    "start_time": "2021-11-19T18:37:28.044Z"
   },
   {
    "duration": 11,
    "start_time": "2021-11-19T18:37:30.604Z"
   },
   {
    "duration": 7,
    "start_time": "2021-11-19T18:37:37.800Z"
   },
   {
    "duration": 20,
    "start_time": "2021-11-19T18:37:45.649Z"
   },
   {
    "duration": 6,
    "start_time": "2021-11-19T18:38:59.570Z"
   },
   {
    "duration": 1456,
    "start_time": "2021-11-19T18:39:00.647Z"
   },
   {
    "duration": 32,
    "start_time": "2021-11-19T18:39:02.801Z"
   },
   {
    "duration": 16,
    "start_time": "2021-11-19T18:39:20.276Z"
   },
   {
    "duration": 12,
    "start_time": "2021-11-19T18:41:48.313Z"
   },
   {
    "duration": 343,
    "start_time": "2021-11-19T18:41:57.075Z"
   },
   {
    "duration": 6,
    "start_time": "2021-11-19T18:42:00.431Z"
   },
   {
    "duration": 32,
    "start_time": "2021-11-19T18:42:12.668Z"
   },
   {
    "duration": 644,
    "start_time": "2021-11-19T18:44:47.709Z"
   },
   {
    "duration": 44,
    "start_time": "2021-11-19T18:45:20.748Z"
   },
   {
    "duration": 10,
    "start_time": "2021-11-19T18:45:29.407Z"
   },
   {
    "duration": 5,
    "start_time": "2021-11-19T18:46:49.974Z"
   },
   {
    "duration": 8,
    "start_time": "2021-11-19T18:47:44.852Z"
   },
   {
    "duration": 5,
    "start_time": "2021-11-19T18:47:46.003Z"
   },
   {
    "duration": 6,
    "start_time": "2021-11-19T18:47:47.067Z"
   },
   {
    "duration": 11,
    "start_time": "2021-11-19T18:47:59.254Z"
   },
   {
    "duration": 10,
    "start_time": "2021-11-19T18:48:05.052Z"
   },
   {
    "duration": 9,
    "start_time": "2021-11-19T18:48:40.428Z"
   },
   {
    "duration": 10,
    "start_time": "2021-11-19T18:48:43.654Z"
   },
   {
    "duration": 679,
    "start_time": "2021-11-19T18:49:46.046Z"
   },
   {
    "duration": 9,
    "start_time": "2021-11-19T18:51:29.897Z"
   },
   {
    "duration": 13,
    "start_time": "2021-11-19T18:51:42.781Z"
   },
   {
    "duration": 11,
    "start_time": "2021-11-19T18:51:44.903Z"
   },
   {
    "duration": 624,
    "start_time": "2021-11-19T18:51:51.983Z"
   },
   {
    "duration": 15,
    "start_time": "2021-11-19T18:53:22.991Z"
   },
   {
    "duration": 835,
    "start_time": "2021-11-19T18:53:31.881Z"
   },
   {
    "duration": 9,
    "start_time": "2021-11-19T18:54:02.994Z"
   },
   {
    "duration": 508,
    "start_time": "2021-11-19T18:54:07.601Z"
   },
   {
    "duration": 743,
    "start_time": "2021-11-19T18:54:43.338Z"
   },
   {
    "duration": 9,
    "start_time": "2021-11-19T18:55:56.868Z"
   },
   {
    "duration": 528,
    "start_time": "2021-11-19T18:56:01.105Z"
   },
   {
    "duration": 655,
    "start_time": "2021-11-19T18:56:10.211Z"
   },
   {
    "duration": 7,
    "start_time": "2021-11-19T18:56:27.547Z"
   },
   {
    "duration": 12,
    "start_time": "2021-11-19T18:59:08.911Z"
   },
   {
    "duration": 112,
    "start_time": "2021-11-19T19:06:57.787Z"
   },
   {
    "duration": 1708,
    "start_time": "2021-11-19T19:53:56.262Z"
   },
   {
    "duration": 269,
    "start_time": "2021-11-19T19:53:57.973Z"
   },
   {
    "duration": 12,
    "start_time": "2021-11-19T19:53:58.244Z"
   },
   {
    "duration": 11,
    "start_time": "2021-11-19T19:53:58.259Z"
   },
   {
    "duration": 18,
    "start_time": "2021-11-19T19:53:58.272Z"
   },
   {
    "duration": 12,
    "start_time": "2021-11-19T19:53:58.292Z"
   },
   {
    "duration": 302,
    "start_time": "2021-11-19T19:53:58.306Z"
   },
   {
    "duration": 7,
    "start_time": "2021-11-19T19:53:58.611Z"
   },
   {
    "duration": 9,
    "start_time": "2021-11-19T19:53:58.620Z"
   },
   {
    "duration": 363,
    "start_time": "2021-11-19T19:53:58.631Z"
   },
   {
    "duration": 8,
    "start_time": "2021-11-19T19:53:58.996Z"
   },
   {
    "duration": 32,
    "start_time": "2021-11-19T19:53:59.006Z"
   },
   {
    "duration": 16,
    "start_time": "2021-11-19T19:53:59.040Z"
   },
   {
    "duration": 12,
    "start_time": "2021-11-19T19:53:59.058Z"
   },
   {
    "duration": 36,
    "start_time": "2021-11-19T19:53:59.072Z"
   },
   {
    "duration": 257,
    "start_time": "2021-11-19T19:53:59.110Z"
   },
   {
    "duration": 77,
    "start_time": "2021-11-19T19:53:59.370Z"
   },
   {
    "duration": 11,
    "start_time": "2021-11-19T19:53:59.449Z"
   },
   {
    "duration": 2742,
    "start_time": "2021-11-19T19:53:59.462Z"
   },
   {
    "duration": 8,
    "start_time": "2021-11-19T19:54:02.206Z"
   },
   {
    "duration": 358,
    "start_time": "2021-11-19T19:54:02.217Z"
   },
   {
    "duration": 91,
    "start_time": "2021-11-19T19:54:02.578Z"
   },
   {
    "duration": 143,
    "start_time": "2021-11-19T19:54:02.673Z"
   },
   {
    "duration": 227,
    "start_time": "2021-11-19T19:54:02.819Z"
   },
   {
    "duration": 39,
    "start_time": "2021-11-19T19:54:03.048Z"
   },
   {
    "duration": 219,
    "start_time": "2021-11-19T19:54:03.089Z"
   },
   {
    "duration": 8,
    "start_time": "2021-11-19T19:54:03.309Z"
   },
   {
    "duration": 19,
    "start_time": "2021-11-19T19:54:03.319Z"
   },
   {
    "duration": 9,
    "start_time": "2021-11-19T19:54:03.340Z"
   },
   {
    "duration": 18,
    "start_time": "2021-11-19T19:54:03.350Z"
   },
   {
    "duration": 23,
    "start_time": "2021-11-19T19:54:03.370Z"
   },
   {
    "duration": 4,
    "start_time": "2021-11-19T19:54:03.395Z"
   },
   {
    "duration": 26,
    "start_time": "2021-11-19T19:54:03.401Z"
   },
   {
    "duration": 19,
    "start_time": "2021-11-19T19:54:03.428Z"
   },
   {
    "duration": 32,
    "start_time": "2021-11-19T19:54:03.448Z"
   },
   {
    "duration": 13,
    "start_time": "2021-11-19T19:54:03.482Z"
   },
   {
    "duration": 15,
    "start_time": "2021-11-19T19:54:03.496Z"
   },
   {
    "duration": 11,
    "start_time": "2021-11-19T19:54:03.512Z"
   },
   {
    "duration": 8,
    "start_time": "2021-11-19T19:54:03.525Z"
   },
   {
    "duration": 27,
    "start_time": "2021-11-19T19:54:03.534Z"
   },
   {
    "duration": 6,
    "start_time": "2021-11-19T19:54:03.563Z"
   },
   {
    "duration": 42,
    "start_time": "2021-11-19T19:54:03.570Z"
   },
   {
    "duration": 10,
    "start_time": "2021-11-19T19:54:03.615Z"
   },
   {
    "duration": 25,
    "start_time": "2021-11-19T19:54:03.626Z"
   },
   {
    "duration": 45,
    "start_time": "2021-11-19T19:54:03.653Z"
   },
   {
    "duration": 6,
    "start_time": "2021-11-19T19:54:03.700Z"
   },
   {
    "duration": 8,
    "start_time": "2021-11-19T19:54:03.707Z"
   },
   {
    "duration": 33,
    "start_time": "2021-11-19T19:54:03.717Z"
   },
   {
    "duration": 114,
    "start_time": "2021-11-19T19:54:03.752Z"
   },
   {
    "duration": 10,
    "start_time": "2021-11-19T19:54:03.868Z"
   },
   {
    "duration": 20,
    "start_time": "2021-11-19T19:54:03.879Z"
   },
   {
    "duration": 10,
    "start_time": "2021-11-19T19:54:03.901Z"
   },
   {
    "duration": 12,
    "start_time": "2021-11-19T19:54:03.912Z"
   },
   {
    "duration": 49,
    "start_time": "2021-11-19T19:54:03.925Z"
   },
   {
    "duration": 6,
    "start_time": "2021-11-19T19:54:03.976Z"
   },
   {
    "duration": 16,
    "start_time": "2021-11-19T19:54:03.983Z"
   },
   {
    "duration": 22,
    "start_time": "2021-11-19T19:54:04.001Z"
   },
   {
    "duration": 24,
    "start_time": "2021-11-19T19:54:04.025Z"
   },
   {
    "duration": 10,
    "start_time": "2021-11-19T19:54:04.050Z"
   },
   {
    "duration": 7,
    "start_time": "2021-11-19T19:54:04.062Z"
   },
   {
    "duration": 15,
    "start_time": "2021-11-19T19:54:04.070Z"
   },
   {
    "duration": 11,
    "start_time": "2021-11-19T19:54:04.087Z"
   },
   {
    "duration": 17,
    "start_time": "2021-11-19T19:54:04.099Z"
   },
   {
    "duration": 818,
    "start_time": "2021-11-19T19:54:04.118Z"
   },
   {
    "duration": 29,
    "start_time": "2021-11-19T19:54:04.938Z"
   },
   {
    "duration": 368,
    "start_time": "2021-11-19T19:54:04.969Z"
   },
   {
    "duration": 31,
    "start_time": "2021-11-19T19:54:05.339Z"
   },
   {
    "duration": 37,
    "start_time": "2021-11-19T19:54:05.375Z"
   },
   {
    "duration": 21,
    "start_time": "2021-11-19T19:54:05.415Z"
   },
   {
    "duration": 522,
    "start_time": "2021-11-19T19:54:05.437Z"
   },
   {
    "duration": 23,
    "start_time": "2021-11-19T19:54:05.961Z"
   },
   {
    "duration": 36,
    "start_time": "2021-11-19T19:54:05.985Z"
   },
   {
    "duration": 11,
    "start_time": "2021-11-19T19:54:06.022Z"
   },
   {
    "duration": 19,
    "start_time": "2021-11-19T19:54:06.035Z"
   },
   {
    "duration": 7,
    "start_time": "2021-11-19T19:54:06.057Z"
   },
   {
    "duration": 44,
    "start_time": "2021-11-19T19:54:06.066Z"
   },
   {
    "duration": 843,
    "start_time": "2021-11-19T19:54:06.112Z"
   },
   {
    "duration": 2,
    "start_time": "2021-11-19T19:54:06.957Z"
   },
   {
    "duration": 6,
    "start_time": "2021-11-19T19:54:06.962Z"
   },
   {
    "duration": 23,
    "start_time": "2021-11-19T19:54:06.970Z"
   },
   {
    "duration": 15,
    "start_time": "2021-11-19T19:54:06.994Z"
   },
   {
    "duration": 10,
    "start_time": "2021-11-19T19:54:07.011Z"
   },
   {
    "duration": 725,
    "start_time": "2021-11-19T19:54:07.023Z"
   },
   {
    "duration": -3273,
    "start_time": "2021-11-19T19:54:11.024Z"
   },
   {
    "duration": -3276,
    "start_time": "2021-11-19T19:54:11.029Z"
   },
   {
    "duration": -3285,
    "start_time": "2021-11-19T19:54:11.039Z"
   },
   {
    "duration": -3292,
    "start_time": "2021-11-19T19:54:11.047Z"
   },
   {
    "duration": -3294,
    "start_time": "2021-11-19T19:54:11.050Z"
   },
   {
    "duration": -3297,
    "start_time": "2021-11-19T19:54:11.055Z"
   },
   {
    "duration": -3308,
    "start_time": "2021-11-19T19:54:11.067Z"
   },
   {
    "duration": -3310,
    "start_time": "2021-11-19T19:54:11.070Z"
   },
   {
    "duration": -3312,
    "start_time": "2021-11-19T19:54:11.073Z"
   },
   {
    "duration": -3314,
    "start_time": "2021-11-19T19:54:11.076Z"
   },
   {
    "duration": -3316,
    "start_time": "2021-11-19T19:54:11.079Z"
   },
   {
    "duration": -3318,
    "start_time": "2021-11-19T19:54:11.082Z"
   },
   {
    "duration": -3320,
    "start_time": "2021-11-19T19:54:11.085Z"
   },
   {
    "duration": -3322,
    "start_time": "2021-11-19T19:54:11.088Z"
   },
   {
    "duration": -3324,
    "start_time": "2021-11-19T19:54:11.091Z"
   },
   {
    "duration": -3326,
    "start_time": "2021-11-19T19:54:11.094Z"
   },
   {
    "duration": 2137,
    "start_time": "2021-11-20T06:01:19.730Z"
   },
   {
    "duration": 132,
    "start_time": "2021-11-20T06:01:21.870Z"
   },
   {
    "duration": 16,
    "start_time": "2021-11-20T06:01:22.006Z"
   },
   {
    "duration": 8,
    "start_time": "2021-11-20T06:01:22.025Z"
   },
   {
    "duration": 12,
    "start_time": "2021-11-20T06:01:22.035Z"
   },
   {
    "duration": 8,
    "start_time": "2021-11-20T06:01:22.049Z"
   },
   {
    "duration": 431,
    "start_time": "2021-11-20T06:01:22.059Z"
   },
   {
    "duration": 8,
    "start_time": "2021-11-20T06:01:22.494Z"
   },
   {
    "duration": 30,
    "start_time": "2021-11-20T06:01:22.505Z"
   },
   {
    "duration": 281,
    "start_time": "2021-11-20T06:01:22.538Z"
   },
   {
    "duration": 12,
    "start_time": "2021-11-20T06:01:22.821Z"
   },
   {
    "duration": 51,
    "start_time": "2021-11-20T06:01:22.835Z"
   },
   {
    "duration": 18,
    "start_time": "2021-11-20T06:01:22.888Z"
   },
   {
    "duration": 33,
    "start_time": "2021-11-20T06:01:22.909Z"
   },
   {
    "duration": 9,
    "start_time": "2021-11-20T06:01:22.944Z"
   },
   {
    "duration": 418,
    "start_time": "2021-11-20T06:01:22.955Z"
   },
   {
    "duration": 109,
    "start_time": "2021-11-20T06:01:23.376Z"
   },
   {
    "duration": 14,
    "start_time": "2021-11-20T06:01:23.488Z"
   },
   {
    "duration": 1195,
    "start_time": "2021-11-20T06:01:23.504Z"
   },
   {
    "duration": 11,
    "start_time": "2021-11-20T06:01:24.701Z"
   },
   {
    "duration": 455,
    "start_time": "2021-11-20T06:01:24.729Z"
   },
   {
    "duration": 80,
    "start_time": "2021-11-20T06:01:25.187Z"
   },
   {
    "duration": 152,
    "start_time": "2021-11-20T06:01:25.273Z"
   },
   {
    "duration": 379,
    "start_time": "2021-11-20T06:01:25.430Z"
   },
   {
    "duration": 58,
    "start_time": "2021-11-20T06:01:25.811Z"
   },
   {
    "duration": 123,
    "start_time": "2021-11-20T06:01:25.872Z"
   },
   {
    "duration": 11,
    "start_time": "2021-11-20T06:01:25.998Z"
   },
   {
    "duration": 16,
    "start_time": "2021-11-20T06:01:26.011Z"
   },
   {
    "duration": 11,
    "start_time": "2021-11-20T06:01:26.029Z"
   },
   {
    "duration": 12,
    "start_time": "2021-11-20T06:01:26.042Z"
   },
   {
    "duration": 22,
    "start_time": "2021-11-20T06:01:26.056Z"
   },
   {
    "duration": 5,
    "start_time": "2021-11-20T06:01:26.081Z"
   },
   {
    "duration": 16,
    "start_time": "2021-11-20T06:01:26.088Z"
   },
   {
    "duration": 5,
    "start_time": "2021-11-20T06:01:26.130Z"
   },
   {
    "duration": 10,
    "start_time": "2021-11-20T06:01:26.138Z"
   },
   {
    "duration": 9,
    "start_time": "2021-11-20T06:01:26.150Z"
   },
   {
    "duration": 8,
    "start_time": "2021-11-20T06:01:26.161Z"
   },
   {
    "duration": 12,
    "start_time": "2021-11-20T06:01:26.172Z"
   },
   {
    "duration": 47,
    "start_time": "2021-11-20T06:01:26.187Z"
   },
   {
    "duration": 12,
    "start_time": "2021-11-20T06:01:26.237Z"
   },
   {
    "duration": 6,
    "start_time": "2021-11-20T06:01:26.252Z"
   },
   {
    "duration": 76,
    "start_time": "2021-11-20T06:01:26.260Z"
   },
   {
    "duration": 14,
    "start_time": "2021-11-20T06:01:26.339Z"
   },
   {
    "duration": 9,
    "start_time": "2021-11-20T06:01:26.356Z"
   },
   {
    "duration": 25,
    "start_time": "2021-11-20T06:01:26.367Z"
   },
   {
    "duration": 36,
    "start_time": "2021-11-20T06:01:26.394Z"
   },
   {
    "duration": 4,
    "start_time": "2021-11-20T06:01:26.433Z"
   },
   {
    "duration": 27,
    "start_time": "2021-11-20T06:01:26.439Z"
   },
   {
    "duration": 172,
    "start_time": "2021-11-20T06:01:26.468Z"
   },
   {
    "duration": 14,
    "start_time": "2021-11-20T06:01:26.643Z"
   },
   {
    "duration": 12,
    "start_time": "2021-11-20T06:01:26.659Z"
   },
   {
    "duration": 6,
    "start_time": "2021-11-20T06:01:26.674Z"
   },
   {
    "duration": 53,
    "start_time": "2021-11-20T06:01:26.682Z"
   },
   {
    "duration": 48,
    "start_time": "2021-11-20T06:01:26.737Z"
   },
   {
    "duration": 10,
    "start_time": "2021-11-20T06:01:26.787Z"
   },
   {
    "duration": 35,
    "start_time": "2021-11-20T06:01:26.799Z"
   },
   {
    "duration": 13,
    "start_time": "2021-11-20T06:01:26.837Z"
   },
   {
    "duration": 18,
    "start_time": "2021-11-20T06:01:26.853Z"
   },
   {
    "duration": 13,
    "start_time": "2021-11-20T06:01:26.874Z"
   },
   {
    "duration": 8,
    "start_time": "2021-11-20T06:01:26.890Z"
   },
   {
    "duration": 34,
    "start_time": "2021-11-20T06:01:26.900Z"
   },
   {
    "duration": 8,
    "start_time": "2021-11-20T06:01:26.936Z"
   },
   {
    "duration": 17,
    "start_time": "2021-11-20T06:01:26.946Z"
   },
   {
    "duration": 1235,
    "start_time": "2021-11-20T06:01:26.965Z"
   },
   {
    "duration": 47,
    "start_time": "2021-11-20T06:01:28.203Z"
   },
   {
    "duration": 603,
    "start_time": "2021-11-20T06:01:28.252Z"
   },
   {
    "duration": 41,
    "start_time": "2021-11-20T06:01:28.857Z"
   },
   {
    "duration": 45,
    "start_time": "2021-11-20T06:01:28.906Z"
   },
   {
    "duration": 28,
    "start_time": "2021-11-20T06:01:28.954Z"
   },
   {
    "duration": 879,
    "start_time": "2021-11-20T06:01:28.985Z"
   },
   {
    "duration": 31,
    "start_time": "2021-11-20T06:01:29.867Z"
   },
   {
    "duration": 47,
    "start_time": "2021-11-20T06:01:29.901Z"
   },
   {
    "duration": 13,
    "start_time": "2021-11-20T06:01:29.951Z"
   },
   {
    "duration": 17,
    "start_time": "2021-11-20T06:01:29.966Z"
   },
   {
    "duration": 43,
    "start_time": "2021-11-20T06:01:29.985Z"
   },
   {
    "duration": 36,
    "start_time": "2021-11-20T06:01:30.031Z"
   },
   {
    "duration": 1460,
    "start_time": "2021-11-20T06:01:30.069Z"
   },
   {
    "duration": 3,
    "start_time": "2021-11-20T06:01:31.531Z"
   },
   {
    "duration": 24,
    "start_time": "2021-11-20T06:01:31.537Z"
   },
   {
    "duration": 38,
    "start_time": "2021-11-20T06:01:31.564Z"
   },
   {
    "duration": 20,
    "start_time": "2021-11-20T06:01:31.605Z"
   },
   {
    "duration": 14,
    "start_time": "2021-11-20T06:01:31.628Z"
   },
   {
    "duration": 994,
    "start_time": "2021-11-20T06:01:31.645Z"
   },
   {
    "duration": -1309,
    "start_time": "2021-11-20T06:01:33.950Z"
   },
   {
    "duration": -1334,
    "start_time": "2021-11-20T06:01:33.977Z"
   },
   {
    "duration": -1359,
    "start_time": "2021-11-20T06:01:34.003Z"
   },
   {
    "duration": -1380,
    "start_time": "2021-11-20T06:01:34.026Z"
   },
   {
    "duration": -1406,
    "start_time": "2021-11-20T06:01:34.053Z"
   },
   {
    "duration": -1428,
    "start_time": "2021-11-20T06:01:34.077Z"
   },
   {
    "duration": -1461,
    "start_time": "2021-11-20T06:01:34.111Z"
   },
   {
    "duration": -1474,
    "start_time": "2021-11-20T06:01:34.126Z"
   },
   {
    "duration": -1487,
    "start_time": "2021-11-20T06:01:34.140Z"
   },
   {
    "duration": -1490,
    "start_time": "2021-11-20T06:01:34.145Z"
   },
   {
    "duration": -1494,
    "start_time": "2021-11-20T06:01:34.150Z"
   },
   {
    "duration": -1495,
    "start_time": "2021-11-20T06:01:34.153Z"
   },
   {
    "duration": -1498,
    "start_time": "2021-11-20T06:01:34.157Z"
   },
   {
    "duration": -1499,
    "start_time": "2021-11-20T06:01:34.160Z"
   },
   {
    "duration": -1500,
    "start_time": "2021-11-20T06:01:34.162Z"
   },
   {
    "duration": -1501,
    "start_time": "2021-11-20T06:01:34.165Z"
   },
   {
    "duration": 389,
    "start_time": "2021-11-20T06:03:28.587Z"
   },
   {
    "duration": 18,
    "start_time": "2021-11-20T06:10:26.362Z"
   },
   {
    "duration": 27,
    "start_time": "2021-11-20T06:11:01.126Z"
   },
   {
    "duration": 10,
    "start_time": "2021-11-20T06:11:30.942Z"
   },
   {
    "duration": 10,
    "start_time": "2021-11-20T06:11:39.325Z"
   },
   {
    "duration": 30,
    "start_time": "2021-11-20T06:11:53.549Z"
   },
   {
    "duration": 36,
    "start_time": "2021-11-20T06:18:23.365Z"
   },
   {
    "duration": 9,
    "start_time": "2021-11-20T06:18:26.709Z"
   },
   {
    "duration": 32,
    "start_time": "2021-11-20T06:18:38.298Z"
   },
   {
    "duration": 9,
    "start_time": "2021-11-20T06:18:44.107Z"
   },
   {
    "duration": 32,
    "start_time": "2021-11-20T06:19:04.225Z"
   },
   {
    "duration": 38,
    "start_time": "2021-11-20T06:19:10.602Z"
   },
   {
    "duration": 709,
    "start_time": "2021-11-20T06:20:41.555Z"
   },
   {
    "duration": 51,
    "start_time": "2021-11-20T06:20:52.716Z"
   },
   {
    "duration": 52,
    "start_time": "2021-11-20T06:21:24.378Z"
   },
   {
    "duration": 51,
    "start_time": "2021-11-20T06:21:31.618Z"
   },
   {
    "duration": 49,
    "start_time": "2021-11-20T06:21:35.194Z"
   },
   {
    "duration": 49,
    "start_time": "2021-11-20T06:21:44.915Z"
   },
   {
    "duration": 35,
    "start_time": "2021-11-20T06:24:16.561Z"
   },
   {
    "duration": 44,
    "start_time": "2021-11-20T06:24:19.128Z"
   },
   {
    "duration": 47,
    "start_time": "2021-11-20T06:25:20.290Z"
   },
   {
    "duration": 42,
    "start_time": "2021-11-20T06:25:20.483Z"
   },
   {
    "duration": 47,
    "start_time": "2021-11-20T06:25:37.840Z"
   },
   {
    "duration": 52,
    "start_time": "2021-11-20T06:25:52.659Z"
   },
   {
    "duration": 538,
    "start_time": "2021-11-20T06:27:07.967Z"
   },
   {
    "duration": 51,
    "start_time": "2021-11-20T06:27:15.630Z"
   },
   {
    "duration": 57,
    "start_time": "2021-11-20T06:27:22.932Z"
   },
   {
    "duration": 4,
    "start_time": "2021-11-20T06:27:25.525Z"
   },
   {
    "duration": 4,
    "start_time": "2021-11-20T06:27:28.395Z"
   },
   {
    "duration": 11,
    "start_time": "2021-11-20T06:28:08.889Z"
   },
   {
    "duration": 63,
    "start_time": "2021-11-20T06:28:47.977Z"
   },
   {
    "duration": 69,
    "start_time": "2021-11-20T06:28:51.583Z"
   },
   {
    "duration": 71,
    "start_time": "2021-11-20T06:29:00.456Z"
   },
   {
    "duration": -1840,
    "start_time": "2021-11-20T06:32:07.509Z"
   },
   {
    "duration": 27408,
    "start_time": "2021-11-20T06:32:51.953Z"
   },
   {
    "duration": 211,
    "start_time": "2021-11-20T06:33:19.363Z"
   },
   {
    "duration": 15,
    "start_time": "2021-11-20T06:33:19.577Z"
   },
   {
    "duration": 9,
    "start_time": "2021-11-20T06:33:19.595Z"
   },
   {
    "duration": 25,
    "start_time": "2021-11-20T06:33:19.606Z"
   },
   {
    "duration": 8,
    "start_time": "2021-11-20T06:33:19.633Z"
   },
   {
    "duration": 430,
    "start_time": "2021-11-20T06:33:19.643Z"
   },
   {
    "duration": 8,
    "start_time": "2021-11-20T06:33:20.077Z"
   },
   {
    "duration": 10,
    "start_time": "2021-11-20T06:33:20.088Z"
   },
   {
    "duration": 235,
    "start_time": "2021-11-20T06:33:20.100Z"
   },
   {
    "duration": 12,
    "start_time": "2021-11-20T06:33:20.337Z"
   },
   {
    "duration": 59,
    "start_time": "2021-11-20T06:33:20.351Z"
   },
   {
    "duration": 18,
    "start_time": "2021-11-20T06:33:20.412Z"
   },
   {
    "duration": 42,
    "start_time": "2021-11-20T06:33:20.432Z"
   },
   {
    "duration": 19,
    "start_time": "2021-11-20T06:33:20.477Z"
   },
   {
    "duration": 423,
    "start_time": "2021-11-20T06:33:20.498Z"
   },
   {
    "duration": 107,
    "start_time": "2021-11-20T06:33:20.923Z"
   },
   {
    "duration": 13,
    "start_time": "2021-11-20T06:33:21.033Z"
   },
   {
    "duration": 1281,
    "start_time": "2021-11-20T06:33:21.048Z"
   },
   {
    "duration": 12,
    "start_time": "2021-11-20T06:33:22.332Z"
   },
   {
    "duration": 365,
    "start_time": "2021-11-20T06:33:22.347Z"
   },
   {
    "duration": 84,
    "start_time": "2021-11-20T06:33:22.714Z"
   },
   {
    "duration": 153,
    "start_time": "2021-11-20T06:33:22.804Z"
   },
   {
    "duration": 383,
    "start_time": "2021-11-20T06:33:22.961Z"
   },
   {
    "duration": 60,
    "start_time": "2021-11-20T06:33:23.346Z"
   },
   {
    "duration": 98,
    "start_time": "2021-11-20T06:33:23.409Z"
   },
   {
    "duration": 12,
    "start_time": "2021-11-20T06:33:23.510Z"
   },
   {
    "duration": 41,
    "start_time": "2021-11-20T06:33:23.525Z"
   },
   {
    "duration": 31,
    "start_time": "2021-11-20T06:33:23.569Z"
   },
   {
    "duration": 27,
    "start_time": "2021-11-20T06:33:23.602Z"
   },
   {
    "duration": 53,
    "start_time": "2021-11-20T06:33:23.632Z"
   },
   {
    "duration": 5,
    "start_time": "2021-11-20T06:33:23.687Z"
   },
   {
    "duration": 33,
    "start_time": "2021-11-20T06:33:23.695Z"
   },
   {
    "duration": 16,
    "start_time": "2021-11-20T06:33:23.731Z"
   },
   {
    "duration": 22,
    "start_time": "2021-11-20T06:33:23.750Z"
   },
   {
    "duration": 27,
    "start_time": "2021-11-20T06:33:23.775Z"
   },
   {
    "duration": 21,
    "start_time": "2021-11-20T06:33:23.804Z"
   },
   {
    "duration": 33,
    "start_time": "2021-11-20T06:33:23.827Z"
   },
   {
    "duration": 11,
    "start_time": "2021-11-20T06:33:23.862Z"
   },
   {
    "duration": 44,
    "start_time": "2021-11-20T06:33:23.876Z"
   },
   {
    "duration": 24,
    "start_time": "2021-11-20T06:33:23.922Z"
   },
   {
    "duration": 49,
    "start_time": "2021-11-20T06:33:23.948Z"
   },
   {
    "duration": 16,
    "start_time": "2021-11-20T06:33:24.000Z"
   },
   {
    "duration": 22,
    "start_time": "2021-11-20T06:33:24.019Z"
   },
   {
    "duration": 35,
    "start_time": "2021-11-20T06:33:24.044Z"
   },
   {
    "duration": 7,
    "start_time": "2021-11-20T06:33:24.081Z"
   },
   {
    "duration": 7,
    "start_time": "2021-11-20T06:33:24.090Z"
   },
   {
    "duration": 44,
    "start_time": "2021-11-20T06:33:24.099Z"
   },
   {
    "duration": 159,
    "start_time": "2021-11-20T06:33:24.146Z"
   },
   {
    "duration": 22,
    "start_time": "2021-11-20T06:33:24.308Z"
   },
   {
    "duration": 19,
    "start_time": "2021-11-20T06:33:24.332Z"
   },
   {
    "duration": 10,
    "start_time": "2021-11-20T06:33:24.354Z"
   },
   {
    "duration": 20,
    "start_time": "2021-11-20T06:33:24.366Z"
   },
   {
    "duration": 70,
    "start_time": "2021-11-20T06:33:24.388Z"
   },
   {
    "duration": 8,
    "start_time": "2021-11-20T06:33:24.460Z"
   },
   {
    "duration": 35,
    "start_time": "2021-11-20T06:33:24.471Z"
   },
   {
    "duration": 32,
    "start_time": "2021-11-20T06:33:24.509Z"
   },
   {
    "duration": 31,
    "start_time": "2021-11-20T06:33:24.543Z"
   },
   {
    "duration": 18,
    "start_time": "2021-11-20T06:33:24.576Z"
   },
   {
    "duration": 61,
    "start_time": "2021-11-20T06:33:24.596Z"
   },
   {
    "duration": 6,
    "start_time": "2021-11-20T06:33:24.659Z"
   },
   {
    "duration": 22,
    "start_time": "2021-11-20T06:33:24.668Z"
   },
   {
    "duration": 20,
    "start_time": "2021-11-20T06:33:24.692Z"
   },
   {
    "duration": 29,
    "start_time": "2021-11-20T06:33:24.715Z"
   },
   {
    "duration": 76,
    "start_time": "2021-11-20T06:33:24.746Z"
   },
   {
    "duration": 1166,
    "start_time": "2021-11-20T06:33:24.824Z"
   },
   {
    "duration": 57,
    "start_time": "2021-11-20T06:33:25.992Z"
   },
   {
    "duration": 644,
    "start_time": "2021-11-20T06:33:26.057Z"
   },
   {
    "duration": 54,
    "start_time": "2021-11-20T06:33:26.704Z"
   },
   {
    "duration": 29,
    "start_time": "2021-11-20T06:33:26.760Z"
   },
   {
    "duration": 52,
    "start_time": "2021-11-20T06:33:26.792Z"
   },
   {
    "duration": 848,
    "start_time": "2021-11-20T06:33:26.846Z"
   },
   {
    "duration": 45,
    "start_time": "2021-11-20T06:33:27.697Z"
   },
   {
    "duration": 24,
    "start_time": "2021-11-20T06:33:27.745Z"
   },
   {
    "duration": 14,
    "start_time": "2021-11-20T06:33:27.772Z"
   },
   {
    "duration": 42,
    "start_time": "2021-11-20T06:33:27.789Z"
   },
   {
    "duration": 34,
    "start_time": "2021-11-20T06:33:27.834Z"
   },
   {
    "duration": 48,
    "start_time": "2021-11-20T06:33:27.870Z"
   },
   {
    "duration": 1304,
    "start_time": "2021-11-20T06:33:27.920Z"
   },
   {
    "duration": 4,
    "start_time": "2021-11-20T06:33:29.228Z"
   },
   {
    "duration": 8,
    "start_time": "2021-11-20T06:33:29.234Z"
   },
   {
    "duration": 29,
    "start_time": "2021-11-20T06:33:29.245Z"
   },
   {
    "duration": 11,
    "start_time": "2021-11-20T06:33:29.276Z"
   },
   {
    "duration": 41,
    "start_time": "2021-11-20T06:33:29.289Z"
   },
   {
    "duration": 1110,
    "start_time": "2021-11-20T06:33:29.333Z"
   },
   {
    "duration": -1416,
    "start_time": "2021-11-20T06:33:31.861Z"
   },
   {
    "duration": -1426,
    "start_time": "2021-11-20T06:33:31.873Z"
   },
   {
    "duration": -1433,
    "start_time": "2021-11-20T06:33:31.881Z"
   },
   {
    "duration": -1446,
    "start_time": "2021-11-20T06:33:31.895Z"
   },
   {
    "duration": -1448,
    "start_time": "2021-11-20T06:33:31.898Z"
   },
   {
    "duration": -1449,
    "start_time": "2021-11-20T06:33:31.901Z"
   },
   {
    "duration": -1451,
    "start_time": "2021-11-20T06:33:31.904Z"
   },
   {
    "duration": -1453,
    "start_time": "2021-11-20T06:33:31.907Z"
   },
   {
    "duration": -1455,
    "start_time": "2021-11-20T06:33:31.910Z"
   },
   {
    "duration": -1457,
    "start_time": "2021-11-20T06:33:31.913Z"
   },
   {
    "duration": -1458,
    "start_time": "2021-11-20T06:33:31.915Z"
   },
   {
    "duration": -1460,
    "start_time": "2021-11-20T06:33:31.919Z"
   },
   {
    "duration": -1462,
    "start_time": "2021-11-20T06:33:31.922Z"
   },
   {
    "duration": -1465,
    "start_time": "2021-11-20T06:33:31.926Z"
   },
   {
    "duration": -1467,
    "start_time": "2021-11-20T06:33:31.929Z"
   },
   {
    "duration": -1468,
    "start_time": "2021-11-20T06:33:31.932Z"
   },
   {
    "duration": 13,
    "start_time": "2021-11-20T06:35:19.530Z"
   },
   {
    "duration": 205,
    "start_time": "2021-11-20T06:36:54.966Z"
   },
   {
    "duration": 761,
    "start_time": "2021-11-20T06:37:03.878Z"
   },
   {
    "duration": 860,
    "start_time": "2021-11-20T06:37:15.533Z"
   },
   {
    "duration": 889,
    "start_time": "2021-11-20T06:37:21.893Z"
   },
   {
    "duration": 11,
    "start_time": "2021-11-20T06:37:51.082Z"
   },
   {
    "duration": 7,
    "start_time": "2021-11-20T06:38:04.106Z"
   },
   {
    "duration": 8,
    "start_time": "2021-11-20T06:38:06.240Z"
   },
   {
    "duration": 15,
    "start_time": "2021-11-20T06:38:23.625Z"
   },
   {
    "duration": 14,
    "start_time": "2021-11-20T06:38:27.159Z"
   },
   {
    "duration": 15,
    "start_time": "2021-11-20T06:38:43.464Z"
   },
   {
    "duration": 16,
    "start_time": "2021-11-20T06:39:13.252Z"
   },
   {
    "duration": 186,
    "start_time": "2021-11-20T06:40:30.954Z"
   },
   {
    "duration": 123,
    "start_time": "2021-11-20T06:40:35.546Z"
   },
   {
    "duration": 499,
    "start_time": "2021-11-20T06:40:44.976Z"
   },
   {
    "duration": 451,
    "start_time": "2021-11-20T06:52:44.435Z"
   },
   {
    "duration": 10,
    "start_time": "2021-11-20T06:52:46.619Z"
   },
   {
    "duration": 70,
    "start_time": "2021-11-20T06:53:11.324Z"
   },
   {
    "duration": 3,
    "start_time": "2021-11-20T06:55:48.402Z"
   },
   {
    "duration": 5,
    "start_time": "2021-11-20T06:55:51.737Z"
   },
   {
    "duration": 9033,
    "start_time": "2021-11-20T06:57:20.858Z"
   },
   {
    "duration": 22,
    "start_time": "2021-11-20T06:57:51.666Z"
   },
   {
    "duration": 24,
    "start_time": "2021-11-20T06:58:00.737Z"
   },
   {
    "duration": 6342,
    "start_time": "2021-11-20T06:58:03.617Z"
   },
   {
    "duration": 6006,
    "start_time": "2021-11-20T06:59:09.989Z"
   },
   {
    "duration": 802,
    "start_time": "2021-11-20T06:59:33.413Z"
   },
   {
    "duration": 838,
    "start_time": "2021-11-20T07:00:03.578Z"
   },
   {
    "duration": 36,
    "start_time": "2021-11-20T07:00:33.120Z"
   },
   {
    "duration": 5,
    "start_time": "2021-11-20T07:00:42.535Z"
   },
   {
    "duration": 991,
    "start_time": "2021-11-20T07:01:55.795Z"
   },
   {
    "duration": 845,
    "start_time": "2021-11-20T07:02:23.033Z"
   },
   {
    "duration": 5,
    "start_time": "2021-11-20T07:04:19.242Z"
   },
   {
    "duration": 5,
    "start_time": "2021-11-20T07:04:21.353Z"
   },
   {
    "duration": 92,
    "start_time": "2021-11-20T07:04:23.970Z"
   },
   {
    "duration": 123,
    "start_time": "2021-11-20T07:05:09.831Z"
   },
   {
    "duration": 6,
    "start_time": "2021-11-20T07:05:11.479Z"
   },
   {
    "duration": 771,
    "start_time": "2021-11-20T07:05:13.671Z"
   },
   {
    "duration": 5,
    "start_time": "2021-11-20T07:05:39.261Z"
   },
   {
    "duration": 5,
    "start_time": "2021-11-20T07:05:41.989Z"
   },
   {
    "duration": 5,
    "start_time": "2021-11-20T07:07:14.327Z"
   },
   {
    "duration": 83,
    "start_time": "2021-11-20T07:08:41.419Z"
   },
   {
    "duration": 7,
    "start_time": "2021-11-20T07:08:48.625Z"
   },
   {
    "duration": 864,
    "start_time": "2021-11-20T07:08:50.106Z"
   },
   {
    "duration": 133,
    "start_time": "2021-11-20T07:09:14.985Z"
   },
   {
    "duration": 7,
    "start_time": "2021-11-20T07:09:18.224Z"
   },
   {
    "duration": 86,
    "start_time": "2021-11-20T07:09:20.359Z"
   },
   {
    "duration": 7,
    "start_time": "2021-11-20T07:09:47.231Z"
   },
   {
    "duration": 86,
    "start_time": "2021-11-20T07:09:48.686Z"
   },
   {
    "duration": 7,
    "start_time": "2021-11-20T07:10:00.096Z"
   },
   {
    "duration": 87,
    "start_time": "2021-11-20T07:10:01.901Z"
   },
   {
    "duration": 7,
    "start_time": "2021-11-20T07:10:02.213Z"
   },
   {
    "duration": 92,
    "start_time": "2021-11-20T07:10:53.909Z"
   },
   {
    "duration": 90,
    "start_time": "2021-11-20T07:10:59.101Z"
   },
   {
    "duration": 92,
    "start_time": "2021-11-20T07:11:01.355Z"
   },
   {
    "duration": 90,
    "start_time": "2021-11-20T07:11:49.206Z"
   },
   {
    "duration": 198,
    "start_time": "2021-11-20T07:12:05.292Z"
   },
   {
    "duration": 6,
    "start_time": "2021-11-20T07:12:11.326Z"
   },
   {
    "duration": 250,
    "start_time": "2021-11-20T07:12:11.836Z"
   },
   {
    "duration": 20,
    "start_time": "2021-11-20T07:12:13.108Z"
   },
   {
    "duration": 5,
    "start_time": "2021-11-20T07:12:23.564Z"
   },
   {
    "duration": 1335,
    "start_time": "2021-11-20T07:12:24.075Z"
   },
   {
    "duration": 9,
    "start_time": "2021-11-20T07:12:25.413Z"
   },
   {
    "duration": 15,
    "start_time": "2021-11-20T07:12:28.740Z"
   },
   {
    "duration": 41,
    "start_time": "2021-11-20T07:12:29.492Z"
   },
   {
    "duration": 6,
    "start_time": "2021-11-20T07:12:30.955Z"
   },
   {
    "duration": 6,
    "start_time": "2021-11-20T07:12:32.915Z"
   },
   {
    "duration": 5,
    "start_time": "2021-11-20T07:12:33.619Z"
   },
   {
    "duration": 10,
    "start_time": "2021-11-20T07:12:34.611Z"
   },
   {
    "duration": 11,
    "start_time": "2021-11-20T07:12:35.338Z"
   },
   {
    "duration": 10,
    "start_time": "2021-11-20T07:12:35.875Z"
   },
   {
    "duration": 642,
    "start_time": "2021-11-20T07:12:38.699Z"
   },
   {
    "duration": 2087,
    "start_time": "2021-11-20T07:15:27.184Z"
   },
   {
    "duration": 85,
    "start_time": "2021-11-20T07:15:29.274Z"
   },
   {
    "duration": 15,
    "start_time": "2021-11-20T07:15:29.362Z"
   },
   {
    "duration": 9,
    "start_time": "2021-11-20T07:15:29.380Z"
   },
   {
    "duration": 11,
    "start_time": "2021-11-20T07:15:29.392Z"
   },
   {
    "duration": 11,
    "start_time": "2021-11-20T07:15:29.405Z"
   },
   {
    "duration": 412,
    "start_time": "2021-11-20T07:15:29.419Z"
   },
   {
    "duration": 8,
    "start_time": "2021-11-20T07:15:29.835Z"
   },
   {
    "duration": 21,
    "start_time": "2021-11-20T07:15:29.846Z"
   },
   {
    "duration": 256,
    "start_time": "2021-11-20T07:15:29.870Z"
   },
   {
    "duration": 11,
    "start_time": "2021-11-20T07:15:30.129Z"
   },
   {
    "duration": 55,
    "start_time": "2021-11-20T07:15:30.142Z"
   },
   {
    "duration": 30,
    "start_time": "2021-11-20T07:15:30.200Z"
   },
   {
    "duration": 16,
    "start_time": "2021-11-20T07:15:30.232Z"
   },
   {
    "duration": 8,
    "start_time": "2021-11-20T07:15:30.251Z"
   },
   {
    "duration": 433,
    "start_time": "2021-11-20T07:15:30.261Z"
   },
   {
    "duration": 106,
    "start_time": "2021-11-20T07:15:30.696Z"
   },
   {
    "duration": 14,
    "start_time": "2021-11-20T07:15:30.804Z"
   },
   {
    "duration": 1210,
    "start_time": "2021-11-20T07:15:30.829Z"
   },
   {
    "duration": 12,
    "start_time": "2021-11-20T07:15:32.041Z"
   },
   {
    "duration": 381,
    "start_time": "2021-11-20T07:15:32.055Z"
   },
   {
    "duration": 73,
    "start_time": "2021-11-20T07:15:32.438Z"
   },
   {
    "duration": 140,
    "start_time": "2021-11-20T07:15:32.533Z"
   },
   {
    "duration": 372,
    "start_time": "2021-11-20T07:15:32.677Z"
   },
   {
    "duration": 52,
    "start_time": "2021-11-20T07:15:33.052Z"
   },
   {
    "duration": 140,
    "start_time": "2021-11-20T07:15:33.107Z"
   },
   {
    "duration": 10,
    "start_time": "2021-11-20T07:15:33.249Z"
   },
   {
    "duration": 17,
    "start_time": "2021-11-20T07:15:33.261Z"
   },
   {
    "duration": 10,
    "start_time": "2021-11-20T07:15:33.280Z"
   },
   {
    "duration": 39,
    "start_time": "2021-11-20T07:15:33.293Z"
   },
   {
    "duration": 30,
    "start_time": "2021-11-20T07:15:33.335Z"
   },
   {
    "duration": 7,
    "start_time": "2021-11-20T07:15:33.368Z"
   },
   {
    "duration": 17,
    "start_time": "2021-11-20T07:15:33.377Z"
   },
   {
    "duration": 11,
    "start_time": "2021-11-20T07:15:33.397Z"
   },
   {
    "duration": 27,
    "start_time": "2021-11-20T07:15:33.410Z"
   },
   {
    "duration": 16,
    "start_time": "2021-11-20T07:15:33.439Z"
   },
   {
    "duration": 8,
    "start_time": "2021-11-20T07:15:33.457Z"
   },
   {
    "duration": 10,
    "start_time": "2021-11-20T07:15:33.467Z"
   },
   {
    "duration": 12,
    "start_time": "2021-11-20T07:15:33.479Z"
   },
   {
    "duration": 44,
    "start_time": "2021-11-20T07:15:33.493Z"
   },
   {
    "duration": 6,
    "start_time": "2021-11-20T07:15:33.539Z"
   },
   {
    "duration": 46,
    "start_time": "2021-11-20T07:15:33.547Z"
   },
   {
    "duration": 34,
    "start_time": "2021-11-20T07:15:33.595Z"
   },
   {
    "duration": 11,
    "start_time": "2021-11-20T07:15:33.632Z"
   },
   {
    "duration": 23,
    "start_time": "2021-11-20T07:15:33.646Z"
   },
   {
    "duration": 7,
    "start_time": "2021-11-20T07:15:33.671Z"
   },
   {
    "duration": 8,
    "start_time": "2021-11-20T07:15:33.682Z"
   },
   {
    "duration": 59,
    "start_time": "2021-11-20T07:15:33.693Z"
   },
   {
    "duration": 158,
    "start_time": "2021-11-20T07:15:33.755Z"
   },
   {
    "duration": 21,
    "start_time": "2021-11-20T07:15:33.916Z"
   },
   {
    "duration": 13,
    "start_time": "2021-11-20T07:15:33.940Z"
   },
   {
    "duration": 10,
    "start_time": "2021-11-20T07:15:33.956Z"
   },
   {
    "duration": 13,
    "start_time": "2021-11-20T07:15:33.969Z"
   },
   {
    "duration": 90,
    "start_time": "2021-11-20T07:15:33.985Z"
   },
   {
    "duration": 11,
    "start_time": "2021-11-20T07:15:34.077Z"
   },
   {
    "duration": 40,
    "start_time": "2021-11-20T07:15:34.091Z"
   },
   {
    "duration": 12,
    "start_time": "2021-11-20T07:15:34.133Z"
   },
   {
    "duration": 17,
    "start_time": "2021-11-20T07:15:34.147Z"
   },
   {
    "duration": 14,
    "start_time": "2021-11-20T07:15:34.166Z"
   },
   {
    "duration": 79,
    "start_time": "2021-11-20T07:15:34.182Z"
   },
   {
    "duration": 6,
    "start_time": "2021-11-20T07:15:34.263Z"
   },
   {
    "duration": 16,
    "start_time": "2021-11-20T07:15:34.271Z"
   },
   {
    "duration": 7,
    "start_time": "2021-11-20T07:15:34.290Z"
   },
   {
    "duration": 37,
    "start_time": "2021-11-20T07:15:34.300Z"
   },
   {
    "duration": 68,
    "start_time": "2021-11-20T07:15:34.340Z"
   },
   {
    "duration": 1130,
    "start_time": "2021-11-20T07:15:34.428Z"
   },
   {
    "duration": 15,
    "start_time": "2021-11-20T07:15:35.560Z"
   },
   {
    "duration": 668,
    "start_time": "2021-11-20T07:15:35.583Z"
   },
   {
    "duration": 41,
    "start_time": "2021-11-20T07:15:36.254Z"
   },
   {
    "duration": 639,
    "start_time": "2021-11-20T07:15:36.298Z"
   },
   {
    "duration": 43,
    "start_time": "2021-11-20T07:15:36.939Z"
   },
   {
    "duration": 49,
    "start_time": "2021-11-20T07:15:36.984Z"
   },
   {
    "duration": 28,
    "start_time": "2021-11-20T07:15:37.036Z"
   },
   {
    "duration": 875,
    "start_time": "2021-11-20T07:15:37.067Z"
   },
   {
    "duration": 31,
    "start_time": "2021-11-20T07:15:37.945Z"
   },
   {
    "duration": 44,
    "start_time": "2021-11-20T07:15:37.978Z"
   },
   {
    "duration": 24,
    "start_time": "2021-11-20T07:15:38.024Z"
   },
   {
    "duration": 31,
    "start_time": "2021-11-20T07:15:38.051Z"
   },
   {
    "duration": 25,
    "start_time": "2021-11-20T07:15:38.084Z"
   },
   {
    "duration": 50,
    "start_time": "2021-11-20T07:15:38.112Z"
   },
   {
    "duration": 1174,
    "start_time": "2021-11-20T07:15:38.165Z"
   },
   {
    "duration": 3,
    "start_time": "2021-11-20T07:15:39.342Z"
   },
   {
    "duration": 9,
    "start_time": "2021-11-20T07:15:39.348Z"
   },
   {
    "duration": 26,
    "start_time": "2021-11-20T07:15:39.360Z"
   },
   {
    "duration": 8,
    "start_time": "2021-11-20T07:15:39.388Z"
   },
   {
    "duration": 36,
    "start_time": "2021-11-20T07:15:39.399Z"
   },
   {
    "duration": 1092,
    "start_time": "2021-11-20T07:15:39.437Z"
   },
   {
    "duration": -1540,
    "start_time": "2021-11-20T07:15:42.071Z"
   },
   {
    "duration": -1543,
    "start_time": "2021-11-20T07:15:42.076Z"
   },
   {
    "duration": -1553,
    "start_time": "2021-11-20T07:15:42.087Z"
   },
   {
    "duration": -1557,
    "start_time": "2021-11-20T07:15:42.092Z"
   },
   {
    "duration": -1561,
    "start_time": "2021-11-20T07:15:42.098Z"
   },
   {
    "duration": -1564,
    "start_time": "2021-11-20T07:15:42.102Z"
   },
   {
    "duration": -1566,
    "start_time": "2021-11-20T07:15:42.106Z"
   },
   {
    "duration": -1568,
    "start_time": "2021-11-20T07:15:42.109Z"
   },
   {
    "duration": -1573,
    "start_time": "2021-11-20T07:15:42.115Z"
   },
   {
    "duration": -1575,
    "start_time": "2021-11-20T07:15:42.118Z"
   },
   {
    "duration": -1580,
    "start_time": "2021-11-20T07:15:42.125Z"
   },
   {
    "duration": -1586,
    "start_time": "2021-11-20T07:15:42.132Z"
   },
   {
    "duration": -1588,
    "start_time": "2021-11-20T07:15:42.135Z"
   },
   {
    "duration": -1589,
    "start_time": "2021-11-20T07:15:42.138Z"
   },
   {
    "duration": -1592,
    "start_time": "2021-11-20T07:15:42.142Z"
   },
   {
    "duration": -1598,
    "start_time": "2021-11-20T07:15:42.149Z"
   },
   {
    "duration": -1599,
    "start_time": "2021-11-20T07:15:42.152Z"
   },
   {
    "duration": 98,
    "start_time": "2021-11-20T07:15:59.414Z"
   },
   {
    "duration": 238,
    "start_time": "2021-11-20T07:16:00.663Z"
   },
   {
    "duration": 6,
    "start_time": "2021-11-20T07:16:00.904Z"
   },
   {
    "duration": 453,
    "start_time": "2021-11-20T07:16:00.980Z"
   },
   {
    "duration": 20,
    "start_time": "2021-11-20T07:16:01.437Z"
   },
   {
    "duration": 16,
    "start_time": "2021-11-20T07:16:01.460Z"
   },
   {
    "duration": 1442,
    "start_time": "2021-11-20T07:16:01.479Z"
   },
   {
    "duration": 10,
    "start_time": "2021-11-20T07:16:02.928Z"
   },
   {
    "duration": 25,
    "start_time": "2021-11-20T07:16:02.941Z"
   },
   {
    "duration": 64,
    "start_time": "2021-11-20T07:16:02.968Z"
   },
   {
    "duration": 6,
    "start_time": "2021-11-20T07:16:03.036Z"
   },
   {
    "duration": 28,
    "start_time": "2021-11-20T07:16:03.045Z"
   },
   {
    "duration": 23,
    "start_time": "2021-11-20T07:16:03.079Z"
   },
   {
    "duration": 26,
    "start_time": "2021-11-20T07:16:03.104Z"
   },
   {
    "duration": 29,
    "start_time": "2021-11-20T07:16:03.133Z"
   },
   {
    "duration": 13,
    "start_time": "2021-11-20T07:16:03.184Z"
   },
   {
    "duration": 577,
    "start_time": "2021-11-20T07:16:03.492Z"
   },
   {
    "duration": 1993,
    "start_time": "2021-11-20T10:21:33.156Z"
   },
   {
    "duration": 134,
    "start_time": "2021-11-20T10:21:35.152Z"
   },
   {
    "duration": 16,
    "start_time": "2021-11-20T10:21:35.289Z"
   },
   {
    "duration": 8,
    "start_time": "2021-11-20T10:21:35.308Z"
   },
   {
    "duration": 15,
    "start_time": "2021-11-20T10:21:35.319Z"
   },
   {
    "duration": 10,
    "start_time": "2021-11-20T10:21:35.337Z"
   },
   {
    "duration": 478,
    "start_time": "2021-11-20T10:21:35.349Z"
   },
   {
    "duration": 9,
    "start_time": "2021-11-20T10:21:35.830Z"
   },
   {
    "duration": 27,
    "start_time": "2021-11-20T10:21:35.842Z"
   },
   {
    "duration": 287,
    "start_time": "2021-11-20T10:21:35.872Z"
   },
   {
    "duration": 12,
    "start_time": "2021-11-20T10:21:36.161Z"
   },
   {
    "duration": 47,
    "start_time": "2021-11-20T10:21:36.176Z"
   },
   {
    "duration": 44,
    "start_time": "2021-11-20T10:21:36.225Z"
   },
   {
    "duration": 16,
    "start_time": "2021-11-20T10:21:36.272Z"
   },
   {
    "duration": 9,
    "start_time": "2021-11-20T10:21:36.291Z"
   },
   {
    "duration": 431,
    "start_time": "2021-11-20T10:21:36.303Z"
   },
   {
    "duration": 108,
    "start_time": "2021-11-20T10:21:36.736Z"
   },
   {
    "duration": 23,
    "start_time": "2021-11-20T10:21:36.846Z"
   },
   {
    "duration": 1206,
    "start_time": "2021-11-20T10:21:36.871Z"
   },
   {
    "duration": 16,
    "start_time": "2021-11-20T10:21:38.080Z"
   },
   {
    "duration": 370,
    "start_time": "2021-11-20T10:21:38.098Z"
   },
   {
    "duration": 100,
    "start_time": "2021-11-20T10:21:38.470Z"
   },
   {
    "duration": 128,
    "start_time": "2021-11-20T10:21:38.576Z"
   },
   {
    "duration": 385,
    "start_time": "2021-11-20T10:21:38.708Z"
   },
   {
    "duration": 52,
    "start_time": "2021-11-20T10:21:39.096Z"
   },
   {
    "duration": 137,
    "start_time": "2021-11-20T10:21:39.167Z"
   },
   {
    "duration": 10,
    "start_time": "2021-11-20T10:21:39.307Z"
   },
   {
    "duration": 17,
    "start_time": "2021-11-20T10:21:39.319Z"
   },
   {
    "duration": 10,
    "start_time": "2021-11-20T10:21:39.339Z"
   },
   {
    "duration": 10,
    "start_time": "2021-11-20T10:21:39.367Z"
   },
   {
    "duration": 17,
    "start_time": "2021-11-20T10:21:39.380Z"
   },
   {
    "duration": 5,
    "start_time": "2021-11-20T10:21:39.400Z"
   },
   {
    "duration": 19,
    "start_time": "2021-11-20T10:21:39.407Z"
   },
   {
    "duration": 7,
    "start_time": "2021-11-20T10:21:39.429Z"
   },
   {
    "duration": 11,
    "start_time": "2021-11-20T10:21:39.468Z"
   },
   {
    "duration": 7,
    "start_time": "2021-11-20T10:21:39.482Z"
   },
   {
    "duration": 10,
    "start_time": "2021-11-20T10:21:39.492Z"
   },
   {
    "duration": 8,
    "start_time": "2021-11-20T10:21:39.504Z"
   },
   {
    "duration": 6,
    "start_time": "2021-11-20T10:21:39.514Z"
   },
   {
    "duration": 54,
    "start_time": "2021-11-20T10:21:39.522Z"
   },
   {
    "duration": 6,
    "start_time": "2021-11-20T10:21:39.579Z"
   },
   {
    "duration": 47,
    "start_time": "2021-11-20T10:21:39.588Z"
   },
   {
    "duration": 43,
    "start_time": "2021-11-20T10:21:39.637Z"
   },
   {
    "duration": 8,
    "start_time": "2021-11-20T10:21:39.683Z"
   },
   {
    "duration": 26,
    "start_time": "2021-11-20T10:21:39.694Z"
   },
   {
    "duration": 8,
    "start_time": "2021-11-20T10:21:39.722Z"
   },
   {
    "duration": 5,
    "start_time": "2021-11-20T10:21:39.767Z"
   },
   {
    "duration": 29,
    "start_time": "2021-11-20T10:21:39.774Z"
   },
   {
    "duration": 163,
    "start_time": "2021-11-20T10:21:39.806Z"
   },
   {
    "duration": 16,
    "start_time": "2021-11-20T10:21:39.972Z"
   },
   {
    "duration": 11,
    "start_time": "2021-11-20T10:21:39.990Z"
   },
   {
    "duration": 7,
    "start_time": "2021-11-20T10:21:40.003Z"
   },
   {
    "duration": 14,
    "start_time": "2021-11-20T10:21:40.012Z"
   },
   {
    "duration": 89,
    "start_time": "2021-11-20T10:21:40.029Z"
   },
   {
    "duration": 10,
    "start_time": "2021-11-20T10:21:40.121Z"
   },
   {
    "duration": 36,
    "start_time": "2021-11-20T10:21:40.134Z"
   },
   {
    "duration": 11,
    "start_time": "2021-11-20T10:21:40.173Z"
   },
   {
    "duration": 15,
    "start_time": "2021-11-20T10:21:40.186Z"
   },
   {
    "duration": 12,
    "start_time": "2021-11-20T10:21:40.203Z"
   },
   {
    "duration": 87,
    "start_time": "2021-11-20T10:21:40.217Z"
   },
   {
    "duration": 6,
    "start_time": "2021-11-20T10:21:40.307Z"
   },
   {
    "duration": 15,
    "start_time": "2021-11-20T10:21:40.315Z"
   },
   {
    "duration": 36,
    "start_time": "2021-11-20T10:21:40.332Z"
   },
   {
    "duration": 17,
    "start_time": "2021-11-20T10:21:40.370Z"
   },
   {
    "duration": 86,
    "start_time": "2021-11-20T10:21:40.390Z"
   },
   {
    "duration": 1129,
    "start_time": "2021-11-20T10:21:40.478Z"
   },
   {
    "duration": 16,
    "start_time": "2021-11-20T10:21:41.609Z"
   },
   {
    "duration": 661,
    "start_time": "2021-11-20T10:21:41.633Z"
   },
   {
    "duration": 39,
    "start_time": "2021-11-20T10:21:42.297Z"
   },
   {
    "duration": 647,
    "start_time": "2021-11-20T10:21:42.339Z"
   },
   {
    "duration": 41,
    "start_time": "2021-11-20T10:21:42.988Z"
   },
   {
    "duration": 56,
    "start_time": "2021-11-20T10:21:43.031Z"
   },
   {
    "duration": 31,
    "start_time": "2021-11-20T10:21:43.090Z"
   },
   {
    "duration": 907,
    "start_time": "2021-11-20T10:21:43.123Z"
   },
   {
    "duration": 51,
    "start_time": "2021-11-20T10:21:44.033Z"
   },
   {
    "duration": 28,
    "start_time": "2021-11-20T10:21:44.087Z"
   },
   {
    "duration": 15,
    "start_time": "2021-11-20T10:21:44.118Z"
   },
   {
    "duration": 48,
    "start_time": "2021-11-20T10:21:44.135Z"
   },
   {
    "duration": 12,
    "start_time": "2021-11-20T10:21:44.185Z"
   },
   {
    "duration": 69,
    "start_time": "2021-11-20T10:21:44.200Z"
   },
   {
    "duration": 1196,
    "start_time": "2021-11-20T10:21:44.271Z"
   },
   {
    "duration": 4,
    "start_time": "2021-11-20T10:21:45.469Z"
   },
   {
    "duration": 8,
    "start_time": "2021-11-20T10:21:45.475Z"
   },
   {
    "duration": 23,
    "start_time": "2021-11-20T10:21:45.485Z"
   },
   {
    "duration": 8,
    "start_time": "2021-11-20T10:21:45.511Z"
   },
   {
    "duration": 47,
    "start_time": "2021-11-20T10:21:45.522Z"
   },
   {
    "duration": 779,
    "start_time": "2021-11-20T10:21:45.571Z"
   },
   {
    "duration": -10363,
    "start_time": "2021-11-20T10:21:56.716Z"
   },
   {
    "duration": -10582,
    "start_time": "2021-11-20T10:21:56.936Z"
   },
   {
    "duration": -10673,
    "start_time": "2021-11-20T10:21:57.029Z"
   },
   {
    "duration": -10726,
    "start_time": "2021-11-20T10:21:57.083Z"
   },
   {
    "duration": -10755,
    "start_time": "2021-11-20T10:21:57.113Z"
   },
   {
    "duration": -10782,
    "start_time": "2021-11-20T10:21:57.141Z"
   },
   {
    "duration": -10804,
    "start_time": "2021-11-20T10:21:57.165Z"
   },
   {
    "duration": -10856,
    "start_time": "2021-11-20T10:21:57.218Z"
   },
   {
    "duration": -10881,
    "start_time": "2021-11-20T10:21:57.244Z"
   },
   {
    "duration": -10906,
    "start_time": "2021-11-20T10:21:57.271Z"
   },
   {
    "duration": -10929,
    "start_time": "2021-11-20T10:21:57.295Z"
   },
   {
    "duration": -10979,
    "start_time": "2021-11-20T10:21:57.347Z"
   },
   {
    "duration": -11004,
    "start_time": "2021-11-20T10:21:57.373Z"
   },
   {
    "duration": -11028,
    "start_time": "2021-11-20T10:21:57.399Z"
   },
   {
    "duration": -11051,
    "start_time": "2021-11-20T10:21:57.424Z"
   },
   {
    "duration": -11102,
    "start_time": "2021-11-20T10:21:57.476Z"
   },
   {
    "duration": -11126,
    "start_time": "2021-11-20T10:21:57.501Z"
   },
   {
    "duration": 7,
    "start_time": "2021-11-20T10:48:08.428Z"
   },
   {
    "duration": 51,
    "start_time": "2021-11-20T10:48:31.869Z"
   },
   {
    "duration": 13,
    "start_time": "2021-11-20T10:48:40.280Z"
   },
   {
    "duration": 8,
    "start_time": "2021-11-20T10:48:51.370Z"
   },
   {
    "duration": 58,
    "start_time": "2021-11-20T10:48:51.417Z"
   },
   {
    "duration": 18,
    "start_time": "2021-11-20T10:48:51.478Z"
   },
   {
    "duration": 21,
    "start_time": "2021-11-20T10:48:51.499Z"
   },
   {
    "duration": 15,
    "start_time": "2021-11-20T10:48:51.523Z"
   },
   {
    "duration": 32,
    "start_time": "2021-11-20T10:48:51.542Z"
   },
   {
    "duration": 542,
    "start_time": "2021-11-20T10:48:51.578Z"
   },
   {
    "duration": 10,
    "start_time": "2021-11-20T10:48:52.124Z"
   },
   {
    "duration": 35,
    "start_time": "2021-11-20T10:48:52.137Z"
   },
   {
    "duration": 298,
    "start_time": "2021-11-20T10:48:52.175Z"
   },
   {
    "duration": 13,
    "start_time": "2021-11-20T10:48:52.476Z"
   },
   {
    "duration": 57,
    "start_time": "2021-11-20T10:48:52.492Z"
   },
   {
    "duration": 21,
    "start_time": "2021-11-20T10:48:52.567Z"
   },
   {
    "duration": 19,
    "start_time": "2021-11-20T10:48:52.590Z"
   },
   {
    "duration": 9,
    "start_time": "2021-11-20T10:48:52.611Z"
   },
   {
    "duration": 483,
    "start_time": "2021-11-20T10:48:52.623Z"
   },
   {
    "duration": 113,
    "start_time": "2021-11-20T10:48:53.109Z"
   },
   {
    "duration": 14,
    "start_time": "2021-11-20T10:48:53.227Z"
   },
   {
    "duration": 1262,
    "start_time": "2021-11-20T10:48:53.244Z"
   },
   {
    "duration": 18,
    "start_time": "2021-11-20T10:48:54.509Z"
   },
   {
    "duration": 428,
    "start_time": "2021-11-20T10:48:54.530Z"
   },
   {
    "duration": 74,
    "start_time": "2021-11-20T10:48:54.961Z"
   },
   {
    "duration": 7,
    "start_time": "2021-11-20T10:48:55.037Z"
   },
   {
    "duration": 88,
    "start_time": "2021-11-20T10:48:55.047Z"
   },
   {
    "duration": 142,
    "start_time": "2021-11-20T10:48:55.137Z"
   },
   {
    "duration": 674,
    "start_time": "2021-11-20T10:48:55.282Z"
   },
   {
    "duration": 56,
    "start_time": "2021-11-20T10:48:55.959Z"
   },
   {
    "duration": 79,
    "start_time": "2021-11-20T10:48:56.017Z"
   },
   {
    "duration": 12,
    "start_time": "2021-11-20T10:48:56.098Z"
   },
   {
    "duration": 19,
    "start_time": "2021-11-20T10:48:56.113Z"
   },
   {
    "duration": 38,
    "start_time": "2021-11-20T10:48:56.135Z"
   },
   {
    "duration": 18,
    "start_time": "2021-11-20T10:48:56.176Z"
   },
   {
    "duration": 13,
    "start_time": "2021-11-20T10:48:56.197Z"
   },
   {
    "duration": 6,
    "start_time": "2021-11-20T10:48:56.213Z"
   },
   {
    "duration": 50,
    "start_time": "2021-11-20T10:48:56.221Z"
   },
   {
    "duration": 6,
    "start_time": "2021-11-20T10:48:56.275Z"
   },
   {
    "duration": 15,
    "start_time": "2021-11-20T10:48:56.284Z"
   },
   {
    "duration": 10,
    "start_time": "2021-11-20T10:48:56.303Z"
   },
   {
    "duration": 8,
    "start_time": "2021-11-20T10:48:56.316Z"
   },
   {
    "duration": 53,
    "start_time": "2021-11-20T10:48:56.327Z"
   },
   {
    "duration": 7,
    "start_time": "2021-11-20T10:48:56.383Z"
   },
   {
    "duration": 15,
    "start_time": "2021-11-20T10:48:56.400Z"
   },
   {
    "duration": 10,
    "start_time": "2021-11-20T10:48:56.421Z"
   },
   {
    "duration": 53,
    "start_time": "2021-11-20T10:48:56.466Z"
   },
   {
    "duration": 16,
    "start_time": "2021-11-20T10:48:56.521Z"
   },
   {
    "duration": 30,
    "start_time": "2021-11-20T10:48:56.541Z"
   },
   {
    "duration": 29,
    "start_time": "2021-11-20T10:48:56.574Z"
   },
   {
    "duration": 8,
    "start_time": "2021-11-20T10:48:56.605Z"
   },
   {
    "duration": 9,
    "start_time": "2021-11-20T10:48:56.616Z"
   },
   {
    "duration": 64,
    "start_time": "2021-11-20T10:48:56.629Z"
   },
   {
    "duration": 175,
    "start_time": "2021-11-20T10:48:56.695Z"
   },
   {
    "duration": 16,
    "start_time": "2021-11-20T10:48:56.872Z"
   },
   {
    "duration": 14,
    "start_time": "2021-11-20T10:48:56.891Z"
   },
   {
    "duration": 7,
    "start_time": "2021-11-20T10:48:56.907Z"
   },
   {
    "duration": 11,
    "start_time": "2021-11-20T10:48:56.917Z"
   },
   {
    "duration": 49,
    "start_time": "2021-11-20T10:48:56.968Z"
   },
   {
    "duration": 8,
    "start_time": "2021-11-20T10:48:57.019Z"
   },
   {
    "duration": 37,
    "start_time": "2021-11-20T10:48:57.030Z"
   },
   {
    "duration": 9,
    "start_time": "2021-11-20T10:48:57.070Z"
   },
   {
    "duration": 22,
    "start_time": "2021-11-20T10:48:57.081Z"
   },
   {
    "duration": 14,
    "start_time": "2021-11-20T10:48:57.106Z"
   },
   {
    "duration": 85,
    "start_time": "2021-11-20T10:48:57.123Z"
   },
   {
    "duration": 9,
    "start_time": "2021-11-20T10:48:57.211Z"
   },
   {
    "duration": 23,
    "start_time": "2021-11-20T10:48:57.223Z"
   },
   {
    "duration": 8,
    "start_time": "2021-11-20T10:48:57.269Z"
   },
   {
    "duration": 18,
    "start_time": "2021-11-20T10:48:57.280Z"
   },
   {
    "duration": 147,
    "start_time": "2021-11-20T10:48:57.302Z"
   },
   {
    "duration": 733,
    "start_time": "2021-11-20T10:48:57.452Z"
   },
   {
    "duration": 17,
    "start_time": "2021-11-20T10:48:58.187Z"
   },
   {
    "duration": 816,
    "start_time": "2021-11-20T10:48:58.206Z"
   },
   {
    "duration": 54,
    "start_time": "2021-11-20T10:48:59.024Z"
   },
   {
    "duration": 640,
    "start_time": "2021-11-20T10:48:59.081Z"
   },
   {
    "duration": 54,
    "start_time": "2021-11-20T10:48:59.724Z"
   },
   {
    "duration": 28,
    "start_time": "2021-11-20T10:48:59.781Z"
   },
   {
    "duration": 30,
    "start_time": "2021-11-20T10:48:59.812Z"
   },
   {
    "duration": 919,
    "start_time": "2021-11-20T10:48:59.867Z"
   },
   {
    "duration": 33,
    "start_time": "2021-11-20T10:49:00.791Z"
   },
   {
    "duration": 56,
    "start_time": "2021-11-20T10:49:00.826Z"
   },
   {
    "duration": 21,
    "start_time": "2021-11-20T10:49:00.884Z"
   },
   {
    "duration": 27,
    "start_time": "2021-11-20T10:49:00.908Z"
   },
   {
    "duration": 32,
    "start_time": "2021-11-20T10:49:00.937Z"
   },
   {
    "duration": 57,
    "start_time": "2021-11-20T10:49:00.972Z"
   },
   {
    "duration": 1218,
    "start_time": "2021-11-20T10:49:01.032Z"
   },
   {
    "duration": 4,
    "start_time": "2021-11-20T10:49:02.252Z"
   },
   {
    "duration": 7,
    "start_time": "2021-11-20T10:49:02.268Z"
   },
   {
    "duration": 44,
    "start_time": "2021-11-20T10:49:02.278Z"
   },
   {
    "duration": 195,
    "start_time": "2021-11-20T10:49:02.324Z"
   },
   {
    "duration": 16,
    "start_time": "2021-11-20T10:49:02.521Z"
   },
   {
    "duration": 622,
    "start_time": "2021-11-20T10:49:02.539Z"
   },
   {
    "duration": -18218,
    "start_time": "2021-11-20T10:49:21.381Z"
   },
   {
    "duration": -18242,
    "start_time": "2021-11-20T10:49:21.407Z"
   },
   {
    "duration": -18355,
    "start_time": "2021-11-20T10:49:21.521Z"
   },
   {
    "duration": -18611,
    "start_time": "2021-11-20T10:49:21.779Z"
   },
   {
    "duration": -18693,
    "start_time": "2021-11-20T10:49:21.862Z"
   },
   {
    "duration": -18785,
    "start_time": "2021-11-20T10:49:21.956Z"
   },
   {
    "duration": -18859,
    "start_time": "2021-11-20T10:49:22.032Z"
   },
   {
    "duration": -18892,
    "start_time": "2021-11-20T10:49:22.066Z"
   },
   {
    "duration": -18917,
    "start_time": "2021-11-20T10:49:22.093Z"
   },
   {
    "duration": -18938,
    "start_time": "2021-11-20T10:49:22.115Z"
   },
   {
    "duration": -19004,
    "start_time": "2021-11-20T10:49:22.182Z"
   },
   {
    "duration": -19061,
    "start_time": "2021-11-20T10:49:22.240Z"
   },
   {
    "duration": -19118,
    "start_time": "2021-11-20T10:49:22.299Z"
   },
   {
    "duration": -19140,
    "start_time": "2021-11-20T10:49:22.322Z"
   },
   {
    "duration": -19164,
    "start_time": "2021-11-20T10:49:22.348Z"
   },
   {
    "duration": -19186,
    "start_time": "2021-11-20T10:49:22.371Z"
   },
   {
    "duration": -19242,
    "start_time": "2021-11-20T10:49:22.428Z"
   },
   {
    "duration": 32,
    "start_time": "2021-11-20T10:51:03.549Z"
   },
   {
    "duration": 9,
    "start_time": "2021-11-20T10:52:01.686Z"
   },
   {
    "duration": 26,
    "start_time": "2021-11-20T10:52:06.968Z"
   },
   {
    "duration": 9,
    "start_time": "2021-11-20T10:52:45.807Z"
   },
   {
    "duration": 26,
    "start_time": "2021-11-20T10:52:47.097Z"
   },
   {
    "duration": 31,
    "start_time": "2021-11-20T10:52:49.343Z"
   },
   {
    "duration": 9,
    "start_time": "2021-11-20T10:54:28.889Z"
   },
   {
    "duration": 10,
    "start_time": "2021-11-20T10:54:36.172Z"
   },
   {
    "duration": 80,
    "start_time": "2021-11-20T10:55:05.288Z"
   },
   {
    "duration": 6,
    "start_time": "2021-11-20T11:00:25.249Z"
   },
   {
    "duration": 483,
    "start_time": "2021-11-20T11:04:48.354Z"
   },
   {
    "duration": 91,
    "start_time": "2021-11-20T11:05:14.300Z"
   },
   {
    "duration": 504,
    "start_time": "2021-11-20T11:05:20.851Z"
   },
   {
    "duration": 3746,
    "start_time": "2021-11-20T11:07:28.828Z"
   },
   {
    "duration": 1575,
    "start_time": "2021-11-20T11:07:44.340Z"
   },
   {
    "duration": 1341,
    "start_time": "2021-11-20T11:08:57.326Z"
   },
   {
    "duration": 1517,
    "start_time": "2021-11-20T11:09:09.880Z"
   },
   {
    "duration": 1695,
    "start_time": "2021-11-20T11:09:34.104Z"
   },
   {
    "duration": 1199,
    "start_time": "2021-11-20T11:10:49.548Z"
   },
   {
    "duration": 271,
    "start_time": "2021-11-20T11:15:43.152Z"
   },
   {
    "duration": 10,
    "start_time": "2021-11-20T11:15:51.302Z"
   },
   {
    "duration": 5,
    "start_time": "2021-11-20T11:18:29.060Z"
   },
   {
    "duration": 12,
    "start_time": "2021-11-20T11:18:30.313Z"
   },
   {
    "duration": 5,
    "start_time": "2021-11-20T11:18:45.938Z"
   },
   {
    "duration": 11,
    "start_time": "2021-11-20T11:18:46.951Z"
   },
   {
    "duration": 506,
    "start_time": "2021-11-20T11:21:45.984Z"
   },
   {
    "duration": 578,
    "start_time": "2021-11-20T11:23:05.238Z"
   },
   {
    "duration": 21,
    "start_time": "2021-11-20T11:23:26.354Z"
   },
   {
    "duration": 7,
    "start_time": "2021-11-20T11:23:31.841Z"
   },
   {
    "duration": 12,
    "start_time": "2021-11-20T11:23:36.822Z"
   },
   {
    "duration": 561,
    "start_time": "2021-11-20T11:23:41.335Z"
   },
   {
    "duration": 100,
    "start_time": "2021-11-20T11:24:11.570Z"
   },
   {
    "duration": 386,
    "start_time": "2021-11-20T11:25:29.946Z"
   },
   {
    "duration": 89,
    "start_time": "2021-11-20T11:26:05.362Z"
   },
   {
    "duration": 94,
    "start_time": "2021-11-20T11:26:46.282Z"
   },
   {
    "duration": 4,
    "start_time": "2021-11-20T11:31:13.630Z"
   },
   {
    "duration": 5,
    "start_time": "2021-11-20T11:31:21.240Z"
   },
   {
    "duration": 6,
    "start_time": "2021-11-20T11:31:33.601Z"
   },
   {
    "duration": 6,
    "start_time": "2021-11-20T11:32:02.736Z"
   },
   {
    "duration": 11,
    "start_time": "2021-11-20T11:32:19.282Z"
   },
   {
    "duration": 29,
    "start_time": "2021-11-20T11:33:23.088Z"
   },
   {
    "duration": 312,
    "start_time": "2021-11-20T11:34:16.211Z"
   },
   {
    "duration": 8,
    "start_time": "2021-11-20T11:34:32.260Z"
   },
   {
    "duration": 8,
    "start_time": "2021-11-20T11:34:37.035Z"
   },
   {
    "duration": 17,
    "start_time": "2021-11-20T11:34:41.528Z"
   },
   {
    "duration": 1453,
    "start_time": "2022-01-25T13:09:15.497Z"
   },
   {
    "duration": 186,
    "start_time": "2022-01-25T13:09:16.952Z"
   },
   {
    "duration": 10,
    "start_time": "2022-01-25T13:09:17.140Z"
   },
   {
    "duration": 6,
    "start_time": "2022-01-25T13:09:17.152Z"
   },
   {
    "duration": 7,
    "start_time": "2022-01-25T13:09:17.159Z"
   },
   {
    "duration": 6,
    "start_time": "2022-01-25T13:09:17.168Z"
   },
   {
    "duration": 393,
    "start_time": "2022-01-25T13:09:17.175Z"
   },
   {
    "duration": 7,
    "start_time": "2022-01-25T13:09:17.571Z"
   },
   {
    "duration": 7,
    "start_time": "2022-01-25T13:09:17.581Z"
   },
   {
    "duration": 773,
    "start_time": "2022-01-25T13:09:17.590Z"
   },
   {
    "duration": 7,
    "start_time": "2022-01-25T13:09:18.364Z"
   },
   {
    "duration": 34,
    "start_time": "2022-01-25T13:09:18.374Z"
   },
   {
    "duration": 26,
    "start_time": "2022-01-25T13:09:18.410Z"
   },
   {
    "duration": 15,
    "start_time": "2022-01-25T13:09:18.438Z"
   },
   {
    "duration": 7,
    "start_time": "2022-01-25T13:09:18.455Z"
   },
   {
    "duration": 351,
    "start_time": "2022-01-25T13:09:18.463Z"
   },
   {
    "duration": 72,
    "start_time": "2022-01-25T13:09:18.815Z"
   },
   {
    "duration": 9,
    "start_time": "2022-01-25T13:09:18.889Z"
   },
   {
    "duration": 1154,
    "start_time": "2022-01-25T13:09:18.900Z"
   },
   {
    "duration": 11,
    "start_time": "2022-01-25T13:09:20.060Z"
   },
   {
    "duration": 341,
    "start_time": "2022-01-25T13:09:20.073Z"
   },
   {
    "duration": 95,
    "start_time": "2022-01-25T13:09:20.416Z"
   },
   {
    "duration": 14,
    "start_time": "2022-01-25T13:09:20.517Z"
   },
   {
    "duration": 93,
    "start_time": "2022-01-25T13:09:20.535Z"
   },
   {
    "duration": 156,
    "start_time": "2022-01-25T13:09:20.630Z"
   },
   {
    "duration": 320,
    "start_time": "2022-01-25T13:09:20.789Z"
   },
   {
    "duration": 40,
    "start_time": "2022-01-25T13:09:21.111Z"
   },
   {
    "duration": 173,
    "start_time": "2022-01-25T13:09:21.152Z"
   },
   {
    "duration": 10,
    "start_time": "2022-01-25T13:09:21.327Z"
   },
   {
    "duration": 14,
    "start_time": "2022-01-25T13:09:21.339Z"
   },
   {
    "duration": 10,
    "start_time": "2022-01-25T13:09:21.355Z"
   },
   {
    "duration": 13,
    "start_time": "2022-01-25T13:09:21.367Z"
   },
   {
    "duration": 14,
    "start_time": "2022-01-25T13:09:21.381Z"
   },
   {
    "duration": 6,
    "start_time": "2022-01-25T13:09:21.397Z"
   },
   {
    "duration": 31,
    "start_time": "2022-01-25T13:09:21.405Z"
   },
   {
    "duration": 3,
    "start_time": "2022-01-25T13:09:21.439Z"
   },
   {
    "duration": 7,
    "start_time": "2022-01-25T13:09:21.444Z"
   },
   {
    "duration": 8,
    "start_time": "2022-01-25T13:09:21.453Z"
   },
   {
    "duration": 11,
    "start_time": "2022-01-25T13:09:21.463Z"
   },
   {
    "duration": 13,
    "start_time": "2022-01-25T13:09:21.475Z"
   },
   {
    "duration": 6,
    "start_time": "2022-01-25T13:09:21.490Z"
   },
   {
    "duration": 34,
    "start_time": "2022-01-25T13:09:21.497Z"
   },
   {
    "duration": 5,
    "start_time": "2022-01-25T13:09:21.532Z"
   },
   {
    "duration": 26,
    "start_time": "2022-01-25T13:09:21.539Z"
   },
   {
    "duration": 8,
    "start_time": "2022-01-25T13:09:21.567Z"
   },
   {
    "duration": 10,
    "start_time": "2022-01-25T13:09:21.577Z"
   },
   {
    "duration": 49,
    "start_time": "2022-01-25T13:09:21.589Z"
   },
   {
    "duration": 424,
    "start_time": "2022-01-25T13:09:21.640Z"
   },
   {
    "duration": -10132,
    "start_time": "2022-01-25T13:09:32.199Z"
   },
   {
    "duration": -10153,
    "start_time": "2022-01-25T13:09:32.221Z"
   },
   {
    "duration": -10174,
    "start_time": "2022-01-25T13:09:32.243Z"
   },
   {
    "duration": -10574,
    "start_time": "2022-01-25T13:09:32.643Z"
   },
   {
    "duration": -10600,
    "start_time": "2022-01-25T13:09:32.670Z"
   },
   {
    "duration": -10621,
    "start_time": "2022-01-25T13:09:32.692Z"
   },
   {
    "duration": -10644,
    "start_time": "2022-01-25T13:09:32.716Z"
   },
   {
    "duration": -10665,
    "start_time": "2022-01-25T13:09:32.738Z"
   },
   {
    "duration": -10741,
    "start_time": "2022-01-25T13:09:32.815Z"
   },
   {
    "duration": -10762,
    "start_time": "2022-01-25T13:09:32.838Z"
   },
   {
    "duration": -10877,
    "start_time": "2022-01-25T13:09:32.953Z"
   },
   {
    "duration": -10945,
    "start_time": "2022-01-25T13:09:33.022Z"
   },
   {
    "duration": -11016,
    "start_time": "2022-01-25T13:09:33.094Z"
   },
   {
    "duration": -11034,
    "start_time": "2022-01-25T13:09:33.113Z"
   },
   {
    "duration": -11054,
    "start_time": "2022-01-25T13:09:33.133Z"
   },
   {
    "duration": -11071,
    "start_time": "2022-01-25T13:09:33.151Z"
   },
   {
    "duration": -11156,
    "start_time": "2022-01-25T13:09:33.237Z"
   },
   {
    "duration": -11224,
    "start_time": "2022-01-25T13:09:33.306Z"
   },
   {
    "duration": -11245,
    "start_time": "2022-01-25T13:09:33.327Z"
   },
   {
    "duration": -11264,
    "start_time": "2022-01-25T13:09:33.347Z"
   },
   {
    "duration": -11284,
    "start_time": "2022-01-25T13:09:33.368Z"
   },
   {
    "duration": -11308,
    "start_time": "2022-01-25T13:09:33.393Z"
   },
   {
    "duration": -11380,
    "start_time": "2022-01-25T13:09:33.466Z"
   },
   {
    "duration": -11400,
    "start_time": "2022-01-25T13:09:33.487Z"
   },
   {
    "duration": -11420,
    "start_time": "2022-01-25T13:09:33.507Z"
   },
   {
    "duration": -11436,
    "start_time": "2022-01-25T13:09:33.524Z"
   },
   {
    "duration": -11462,
    "start_time": "2022-01-25T13:09:33.551Z"
   },
   {
    "duration": -11560,
    "start_time": "2022-01-25T13:09:33.651Z"
   },
   {
    "duration": -11583,
    "start_time": "2022-01-25T13:09:33.675Z"
   },
   {
    "duration": -11640,
    "start_time": "2022-01-25T13:09:33.733Z"
   },
   {
    "duration": -11760,
    "start_time": "2022-01-25T13:09:33.854Z"
   },
   {
    "duration": -11877,
    "start_time": "2022-01-25T13:09:33.972Z"
   },
   {
    "duration": -11939,
    "start_time": "2022-01-25T13:09:34.035Z"
   },
   {
    "duration": -12001,
    "start_time": "2022-01-25T13:09:34.098Z"
   },
   {
    "duration": -12106,
    "start_time": "2022-01-25T13:09:34.204Z"
   },
   {
    "duration": -12126,
    "start_time": "2022-01-25T13:09:34.224Z"
   },
   {
    "duration": -12143,
    "start_time": "2022-01-25T13:09:34.242Z"
   },
   {
    "duration": -12159,
    "start_time": "2022-01-25T13:09:34.259Z"
   },
   {
    "duration": -12179,
    "start_time": "2022-01-25T13:09:34.280Z"
   },
   {
    "duration": -12197,
    "start_time": "2022-01-25T13:09:34.299Z"
   },
   {
    "duration": -12236,
    "start_time": "2022-01-25T13:09:34.363Z"
   },
   {
    "duration": -12253,
    "start_time": "2022-01-25T13:09:34.381Z"
   },
   {
    "duration": -12270,
    "start_time": "2022-01-25T13:09:34.399Z"
   },
   {
    "duration": -12288,
    "start_time": "2022-01-25T13:09:34.418Z"
   },
   {
    "duration": -12309,
    "start_time": "2022-01-25T13:09:34.440Z"
   },
   {
    "duration": -12374,
    "start_time": "2022-01-25T13:09:34.506Z"
   },
   {
    "duration": -12397,
    "start_time": "2022-01-25T13:09:34.529Z"
   },
   {
    "duration": -12420,
    "start_time": "2022-01-25T13:09:34.553Z"
   },
   {
    "duration": -12521,
    "start_time": "2022-01-25T13:09:34.655Z"
   },
   {
    "duration": -12545,
    "start_time": "2022-01-25T13:09:34.680Z"
   },
   {
    "duration": -12567,
    "start_time": "2022-01-25T13:09:34.703Z"
   },
   {
    "duration": -12585,
    "start_time": "2022-01-25T13:09:34.722Z"
   },
   {
    "duration": -12607,
    "start_time": "2022-01-25T13:09:34.744Z"
   },
   {
    "duration": -12670,
    "start_time": "2022-01-25T13:09:34.808Z"
   },
   {
    "duration": -12774,
    "start_time": "2022-01-25T13:09:34.913Z"
   },
   {
    "duration": -12793,
    "start_time": "2022-01-25T13:09:34.933Z"
   },
   {
    "duration": -12829,
    "start_time": "2022-01-25T13:09:34.970Z"
   },
   {
    "duration": -12849,
    "start_time": "2022-01-25T13:09:34.991Z"
   },
   {
    "duration": -12929,
    "start_time": "2022-01-25T13:09:35.072Z"
   },
   {
    "duration": 296,
    "start_time": "2022-01-25T13:10:28.433Z"
   },
   {
    "duration": 391,
    "start_time": "2022-01-25T13:10:33.998Z"
   },
   {
    "duration": 634,
    "start_time": "2022-01-25T13:10:45.624Z"
   },
   {
    "duration": 366,
    "start_time": "2022-01-25T13:10:53.503Z"
   },
   {
    "duration": 441,
    "start_time": "2022-01-25T13:11:06.231Z"
   },
   {
    "duration": 227,
    "start_time": "2022-01-25T13:11:16.762Z"
   },
   {
    "duration": 9,
    "start_time": "2022-01-25T13:25:28.604Z"
   },
   {
    "duration": 21,
    "start_time": "2022-01-25T13:26:03.775Z"
   },
   {
    "duration": 5,
    "start_time": "2022-01-25T13:26:09.805Z"
   },
   {
    "duration": 62,
    "start_time": "2022-01-25T13:26:09.820Z"
   },
   {
    "duration": 10,
    "start_time": "2022-01-25T13:26:09.885Z"
   },
   {
    "duration": 7,
    "start_time": "2022-01-25T13:26:09.898Z"
   },
   {
    "duration": 6,
    "start_time": "2022-01-25T13:26:09.907Z"
   },
   {
    "duration": 7,
    "start_time": "2022-01-25T13:26:09.915Z"
   },
   {
    "duration": 378,
    "start_time": "2022-01-25T13:26:09.923Z"
   },
   {
    "duration": 23,
    "start_time": "2022-01-25T13:26:10.304Z"
   },
   {
    "duration": 8,
    "start_time": "2022-01-25T13:26:10.329Z"
   },
   {
    "duration": 253,
    "start_time": "2022-01-25T13:26:10.339Z"
   },
   {
    "duration": 8,
    "start_time": "2022-01-25T13:26:10.594Z"
   },
   {
    "duration": 44,
    "start_time": "2022-01-25T13:26:10.604Z"
   },
   {
    "duration": 21,
    "start_time": "2022-01-25T13:26:10.650Z"
   },
   {
    "duration": 12,
    "start_time": "2022-01-25T13:26:10.674Z"
   },
   {
    "duration": 7,
    "start_time": "2022-01-25T13:26:10.688Z"
   },
   {
    "duration": 275,
    "start_time": "2022-01-25T13:26:10.698Z"
   },
   {
    "duration": 85,
    "start_time": "2022-01-25T13:26:10.975Z"
   },
   {
    "duration": 11,
    "start_time": "2022-01-25T13:26:11.063Z"
   },
   {
    "duration": 3375,
    "start_time": "2022-01-25T13:26:11.076Z"
   },
   {
    "duration": 8,
    "start_time": "2022-01-25T13:26:14.455Z"
   },
   {
    "duration": 240,
    "start_time": "2022-01-25T13:26:14.465Z"
   },
   {
    "duration": 60,
    "start_time": "2022-01-25T13:26:14.707Z"
   },
   {
    "duration": 6,
    "start_time": "2022-01-25T13:26:14.771Z"
   },
   {
    "duration": 123,
    "start_time": "2022-01-25T13:26:14.779Z"
   },
   {
    "duration": 146,
    "start_time": "2022-01-25T13:26:14.904Z"
   },
   {
    "duration": 343,
    "start_time": "2022-01-25T13:26:15.052Z"
   },
   {
    "duration": 46,
    "start_time": "2022-01-25T13:26:15.397Z"
   },
   {
    "duration": 119,
    "start_time": "2022-01-25T13:26:15.445Z"
   },
   {
    "duration": 10,
    "start_time": "2022-01-25T13:26:15.566Z"
   },
   {
    "duration": 13,
    "start_time": "2022-01-25T13:26:15.579Z"
   },
   {
    "duration": 7,
    "start_time": "2022-01-25T13:26:15.593Z"
   },
   {
    "duration": 21,
    "start_time": "2022-01-25T13:26:15.607Z"
   },
   {
    "duration": 10,
    "start_time": "2022-01-25T13:26:15.631Z"
   },
   {
    "duration": 5,
    "start_time": "2022-01-25T13:26:15.643Z"
   },
   {
    "duration": 21,
    "start_time": "2022-01-25T13:26:15.650Z"
   },
   {
    "duration": 5,
    "start_time": "2022-01-25T13:26:15.673Z"
   },
   {
    "duration": 12,
    "start_time": "2022-01-25T13:26:15.680Z"
   },
   {
    "duration": 33,
    "start_time": "2022-01-25T13:26:15.694Z"
   },
   {
    "duration": 8,
    "start_time": "2022-01-25T13:26:15.729Z"
   },
   {
    "duration": 9,
    "start_time": "2022-01-25T13:26:15.739Z"
   },
   {
    "duration": 5,
    "start_time": "2022-01-25T13:26:15.750Z"
   },
   {
    "duration": 8,
    "start_time": "2022-01-25T13:26:15.757Z"
   },
   {
    "duration": 5,
    "start_time": "2022-01-25T13:26:15.767Z"
   },
   {
    "duration": 67,
    "start_time": "2022-01-25T13:26:15.774Z"
   },
   {
    "duration": 10,
    "start_time": "2022-01-25T13:26:15.843Z"
   },
   {
    "duration": 14,
    "start_time": "2022-01-25T13:26:15.855Z"
   },
   {
    "duration": 23,
    "start_time": "2022-01-25T13:26:15.871Z"
   },
   {
    "duration": 58,
    "start_time": "2022-01-25T13:26:15.896Z"
   },
   {
    "duration": 6,
    "start_time": "2022-01-25T13:26:15.956Z"
   },
   {
    "duration": 6,
    "start_time": "2022-01-25T13:26:15.964Z"
   },
   {
    "duration": 27,
    "start_time": "2022-01-25T13:26:15.972Z"
   },
   {
    "duration": 194,
    "start_time": "2022-01-25T13:26:16.001Z"
   },
   {
    "duration": 14,
    "start_time": "2022-01-25T13:26:16.197Z"
   },
   {
    "duration": 21,
    "start_time": "2022-01-25T13:26:16.213Z"
   },
   {
    "duration": 7,
    "start_time": "2022-01-25T13:26:16.236Z"
   },
   {
    "duration": 14,
    "start_time": "2022-01-25T13:26:16.245Z"
   },
   {
    "duration": 88,
    "start_time": "2022-01-25T13:26:16.261Z"
   },
   {
    "duration": 9,
    "start_time": "2022-01-25T13:26:16.352Z"
   },
   {
    "duration": 7,
    "start_time": "2022-01-25T13:26:16.363Z"
   },
   {
    "duration": 12,
    "start_time": "2022-01-25T13:26:16.372Z"
   },
   {
    "duration": 9,
    "start_time": "2022-01-25T13:26:16.386Z"
   },
   {
    "duration": 13,
    "start_time": "2022-01-25T13:26:16.397Z"
   },
   {
    "duration": 4,
    "start_time": "2022-01-25T13:26:16.428Z"
   },
   {
    "duration": 11,
    "start_time": "2022-01-25T13:26:16.433Z"
   },
   {
    "duration": 5,
    "start_time": "2022-01-25T13:26:16.446Z"
   },
   {
    "duration": 11,
    "start_time": "2022-01-25T13:26:16.453Z"
   },
   {
    "duration": 765,
    "start_time": "2022-01-25T13:26:16.465Z"
   },
   {
    "duration": 40,
    "start_time": "2022-01-25T13:26:17.231Z"
   },
   {
    "duration": 690,
    "start_time": "2022-01-25T13:26:17.273Z"
   },
   {
    "duration": 40,
    "start_time": "2022-01-25T13:26:17.965Z"
   },
   {
    "duration": 43,
    "start_time": "2022-01-25T13:26:18.007Z"
   },
   {
    "duration": 28,
    "start_time": "2022-01-25T13:26:18.052Z"
   },
   {
    "duration": 748,
    "start_time": "2022-01-25T13:26:18.082Z"
   },
   {
    "duration": 29,
    "start_time": "2022-01-25T13:26:18.833Z"
   },
   {
    "duration": 25,
    "start_time": "2022-01-25T13:26:18.864Z"
   },
   {
    "duration": 39,
    "start_time": "2022-01-25T13:26:18.891Z"
   },
   {
    "duration": 17,
    "start_time": "2022-01-25T13:26:18.932Z"
   },
   {
    "duration": 10,
    "start_time": "2022-01-25T13:26:18.952Z"
   },
   {
    "duration": 36,
    "start_time": "2022-01-25T13:26:18.963Z"
   },
   {
    "duration": 1190,
    "start_time": "2022-01-25T13:26:19.001Z"
   },
   {
    "duration": 4,
    "start_time": "2022-01-25T13:26:20.193Z"
   },
   {
    "duration": 7,
    "start_time": "2022-01-25T13:26:20.199Z"
   },
   {
    "duration": 21,
    "start_time": "2022-01-25T13:26:20.227Z"
   },
   {
    "duration": 7,
    "start_time": "2022-01-25T13:26:20.250Z"
   },
   {
    "duration": 20,
    "start_time": "2022-01-25T13:26:20.259Z"
   },
   {
    "duration": 15,
    "start_time": "2022-01-25T13:26:20.287Z"
   },
   {
    "duration": 225,
    "start_time": "2022-01-25T13:26:20.328Z"
   },
   {
    "duration": 7,
    "start_time": "2022-01-25T13:26:20.555Z"
   },
   {
    "duration": 327,
    "start_time": "2022-01-25T13:26:20.565Z"
   },
   {
    "duration": 12,
    "start_time": "2022-01-25T13:26:20.894Z"
   },
   {
    "duration": 20,
    "start_time": "2022-01-25T13:26:20.908Z"
   },
   {
    "duration": 701,
    "start_time": "2022-01-25T13:26:20.930Z"
   },
   {
    "duration": 7,
    "start_time": "2022-01-25T13:26:21.633Z"
   },
   {
    "duration": 12,
    "start_time": "2022-01-25T13:26:21.642Z"
   },
   {
    "duration": 29,
    "start_time": "2022-01-25T13:26:21.656Z"
   },
   {
    "duration": 3,
    "start_time": "2022-01-25T13:26:21.687Z"
   },
   {
    "duration": 35,
    "start_time": "2022-01-25T13:26:21.692Z"
   },
   {
    "duration": 7,
    "start_time": "2022-01-25T13:26:21.730Z"
   },
   {
    "duration": 9,
    "start_time": "2022-01-25T13:26:21.739Z"
   },
   {
    "duration": 12,
    "start_time": "2022-01-25T13:26:21.750Z"
   },
   {
    "duration": 11,
    "start_time": "2022-01-25T13:26:21.764Z"
   },
   {
    "duration": 422,
    "start_time": "2022-01-25T13:26:21.776Z"
   },
   {
    "duration": 1450,
    "start_time": "2022-01-27T10:21:16.316Z"
   },
   {
    "duration": 120,
    "start_time": "2022-01-27T10:21:17.768Z"
   },
   {
    "duration": 11,
    "start_time": "2022-01-27T10:21:17.890Z"
   },
   {
    "duration": 5,
    "start_time": "2022-01-27T10:21:17.903Z"
   },
   {
    "duration": 5,
    "start_time": "2022-01-27T10:21:17.909Z"
   },
   {
    "duration": 6,
    "start_time": "2022-01-27T10:21:17.916Z"
   },
   {
    "duration": 266,
    "start_time": "2022-01-27T10:21:17.924Z"
   },
   {
    "duration": 5,
    "start_time": "2022-01-27T10:21:18.193Z"
   },
   {
    "duration": 16,
    "start_time": "2022-01-27T10:21:18.200Z"
   },
   {
    "duration": 266,
    "start_time": "2022-01-27T10:21:18.217Z"
   },
   {
    "duration": 7,
    "start_time": "2022-01-27T10:21:18.485Z"
   },
   {
    "duration": 30,
    "start_time": "2022-01-27T10:21:18.493Z"
   },
   {
    "duration": 13,
    "start_time": "2022-01-27T10:21:18.525Z"
   },
   {
    "duration": 9,
    "start_time": "2022-01-27T10:21:18.540Z"
   },
   {
    "duration": 5,
    "start_time": "2022-01-27T10:21:18.551Z"
   },
   {
    "duration": 269,
    "start_time": "2022-01-27T10:21:18.557Z"
   },
   {
    "duration": 63,
    "start_time": "2022-01-27T10:21:18.827Z"
   },
   {
    "duration": 21,
    "start_time": "2022-01-27T10:21:18.891Z"
   },
   {
    "duration": 954,
    "start_time": "2022-01-27T10:21:18.913Z"
   },
   {
    "duration": 8,
    "start_time": "2022-01-27T10:21:19.868Z"
   },
   {
    "duration": 229,
    "start_time": "2022-01-27T10:21:19.877Z"
   },
   {
    "duration": 54,
    "start_time": "2022-01-27T10:21:20.111Z"
   },
   {
    "duration": 9,
    "start_time": "2022-01-27T10:21:20.169Z"
   },
   {
    "duration": 69,
    "start_time": "2022-01-27T10:21:20.180Z"
   },
   {
    "duration": 105,
    "start_time": "2022-01-27T10:21:20.250Z"
   },
   {
    "duration": 245,
    "start_time": "2022-01-27T10:21:20.357Z"
   },
   {
    "duration": 42,
    "start_time": "2022-01-27T10:21:20.603Z"
   },
   {
    "duration": 1128,
    "start_time": "2022-01-27T10:21:20.646Z"
   },
   {
    "duration": 6,
    "start_time": "2022-01-27T10:21:21.776Z"
   },
   {
    "duration": 12,
    "start_time": "2022-01-27T10:21:21.784Z"
   },
   {
    "duration": 7,
    "start_time": "2022-01-27T10:21:21.798Z"
   },
   {
    "duration": 14,
    "start_time": "2022-01-27T10:21:21.806Z"
   },
   {
    "duration": 9,
    "start_time": "2022-01-27T10:21:21.821Z"
   },
   {
    "duration": 3,
    "start_time": "2022-01-27T10:21:21.832Z"
   },
   {
    "duration": 9,
    "start_time": "2022-01-27T10:21:21.837Z"
   },
   {
    "duration": 4,
    "start_time": "2022-01-27T10:21:21.848Z"
   },
   {
    "duration": 9,
    "start_time": "2022-01-27T10:21:21.853Z"
   },
   {
    "duration": 7,
    "start_time": "2022-01-27T10:21:21.863Z"
   },
   {
    "duration": 7,
    "start_time": "2022-01-27T10:21:21.871Z"
   },
   {
    "duration": 6,
    "start_time": "2022-01-27T10:21:21.879Z"
   },
   {
    "duration": 5,
    "start_time": "2022-01-27T10:21:21.912Z"
   },
   {
    "duration": 8,
    "start_time": "2022-01-27T10:21:21.918Z"
   },
   {
    "duration": 4,
    "start_time": "2022-01-27T10:21:21.928Z"
   },
   {
    "duration": 27,
    "start_time": "2022-01-27T10:21:21.934Z"
   },
   {
    "duration": 10,
    "start_time": "2022-01-27T10:21:21.963Z"
   },
   {
    "duration": 38,
    "start_time": "2022-01-27T10:21:21.975Z"
   },
   {
    "duration": 18,
    "start_time": "2022-01-27T10:21:22.015Z"
   },
   {
    "duration": 21,
    "start_time": "2022-01-27T10:21:22.035Z"
   },
   {
    "duration": 5,
    "start_time": "2022-01-27T10:21:22.058Z"
   },
   {
    "duration": 4,
    "start_time": "2022-01-27T10:21:22.065Z"
   },
   {
    "duration": 47,
    "start_time": "2022-01-27T10:21:22.071Z"
   },
   {
    "duration": 104,
    "start_time": "2022-01-27T10:21:22.119Z"
   },
   {
    "duration": 11,
    "start_time": "2022-01-27T10:21:22.224Z"
   },
   {
    "duration": 9,
    "start_time": "2022-01-27T10:21:22.236Z"
   },
   {
    "duration": 5,
    "start_time": "2022-01-27T10:21:22.246Z"
   },
   {
    "duration": 8,
    "start_time": "2022-01-27T10:21:22.253Z"
   },
   {
    "duration": 63,
    "start_time": "2022-01-27T10:21:22.263Z"
   },
   {
    "duration": 6,
    "start_time": "2022-01-27T10:21:22.328Z"
   },
   {
    "duration": 7,
    "start_time": "2022-01-27T10:21:22.336Z"
   },
   {
    "duration": 6,
    "start_time": "2022-01-27T10:21:22.345Z"
   },
   {
    "duration": 8,
    "start_time": "2022-01-27T10:21:22.353Z"
   },
   {
    "duration": 7,
    "start_time": "2022-01-27T10:21:22.362Z"
   },
   {
    "duration": 6,
    "start_time": "2022-01-27T10:21:22.370Z"
   },
   {
    "duration": 42,
    "start_time": "2022-01-27T10:21:22.377Z"
   },
   {
    "duration": 5,
    "start_time": "2022-01-27T10:21:22.421Z"
   },
   {
    "duration": 11,
    "start_time": "2022-01-27T10:21:22.428Z"
   },
   {
    "duration": 758,
    "start_time": "2022-01-27T10:21:22.440Z"
   },
   {
    "duration": 35,
    "start_time": "2022-01-27T10:21:23.203Z"
   },
   {
    "duration": 397,
    "start_time": "2022-01-27T10:21:23.240Z"
   },
   {
    "duration": 29,
    "start_time": "2022-01-27T10:21:23.638Z"
   },
   {
    "duration": 21,
    "start_time": "2022-01-27T10:21:23.668Z"
   },
   {
    "duration": 38,
    "start_time": "2022-01-27T10:21:23.690Z"
   },
   {
    "duration": 546,
    "start_time": "2022-01-27T10:21:23.729Z"
   },
   {
    "duration": 22,
    "start_time": "2022-01-27T10:21:24.277Z"
   },
   {
    "duration": 18,
    "start_time": "2022-01-27T10:21:24.312Z"
   },
   {
    "duration": 8,
    "start_time": "2022-01-27T10:21:24.332Z"
   },
   {
    "duration": 11,
    "start_time": "2022-01-27T10:21:24.341Z"
   },
   {
    "duration": 7,
    "start_time": "2022-01-27T10:21:24.354Z"
   },
   {
    "duration": 51,
    "start_time": "2022-01-27T10:21:24.362Z"
   },
   {
    "duration": 834,
    "start_time": "2022-01-27T10:21:24.414Z"
   },
   {
    "duration": 2,
    "start_time": "2022-01-27T10:21:25.250Z"
   },
   {
    "duration": 6,
    "start_time": "2022-01-27T10:21:25.254Z"
   },
   {
    "duration": 18,
    "start_time": "2022-01-27T10:21:25.262Z"
   },
   {
    "duration": 9,
    "start_time": "2022-01-27T10:21:25.282Z"
   },
   {
    "duration": 29,
    "start_time": "2022-01-27T10:21:25.293Z"
   },
   {
    "duration": 10,
    "start_time": "2022-01-27T10:21:25.324Z"
   },
   {
    "duration": 143,
    "start_time": "2022-01-27T10:21:25.336Z"
   },
   {
    "duration": 4,
    "start_time": "2022-01-27T10:21:25.481Z"
   },
   {
    "duration": 168,
    "start_time": "2022-01-27T10:21:25.486Z"
   },
   {
    "duration": 13,
    "start_time": "2022-01-27T10:21:25.656Z"
   },
   {
    "duration": 7,
    "start_time": "2022-01-27T10:21:25.670Z"
   },
   {
    "duration": 807,
    "start_time": "2022-01-27T10:21:25.678Z"
   },
   {
    "duration": 7,
    "start_time": "2022-01-27T10:21:26.486Z"
   },
   {
    "duration": 25,
    "start_time": "2022-01-27T10:21:26.494Z"
   },
   {
    "duration": 27,
    "start_time": "2022-01-27T10:21:26.521Z"
   },
   {
    "duration": 4,
    "start_time": "2022-01-27T10:21:26.549Z"
   },
   {
    "duration": 10,
    "start_time": "2022-01-27T10:21:26.554Z"
   },
   {
    "duration": 6,
    "start_time": "2022-01-27T10:21:26.565Z"
   },
   {
    "duration": 10,
    "start_time": "2022-01-27T10:21:26.572Z"
   },
   {
    "duration": 10,
    "start_time": "2022-01-27T10:21:26.583Z"
   },
   {
    "duration": 19,
    "start_time": "2022-01-27T10:21:26.595Z"
   },
   {
    "duration": 409,
    "start_time": "2022-01-27T10:21:26.616Z"
   },
   {
    "duration": 1376,
    "start_time": "2022-02-06T18:49:20.688Z"
   },
   {
    "duration": 82,
    "start_time": "2022-02-06T18:49:22.065Z"
   },
   {
    "duration": 9,
    "start_time": "2022-02-06T18:49:22.149Z"
   },
   {
    "duration": 5,
    "start_time": "2022-02-06T18:49:22.160Z"
   },
   {
    "duration": 9,
    "start_time": "2022-02-06T18:49:22.167Z"
   },
   {
    "duration": 6,
    "start_time": "2022-02-06T18:49:22.177Z"
   },
   {
    "duration": 258,
    "start_time": "2022-02-06T18:49:22.185Z"
   },
   {
    "duration": 5,
    "start_time": "2022-02-06T18:49:22.446Z"
   },
   {
    "duration": 7,
    "start_time": "2022-02-06T18:49:22.453Z"
   },
   {
    "duration": 269,
    "start_time": "2022-02-06T18:49:22.461Z"
   },
   {
    "duration": 11,
    "start_time": "2022-02-06T18:49:22.733Z"
   },
   {
    "duration": 28,
    "start_time": "2022-02-06T18:49:22.746Z"
   },
   {
    "duration": 14,
    "start_time": "2022-02-06T18:49:22.775Z"
   },
   {
    "duration": 10,
    "start_time": "2022-02-06T18:49:22.791Z"
   },
   {
    "duration": 5,
    "start_time": "2022-02-06T18:49:22.802Z"
   },
   {
    "duration": 238,
    "start_time": "2022-02-06T18:49:22.831Z"
   },
   {
    "duration": 72,
    "start_time": "2022-02-06T18:49:23.071Z"
   },
   {
    "duration": 10,
    "start_time": "2022-02-06T18:49:23.146Z"
   },
   {
    "duration": 987,
    "start_time": "2022-02-06T18:49:23.157Z"
   },
   {
    "duration": 8,
    "start_time": "2022-02-06T18:49:24.145Z"
   },
   {
    "duration": 225,
    "start_time": "2022-02-06T18:49:24.154Z"
   },
   {
    "duration": 54,
    "start_time": "2022-02-06T18:49:24.381Z"
   },
   {
    "duration": 10,
    "start_time": "2022-02-06T18:49:24.440Z"
   },
   {
    "duration": 47,
    "start_time": "2022-02-06T18:49:24.453Z"
   },
   {
    "duration": 104,
    "start_time": "2022-02-06T18:49:24.502Z"
   },
   {
    "duration": 215,
    "start_time": "2022-02-06T18:49:24.608Z"
   },
   {
    "duration": 40,
    "start_time": "2022-02-06T18:49:24.828Z"
   },
   {
    "duration": 1202,
    "start_time": "2022-02-06T18:49:24.870Z"
   },
   {
    "duration": 6,
    "start_time": "2022-02-06T18:49:26.074Z"
   },
   {
    "duration": 10,
    "start_time": "2022-02-06T18:49:26.081Z"
   },
   {
    "duration": 6,
    "start_time": "2022-02-06T18:49:26.092Z"
   },
   {
    "duration": 9,
    "start_time": "2022-02-06T18:49:26.099Z"
   },
   {
    "duration": 15,
    "start_time": "2022-02-06T18:49:26.109Z"
   },
   {
    "duration": 7,
    "start_time": "2022-02-06T18:49:26.125Z"
   },
   {
    "duration": 18,
    "start_time": "2022-02-06T18:49:26.134Z"
   },
   {
    "duration": 4,
    "start_time": "2022-02-06T18:49:26.153Z"
   },
   {
    "duration": 12,
    "start_time": "2022-02-06T18:49:26.158Z"
   },
   {
    "duration": 12,
    "start_time": "2022-02-06T18:49:26.171Z"
   },
   {
    "duration": 6,
    "start_time": "2022-02-06T18:49:26.185Z"
   },
   {
    "duration": 7,
    "start_time": "2022-02-06T18:49:26.192Z"
   },
   {
    "duration": 4,
    "start_time": "2022-02-06T18:49:26.201Z"
   },
   {
    "duration": 12,
    "start_time": "2022-02-06T18:49:26.206Z"
   },
   {
    "duration": 10,
    "start_time": "2022-02-06T18:49:26.220Z"
   },
   {
    "duration": 36,
    "start_time": "2022-02-06T18:49:26.232Z"
   },
   {
    "duration": 9,
    "start_time": "2022-02-06T18:49:26.269Z"
   },
   {
    "duration": 9,
    "start_time": "2022-02-06T18:49:26.280Z"
   },
   {
    "duration": 16,
    "start_time": "2022-02-06T18:49:26.291Z"
   },
   {
    "duration": 38,
    "start_time": "2022-02-06T18:49:26.308Z"
   },
   {
    "duration": 7,
    "start_time": "2022-02-06T18:49:26.348Z"
   },
   {
    "duration": 4,
    "start_time": "2022-02-06T18:49:26.357Z"
   },
   {
    "duration": 15,
    "start_time": "2022-02-06T18:49:26.362Z"
   },
   {
    "duration": 111,
    "start_time": "2022-02-06T18:49:26.379Z"
   },
   {
    "duration": 9,
    "start_time": "2022-02-06T18:49:26.491Z"
   },
   {
    "duration": 8,
    "start_time": "2022-02-06T18:49:26.501Z"
   },
   {
    "duration": 23,
    "start_time": "2022-02-06T18:49:26.511Z"
   },
   {
    "duration": 8,
    "start_time": "2022-02-06T18:49:26.536Z"
   },
   {
    "duration": 28,
    "start_time": "2022-02-06T18:49:26.546Z"
   },
   {
    "duration": 5,
    "start_time": "2022-02-06T18:49:26.575Z"
   },
   {
    "duration": 6,
    "start_time": "2022-02-06T18:49:26.582Z"
   },
   {
    "duration": 6,
    "start_time": "2022-02-06T18:49:26.589Z"
   },
   {
    "duration": 37,
    "start_time": "2022-02-06T18:49:26.596Z"
   },
   {
    "duration": 15,
    "start_time": "2022-02-06T18:49:26.635Z"
   },
   {
    "duration": 3,
    "start_time": "2022-02-06T18:49:26.652Z"
   },
   {
    "duration": 9,
    "start_time": "2022-02-06T18:49:26.657Z"
   },
   {
    "duration": 4,
    "start_time": "2022-02-06T18:49:26.667Z"
   },
   {
    "duration": 8,
    "start_time": "2022-02-06T18:49:26.672Z"
   },
   {
    "duration": 782,
    "start_time": "2022-02-06T18:49:26.682Z"
   },
   {
    "duration": 26,
    "start_time": "2022-02-06T18:49:27.470Z"
   },
   {
    "duration": 366,
    "start_time": "2022-02-06T18:49:27.498Z"
   },
   {
    "duration": 25,
    "start_time": "2022-02-06T18:49:27.866Z"
   },
   {
    "duration": 17,
    "start_time": "2022-02-06T18:49:27.892Z"
   },
   {
    "duration": 41,
    "start_time": "2022-02-06T18:49:27.910Z"
   },
   {
    "duration": 470,
    "start_time": "2022-02-06T18:49:27.953Z"
   },
   {
    "duration": 22,
    "start_time": "2022-02-06T18:49:28.425Z"
   },
   {
    "duration": 16,
    "start_time": "2022-02-06T18:49:28.448Z"
   },
   {
    "duration": 8,
    "start_time": "2022-02-06T18:49:28.465Z"
   },
   {
    "duration": 9,
    "start_time": "2022-02-06T18:49:28.475Z"
   },
   {
    "duration": 6,
    "start_time": "2022-02-06T18:49:28.485Z"
   },
   {
    "duration": 55,
    "start_time": "2022-02-06T18:49:28.492Z"
   },
   {
    "duration": 852,
    "start_time": "2022-02-06T18:49:28.549Z"
   },
   {
    "duration": 2,
    "start_time": "2022-02-06T18:49:29.403Z"
   },
   {
    "duration": 4,
    "start_time": "2022-02-06T18:49:29.407Z"
   },
   {
    "duration": 25,
    "start_time": "2022-02-06T18:49:29.413Z"
   },
   {
    "duration": 8,
    "start_time": "2022-02-06T18:49:29.440Z"
   },
   {
    "duration": 14,
    "start_time": "2022-02-06T18:49:29.450Z"
   },
   {
    "duration": 11,
    "start_time": "2022-02-06T18:49:29.466Z"
   },
   {
    "duration": 135,
    "start_time": "2022-02-06T18:49:29.479Z"
   },
   {
    "duration": 15,
    "start_time": "2022-02-06T18:49:29.615Z"
   },
   {
    "duration": 173,
    "start_time": "2022-02-06T18:49:29.631Z"
   },
   {
    "duration": 12,
    "start_time": "2022-02-06T18:49:29.805Z"
   },
   {
    "duration": 14,
    "start_time": "2022-02-06T18:49:29.819Z"
   },
   {
    "duration": 825,
    "start_time": "2022-02-06T18:49:29.835Z"
   },
   {
    "duration": 7,
    "start_time": "2022-02-06T18:49:30.661Z"
   },
   {
    "duration": 14,
    "start_time": "2022-02-06T18:49:30.669Z"
   },
   {
    "duration": 32,
    "start_time": "2022-02-06T18:49:30.685Z"
   },
   {
    "duration": 13,
    "start_time": "2022-02-06T18:49:30.719Z"
   },
   {
    "duration": 29,
    "start_time": "2022-02-06T18:49:30.734Z"
   },
   {
    "duration": 7,
    "start_time": "2022-02-06T18:49:30.765Z"
   },
   {
    "duration": 10,
    "start_time": "2022-02-06T18:49:30.773Z"
   },
   {
    "duration": 16,
    "start_time": "2022-02-06T18:49:30.785Z"
   },
   {
    "duration": 16,
    "start_time": "2022-02-06T18:49:30.803Z"
   },
   {
    "duration": 441,
    "start_time": "2022-02-06T18:49:30.821Z"
   },
   {
    "duration": 408,
    "start_time": "2022-02-06T18:52:23.693Z"
   },
   {
    "duration": 266,
    "start_time": "2022-02-06T18:52:28.839Z"
   },
   {
    "duration": 265,
    "start_time": "2022-02-06T18:52:41.813Z"
   },
   {
    "duration": 219,
    "start_time": "2022-02-06T18:52:48.751Z"
   },
   {
    "duration": 345,
    "start_time": "2022-02-06T18:53:09.202Z"
   },
   {
    "duration": 252,
    "start_time": "2022-02-06T18:53:23.540Z"
   },
   {
    "duration": 240,
    "start_time": "2022-02-06T18:54:23.670Z"
   },
   {
    "duration": 225,
    "start_time": "2022-02-06T18:55:28.554Z"
   },
   {
    "duration": 232,
    "start_time": "2022-02-06T18:55:42.028Z"
   },
   {
    "duration": 239,
    "start_time": "2022-02-06T18:55:51.740Z"
   },
   {
    "duration": 240,
    "start_time": "2022-02-06T18:55:57.173Z"
   },
   {
    "duration": 380,
    "start_time": "2022-02-06T18:56:11.210Z"
   },
   {
    "duration": 279,
    "start_time": "2022-02-06T18:56:18.316Z"
   },
   {
    "duration": 733,
    "start_time": "2022-02-06T18:56:42.410Z"
   },
   {
    "duration": 275,
    "start_time": "2022-02-06T18:56:48.164Z"
   },
   {
    "duration": 272,
    "start_time": "2022-02-06T18:57:39.252Z"
   },
   {
    "duration": 214,
    "start_time": "2022-02-06T18:59:54.558Z"
   },
   {
    "duration": 363,
    "start_time": "2022-02-06T19:00:09.716Z"
   },
   {
    "duration": 286,
    "start_time": "2022-02-06T19:00:14.211Z"
   },
   {
    "duration": 241,
    "start_time": "2022-02-06T19:00:23.020Z"
   },
   {
    "duration": 456,
    "start_time": "2022-02-06T19:00:35.363Z"
   },
   {
    "duration": 465,
    "start_time": "2022-02-06T19:00:41.938Z"
   },
   {
    "duration": 230,
    "start_time": "2022-02-06T19:00:50.040Z"
   },
   {
    "duration": 460,
    "start_time": "2022-02-06T19:04:32.340Z"
   },
   {
    "duration": 467,
    "start_time": "2022-02-06T19:05:18.508Z"
   },
   {
    "duration": 465,
    "start_time": "2022-02-06T19:05:38.289Z"
   },
   {
    "duration": 445,
    "start_time": "2022-02-06T19:06:36.147Z"
   },
   {
    "duration": 428,
    "start_time": "2022-02-06T19:07:12.246Z"
   },
   {
    "duration": 455,
    "start_time": "2022-02-06T19:08:03.413Z"
   },
   {
    "duration": 598,
    "start_time": "2022-02-06T19:08:15.208Z"
   },
   {
    "duration": 470,
    "start_time": "2022-02-06T19:08:21.412Z"
   },
   {
    "duration": 4,
    "start_time": "2022-02-06T19:09:46.478Z"
   },
   {
    "duration": 59,
    "start_time": "2022-02-06T19:09:46.486Z"
   },
   {
    "duration": 8,
    "start_time": "2022-02-06T19:09:46.547Z"
   },
   {
    "duration": 6,
    "start_time": "2022-02-06T19:09:46.557Z"
   },
   {
    "duration": 6,
    "start_time": "2022-02-06T19:09:46.565Z"
   },
   {
    "duration": 6,
    "start_time": "2022-02-06T19:09:46.572Z"
   },
   {
    "duration": 286,
    "start_time": "2022-02-06T19:09:46.579Z"
   },
   {
    "duration": 5,
    "start_time": "2022-02-06T19:09:46.867Z"
   },
   {
    "duration": 10,
    "start_time": "2022-02-06T19:09:46.874Z"
   },
   {
    "duration": 175,
    "start_time": "2022-02-06T19:09:46.886Z"
   },
   {
    "duration": 7,
    "start_time": "2022-02-06T19:09:47.062Z"
   },
   {
    "duration": 25,
    "start_time": "2022-02-06T19:09:47.070Z"
   },
   {
    "duration": 33,
    "start_time": "2022-02-06T19:09:47.096Z"
   },
   {
    "duration": 15,
    "start_time": "2022-02-06T19:09:47.131Z"
   },
   {
    "duration": 8,
    "start_time": "2022-02-06T19:09:47.148Z"
   },
   {
    "duration": 314,
    "start_time": "2022-02-06T19:09:47.158Z"
   },
   {
    "duration": 74,
    "start_time": "2022-02-06T19:09:47.474Z"
   },
   {
    "duration": 8,
    "start_time": "2022-02-06T19:09:47.550Z"
   },
   {
    "duration": 2802,
    "start_time": "2022-02-06T19:09:47.559Z"
   },
   {
    "duration": 7,
    "start_time": "2022-02-06T19:09:50.363Z"
   },
   {
    "duration": 210,
    "start_time": "2022-02-06T19:09:50.372Z"
   },
   {
    "duration": 62,
    "start_time": "2022-02-06T19:09:50.583Z"
   },
   {
    "duration": 16,
    "start_time": "2022-02-06T19:09:50.647Z"
   },
   {
    "duration": 54,
    "start_time": "2022-02-06T19:09:50.666Z"
   },
   {
    "duration": 81,
    "start_time": "2022-02-06T19:09:50.722Z"
   },
   {
    "duration": 246,
    "start_time": "2022-02-06T19:09:50.805Z"
   },
   {
    "duration": 35,
    "start_time": "2022-02-06T19:09:51.053Z"
   },
   {
    "duration": 105,
    "start_time": "2022-02-06T19:09:51.090Z"
   },
   {
    "duration": 7,
    "start_time": "2022-02-06T19:09:51.196Z"
   },
   {
    "duration": 21,
    "start_time": "2022-02-06T19:09:51.204Z"
   },
   {
    "duration": 23,
    "start_time": "2022-02-06T19:09:51.226Z"
   },
   {
    "duration": 17,
    "start_time": "2022-02-06T19:09:51.251Z"
   },
   {
    "duration": 21,
    "start_time": "2022-02-06T19:09:51.269Z"
   },
   {
    "duration": 5,
    "start_time": "2022-02-06T19:09:51.291Z"
   },
   {
    "duration": 22,
    "start_time": "2022-02-06T19:09:51.297Z"
   },
   {
    "duration": 22,
    "start_time": "2022-02-06T19:09:51.320Z"
   },
   {
    "duration": 8,
    "start_time": "2022-02-06T19:09:51.343Z"
   },
   {
    "duration": 6,
    "start_time": "2022-02-06T19:09:51.352Z"
   },
   {
    "duration": 6,
    "start_time": "2022-02-06T19:09:51.360Z"
   },
   {
    "duration": 6,
    "start_time": "2022-02-06T19:09:51.367Z"
   },
   {
    "duration": 3,
    "start_time": "2022-02-06T19:09:51.375Z"
   },
   {
    "duration": 7,
    "start_time": "2022-02-06T19:09:51.380Z"
   },
   {
    "duration": 4,
    "start_time": "2022-02-06T19:09:51.388Z"
   },
   {
    "duration": 53,
    "start_time": "2022-02-06T19:09:51.393Z"
   },
   {
    "duration": 9,
    "start_time": "2022-02-06T19:09:51.448Z"
   },
   {
    "duration": 10,
    "start_time": "2022-02-06T19:09:51.458Z"
   },
   {
    "duration": 19,
    "start_time": "2022-02-06T19:09:51.469Z"
   },
   {
    "duration": 21,
    "start_time": "2022-02-06T19:09:51.489Z"
   },
   {
    "duration": 14,
    "start_time": "2022-02-06T19:09:51.527Z"
   },
   {
    "duration": 12,
    "start_time": "2022-02-06T19:09:51.543Z"
   },
   {
    "duration": 33,
    "start_time": "2022-02-06T19:09:51.556Z"
   },
   {
    "duration": 100,
    "start_time": "2022-02-06T19:09:51.590Z"
   },
   {
    "duration": 9,
    "start_time": "2022-02-06T19:09:51.691Z"
   },
   {
    "duration": 23,
    "start_time": "2022-02-06T19:09:51.702Z"
   },
   {
    "duration": 32,
    "start_time": "2022-02-06T19:09:51.727Z"
   },
   {
    "duration": 23,
    "start_time": "2022-02-06T19:09:51.761Z"
   },
   {
    "duration": 30,
    "start_time": "2022-02-06T19:09:51.785Z"
   },
   {
    "duration": 5,
    "start_time": "2022-02-06T19:09:51.816Z"
   },
   {
    "duration": 29,
    "start_time": "2022-02-06T19:09:51.823Z"
   },
   {
    "duration": 10,
    "start_time": "2022-02-06T19:09:51.854Z"
   },
   {
    "duration": 23,
    "start_time": "2022-02-06T19:09:51.866Z"
   },
   {
    "duration": 8,
    "start_time": "2022-02-06T19:09:51.890Z"
   },
   {
    "duration": 14,
    "start_time": "2022-02-06T19:09:51.899Z"
   },
   {
    "duration": 17,
    "start_time": "2022-02-06T19:09:51.915Z"
   },
   {
    "duration": 11,
    "start_time": "2022-02-06T19:09:51.934Z"
   },
   {
    "duration": 16,
    "start_time": "2022-02-06T19:09:51.947Z"
   },
   {
    "duration": 444,
    "start_time": "2022-02-06T19:09:51.964Z"
   },
   {
    "duration": 45,
    "start_time": "2022-02-06T19:09:52.410Z"
   },
   {
    "duration": 340,
    "start_time": "2022-02-06T19:09:52.460Z"
   },
   {
    "duration": 41,
    "start_time": "2022-02-06T19:09:52.802Z"
   },
   {
    "duration": 20,
    "start_time": "2022-02-06T19:09:52.844Z"
   },
   {
    "duration": 17,
    "start_time": "2022-02-06T19:09:52.865Z"
   },
   {
    "duration": 490,
    "start_time": "2022-02-06T19:09:52.883Z"
   },
   {
    "duration": 23,
    "start_time": "2022-02-06T19:09:53.374Z"
   },
   {
    "duration": 15,
    "start_time": "2022-02-06T19:09:53.398Z"
   },
   {
    "duration": 14,
    "start_time": "2022-02-06T19:09:53.427Z"
   },
   {
    "duration": 12,
    "start_time": "2022-02-06T19:09:53.443Z"
   },
   {
    "duration": 8,
    "start_time": "2022-02-06T19:09:53.457Z"
   },
   {
    "duration": 23,
    "start_time": "2022-02-06T19:09:53.466Z"
   },
   {
    "duration": 660,
    "start_time": "2022-02-06T19:09:53.490Z"
   },
   {
    "duration": 2,
    "start_time": "2022-02-06T19:09:54.152Z"
   },
   {
    "duration": 7,
    "start_time": "2022-02-06T19:09:54.155Z"
   },
   {
    "duration": 15,
    "start_time": "2022-02-06T19:09:54.163Z"
   },
   {
    "duration": 4,
    "start_time": "2022-02-06T19:09:54.180Z"
   },
   {
    "duration": 8,
    "start_time": "2022-02-06T19:09:54.186Z"
   },
   {
    "duration": 35,
    "start_time": "2022-02-06T19:09:54.195Z"
   },
   {
    "duration": 127,
    "start_time": "2022-02-06T19:09:54.231Z"
   },
   {
    "duration": 4,
    "start_time": "2022-02-06T19:09:54.360Z"
   },
   {
    "duration": 315,
    "start_time": "2022-02-06T19:09:54.365Z"
   },
   {
    "duration": 11,
    "start_time": "2022-02-06T19:09:54.681Z"
   },
   {
    "duration": 4,
    "start_time": "2022-02-06T19:09:54.694Z"
   },
   {
    "duration": 812,
    "start_time": "2022-02-06T19:09:54.699Z"
   },
   {
    "duration": 7,
    "start_time": "2022-02-06T19:09:55.512Z"
   },
   {
    "duration": 26,
    "start_time": "2022-02-06T19:09:55.520Z"
   },
   {
    "duration": 26,
    "start_time": "2022-02-06T19:09:55.548Z"
   },
   {
    "duration": 3,
    "start_time": "2022-02-06T19:09:55.576Z"
   },
   {
    "duration": 7,
    "start_time": "2022-02-06T19:09:55.580Z"
   },
   {
    "duration": 8,
    "start_time": "2022-02-06T19:09:55.588Z"
   },
   {
    "duration": 7,
    "start_time": "2022-02-06T19:09:55.597Z"
   },
   {
    "duration": 22,
    "start_time": "2022-02-06T19:09:55.605Z"
   },
   {
    "duration": 8,
    "start_time": "2022-02-06T19:09:55.633Z"
   },
   {
    "duration": 293,
    "start_time": "2022-02-06T19:09:55.643Z"
   }
  ],
  "kernelspec": {
   "display_name": "Python 3",
   "language": "python",
   "name": "python3"
  },
  "language_info": {
   "codemirror_mode": {
    "name": "ipython",
    "version": 3
   },
   "file_extension": ".py",
   "mimetype": "text/x-python",
   "name": "python",
   "nbconvert_exporter": "python",
   "pygments_lexer": "ipython3",
   "version": "3.7.8"
  },
  "toc": {
   "base_numbering": 1,
   "nav_menu": {},
   "number_sections": true,
   "sideBar": true,
   "skip_h1_title": true,
   "title_cell": "Table of Contents",
   "title_sidebar": "Contents",
   "toc_cell": false,
   "toc_position": {},
   "toc_section_display": true,
   "toc_window_display": false
  }
 },
 "nbformat": 4,
 "nbformat_minor": 2
}
